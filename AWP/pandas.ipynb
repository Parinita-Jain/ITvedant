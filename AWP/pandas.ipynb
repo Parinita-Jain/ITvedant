{
 "cells": [
  {
   "cell_type": "code",
   "execution_count": 1,
   "id": "92aee7d9-f927-480e-aa9b-214ee78f8259",
   "metadata": {},
   "outputs": [],
   "source": [
    "import numpy as np\n",
    "import pandas as pd\n",
    "\n",
    "import warnings\n",
    "warnings.filterwarnings(\"ignore\")"
   ]
  },
  {
   "cell_type": "code",
   "execution_count": 11,
   "id": "a10b0f8c-91b6-4d4f-9a28-521321f01cca",
   "metadata": {},
   "outputs": [
    {
     "name": "stdout",
     "output_type": "stream",
     "text": [
      "<class 'list'>\n",
      "['Harry', 'Potter', 'Tom', 'Jerry', 'Bob', 'Tweety']\n",
      "<class 'pandas.core.series.Series'>\n",
      "0     Harry\n",
      "1    Potter\n",
      "2       Tom\n",
      "3     Jerry\n",
      "4       Bob\n",
      "5    Tweety\n",
      "dtype: object\n",
      "5    Tweety\n",
      "4       Bob\n",
      "3     Jerry\n",
      "2       Tom\n",
      "1    Potter\n",
      "0     Harry\n",
      "dtype: object\n"
     ]
    }
   ],
   "source": [
    "l=[\"Harry\",\"Potter\",\"Tom\",\"Jerry\",\"Bob\",\"Tweety\"]\n",
    "print(type(l))\n",
    "print(l)\n",
    "s=pd.Series(l)\n",
    "print(type(s))\n",
    "print(s)\n",
    "print(s[0]) # indexing\n",
    "print(s[::-1]) # slicing"
   ]
  },
  {
   "cell_type": "code",
   "execution_count": 21,
   "id": "b51bc812-56fb-4553-8ae3-648acdce36d6",
   "metadata": {},
   "outputs": [
    {
     "name": "stdout",
     "output_type": "stream",
     "text": [
      "a     Harry\n",
      "b    Potter\n",
      "c       Tom\n",
      "d     Jerry\n",
      "e       Bob\n",
      "f    Tweety\n",
      "dtype: object\n",
      "Harry\n",
      "Harry\n"
     ]
    }
   ],
   "source": [
    "s=pd.Series(l,index=[\"a\",\"b\",\"c\",\"d\",\"e\",\"f\"])\n",
    "print(s)\n",
    "print(s[\"a\"])\n",
    "print(s[0])"
   ]
  },
  {
   "cell_type": "code",
   "execution_count": 23,
   "id": "3fd9c431-5c6e-4931-9652-9b399857b281",
   "metadata": {},
   "outputs": [
    {
     "name": "stdout",
     "output_type": "stream",
     "text": [
      "a     Harry\n",
      "b    Potter\n",
      "c       Tom\n",
      "d     Jerry\n",
      "dtype: object\n"
     ]
    }
   ],
   "source": [
    "d={\n",
    "    \"a\":\"Harry\",\n",
    "    \"b\":\"Potter\",\n",
    "    \"c\":\"Tom\",\n",
    "    \"d\":\"Jerry\"\n",
    "}\n",
    "s=pd.Series(d)\n",
    "print(s)"
   ]
  },
  {
   "cell_type": "code",
   "execution_count": 33,
   "id": "0e3281fe-dca2-482f-bddd-9700402c52dd",
   "metadata": {},
   "outputs": [
    {
     "name": "stdout",
     "output_type": "stream",
     "text": [
      "     Name  Marks Grade\n",
      "0   Harry     18     A\n",
      "1  Potter     19     A\n",
      "2   Jerry     12     B\n",
      "3     Tom     11     B\n"
     ]
    }
   ],
   "source": [
    "l=[[\"Harry\",18,\"A\"],[\"Potter\",19,\"A\"],[\"Jerry\",12,\"B\"],[\"Tom\",11,\"B\"]]\n",
    "df=pd.DataFrame(l,columns=[\"Name\",\"Marks\",\"Grade\"])\n",
    "print(df)"
   ]
  },
  {
   "cell_type": "code",
   "execution_count": 35,
   "id": "7e8dca89-e71a-43cb-9e76-2f8b647e37ce",
   "metadata": {},
   "outputs": [
    {
     "name": "stdout",
     "output_type": "stream",
     "text": [
      "<class 'pandas.core.frame.DataFrame'>\n",
      "RangeIndex: 4 entries, 0 to 3\n",
      "Data columns (total 3 columns):\n",
      " #   Column  Non-Null Count  Dtype \n",
      "---  ------  --------------  ----- \n",
      " 0   Name    4 non-null      object\n",
      " 1   Marks   4 non-null      int64 \n",
      " 2   Grade   4 non-null      object\n",
      "dtypes: int64(1), object(2)\n",
      "memory usage: 228.0+ bytes\n"
     ]
    }
   ],
   "source": [
    "df.info()"
   ]
  },
  {
   "cell_type": "code",
   "execution_count": 41,
   "id": "37e8f1b7-d6d8-4abf-80d0-d1473181d8b5",
   "metadata": {},
   "outputs": [
    {
     "name": "stdout",
     "output_type": "stream",
     "text": [
      "           0\n",
      "0      Harry\n",
      "1         42\n",
      "2  [1, 2, 3]\n",
      "<class 'pandas.core.frame.DataFrame'>\n",
      "RangeIndex: 3 entries, 0 to 2\n",
      "Data columns (total 1 columns):\n",
      " #   Column  Non-Null Count  Dtype \n",
      "---  ------  --------------  ----- \n",
      " 0   0       3 non-null      object\n",
      "dtypes: object(1)\n",
      "memory usage: 156.0+ bytes\n"
     ]
    }
   ],
   "source": [
    "df=pd.DataFrame([\"Harry\",42,[1,2,3]])\n",
    "print(df)\n",
    "df.info()"
   ]
  },
  {
   "cell_type": "code",
   "execution_count": 43,
   "id": "b62d7b22-7772-49a8-9c9b-e9a2537a5267",
   "metadata": {},
   "outputs": [
    {
     "name": "stdout",
     "output_type": "stream",
     "text": [
      "           0\n",
      "0      Harry\n",
      "1         42\n",
      "2  [1, 2, 3]\n",
      "<class 'pandas.core.frame.DataFrame'>\n",
      "RangeIndex: 3 entries, 0 to 2\n",
      "Data columns (total 1 columns):\n",
      " #   Column  Non-Null Count  Dtype \n",
      "---  ------  --------------  ----- \n",
      " 0   0       3 non-null      string\n",
      "dtypes: string(1)\n",
      "memory usage: 156.0 bytes\n"
     ]
    }
   ],
   "source": [
    "df=pd.DataFrame([\"Harry\",42,[1,2,3]],dtype=\"string\")\n",
    "print(df)\n",
    "df.info()"
   ]
  },
  {
   "cell_type": "code",
   "execution_count": 47,
   "id": "24ff62a1-76b9-4344-8233-47a36f13085e",
   "metadata": {},
   "outputs": [
    {
     "name": "stdout",
     "output_type": "stream",
     "text": [
      "     Name  Marks Grade\n",
      "0   Harry     18     A\n",
      "1  Potter     19     A\n",
      "2   Jerry     12     B\n",
      "3     Tom     11     B\n"
     ]
    }
   ],
   "source": [
    "'''\n",
    "l=[[\"Harry\",18,\"A\"],[\"Potter\",19,\"A\"],[\"Jerry\",12,\"B\"],[\"Tom\",11,\"B\"]]\n",
    "df=pd.DataFrame(l,columns=[\"Name\",\"Marks\",\"Grade\"])\n",
    "'''\n",
    "d={\"Name\":[\"Harry\",\"Potter\",\"Jerry\",\"Tom\"],\n",
    "   \"Marks\":[18,19,12,11],\n",
    "   \"Grade\":[\"A\",\"A\",\"B\",\"B\"]\n",
    "  }\n",
    "df=pd.DataFrame(d)\n",
    "print(df)"
   ]
  },
  {
   "cell_type": "code",
   "execution_count": 55,
   "id": "96fec262-62b0-4a72-9907-0ed7772f181c",
   "metadata": {},
   "outputs": [
    {
     "name": "stdout",
     "output_type": "stream",
     "text": [
      "          A         B         C         D\n",
      "0  0.154232  2.049855 -0.906757  1.131925\n",
      "1  1.389821 -0.127063 -0.731374  0.520313\n",
      "2 -0.150403  0.958804  1.483263 -0.344691\n",
      "3  1.023086  1.530487  0.817190 -1.124033\n",
      "4  0.256493  0.739108 -0.189309  1.573036\n",
      "5 -0.826242 -1.389505  1.508380 -0.241795\n",
      "6 -1.829424 -0.793356  0.324706 -0.695202\n",
      "7 -1.079958  1.644342 -0.061109  0.565191\n",
      "8 -1.576157 -0.072028  0.464525  1.950609\n",
      "9  0.442336 -0.594438  0.685739  0.156117\n"
     ]
    }
   ],
   "source": [
    "n=np.random.randn(10,4)\n",
    "df=pd.DataFrame(n,columns=[\"A\",\"B\",\"C\",\"D\"])\n",
    "print(df)\n",
    "df.to_csv(\"dummy_DataFrame.csv\")"
   ]
  },
  {
   "cell_type": "code",
   "execution_count": null,
   "id": "f01ad7a0-ae70-42d7-9aa3-58152acbbcd8",
   "metadata": {},
   "outputs": [],
   "source": []
  },
  {
   "cell_type": "code",
   "execution_count": null,
   "id": "e7fc6498-c05a-4930-8435-56c60dd5b1a6",
   "metadata": {},
   "outputs": [],
   "source": []
  }
 ],
 "metadata": {
  "kernelspec": {
   "display_name": "Python 3 (ipykernel)",
   "language": "python",
   "name": "python3"
  },
  "language_info": {
   "codemirror_mode": {
    "name": "ipython",
    "version": 3
   },
   "file_extension": ".py",
   "mimetype": "text/x-python",
   "name": "python",
   "nbconvert_exporter": "python",
   "pygments_lexer": "ipython3",
   "version": "3.12.4"
  }
 },
 "nbformat": 4,
 "nbformat_minor": 5
}
