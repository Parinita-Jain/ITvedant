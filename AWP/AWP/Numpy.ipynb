{
 "cells": [
  {
   "cell_type": "code",
   "execution_count": 58,
   "id": "317eced1-673e-4a63-9184-9f81477af258",
   "metadata": {},
   "outputs": [],
   "source": [
    "import numpy as np #"
   ]
  },
  {
   "cell_type": "code",
   "execution_count": 59,
   "id": "a7b59f23-0e8c-433f-9c13-abc1f1a4ca16",
   "metadata": {},
   "outputs": [
    {
     "name": "stdout",
     "output_type": "stream",
     "text": [
      "[3, 6, 9, 12]\n",
      "[3, 6, 9, 12]\n"
     ]
    }
   ],
   "source": [
    "'''\n",
    "l=[1,2,3,4]\n",
    "l1=[]\n",
    "for i in l:\n",
    "    l1.append(i*3)\n",
    "print(l1) \n",
    "'''\n",
    "l=[1,2,3,4]\n",
    "l1=[i*3 for i in l]\n",
    "print(l1)\n",
    "l=l1\n",
    "print(l)"
   ]
  },
  {
   "cell_type": "code",
   "execution_count": 60,
   "id": "891c0107-9b36-4179-a1cc-8109490207e8",
   "metadata": {},
   "outputs": [
    {
     "name": "stdout",
     "output_type": "stream",
     "text": [
      "[1, 'ABC', 'A', True, 1, 'ABC', 'A', True, 1, 'ABC', 'A', True]\n"
     ]
    },
    {
     "data": {
      "text/plain": [
       "list"
      ]
     },
     "execution_count": 60,
     "metadata": {},
     "output_type": "execute_result"
    }
   ],
   "source": [
    "l=[1,\"ABC\",\"A\",True]\n",
    "print(l*3)\n",
    "type(l)"
   ]
  },
  {
   "cell_type": "code",
   "execution_count": 61,
   "id": "e8d3a51e-84d6-41fd-8c0f-a7dce442c09b",
   "metadata": {},
   "outputs": [
    {
     "name": "stdout",
     "output_type": "stream",
     "text": [
      "<class 'numpy.ndarray'>\n",
      "[1 2 3 4]\n",
      "[ 3  6  9 12]\n"
     ]
    }
   ],
   "source": [
    "l=[1,2,3,4]\n",
    "n=np.array([1,2,3,4])\n",
    "print(type(n))\n",
    "print(n)\n",
    "print(n*3)"
   ]
  },
  {
   "cell_type": "code",
   "execution_count": 62,
   "id": "d8f46035-9e06-4709-a2fd-8d72139e7b69",
   "metadata": {},
   "outputs": [
    {
     "data": {
      "text/plain": [
       "'\\nWhy we use numpy? \\n'"
      ]
     },
     "execution_count": 62,
     "metadata": {},
     "output_type": "execute_result"
    }
   ],
   "source": [
    "'''\n",
    "Why we use numpy? \n",
    "'''"
   ]
  },
  {
   "cell_type": "code",
   "execution_count": 63,
   "id": "85f0e0d7-0ca5-4f2f-a2e8-98d782ebc18f",
   "metadata": {},
   "outputs": [
    {
     "name": "stdout",
     "output_type": "stream",
     "text": [
      "[1 2 3 4]\n",
      "int32\n",
      "[1. 2. 3. 4.]\n",
      "float64\n",
      "[ 3.  6.  9. 12.]\n",
      "(4,)\n"
     ]
    }
   ],
   "source": [
    "print(n)\n",
    "print(n.dtype)\n",
    "n=np.array([1.0,2.0,3,4])\n",
    "print(n)\n",
    "print(n.dtype)\n",
    "print(n*3)\n",
    "print(n.shape)"
   ]
  },
  {
   "cell_type": "code",
   "execution_count": 64,
   "id": "8d6a463e-07b9-4d5f-8048-348bfddcd6d4",
   "metadata": {},
   "outputs": [
    {
     "data": {
      "text/plain": [
       "array([1., 2., 3., 4.])"
      ]
     },
     "execution_count": 64,
     "metadata": {},
     "output_type": "execute_result"
    }
   ],
   "source": [
    "n"
   ]
  },
  {
   "cell_type": "code",
   "execution_count": 65,
   "id": "a34d042b-8b18-40a3-b5c8-09a28457a4db",
   "metadata": {},
   "outputs": [
    {
     "name": "stdout",
     "output_type": "stream",
     "text": [
      "(4, 3)\n",
      "2\n"
     ]
    }
   ],
   "source": [
    "l=[[1,2,3],[4,5,6],[7,8,9],[10,11,12]]\n",
    "n=np.array(l)\n",
    "print(n.shape)\n",
    "print(n.ndim)"
   ]
  },
  {
   "cell_type": "code",
   "execution_count": 66,
   "id": "2f4c81b0-da4c-46c0-b8e4-7398ac7a2b01",
   "metadata": {},
   "outputs": [
    {
     "name": "stdout",
     "output_type": "stream",
     "text": [
      "[[0. 0. 0. 0.]\n",
      " [0. 0. 0. 0.]\n",
      " [0. 0. 0. 0.]\n",
      " [0. 0. 0. 0.]]\n",
      "(4, 4)\n",
      "2\n",
      "[[1. 1. 1. 1.]\n",
      " [1. 1. 1. 1.]\n",
      " [1. 1. 1. 1.]\n",
      " [1. 1. 1. 1.]]\n",
      "(4, 4)\n",
      "2\n",
      "[0 1 2 3 4 5 6 7 8 9]\n",
      "(10,)\n",
      "1\n",
      "[ 0 10 20 30 40 50 60 70 80 90]\n",
      "(10,)\n",
      "1\n"
     ]
    }
   ],
   "source": [
    "a=np.zeros((4,4))\n",
    "print(a)\n",
    "print(a.shape)\n",
    "print(a.ndim)\n",
    "a=np.ones((4,4))\n",
    "print(a)\n",
    "print(a.shape)\n",
    "print(a.ndim)\n",
    "a=np.arange(0,10)\n",
    "print(a)\n",
    "print(a.shape)\n",
    "print(a.ndim)\n",
    "a=np.arange(0,100,10)\n",
    "print(a)\n",
    "print(a.shape)\n",
    "print(a.ndim)"
   ]
  },
  {
   "cell_type": "code",
   "execution_count": 67,
   "id": "7e8afa20-364e-4c9b-8c44-1603585c3df6",
   "metadata": {},
   "outputs": [
    {
     "name": "stdout",
     "output_type": "stream",
     "text": [
      "[[1 2]\n",
      " [3 4]\n",
      " [5 6]]\n",
      "(3, 2)\n",
      "2\n",
      "[[ 9 11]\n",
      " [13 15]\n",
      " [17 19]]\n",
      "[[0.125      0.22222222]\n",
      " [0.3        0.36363636]\n",
      " [0.41666667 0.46153846]]\n",
      "[[ 1  4]\n",
      " [ 9 16]\n",
      " [25 36]]\n"
     ]
    }
   ],
   "source": [
    "# arithemtic operations\n",
    "a=np.arange(1,7).reshape((3,2)) \n",
    "print(a)\n",
    "print(a.shape)\n",
    "print(a.ndim)\n",
    "b=np.arange(8,14).reshape((3,2))\n",
    "print(a+b)\n",
    "print(a/b)\n",
    "print(a**2)"
   ]
  },
  {
   "cell_type": "code",
   "execution_count": 68,
   "id": "748d504e-0d9a-4cfb-8308-c64d38eac93e",
   "metadata": {},
   "outputs": [
    {
     "name": "stdout",
     "output_type": "stream",
     "text": [
      "[1 2 3 4 5 6]\n",
      "21\n",
      "3.5\n",
      "[[1 2]\n",
      " [3 4]\n",
      " [5 6]]\n",
      "21\n",
      "3.5\n",
      "6\n",
      "1\n"
     ]
    }
   ],
   "source": [
    "# aggregation operations--\n",
    "a=np.arange(1,7)\n",
    "print(a)\n",
    "print(a.sum())\n",
    "print(a.mean())\n",
    "a=np.arange(1,7).reshape((3,2)) \n",
    "print(a)\n",
    "print(a.sum())\n",
    "print(a.mean())\n",
    "print(a.max())\n",
    "print(a.min())"
   ]
  },
  {
   "cell_type": "code",
   "execution_count": 69,
   "id": "c694f696-945e-44ae-8825-a305e1cb374d",
   "metadata": {},
   "outputs": [
    {
     "name": "stdout",
     "output_type": "stream",
     "text": [
      "[[12 23]\n",
      " [14 25]\n",
      " [16 27]]\n"
     ]
    }
   ],
   "source": [
    "# broadcasting\n",
    "a=np.array([[2,3],[4,5],[6,7]])\n",
    "b=np.array([10,20])\n",
    "print(a+b)\n",
    "#vectorization"
   ]
  },
  {
   "cell_type": "code",
   "execution_count": 70,
   "id": "0487c72d-cc46-4638-92c7-a1923d74a18c",
   "metadata": {},
   "outputs": [
    {
     "name": "stdout",
     "output_type": "stream",
     "text": [
      "[1.         1.41421356 1.73205081 2.         2.23606798]\n",
      "[0.         0.69314718 1.09861229 1.38629436 1.60943791]\n",
      "[  2.71828183   7.3890561   20.08553692  54.59815003 148.4131591 ]\n"
     ]
    }
   ],
   "source": [
    "# mathematical functions\n",
    "n=np.array([1,2,3,4,5])\n",
    "print(np.sqrt(n))\n",
    "print(np.log(n))\n",
    "print(np.exp(n))"
   ]
  },
  {
   "cell_type": "code",
   "execution_count": 71,
   "id": "fb9b2846-c707-428d-84ca-5d58afbd2074",
   "metadata": {},
   "outputs": [
    {
     "name": "stdout",
     "output_type": "stream",
     "text": [
      "[[ 1  2]\n",
      " [ 3  4]\n",
      " [10 11]\n",
      " [12 13]]\n",
      "[[ 1  2 10 11]\n",
      " [ 3  4 12 13]]\n"
     ]
    }
   ],
   "source": [
    "# conctenate\n",
    "a=np.arange(1,5).reshape((2,2))\n",
    "b=np.arange(10,14).reshape((2,2))\n",
    "print(np.concatenate((a,b),axis=0))\n",
    "print(np.concatenate((a,b),axis=1))"
   ]
  },
  {
   "cell_type": "code",
   "execution_count": 72,
   "id": "8216ca89-96bf-4093-8027-673a376911d4",
   "metadata": {},
   "outputs": [
    {
     "name": "stdout",
     "output_type": "stream",
     "text": [
      "[1 2 3 4 5 6]\n"
     ]
    },
    {
     "data": {
      "text/plain": [
       "[array([1, 2, 3]), array([4, 5, 6])]"
      ]
     },
     "execution_count": 72,
     "metadata": {},
     "output_type": "execute_result"
    }
   ],
   "source": [
    "# splitting\n",
    "a=np.arange(1,7).reshape((6,))\n",
    "print(a)\n",
    "np.split(a,2)"
   ]
  },
  {
   "cell_type": "code",
   "execution_count": 73,
   "id": "2fac62d2-d4f0-470e-ae69-1c8b28c40353",
   "metadata": {},
   "outputs": [
    {
     "data": {
      "text/plain": [
       "'A'"
      ]
     },
     "execution_count": 73,
     "metadata": {},
     "output_type": "execute_result"
    }
   ],
   "source": [
    "i=65\n",
    "chr(i)"
   ]
  },
  {
   "cell_type": "code",
   "execution_count": 74,
   "id": "76feb3d2-6387-4054-bccb-31943a5c82e2",
   "metadata": {},
   "outputs": [
    {
     "name": "stdout",
     "output_type": "stream",
     "text": [
      "A \n",
      "B B \n",
      "C C C \n",
      "D D D D \n",
      "E E E E E \n"
     ]
    }
   ],
   "source": [
    "for i in range(0,5):\n",
    "    for j in range(64,65+i):\n",
    "        a=65+i\n",
    "        print(chr(a),end=\" \")\n",
    "    print()"
   ]
  },
  {
   "cell_type": "code",
   "execution_count": 94,
   "id": "c52cd296-5068-484a-9321-622dc25d618a",
   "metadata": {},
   "outputs": [
    {
     "data": {
      "text/plain": [
       "array([[ 1,  2,  3,  4],\n",
       "       [ 5,  6,  7,  8],\n",
       "       [ 9, 10, 11, 12],\n",
       "       [13, 14, 15, 16]])"
      ]
     },
     "execution_count": 94,
     "metadata": {},
     "output_type": "execute_result"
    }
   ],
   "source": [
    "a=np.arange(1,17).reshape(4,4)\n",
    "a"
   ]
  },
  {
   "cell_type": "code",
   "execution_count": 106,
   "id": "b454c342-d296-49b3-a730-946ecc360ed6",
   "metadata": {},
   "outputs": [
    {
     "data": {
      "text/plain": [
       "array([ 1,  2,  3,  4,  5,  6,  7,  8,  9, 10, 11, 12, 13, 14, 15, 16])"
      ]
     },
     "execution_count": 106,
     "metadata": {},
     "output_type": "execute_result"
    }
   ],
   "source": [
    "a=np.arange(1,17).reshape(16,)\n",
    "a"
   ]
  },
  {
   "cell_type": "code",
   "execution_count": 112,
   "id": "ac5137c7-1c48-4c23-835e-d0dd8399c27b",
   "metadata": {},
   "outputs": [
    {
     "data": {
      "text/plain": [
       "array([16, 14, 12, 10,  8,  6,  4,  2])"
      ]
     },
     "execution_count": 112,
     "metadata": {},
     "output_type": "execute_result"
    }
   ],
   "source": [
    "a[::-2]"
   ]
  },
  {
   "cell_type": "code",
   "execution_count": 114,
   "id": "4522a4e4-572a-420c-b746-5e3d8cd2c982",
   "metadata": {},
   "outputs": [
    {
     "data": {
      "text/plain": [
       "14"
      ]
     },
     "execution_count": 114,
     "metadata": {},
     "output_type": "execute_result"
    }
   ],
   "source": [
    "a[-3]"
   ]
  },
  {
   "cell_type": "code",
   "execution_count": 116,
   "id": "db2f23ef-9c4f-4604-a994-afb70ea8c35f",
   "metadata": {},
   "outputs": [
    {
     "data": {
      "text/plain": [
       "4"
      ]
     },
     "execution_count": 116,
     "metadata": {},
     "output_type": "execute_result"
    }
   ],
   "source": [
    "a[3]"
   ]
  },
  {
   "cell_type": "code",
   "execution_count": 118,
   "id": "2648b882-2ee1-4b8c-beb6-ca631730080d",
   "metadata": {},
   "outputs": [
    {
     "data": {
      "text/plain": [
       "array([2, 4, 6, 8])"
      ]
     },
     "execution_count": 118,
     "metadata": {},
     "output_type": "execute_result"
    }
   ],
   "source": [
    "a[1:9:2]"
   ]
  },
  {
   "cell_type": "code",
   "execution_count": 120,
   "id": "db9705ec-fa5f-4a42-957d-e4b35ab0ed16",
   "metadata": {},
   "outputs": [
    {
     "data": {
      "text/plain": [
       "array([[ 1,  2,  3,  4],\n",
       "       [ 5,  6,  7,  8],\n",
       "       [ 9, 10, 11, 12],\n",
       "       [13, 14, 15, 16]])"
      ]
     },
     "execution_count": 120,
     "metadata": {},
     "output_type": "execute_result"
    }
   ],
   "source": [
    "a=np.arange(1,17).reshape(4,4)\n",
    "a"
   ]
  },
  {
   "cell_type": "code",
   "execution_count": 122,
   "id": "9968e2fe-80ff-4381-86cb-03a874d9747e",
   "metadata": {},
   "outputs": [
    {
     "data": {
      "text/plain": [
       "array([[ 5,  6,  7,  8],\n",
       "       [ 9, 10, 11, 12]])"
      ]
     },
     "execution_count": 122,
     "metadata": {},
     "output_type": "execute_result"
    }
   ],
   "source": [
    "a[1:3,:]"
   ]
  },
  {
   "cell_type": "code",
   "execution_count": 124,
   "id": "163a8ac7-adab-4985-936c-356e5f3cadb2",
   "metadata": {},
   "outputs": [
    {
     "data": {
      "text/plain": [
       "array([[ 2,  3],\n",
       "       [ 6,  7],\n",
       "       [10, 11],\n",
       "       [14, 15]])"
      ]
     },
     "execution_count": 124,
     "metadata": {},
     "output_type": "execute_result"
    }
   ],
   "source": [
    "a[:,1:3]"
   ]
  },
  {
   "cell_type": "code",
   "execution_count": 126,
   "id": "d16b12c2-20ba-4111-a652-d2c70919bd08",
   "metadata": {},
   "outputs": [
    {
     "data": {
      "text/plain": [
       "array([[ 6,  7],\n",
       "       [10, 11]])"
      ]
     },
     "execution_count": 126,
     "metadata": {},
     "output_type": "execute_result"
    }
   ],
   "source": [
    "a[1:3,1:3]"
   ]
  },
  {
   "cell_type": "code",
   "execution_count": 128,
   "id": "612c8ac5-bbe2-4f00-9fea-05447ca49b67",
   "metadata": {},
   "outputs": [
    {
     "data": {
      "text/plain": [
       "array([1, 2, 3])"
      ]
     },
     "execution_count": 128,
     "metadata": {},
     "output_type": "execute_result"
    }
   ],
   "source": [
    "a=np.array([1,2,3])\n",
    "a"
   ]
  },
  {
   "cell_type": "code",
   "execution_count": 134,
   "id": "ea1771d7-361e-4e07-803a-ccacb8a51ead",
   "metadata": {},
   "outputs": [
    {
     "data": {
      "text/plain": [
       "array([1, 2, 3, 4, 5, 6, 7, 8])"
      ]
     },
     "execution_count": 134,
     "metadata": {},
     "output_type": "execute_result"
    }
   ],
   "source": [
    "a=np.append(a,[4,5,6,7,8])\n",
    "a"
   ]
  },
  {
   "cell_type": "code",
   "execution_count": 136,
   "id": "78508a36-7f19-42be-8ed3-679f85e76b31",
   "metadata": {},
   "outputs": [
    {
     "data": {
      "text/plain": [
       "array([ 1,  2, 10, 11, 12, 13,  3,  4,  5,  6,  7,  8])"
      ]
     },
     "execution_count": 136,
     "metadata": {},
     "output_type": "execute_result"
    }
   ],
   "source": [
    "a=np.insert(a,2,[10,11,12,13])\n",
    "a"
   ]
  },
  {
   "cell_type": "code",
   "execution_count": 138,
   "id": "be42cb66-76c9-417a-80bc-fd77159dc02f",
   "metadata": {},
   "outputs": [
    {
     "data": {
      "text/plain": [
       "array([1, 2, 3, 4, 5, 6, 7, 8])"
      ]
     },
     "execution_count": 138,
     "metadata": {},
     "output_type": "execute_result"
    }
   ],
   "source": [
    "a=np.delete(a,[2,3,4,5]) #\n",
    "a"
   ]
  },
  {
   "cell_type": "code",
   "execution_count": 148,
   "id": "03567e53-9ce6-48ba-b725-8dbfb364b940",
   "metadata": {},
   "outputs": [
    {
     "name": "stdout",
     "output_type": "stream",
     "text": [
      "[[20 21]\n",
      " [22 23]\n",
      " [24 25]\n",
      " [26 27]\n",
      " [28 29]]\n",
      "(5, 2)\n",
      "[20 21 22 23 24 25 26 27 28 29]\n",
      "(10,)\n"
     ]
    }
   ],
   "source": [
    "a=np.arange(20,30).reshape(5,2)\n",
    "print(a)\n",
    "print(a.shape)\n",
    "a=a.flatten()\n",
    "print(a)\n",
    "print(a.shape)"
   ]
  },
  {
   "cell_type": "code",
   "execution_count": 154,
   "id": "0ac1f325-077c-4a0f-ba55-e5567a95f7df",
   "metadata": {},
   "outputs": [
    {
     "data": {
      "text/plain": [
       "array([26, 27, 28, 29])"
      ]
     },
     "execution_count": 154,
     "metadata": {},
     "output_type": "execute_result"
    }
   ],
   "source": [
    "a[a>25]"
   ]
  },
  {
   "cell_type": "code",
   "execution_count": 158,
   "id": "9610b07c-2f1f-43de-9122-30a7149546fc",
   "metadata": {},
   "outputs": [
    {
     "data": {
      "text/plain": [
       "array(['Harry', 'Harry', 'Harry'], dtype='<U6')"
      ]
     },
     "execution_count": 158,
     "metadata": {},
     "output_type": "execute_result"
    }
   ],
   "source": [
    "names=np.array([\"Harry\",\"Tom\",\"Bob\",\"Harry\",\"Potter\",\"Yash\",\"Adarsh\",\"Harry\"])\n",
    "names[names==\"Harry\"]"
   ]
  },
  {
   "cell_type": "code",
   "execution_count": 164,
   "id": "42f0ff4b-5c20-4be0-b128-d8ba4fb126f3",
   "metadata": {},
   "outputs": [
    {
     "data": {
      "text/plain": [
       "array(['Tom', 'Bob'], dtype='<U6')"
      ]
     },
     "execution_count": 164,
     "metadata": {},
     "output_type": "execute_result"
    }
   ],
   "source": [
    "names[(names==\"Tom\")|(names==\"Bob\")] # & and | or"
   ]
  },
  {
   "cell_type": "code",
   "execution_count": 170,
   "id": "37d521b3-15ff-45bc-978e-251e424b71bf",
   "metadata": {},
   "outputs": [
    {
     "name": "stdout",
     "output_type": "stream",
     "text": [
      "[[2 4]\n",
      " [6 8]]\n",
      "[[ 7 10]\n",
      " [15 22]]\n"
     ]
    }
   ],
   "source": [
    "a=np.array([[1,2],[3,4]])\n",
    "b=np.array([[1,2],[3,4]])\n",
    "print(a+b)\n",
    "#print(a*b)\n",
    "print(np.dot(a,b))"
   ]
  },
  {
   "cell_type": "code",
   "execution_count": 200,
   "id": "2652327a-9f07-43a5-b2a4-7d77ca7487db",
   "metadata": {},
   "outputs": [
    {
     "name": "stdin",
     "output_type": "stream",
     "text": [
      "Enter a number from 0-10 0\n"
     ]
    },
    {
     "name": "stdout",
     "output_type": "stream",
     "text": [
      "Not a match\n"
     ]
    },
    {
     "name": "stdin",
     "output_type": "stream",
     "text": [
      "Enter a number from 0-10 1\n"
     ]
    },
    {
     "name": "stdout",
     "output_type": "stream",
     "text": [
      "Not a match\n"
     ]
    },
    {
     "name": "stdin",
     "output_type": "stream",
     "text": [
      "Enter a number from 0-10 2\n"
     ]
    },
    {
     "name": "stdout",
     "output_type": "stream",
     "text": [
      "Not a match\n"
     ]
    },
    {
     "name": "stdin",
     "output_type": "stream",
     "text": [
      "Enter a number from 0-10 3\n"
     ]
    },
    {
     "name": "stdout",
     "output_type": "stream",
     "text": [
      "Not a match\n"
     ]
    },
    {
     "name": "stdin",
     "output_type": "stream",
     "text": [
      "Enter a number from 0-10 4\n"
     ]
    },
    {
     "name": "stdout",
     "output_type": "stream",
     "text": [
      "Not a match\n"
     ]
    },
    {
     "name": "stdin",
     "output_type": "stream",
     "text": [
      "Enter a number from 0-10 5\n"
     ]
    },
    {
     "name": "stdout",
     "output_type": "stream",
     "text": [
      "Its a match\n"
     ]
    }
   ],
   "source": [
    "a=np.random.randint(10)\n",
    "while True:\n",
    "    i=int(input(\"Enter a number from 0-10\"))\n",
    "    if i==a:\n",
    "        print(\"Its a match\")\n",
    "        break\n",
    "    else:\n",
    "        print(\"Not a match\")"
   ]
  },
  {
   "cell_type": "code",
   "execution_count": 222,
   "id": "82f2a13a-b164-48e7-ad96-38f8d77354d8",
   "metadata": {},
   "outputs": [
    {
     "data": {
      "text/plain": [
       "array([6, 8, 3, 4, 9])"
      ]
     },
     "execution_count": 222,
     "metadata": {},
     "output_type": "execute_result"
    }
   ],
   "source": [
    "a=np.random.randint(1,11,size=[5])\n",
    "a"
   ]
  },
  {
   "cell_type": "code",
   "execution_count": 226,
   "id": "ec38d1a5-4b06-4824-9b50-08183a1fa820",
   "metadata": {},
   "outputs": [
    {
     "data": {
      "text/plain": [
       "array([[ 0.42622546,  0.80032387],\n",
       "       [-0.7033467 ,  0.85796896],\n",
       "       [-0.06262511,  1.26939215],\n",
       "       [-0.43264187, -0.3258603 ],\n",
       "       [ 0.17640491, -2.47340511]])"
      ]
     },
     "execution_count": 226,
     "metadata": {},
     "output_type": "execute_result"
    }
   ],
   "source": [
    "a=np.random.randn(5,2)\n",
    "a"
   ]
  },
  {
   "cell_type": "code",
   "execution_count": null,
   "id": "3b85ac7a-23ca-44c1-a7f0-022ef9a8ec78",
   "metadata": {},
   "outputs": [],
   "source": [
    "r'https:\\\\docs.python.org\\3\\library\\re.html'"
   ]
  },
  {
   "cell_type": "code",
   "execution_count": 228,
   "id": "0a2c1497-cb34-4971-a0e9-34ab5de31235",
   "metadata": {},
   "outputs": [],
   "source": [
    "import re"
   ]
  },
  {
   "cell_type": "code",
   "execution_count": 348,
   "id": "3513dd97-79c2-429f-8a6a-4166c887bf21",
   "metadata": {},
   "outputs": [
    {
     "data": {
      "text/plain": [
       "'12 There are12 apples,345 bananas and 7890 oranges in a basket'"
      ]
     },
     "execution_count": 348,
     "metadata": {},
     "output_type": "execute_result"
    }
   ],
   "source": [
    "text=\"12 There are12 apples,345 bananas and 7890 oranges in a basket\"\n",
    "text"
   ]
  },
  {
   "cell_type": "code",
   "execution_count": 350,
   "id": "1da39d5d-b1cb-405a-8463-33a5e578f864",
   "metadata": {},
   "outputs": [
    {
     "data": {
      "text/plain": [
       "['12', '345']"
      ]
     },
     "execution_count": 350,
     "metadata": {},
     "output_type": "execute_result"
    }
   ],
   "source": [
    "pattern=re.compile(r'\\b\\d{2,3}\\b')\n",
    "re.findall(pattern,text)"
   ]
  },
  {
   "cell_type": "code",
   "execution_count": null,
   "id": "cdcb1faf-e1f7-4899-8dba-1ffa6e0ea40f",
   "metadata": {},
   "outputs": [],
   "source": []
  },
  {
   "cell_type": "code",
   "execution_count": null,
   "id": "f9a750fe-d22f-420b-b04a-425f7e270f98",
   "metadata": {},
   "outputs": [],
   "source": []
  },
  {
   "cell_type": "code",
   "execution_count": null,
   "id": "c6357489-d4da-40ae-9214-53fd67001b4b",
   "metadata": {},
   "outputs": [],
   "source": []
  }
 ],
 "metadata": {
  "kernelspec": {
   "display_name": "Python 3 (ipykernel)",
   "language": "python",
   "name": "python3"
  },
  "language_info": {
   "codemirror_mode": {
    "name": "ipython",
    "version": 3
   },
   "file_extension": ".py",
   "mimetype": "text/x-python",
   "name": "python",
   "nbconvert_exporter": "python",
   "pygments_lexer": "ipython3",
   "version": "3.12.4"
  }
 },
 "nbformat": 4,
 "nbformat_minor": 5
}
