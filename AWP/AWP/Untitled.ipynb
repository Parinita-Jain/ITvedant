{
 "cells": [
  {
   "cell_type": "code",
   "execution_count": 1,
   "id": "46813e22-9985-4702-a6f8-0067f9d08143",
   "metadata": {},
   "outputs": [
    {
     "data": {
      "text/plain": [
       "Chi2ContingencyResult(statistic=0.8640353908896108, pvalue=0.6491978887380976, dof=2, expected_freq=array([[115. ,  92.5,  42.5],\n",
       "       [115. ,  92.5,  42.5]]))"
      ]
     },
     "execution_count": 1,
     "metadata": {},
     "output_type": "execute_result"
    }
   ],
   "source": [
    "import numpy as np\n",
    "import pandas as pd\n",
    "import scipy.stats as stats\n",
    "data=[[120,90,40],[110,95,45]]\n",
    "stats.chi2_contingency(data)"
   ]
  },
  {
   "cell_type": "code",
   "execution_count": 3,
   "id": "6e1ff433-e760-4437-9c47-b45d52f6299f",
   "metadata": {},
   "outputs": [
    {
     "data": {
      "text/plain": [
       "True"
      ]
     },
     "execution_count": 3,
     "metadata": {},
     "output_type": "execute_result"
    }
   ],
   "source": [
    "0.6>0.05\n",
    "# H0 accepted that there is a connection between gender and politicarty party preference\n",
    "\n",
    "\n",
    "\n",
    "\n"
   ]
  },
  {
   "cell_type": "code",
   "execution_count": 5,
   "id": "fcf38647-ff53-43b1-abd8-50d681760d6b",
   "metadata": {},
   "outputs": [
    {
     "name": "stdout",
     "output_type": "stream",
     "text": [
      "48\n"
     ]
    }
   ],
   "source": [
    "def m(n):\n",
    "    r=1\n",
    "    for a in n:\n",
    "        if a%2==0:\n",
    "            r=r*a # a=2, r=1, r=2;r=8,r=48\n",
    "    return r\n",
    "print(m([2,3,4,5,6])) # m(empty bottle)"
   ]
  },
  {
   "cell_type": "code",
   "execution_count": null,
   "id": "dfd216a2-e8b9-41e8-9eaa-b9e5e231f47c",
   "metadata": {},
   "outputs": [],
   "source": []
  },
  {
   "cell_type": "code",
   "execution_count": null,
   "id": "2b375f18-01ee-4ca8-b499-4cf9fd785213",
   "metadata": {},
   "outputs": [],
   "source": []
  },
  {
   "cell_type": "code",
   "execution_count": null,
   "id": "6827bd59-8e01-4797-b932-ce61b9154c1a",
   "metadata": {},
   "outputs": [],
   "source": []
  },
  {
   "cell_type": "code",
   "execution_count": null,
   "id": "8ad883ba-d1e4-492f-b579-2a147fc5849d",
   "metadata": {},
   "outputs": [],
   "source": []
  }
 ],
 "metadata": {
  "kernelspec": {
   "display_name": "Python 3 (ipykernel)",
   "language": "python",
   "name": "python3"
  },
  "language_info": {
   "codemirror_mode": {
    "name": "ipython",
    "version": 3
   },
   "file_extension": ".py",
   "mimetype": "text/x-python",
   "name": "python",
   "nbconvert_exporter": "python",
   "pygments_lexer": "ipython3",
   "version": "3.12.4"
  }
 },
 "nbformat": 4,
 "nbformat_minor": 5
}
