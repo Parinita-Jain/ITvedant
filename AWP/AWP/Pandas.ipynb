{
 "cells": [
  {
   "cell_type": "code",
   "execution_count": 104,
   "id": "fa8bab85-3170-4cd8-8d59-1f9934dde706",
   "metadata": {},
   "outputs": [],
   "source": [
    "import pandas as pd\n",
    "import numpy as np\n",
    "\n",
    "import warnings\n",
    "warnings.filterwarnings(\"ignore\")"
   ]
  },
  {
   "cell_type": "code",
   "execution_count": 105,
   "id": "18120266-1a68-410c-bfc8-e3e2f174999e",
   "metadata": {},
   "outputs": [],
   "source": [
    "# pandas provide 2 kinds of dtastructures--\n",
    "# 1-d and 2-D\n",
    "# 1-D is called Series and 2-D is called as DataFrame"
   ]
  },
  {
   "cell_type": "code",
   "execution_count": 106,
   "id": "e3f39011-b0f6-47ab-98bc-f2b596f0b833",
   "metadata": {},
   "outputs": [
    {
     "name": "stdout",
     "output_type": "stream",
     "text": [
      "a    10\n",
      "b    20\n",
      "c    30\n",
      "d    40\n",
      "e    50\n",
      "dtype: int64\n",
      "10\n",
      "10\n"
     ]
    }
   ],
   "source": [
    "s=pd.Series([10,20,30,40,50],index=[\"a\",\"b\",\"c\",\"d\",\"e\"])\n",
    "print(s)\n",
    "print(s[0])\n",
    "print(s[\"a\"])"
   ]
  },
  {
   "cell_type": "code",
   "execution_count": 107,
   "id": "2132063f-5c53-4fb9-8e70-49d971e2235e",
   "metadata": {},
   "outputs": [
    {
     "name": "stdout",
     "output_type": "stream",
     "text": [
      "0     Harry\n",
      "1    Potter\n",
      "2       Tom\n",
      "3     Jerry\n",
      "dtype: object\n"
     ]
    }
   ],
   "source": [
    "n=[\"Harry\",\"Potter\",\"Tom\",\"Jerry\"]\n",
    "s=pd.Series(n)\n",
    "print(s)"
   ]
  },
  {
   "cell_type": "code",
   "execution_count": 108,
   "id": "6d182b30-e3b4-4ef3-8f32-0b7834a24a9f",
   "metadata": {},
   "outputs": [
    {
     "name": "stdout",
     "output_type": "stream",
     "text": [
      "        0\n",
      "0   Harry\n",
      "1  Potter\n",
      "2     Tom\n",
      "3   Jerry\n"
     ]
    }
   ],
   "source": [
    "d=pd.DataFrame(n)\n",
    "print(d)"
   ]
  },
  {
   "cell_type": "code",
   "execution_count": 109,
   "id": "0bae8e38-226a-423f-9809-342bda55b1ad",
   "metadata": {},
   "outputs": [
    {
     "data": {
      "text/html": [
       "<div>\n",
       "<style scoped>\n",
       "    .dataframe tbody tr th:only-of-type {\n",
       "        vertical-align: middle;\n",
       "    }\n",
       "\n",
       "    .dataframe tbody tr th {\n",
       "        vertical-align: top;\n",
       "    }\n",
       "\n",
       "    .dataframe thead th {\n",
       "        text-align: right;\n",
       "    }\n",
       "</style>\n",
       "<table border=\"1\" class=\"dataframe\">\n",
       "  <thead>\n",
       "    <tr style=\"text-align: right;\">\n",
       "      <th></th>\n",
       "      <th>Name</th>\n",
       "      <th>Python</th>\n",
       "      <th>ML</th>\n",
       "    </tr>\n",
       "  </thead>\n",
       "  <tbody>\n",
       "    <tr>\n",
       "      <th>0</th>\n",
       "      <td>Harry</td>\n",
       "      <td>89</td>\n",
       "      <td>90</td>\n",
       "    </tr>\n",
       "    <tr>\n",
       "      <th>1</th>\n",
       "      <td>Potter</td>\n",
       "      <td>79</td>\n",
       "      <td>80</td>\n",
       "    </tr>\n",
       "    <tr>\n",
       "      <th>2</th>\n",
       "      <td>Tom</td>\n",
       "      <td>90</td>\n",
       "      <td>89</td>\n",
       "    </tr>\n",
       "    <tr>\n",
       "      <th>3</th>\n",
       "      <td>Jerry</td>\n",
       "      <td>89</td>\n",
       "      <td>78</td>\n",
       "    </tr>\n",
       "  </tbody>\n",
       "</table>\n",
       "</div>"
      ],
      "text/plain": [
       "     Name  Python  ML\n",
       "0   Harry      89  90\n",
       "1  Potter      79  80\n",
       "2     Tom      90  89\n",
       "3   Jerry      89  78"
      ]
     },
     "execution_count": 109,
     "metadata": {},
     "output_type": "execute_result"
    }
   ],
   "source": [
    "# 1st way -----------\n",
    "n=[\n",
    "    [\"Harry\",89,90],\n",
    "    [\"Potter\",79,80],\n",
    "    [\"Tom\",90,89],\n",
    "    [\"Jerry\",89,78]\n",
    "]\n",
    "d=pd.DataFrame(n,columns=[\"Name\",\"Python\",\"ML\"])\n",
    "d"
   ]
  },
  {
   "cell_type": "code",
   "execution_count": 110,
   "id": "79d6d1fa-cd9e-4740-bf09-bc44177d2c94",
   "metadata": {},
   "outputs": [
    {
     "data": {
      "text/html": [
       "<div>\n",
       "<style scoped>\n",
       "    .dataframe tbody tr th:only-of-type {\n",
       "        vertical-align: middle;\n",
       "    }\n",
       "\n",
       "    .dataframe tbody tr th {\n",
       "        vertical-align: top;\n",
       "    }\n",
       "\n",
       "    .dataframe thead th {\n",
       "        text-align: right;\n",
       "    }\n",
       "</style>\n",
       "<table border=\"1\" class=\"dataframe\">\n",
       "  <thead>\n",
       "    <tr style=\"text-align: right;\">\n",
       "      <th></th>\n",
       "      <th>Name</th>\n",
       "      <th>Python</th>\n",
       "      <th>ML</th>\n",
       "    </tr>\n",
       "  </thead>\n",
       "  <tbody>\n",
       "    <tr>\n",
       "      <th>0</th>\n",
       "      <td>Harry</td>\n",
       "      <td>89</td>\n",
       "      <td>90</td>\n",
       "    </tr>\n",
       "    <tr>\n",
       "      <th>1</th>\n",
       "      <td>Potter</td>\n",
       "      <td>79</td>\n",
       "      <td>80</td>\n",
       "    </tr>\n",
       "    <tr>\n",
       "      <th>2</th>\n",
       "      <td>Tom</td>\n",
       "      <td>90</td>\n",
       "      <td>89</td>\n",
       "    </tr>\n",
       "    <tr>\n",
       "      <th>3</th>\n",
       "      <td>Jerry</td>\n",
       "      <td>89</td>\n",
       "      <td>78</td>\n",
       "    </tr>\n",
       "  </tbody>\n",
       "</table>\n",
       "</div>"
      ],
      "text/plain": [
       "     Name  Python  ML\n",
       "0   Harry      89  90\n",
       "1  Potter      79  80\n",
       "2     Tom      90  89\n",
       "3   Jerry      89  78"
      ]
     },
     "execution_count": 110,
     "metadata": {},
     "output_type": "execute_result"
    }
   ],
   "source": [
    "# 2nd way---\n",
    "dc={\n",
    "    \"Name\":[\"Harry\",\"Potter\",\"Tom\",\"Jerry\"],\n",
    "    \"Python\":[89,79,90,89],\n",
    "    \"ML\":[90,80,89,78]\n",
    "}\n",
    "df=pd.DataFrame(dc)\n",
    "df"
   ]
  },
  {
   "cell_type": "code",
   "execution_count": 111,
   "id": "d17aafb8-deb4-491c-94c4-3c3b3e99d5c2",
   "metadata": {},
   "outputs": [
    {
     "name": "stdout",
     "output_type": "stream",
     "text": [
      "   id     name  salary\n",
      "0   2      Bob   50000\n",
      "1   3  Charlie   60000\n"
     ]
    }
   ],
   "source": [
    "df1=pd.DataFrame(\n",
    "    {'emp_id':[1,2,3,4],\n",
    "     'name':[\"Alice\",\"Bob\",\"Charlie\",\"David\"]\n",
    "    }\n",
    ")\n",
    "df2=pd.DataFrame(\n",
    "    {'id':[1,2,3,4],\n",
    "     'name':[\"Alice\",\"Bob\",\"Charlie\",\"David\"]\n",
    "    }\n",
    ")\n",
    "df3=pd.DataFrame(\n",
    "    {'id':[2,3,5],\n",
    "     'salary':[50000,60000,45000]\n",
    "    }\n",
    ")\n",
    "df4=pd.merge(df2,df3,on=\"id\",how=\"inner\")\n",
    "print(df4)"
   ]
  },
  {
   "cell_type": "code",
   "execution_count": 112,
   "id": "dfc144aa-b9a6-4c2e-9c09-1eee71acd90b",
   "metadata": {},
   "outputs": [
    {
     "data": {
      "text/html": [
       "<div>\n",
       "<style scoped>\n",
       "    .dataframe tbody tr th:only-of-type {\n",
       "        vertical-align: middle;\n",
       "    }\n",
       "\n",
       "    .dataframe tbody tr th {\n",
       "        vertical-align: top;\n",
       "    }\n",
       "\n",
       "    .dataframe thead th {\n",
       "        text-align: right;\n",
       "    }\n",
       "</style>\n",
       "<table border=\"1\" class=\"dataframe\">\n",
       "  <thead>\n",
       "    <tr style=\"text-align: right;\">\n",
       "      <th></th>\n",
       "      <th>emp_id</th>\n",
       "      <th>name</th>\n",
       "      <th>id</th>\n",
       "      <th>salary</th>\n",
       "    </tr>\n",
       "  </thead>\n",
       "  <tbody>\n",
       "    <tr>\n",
       "      <th>0</th>\n",
       "      <td>2</td>\n",
       "      <td>Bob</td>\n",
       "      <td>2</td>\n",
       "      <td>50000</td>\n",
       "    </tr>\n",
       "    <tr>\n",
       "      <th>1</th>\n",
       "      <td>3</td>\n",
       "      <td>Charlie</td>\n",
       "      <td>3</td>\n",
       "      <td>60000</td>\n",
       "    </tr>\n",
       "  </tbody>\n",
       "</table>\n",
       "</div>"
      ],
      "text/plain": [
       "   emp_id     name  id  salary\n",
       "0       2      Bob   2   50000\n",
       "1       3  Charlie   3   60000"
      ]
     },
     "execution_count": 112,
     "metadata": {},
     "output_type": "execute_result"
    }
   ],
   "source": [
    "df5=pd.merge(df1,df3,left_on=\"emp_id\",right_on=\"id\",how=\"inner\")\n",
    "df5"
   ]
  },
  {
   "cell_type": "code",
   "execution_count": 113,
   "id": "bce3d991-5057-4621-97c4-0ec8c2fa2fee",
   "metadata": {},
   "outputs": [],
   "source": [
    "df5.to_csv(\"employee_salary.csv\")"
   ]
  },
  {
   "cell_type": "code",
   "execution_count": 114,
   "id": "a8d965de-a205-4b52-a0bf-83048e5991d4",
   "metadata": {},
   "outputs": [
    {
     "data": {
      "text/html": [
       "<div>\n",
       "<style scoped>\n",
       "    .dataframe tbody tr th:only-of-type {\n",
       "        vertical-align: middle;\n",
       "    }\n",
       "\n",
       "    .dataframe tbody tr th {\n",
       "        vertical-align: top;\n",
       "    }\n",
       "\n",
       "    .dataframe thead th {\n",
       "        text-align: right;\n",
       "    }\n",
       "</style>\n",
       "<table border=\"1\" class=\"dataframe\">\n",
       "  <thead>\n",
       "    <tr style=\"text-align: right;\">\n",
       "      <th></th>\n",
       "      <th>Unnamed: 0</th>\n",
       "      <th>emp_id</th>\n",
       "      <th>name</th>\n",
       "      <th>id</th>\n",
       "      <th>salary</th>\n",
       "    </tr>\n",
       "  </thead>\n",
       "  <tbody>\n",
       "    <tr>\n",
       "      <th>0</th>\n",
       "      <td>0</td>\n",
       "      <td>2</td>\n",
       "      <td>Bob</td>\n",
       "      <td>2</td>\n",
       "      <td>50000</td>\n",
       "    </tr>\n",
       "    <tr>\n",
       "      <th>1</th>\n",
       "      <td>1</td>\n",
       "      <td>3</td>\n",
       "      <td>Charlie</td>\n",
       "      <td>3</td>\n",
       "      <td>60000</td>\n",
       "    </tr>\n",
       "  </tbody>\n",
       "</table>\n",
       "</div>"
      ],
      "text/plain": [
       "   Unnamed: 0  emp_id     name  id  salary\n",
       "0           0       2      Bob   2   50000\n",
       "1           1       3  Charlie   3   60000"
      ]
     },
     "execution_count": 114,
     "metadata": {},
     "output_type": "execute_result"
    }
   ],
   "source": [
    "df=pd.read_csv(\"employee_salary.csv\")\n",
    "df"
   ]
  },
  {
   "cell_type": "code",
   "execution_count": 115,
   "id": "89b151b3-850c-4eae-a750-daaa48f83ef9",
   "metadata": {},
   "outputs": [
    {
     "data": {
      "text/html": [
       "<div>\n",
       "<style scoped>\n",
       "    .dataframe tbody tr th:only-of-type {\n",
       "        vertical-align: middle;\n",
       "    }\n",
       "\n",
       "    .dataframe tbody tr th {\n",
       "        vertical-align: top;\n",
       "    }\n",
       "\n",
       "    .dataframe thead th {\n",
       "        text-align: right;\n",
       "    }\n",
       "</style>\n",
       "<table border=\"1\" class=\"dataframe\">\n",
       "  <thead>\n",
       "    <tr style=\"text-align: right;\">\n",
       "      <th></th>\n",
       "      <th>emp_id</th>\n",
       "      <th>name</th>\n",
       "      <th>id</th>\n",
       "      <th>salary</th>\n",
       "    </tr>\n",
       "  </thead>\n",
       "  <tbody>\n",
       "    <tr>\n",
       "      <th>0</th>\n",
       "      <td>2</td>\n",
       "      <td>Bob</td>\n",
       "      <td>2</td>\n",
       "      <td>50000</td>\n",
       "    </tr>\n",
       "    <tr>\n",
       "      <th>1</th>\n",
       "      <td>3</td>\n",
       "      <td>Charlie</td>\n",
       "      <td>3</td>\n",
       "      <td>60000</td>\n",
       "    </tr>\n",
       "  </tbody>\n",
       "</table>\n",
       "</div>"
      ],
      "text/plain": [
       "   emp_id     name  id  salary\n",
       "0       2      Bob   2   50000\n",
       "1       3  Charlie   3   60000"
      ]
     },
     "execution_count": 115,
     "metadata": {},
     "output_type": "execute_result"
    }
   ],
   "source": [
    "#df.drop(\"Unnamed: 0\",axis=1,inplace=True)\n",
    "df1=df.drop(\"Unnamed: 0\",axis=1)\n",
    "df1"
   ]
  },
  {
   "cell_type": "code",
   "execution_count": 116,
   "id": "5b1c9cd4-a238-46a7-afd9-9c00417220b7",
   "metadata": {},
   "outputs": [
    {
     "data": {
      "text/html": [
       "<div>\n",
       "<style scoped>\n",
       "    .dataframe tbody tr th:only-of-type {\n",
       "        vertical-align: middle;\n",
       "    }\n",
       "\n",
       "    .dataframe tbody tr th {\n",
       "        vertical-align: top;\n",
       "    }\n",
       "\n",
       "    .dataframe thead th {\n",
       "        text-align: right;\n",
       "    }\n",
       "</style>\n",
       "<table border=\"1\" class=\"dataframe\">\n",
       "  <thead>\n",
       "    <tr style=\"text-align: right;\">\n",
       "      <th></th>\n",
       "      <th>emp_id</th>\n",
       "      <th>name</th>\n",
       "      <th>id</th>\n",
       "      <th>salary</th>\n",
       "    </tr>\n",
       "  </thead>\n",
       "  <tbody>\n",
       "    <tr>\n",
       "      <th>0</th>\n",
       "      <td>2</td>\n",
       "      <td>Bob</td>\n",
       "      <td>2</td>\n",
       "      <td>50000</td>\n",
       "    </tr>\n",
       "    <tr>\n",
       "      <th>1</th>\n",
       "      <td>3</td>\n",
       "      <td>Charlie</td>\n",
       "      <td>3</td>\n",
       "      <td>60000</td>\n",
       "    </tr>\n",
       "  </tbody>\n",
       "</table>\n",
       "</div>"
      ],
      "text/plain": [
       "   emp_id     name  id  salary\n",
       "0       2      Bob   2   50000\n",
       "1       3  Charlie   3   60000"
      ]
     },
     "execution_count": 116,
     "metadata": {},
     "output_type": "execute_result"
    }
   ],
   "source": [
    "df1"
   ]
  },
  {
   "cell_type": "code",
   "execution_count": 117,
   "id": "850e4710-a643-45d5-b765-1cbf88745c92",
   "metadata": {},
   "outputs": [
    {
     "data": {
      "text/html": [
       "<div>\n",
       "<style scoped>\n",
       "    .dataframe tbody tr th:only-of-type {\n",
       "        vertical-align: middle;\n",
       "    }\n",
       "\n",
       "    .dataframe tbody tr th {\n",
       "        vertical-align: top;\n",
       "    }\n",
       "\n",
       "    .dataframe thead th {\n",
       "        text-align: right;\n",
       "    }\n",
       "</style>\n",
       "<table border=\"1\" class=\"dataframe\">\n",
       "  <thead>\n",
       "    <tr style=\"text-align: right;\">\n",
       "      <th></th>\n",
       "      <th>emp_id</th>\n",
       "      <th>name</th>\n",
       "      <th>id</th>\n",
       "      <th>salary</th>\n",
       "    </tr>\n",
       "  </thead>\n",
       "  <tbody>\n",
       "    <tr>\n",
       "      <th>0</th>\n",
       "      <td>2</td>\n",
       "      <td>Bob</td>\n",
       "      <td>2</td>\n",
       "      <td>50000</td>\n",
       "    </tr>\n",
       "    <tr>\n",
       "      <th>1</th>\n",
       "      <td>3</td>\n",
       "      <td>Charlie</td>\n",
       "      <td>3</td>\n",
       "      <td>60000</td>\n",
       "    </tr>\n",
       "  </tbody>\n",
       "</table>\n",
       "</div>"
      ],
      "text/plain": [
       "   emp_id     name  id  salary\n",
       "0       2      Bob   2   50000\n",
       "1       3  Charlie   3   60000"
      ]
     },
     "execution_count": 117,
     "metadata": {},
     "output_type": "execute_result"
    }
   ],
   "source": [
    "df.drop(\"Unnamed: 0\",axis=1,inplace=True)\n",
    "df"
   ]
  },
  {
   "cell_type": "code",
   "execution_count": 118,
   "id": "f1f01a5c-d89e-4144-92a1-9b1c491abe46",
   "metadata": {},
   "outputs": [
    {
     "data": {
      "text/html": [
       "<div>\n",
       "<style scoped>\n",
       "    .dataframe tbody tr th:only-of-type {\n",
       "        vertical-align: middle;\n",
       "    }\n",
       "\n",
       "    .dataframe tbody tr th {\n",
       "        vertical-align: top;\n",
       "    }\n",
       "\n",
       "    .dataframe thead th {\n",
       "        text-align: right;\n",
       "    }\n",
       "</style>\n",
       "<table border=\"1\" class=\"dataframe\">\n",
       "  <thead>\n",
       "    <tr style=\"text-align: right;\">\n",
       "      <th></th>\n",
       "      <th>Rank</th>\n",
       "      <th>Name</th>\n",
       "      <th>Age</th>\n",
       "      <th>Gender</th>\n",
       "      <th>Background</th>\n",
       "      <th>Python</th>\n",
       "      <th>Machine Learning</th>\n",
       "    </tr>\n",
       "  </thead>\n",
       "  <tbody>\n",
       "    <tr>\n",
       "      <th>0</th>\n",
       "      <td>Rank 1</td>\n",
       "      <td>Ravi</td>\n",
       "      <td>23</td>\n",
       "      <td>Male</td>\n",
       "      <td>Tech</td>\n",
       "      <td>89</td>\n",
       "      <td>95</td>\n",
       "    </tr>\n",
       "    <tr>\n",
       "      <th>5</th>\n",
       "      <td>Rank 6</td>\n",
       "      <td>Pratiksha</td>\n",
       "      <td>24</td>\n",
       "      <td>Female</td>\n",
       "      <td>Non-Tech</td>\n",
       "      <td>58</td>\n",
       "      <td>55</td>\n",
       "    </tr>\n",
       "  </tbody>\n",
       "</table>\n",
       "</div>"
      ],
      "text/plain": [
       "     Rank       Name  Age  Gender Background  Python  Machine Learning\n",
       "0  Rank 1       Ravi   23    Male       Tech      89                95\n",
       "5  Rank 6  Pratiksha   24  Female   Non-Tech      58                55"
      ]
     },
     "execution_count": 118,
     "metadata": {},
     "output_type": "execute_result"
    }
   ],
   "source": [
    "df=pd.read_csv(\"Studentsnew.csv\")\n",
    "df.sample(2) # tail(), sample()\n",
    "# this gives initial overview regarding the dataset"
   ]
  },
  {
   "cell_type": "code",
   "execution_count": 119,
   "id": "88df6c11-9786-453f-8e54-202f23d538c5",
   "metadata": {},
   "outputs": [
    {
     "name": "stdout",
     "output_type": "stream",
     "text": [
      "<class 'pandas.core.frame.DataFrame'>\n",
      "RangeIndex: 10 entries, 0 to 9\n",
      "Data columns (total 7 columns):\n",
      " #   Column            Non-Null Count  Dtype \n",
      "---  ------            --------------  ----- \n",
      " 0   Rank              10 non-null     object\n",
      " 1   Name              10 non-null     object\n",
      " 2   Age               10 non-null     int64 \n",
      " 3   Gender            10 non-null     object\n",
      " 4   Background        10 non-null     object\n",
      " 5   Python            10 non-null     int64 \n",
      " 6   Machine Learning  10 non-null     int64 \n",
      "dtypes: int64(3), object(4)\n",
      "memory usage: 692.0+ bytes\n"
     ]
    }
   ],
   "source": [
    "df.info() # why object datatype --"
   ]
  },
  {
   "cell_type": "code",
   "execution_count": 120,
   "id": "f50f2536-25c0-43cc-a893-81f50537e7ae",
   "metadata": {},
   "outputs": [
    {
     "data": {
      "text/html": [
       "<div>\n",
       "<style scoped>\n",
       "    .dataframe tbody tr th:only-of-type {\n",
       "        vertical-align: middle;\n",
       "    }\n",
       "\n",
       "    .dataframe tbody tr th {\n",
       "        vertical-align: top;\n",
       "    }\n",
       "\n",
       "    .dataframe thead th {\n",
       "        text-align: right;\n",
       "    }\n",
       "</style>\n",
       "<table border=\"1\" class=\"dataframe\">\n",
       "  <thead>\n",
       "    <tr style=\"text-align: right;\">\n",
       "      <th></th>\n",
       "      <th>Age</th>\n",
       "      <th>Python</th>\n",
       "      <th>Machine Learning</th>\n",
       "    </tr>\n",
       "  </thead>\n",
       "  <tbody>\n",
       "    <tr>\n",
       "      <th>count</th>\n",
       "      <td>10.000000</td>\n",
       "      <td>10.000000</td>\n",
       "      <td>10.000000</td>\n",
       "    </tr>\n",
       "    <tr>\n",
       "      <th>mean</th>\n",
       "      <td>22.800000</td>\n",
       "      <td>62.300000</td>\n",
       "      <td>65.100000</td>\n",
       "    </tr>\n",
       "    <tr>\n",
       "      <th>std</th>\n",
       "      <td>1.229273</td>\n",
       "      <td>13.864824</td>\n",
       "      <td>17.666352</td>\n",
       "    </tr>\n",
       "    <tr>\n",
       "      <th>min</th>\n",
       "      <td>21.000000</td>\n",
       "      <td>45.000000</td>\n",
       "      <td>46.000000</td>\n",
       "    </tr>\n",
       "    <tr>\n",
       "      <th>25%</th>\n",
       "      <td>22.000000</td>\n",
       "      <td>51.250000</td>\n",
       "      <td>50.000000</td>\n",
       "    </tr>\n",
       "    <tr>\n",
       "      <th>50%</th>\n",
       "      <td>22.500000</td>\n",
       "      <td>59.000000</td>\n",
       "      <td>62.500000</td>\n",
       "    </tr>\n",
       "    <tr>\n",
       "      <th>75%</th>\n",
       "      <td>23.750000</td>\n",
       "      <td>69.500000</td>\n",
       "      <td>78.750000</td>\n",
       "    </tr>\n",
       "    <tr>\n",
       "      <th>max</th>\n",
       "      <td>25.000000</td>\n",
       "      <td>89.000000</td>\n",
       "      <td>95.000000</td>\n",
       "    </tr>\n",
       "  </tbody>\n",
       "</table>\n",
       "</div>"
      ],
      "text/plain": [
       "             Age     Python  Machine Learning\n",
       "count  10.000000  10.000000         10.000000\n",
       "mean   22.800000  62.300000         65.100000\n",
       "std     1.229273  13.864824         17.666352\n",
       "min    21.000000  45.000000         46.000000\n",
       "25%    22.000000  51.250000         50.000000\n",
       "50%    22.500000  59.000000         62.500000\n",
       "75%    23.750000  69.500000         78.750000\n",
       "max    25.000000  89.000000         95.000000"
      ]
     },
     "execution_count": 120,
     "metadata": {},
     "output_type": "execute_result"
    }
   ],
   "source": [
    "df.describe() # gives a quick statistical overview of numerical data.\n",
    "# the min, max and quartile values helps in detecting unusual values like outliers\n",
    "# where as mean standard deviation helps in understanding data distribution.\n",
    "#-- count -- total number of non-missing values\n",
    "# mean -- average valaue of given col.\n",
    "# std -- it gives the measure of data variability\n",
    "# min -- minimum value\n",
    "# 25% -- 25th percentile or quartile 1 -- value at 25th percentile\n",
    "# 50% -- 50th percentile or quartile 2 or median -- median\n",
    "# 75% -- 75th percentile or quartile 3 -- value at 75th percentile"
   ]
  },
  {
   "cell_type": "code",
   "execution_count": 121,
   "id": "7c76d96f-5ea1-4bce-8a08-d099e6f8b5c7",
   "metadata": {},
   "outputs": [
    {
     "data": {
      "text/plain": [
       "0    95\n",
       "1    83\n",
       "2    80\n",
       "3    75\n",
       "4    70\n",
       "5    55\n",
       "6    50\n",
       "7    50\n",
       "8    47\n",
       "9    46\n",
       "Name: Machine Learning, dtype: int64"
      ]
     },
     "execution_count": 121,
     "metadata": {},
     "output_type": "execute_result"
    }
   ],
   "source": [
    "#df.Python\n",
    "#df[\"Python\"]\n",
    "df[\"Machine Learning\"]"
   ]
  },
  {
   "cell_type": "code",
   "execution_count": 122,
   "id": "4626b02a-56ef-47a1-b458-eb3a2c98286e",
   "metadata": {},
   "outputs": [
    {
     "data": {
      "text/plain": [
       "30"
      ]
     },
     "execution_count": 122,
     "metadata": {},
     "output_type": "execute_result"
    }
   ],
   "source": [
    "C=10\n",
    "D=20\n",
    "A=C+D\n",
    "A"
   ]
  },
  {
   "cell_type": "code",
   "execution_count": 123,
   "id": "314c9889-059d-4b1f-9ebc-b42ad6408263",
   "metadata": {},
   "outputs": [
    {
     "data": {
      "text/html": [
       "<div>\n",
       "<style scoped>\n",
       "    .dataframe tbody tr th:only-of-type {\n",
       "        vertical-align: middle;\n",
       "    }\n",
       "\n",
       "    .dataframe tbody tr th {\n",
       "        vertical-align: top;\n",
       "    }\n",
       "\n",
       "    .dataframe thead th {\n",
       "        text-align: right;\n",
       "    }\n",
       "</style>\n",
       "<table border=\"1\" class=\"dataframe\">\n",
       "  <thead>\n",
       "    <tr style=\"text-align: right;\">\n",
       "      <th></th>\n",
       "      <th>Rank</th>\n",
       "      <th>Name</th>\n",
       "      <th>Age</th>\n",
       "      <th>Gender</th>\n",
       "      <th>Background</th>\n",
       "      <th>Python</th>\n",
       "      <th>Machine Learning</th>\n",
       "      <th>Total</th>\n",
       "    </tr>\n",
       "  </thead>\n",
       "  <tbody>\n",
       "    <tr>\n",
       "      <th>0</th>\n",
       "      <td>Rank 1</td>\n",
       "      <td>Ravi</td>\n",
       "      <td>23</td>\n",
       "      <td>Male</td>\n",
       "      <td>Tech</td>\n",
       "      <td>89</td>\n",
       "      <td>95</td>\n",
       "      <td>184</td>\n",
       "    </tr>\n",
       "    <tr>\n",
       "      <th>1</th>\n",
       "      <td>Rank 2</td>\n",
       "      <td>Chandni</td>\n",
       "      <td>22</td>\n",
       "      <td>Female</td>\n",
       "      <td>Non-Tech</td>\n",
       "      <td>78</td>\n",
       "      <td>83</td>\n",
       "      <td>161</td>\n",
       "    </tr>\n",
       "    <tr>\n",
       "      <th>2</th>\n",
       "      <td>Rank 3</td>\n",
       "      <td>Gyanesh</td>\n",
       "      <td>25</td>\n",
       "      <td>Male</td>\n",
       "      <td>Tech</td>\n",
       "      <td>70</td>\n",
       "      <td>80</td>\n",
       "      <td>150</td>\n",
       "    </tr>\n",
       "    <tr>\n",
       "      <th>3</th>\n",
       "      <td>Rank 4</td>\n",
       "      <td>Rahul</td>\n",
       "      <td>22</td>\n",
       "      <td>Male</td>\n",
       "      <td>Tech</td>\n",
       "      <td>68</td>\n",
       "      <td>75</td>\n",
       "      <td>143</td>\n",
       "    </tr>\n",
       "  </tbody>\n",
       "</table>\n",
       "</div>"
      ],
      "text/plain": [
       "     Rank     Name  Age  Gender Background  Python  Machine Learning  Total\n",
       "0  Rank 1     Ravi   23    Male       Tech      89                95    184\n",
       "1  Rank 2  Chandni   22  Female   Non-Tech      78                83    161\n",
       "2  Rank 3  Gyanesh   25    Male       Tech      70                80    150\n",
       "3  Rank 4    Rahul   22    Male       Tech      68                75    143"
      ]
     },
     "execution_count": 123,
     "metadata": {},
     "output_type": "execute_result"
    }
   ],
   "source": [
    "# feature engineering\n",
    "df[\"Total\"]=df[\"Machine Learning\"]+df[\"Python\"]\n",
    "df.head(4)"
   ]
  },
  {
   "cell_type": "code",
   "execution_count": 124,
   "id": "99d1fcf6-16e9-4ddf-8241-dde763c6f029",
   "metadata": {},
   "outputs": [
    {
     "data": {
      "text/plain": [
       "Gender\n",
       "Male      6\n",
       "Female    4\n",
       "Name: count, dtype: int64"
      ]
     },
     "execution_count": 124,
     "metadata": {},
     "output_type": "execute_result"
    }
   ],
   "source": [
    "df[\"Gender\"].value_counts()"
   ]
  },
  {
   "cell_type": "code",
   "execution_count": 125,
   "id": "ec3839a0-62f8-4734-a367-1490a7fdb4b8",
   "metadata": {},
   "outputs": [],
   "source": [
    "df[\"Gender\"]=df[\"Gender\"].replace({\"Male\":0,\"Female\":1}) "
   ]
  },
  {
   "cell_type": "code",
   "execution_count": 126,
   "id": "b5f940f3-1201-4f06-9663-51db451cc584",
   "metadata": {},
   "outputs": [
    {
     "data": {
      "text/plain": [
       "Background\n",
       "Tech        5\n",
       "Non-Tech    5\n",
       "Name: count, dtype: int64"
      ]
     },
     "execution_count": 126,
     "metadata": {},
     "output_type": "execute_result"
    }
   ],
   "source": [
    "df[\"Background\"].value_counts()"
   ]
  },
  {
   "cell_type": "code",
   "execution_count": 127,
   "id": "ef3b6919-380e-42b4-abda-1e91c90bbb15",
   "metadata": {},
   "outputs": [],
   "source": [
    "df[\"Background\"]=df[\"Background\"].apply(lambda x:0 if x==\"Non-Tech\" else 1)"
   ]
  },
  {
   "cell_type": "code",
   "execution_count": 128,
   "id": "4e31e3c1-db0e-4381-a05f-e51f531b42c6",
   "metadata": {},
   "outputs": [
    {
     "data": {
      "text/html": [
       "<div>\n",
       "<style scoped>\n",
       "    .dataframe tbody tr th:only-of-type {\n",
       "        vertical-align: middle;\n",
       "    }\n",
       "\n",
       "    .dataframe tbody tr th {\n",
       "        vertical-align: top;\n",
       "    }\n",
       "\n",
       "    .dataframe thead th {\n",
       "        text-align: right;\n",
       "    }\n",
       "</style>\n",
       "<table border=\"1\" class=\"dataframe\">\n",
       "  <thead>\n",
       "    <tr style=\"text-align: right;\">\n",
       "      <th></th>\n",
       "      <th>Rank</th>\n",
       "      <th>Name</th>\n",
       "      <th>Age</th>\n",
       "      <th>Gender</th>\n",
       "      <th>Background</th>\n",
       "      <th>Python</th>\n",
       "      <th>Machine Learning</th>\n",
       "      <th>Total</th>\n",
       "    </tr>\n",
       "  </thead>\n",
       "  <tbody>\n",
       "    <tr>\n",
       "      <th>0</th>\n",
       "      <td>Rank 1</td>\n",
       "      <td>Ravi</td>\n",
       "      <td>23</td>\n",
       "      <td>0</td>\n",
       "      <td>1</td>\n",
       "      <td>89</td>\n",
       "      <td>95</td>\n",
       "      <td>184</td>\n",
       "    </tr>\n",
       "    <tr>\n",
       "      <th>1</th>\n",
       "      <td>Rank 2</td>\n",
       "      <td>Chandni</td>\n",
       "      <td>22</td>\n",
       "      <td>1</td>\n",
       "      <td>0</td>\n",
       "      <td>78</td>\n",
       "      <td>83</td>\n",
       "      <td>161</td>\n",
       "    </tr>\n",
       "    <tr>\n",
       "      <th>2</th>\n",
       "      <td>Rank 3</td>\n",
       "      <td>Gyanesh</td>\n",
       "      <td>25</td>\n",
       "      <td>0</td>\n",
       "      <td>1</td>\n",
       "      <td>70</td>\n",
       "      <td>80</td>\n",
       "      <td>150</td>\n",
       "    </tr>\n",
       "    <tr>\n",
       "      <th>3</th>\n",
       "      <td>Rank 4</td>\n",
       "      <td>Rahul</td>\n",
       "      <td>22</td>\n",
       "      <td>0</td>\n",
       "      <td>1</td>\n",
       "      <td>68</td>\n",
       "      <td>75</td>\n",
       "      <td>143</td>\n",
       "    </tr>\n",
       "    <tr>\n",
       "      <th>4</th>\n",
       "      <td>Rank 5</td>\n",
       "      <td>Kartik</td>\n",
       "      <td>23</td>\n",
       "      <td>0</td>\n",
       "      <td>1</td>\n",
       "      <td>60</td>\n",
       "      <td>70</td>\n",
       "      <td>130</td>\n",
       "    </tr>\n",
       "    <tr>\n",
       "      <th>5</th>\n",
       "      <td>Rank 6</td>\n",
       "      <td>Pratiksha</td>\n",
       "      <td>24</td>\n",
       "      <td>1</td>\n",
       "      <td>0</td>\n",
       "      <td>58</td>\n",
       "      <td>55</td>\n",
       "      <td>113</td>\n",
       "    </tr>\n",
       "    <tr>\n",
       "      <th>6</th>\n",
       "      <td>Rank 7</td>\n",
       "      <td>Maya</td>\n",
       "      <td>22</td>\n",
       "      <td>1</td>\n",
       "      <td>0</td>\n",
       "      <td>55</td>\n",
       "      <td>50</td>\n",
       "      <td>105</td>\n",
       "    </tr>\n",
       "    <tr>\n",
       "      <th>7</th>\n",
       "      <td>Rank 8</td>\n",
       "      <td>Shani</td>\n",
       "      <td>21</td>\n",
       "      <td>0</td>\n",
       "      <td>1</td>\n",
       "      <td>50</td>\n",
       "      <td>50</td>\n",
       "      <td>100</td>\n",
       "    </tr>\n",
       "    <tr>\n",
       "      <th>8</th>\n",
       "      <td>Rank 9</td>\n",
       "      <td>Neelam</td>\n",
       "      <td>24</td>\n",
       "      <td>1</td>\n",
       "      <td>0</td>\n",
       "      <td>50</td>\n",
       "      <td>47</td>\n",
       "      <td>97</td>\n",
       "    </tr>\n",
       "    <tr>\n",
       "      <th>9</th>\n",
       "      <td>Rank 10</td>\n",
       "      <td>Mangal</td>\n",
       "      <td>22</td>\n",
       "      <td>0</td>\n",
       "      <td>0</td>\n",
       "      <td>45</td>\n",
       "      <td>46</td>\n",
       "      <td>91</td>\n",
       "    </tr>\n",
       "  </tbody>\n",
       "</table>\n",
       "</div>"
      ],
      "text/plain": [
       "      Rank       Name  Age  Gender  Background  Python  Machine Learning  \\\n",
       "0   Rank 1       Ravi   23       0           1      89                95   \n",
       "1   Rank 2    Chandni   22       1           0      78                83   \n",
       "2   Rank 3    Gyanesh   25       0           1      70                80   \n",
       "3   Rank 4      Rahul   22       0           1      68                75   \n",
       "4   Rank 5     Kartik   23       0           1      60                70   \n",
       "5   Rank 6  Pratiksha   24       1           0      58                55   \n",
       "6   Rank 7       Maya   22       1           0      55                50   \n",
       "7   Rank 8      Shani   21       0           1      50                50   \n",
       "8   Rank 9     Neelam   24       1           0      50                47   \n",
       "9  Rank 10     Mangal   22       0           0      45                46   \n",
       "\n",
       "   Total  \n",
       "0    184  \n",
       "1    161  \n",
       "2    150  \n",
       "3    143  \n",
       "4    130  \n",
       "5    113  \n",
       "6    105  \n",
       "7    100  \n",
       "8     97  \n",
       "9     91  "
      ]
     },
     "execution_count": 128,
     "metadata": {},
     "output_type": "execute_result"
    }
   ],
   "source": [
    "df"
   ]
  },
  {
   "cell_type": "code",
   "execution_count": 157,
   "id": "076174bd-6b70-4586-bc55-8033ce1b737e",
   "metadata": {},
   "outputs": [
    {
     "data": {
      "text/html": [
       "<div>\n",
       "<style scoped>\n",
       "    .dataframe tbody tr th:only-of-type {\n",
       "        vertical-align: middle;\n",
       "    }\n",
       "\n",
       "    .dataframe tbody tr th {\n",
       "        vertical-align: top;\n",
       "    }\n",
       "\n",
       "    .dataframe thead th {\n",
       "        text-align: right;\n",
       "    }\n",
       "</style>\n",
       "<table border=\"1\" class=\"dataframe\">\n",
       "  <thead>\n",
       "    <tr style=\"text-align: right;\">\n",
       "      <th></th>\n",
       "      <th>Machine Learning</th>\n",
       "      <th>Python</th>\n",
       "      <th>Gender</th>\n",
       "      <th>Background</th>\n",
       "    </tr>\n",
       "  </thead>\n",
       "  <tbody>\n",
       "    <tr>\n",
       "      <th>0</th>\n",
       "      <td>95</td>\n",
       "      <td>89</td>\n",
       "      <td>0</td>\n",
       "      <td>1</td>\n",
       "    </tr>\n",
       "    <tr>\n",
       "      <th>1</th>\n",
       "      <td>83</td>\n",
       "      <td>78</td>\n",
       "      <td>1</td>\n",
       "      <td>0</td>\n",
       "    </tr>\n",
       "    <tr>\n",
       "      <th>2</th>\n",
       "      <td>80</td>\n",
       "      <td>70</td>\n",
       "      <td>0</td>\n",
       "      <td>1</td>\n",
       "    </tr>\n",
       "    <tr>\n",
       "      <th>3</th>\n",
       "      <td>75</td>\n",
       "      <td>68</td>\n",
       "      <td>0</td>\n",
       "      <td>1</td>\n",
       "    </tr>\n",
       "    <tr>\n",
       "      <th>4</th>\n",
       "      <td>70</td>\n",
       "      <td>60</td>\n",
       "      <td>0</td>\n",
       "      <td>1</td>\n",
       "    </tr>\n",
       "    <tr>\n",
       "      <th>5</th>\n",
       "      <td>55</td>\n",
       "      <td>58</td>\n",
       "      <td>1</td>\n",
       "      <td>0</td>\n",
       "    </tr>\n",
       "    <tr>\n",
       "      <th>6</th>\n",
       "      <td>50</td>\n",
       "      <td>55</td>\n",
       "      <td>1</td>\n",
       "      <td>0</td>\n",
       "    </tr>\n",
       "    <tr>\n",
       "      <th>7</th>\n",
       "      <td>50</td>\n",
       "      <td>50</td>\n",
       "      <td>0</td>\n",
       "      <td>1</td>\n",
       "    </tr>\n",
       "    <tr>\n",
       "      <th>8</th>\n",
       "      <td>47</td>\n",
       "      <td>50</td>\n",
       "      <td>1</td>\n",
       "      <td>0</td>\n",
       "    </tr>\n",
       "    <tr>\n",
       "      <th>9</th>\n",
       "      <td>46</td>\n",
       "      <td>45</td>\n",
       "      <td>0</td>\n",
       "      <td>0</td>\n",
       "    </tr>\n",
       "  </tbody>\n",
       "</table>\n",
       "</div>"
      ],
      "text/plain": [
       "   Machine Learning  Python  Gender  Background\n",
       "0                95      89       0           1\n",
       "1                83      78       1           0\n",
       "2                80      70       0           1\n",
       "3                75      68       0           1\n",
       "4                70      60       0           1\n",
       "5                55      58       1           0\n",
       "6                50      55       1           0\n",
       "7                50      50       0           1\n",
       "8                47      50       1           0\n",
       "9                46      45       0           0"
      ]
     },
     "execution_count": 157,
     "metadata": {},
     "output_type": "execute_result"
    }
   ],
   "source": [
    "df[[\"Machine Learning\",\"Python\",\"Gender\",\"Background\"]]"
   ]
  },
  {
   "cell_type": "code",
   "execution_count": 159,
   "id": "001bc870-4a76-4bf0-8f11-5435956485b0",
   "metadata": {},
   "outputs": [],
   "source": [
    "cities=[\"Mumbai\",\"Mumbai\",\"Mumbai\",\"Pune\",\"Delhi\",\"Delhi\",\"Delhi\",\"Delhi\",\"Pune\",\"Chennai\"]\n",
    "df[\"City\"]=cities"
   ]
  },
  {
   "cell_type": "code",
   "execution_count": 163,
   "id": "3e33a3d7-54d8-4b69-b9ad-42d9e7b5e69a",
   "metadata": {},
   "outputs": [],
   "source": [
    "def grade(x):\n",
    "    x=x/2\n",
    "    if x>=75:\n",
    "        return \"A\"\n",
    "    elif x>=60 and x<75:\n",
    "        return \"B\"\n",
    "    elif x>=35 and x<60:\n",
    "        return \"C\"\n",
    "    else:\n",
    "        return \"F\""
   ]
  },
  {
   "cell_type": "code",
   "execution_count": 167,
   "id": "d15c6dcc-b9d4-4448-bf5d-f62a06a10981",
   "metadata": {},
   "outputs": [
    {
     "data": {
      "text/html": [
       "<div>\n",
       "<style scoped>\n",
       "    .dataframe tbody tr th:only-of-type {\n",
       "        vertical-align: middle;\n",
       "    }\n",
       "\n",
       "    .dataframe tbody tr th {\n",
       "        vertical-align: top;\n",
       "    }\n",
       "\n",
       "    .dataframe thead th {\n",
       "        text-align: right;\n",
       "    }\n",
       "</style>\n",
       "<table border=\"1\" class=\"dataframe\">\n",
       "  <thead>\n",
       "    <tr style=\"text-align: right;\">\n",
       "      <th></th>\n",
       "      <th>Rank</th>\n",
       "      <th>Name</th>\n",
       "      <th>Age</th>\n",
       "      <th>Gender</th>\n",
       "      <th>Background</th>\n",
       "      <th>Python</th>\n",
       "      <th>Machine Learning</th>\n",
       "      <th>Total</th>\n",
       "      <th>City</th>\n",
       "      <th>Grade</th>\n",
       "    </tr>\n",
       "  </thead>\n",
       "  <tbody>\n",
       "    <tr>\n",
       "      <th>0</th>\n",
       "      <td>Rank 1</td>\n",
       "      <td>Ravi</td>\n",
       "      <td>23</td>\n",
       "      <td>0</td>\n",
       "      <td>1</td>\n",
       "      <td>89</td>\n",
       "      <td>95</td>\n",
       "      <td>184</td>\n",
       "      <td>Mumbai</td>\n",
       "      <td>A</td>\n",
       "    </tr>\n",
       "    <tr>\n",
       "      <th>1</th>\n",
       "      <td>Rank 2</td>\n",
       "      <td>Chandni</td>\n",
       "      <td>22</td>\n",
       "      <td>1</td>\n",
       "      <td>0</td>\n",
       "      <td>78</td>\n",
       "      <td>83</td>\n",
       "      <td>161</td>\n",
       "      <td>Mumbai</td>\n",
       "      <td>A</td>\n",
       "    </tr>\n",
       "    <tr>\n",
       "      <th>2</th>\n",
       "      <td>Rank 3</td>\n",
       "      <td>Gyanesh</td>\n",
       "      <td>25</td>\n",
       "      <td>0</td>\n",
       "      <td>1</td>\n",
       "      <td>70</td>\n",
       "      <td>80</td>\n",
       "      <td>150</td>\n",
       "      <td>Mumbai</td>\n",
       "      <td>A</td>\n",
       "    </tr>\n",
       "    <tr>\n",
       "      <th>3</th>\n",
       "      <td>Rank 4</td>\n",
       "      <td>Rahul</td>\n",
       "      <td>22</td>\n",
       "      <td>0</td>\n",
       "      <td>1</td>\n",
       "      <td>68</td>\n",
       "      <td>75</td>\n",
       "      <td>143</td>\n",
       "      <td>Pune</td>\n",
       "      <td>B</td>\n",
       "    </tr>\n",
       "    <tr>\n",
       "      <th>4</th>\n",
       "      <td>Rank 5</td>\n",
       "      <td>Kartik</td>\n",
       "      <td>23</td>\n",
       "      <td>0</td>\n",
       "      <td>1</td>\n",
       "      <td>60</td>\n",
       "      <td>70</td>\n",
       "      <td>130</td>\n",
       "      <td>Delhi</td>\n",
       "      <td>B</td>\n",
       "    </tr>\n",
       "    <tr>\n",
       "      <th>5</th>\n",
       "      <td>Rank 6</td>\n",
       "      <td>Pratiksha</td>\n",
       "      <td>24</td>\n",
       "      <td>1</td>\n",
       "      <td>0</td>\n",
       "      <td>58</td>\n",
       "      <td>55</td>\n",
       "      <td>113</td>\n",
       "      <td>Delhi</td>\n",
       "      <td>C</td>\n",
       "    </tr>\n",
       "    <tr>\n",
       "      <th>6</th>\n",
       "      <td>Rank 7</td>\n",
       "      <td>Maya</td>\n",
       "      <td>22</td>\n",
       "      <td>1</td>\n",
       "      <td>0</td>\n",
       "      <td>55</td>\n",
       "      <td>50</td>\n",
       "      <td>105</td>\n",
       "      <td>Delhi</td>\n",
       "      <td>C</td>\n",
       "    </tr>\n",
       "    <tr>\n",
       "      <th>7</th>\n",
       "      <td>Rank 8</td>\n",
       "      <td>Shani</td>\n",
       "      <td>21</td>\n",
       "      <td>0</td>\n",
       "      <td>1</td>\n",
       "      <td>50</td>\n",
       "      <td>50</td>\n",
       "      <td>100</td>\n",
       "      <td>Delhi</td>\n",
       "      <td>C</td>\n",
       "    </tr>\n",
       "    <tr>\n",
       "      <th>8</th>\n",
       "      <td>Rank 9</td>\n",
       "      <td>Neelam</td>\n",
       "      <td>24</td>\n",
       "      <td>1</td>\n",
       "      <td>0</td>\n",
       "      <td>50</td>\n",
       "      <td>47</td>\n",
       "      <td>97</td>\n",
       "      <td>Pune</td>\n",
       "      <td>C</td>\n",
       "    </tr>\n",
       "    <tr>\n",
       "      <th>9</th>\n",
       "      <td>Rank 10</td>\n",
       "      <td>Mangal</td>\n",
       "      <td>22</td>\n",
       "      <td>0</td>\n",
       "      <td>0</td>\n",
       "      <td>45</td>\n",
       "      <td>46</td>\n",
       "      <td>91</td>\n",
       "      <td>Chennai</td>\n",
       "      <td>C</td>\n",
       "    </tr>\n",
       "  </tbody>\n",
       "</table>\n",
       "</div>"
      ],
      "text/plain": [
       "      Rank       Name  Age  Gender  Background  Python  Machine Learning  \\\n",
       "0   Rank 1       Ravi   23       0           1      89                95   \n",
       "1   Rank 2    Chandni   22       1           0      78                83   \n",
       "2   Rank 3    Gyanesh   25       0           1      70                80   \n",
       "3   Rank 4      Rahul   22       0           1      68                75   \n",
       "4   Rank 5     Kartik   23       0           1      60                70   \n",
       "5   Rank 6  Pratiksha   24       1           0      58                55   \n",
       "6   Rank 7       Maya   22       1           0      55                50   \n",
       "7   Rank 8      Shani   21       0           1      50                50   \n",
       "8   Rank 9     Neelam   24       1           0      50                47   \n",
       "9  Rank 10     Mangal   22       0           0      45                46   \n",
       "\n",
       "   Total     City Grade  \n",
       "0    184   Mumbai     A  \n",
       "1    161   Mumbai     A  \n",
       "2    150   Mumbai     A  \n",
       "3    143     Pune     B  \n",
       "4    130    Delhi     B  \n",
       "5    113    Delhi     C  \n",
       "6    105    Delhi     C  \n",
       "7    100    Delhi     C  \n",
       "8     97     Pune     C  \n",
       "9     91  Chennai     C  "
      ]
     },
     "execution_count": 167,
     "metadata": {},
     "output_type": "execute_result"
    }
   ],
   "source": [
    "df[\"Grade\"]=df[\"Total\"].apply(grade)\n",
    "df"
   ]
  },
  {
   "cell_type": "code",
   "execution_count": 169,
   "id": "0dd1f884-b6b7-4fb2-a182-76e88a1b4354",
   "metadata": {},
   "outputs": [
    {
     "data": {
      "text/plain": [
       "47    a\n",
       "48    b\n",
       "49    c\n",
       "0     d\n",
       "1     e\n",
       "2     f\n",
       "dtype: object"
      ]
     },
     "execution_count": 169,
     "metadata": {},
     "output_type": "execute_result"
    }
   ],
   "source": [
    "s=pd.Series([\"a\",\"b\",\"c\",\"d\",\"e\",\"f\"],index=[47,48,49,0,1,2])\n",
    "s"
   ]
  },
  {
   "cell_type": "code",
   "execution_count": 173,
   "id": "97b46f5e-0792-4f9d-a581-7334647014cd",
   "metadata": {},
   "outputs": [
    {
     "data": {
      "text/plain": [
       "'a'"
      ]
     },
     "execution_count": 173,
     "metadata": {},
     "output_type": "execute_result"
    }
   ],
   "source": [
    "s.iloc[0] # value at index 0"
   ]
  },
  {
   "cell_type": "code",
   "execution_count": 175,
   "id": "4c1d6e8d-0621-489e-9912-d936e9f3cb50",
   "metadata": {},
   "outputs": [
    {
     "data": {
      "text/plain": [
       "'d'"
      ]
     },
     "execution_count": 175,
     "metadata": {},
     "output_type": "execute_result"
    }
   ],
   "source": [
    "s.loc[0] # value at label 0"
   ]
  },
  {
   "cell_type": "code",
   "execution_count": 177,
   "id": "170f71cb-6b52-4abb-87a0-3a1f38b8ff48",
   "metadata": {},
   "outputs": [
    {
     "data": {
      "text/plain": [
       "47    a\n",
       "48    b\n",
       "dtype: object"
      ]
     },
     "execution_count": 177,
     "metadata": {},
     "output_type": "execute_result"
    }
   ],
   "source": [
    "s.iloc[0:2] # output at indexes 0 and 1 excluding stopping criteria"
   ]
  },
  {
   "cell_type": "code",
   "execution_count": 179,
   "id": "ebcb1f85-52d6-4f63-bf67-3c735ba00779",
   "metadata": {},
   "outputs": [
    {
     "data": {
      "text/plain": [
       "0    d\n",
       "1    e\n",
       "2    f\n",
       "dtype: object"
      ]
     },
     "execution_count": 179,
     "metadata": {},
     "output_type": "execute_result"
    }
   ],
   "source": [
    "s.loc[0:2] # ouput at labels 0 to 2 including stopping criteria"
   ]
  },
  {
   "cell_type": "code",
   "execution_count": 183,
   "id": "5288dc80-9b54-47da-9379-8d73d47bc743",
   "metadata": {},
   "outputs": [
    {
     "data": {
      "text/plain": [
       "'Ravi'"
      ]
     },
     "execution_count": 183,
     "metadata": {},
     "output_type": "execute_result"
    }
   ],
   "source": [
    "df.loc[0,\"Name\"]"
   ]
  },
  {
   "cell_type": "code",
   "execution_count": 187,
   "id": "6eaedd75-9747-40ee-af5f-441a5afbd649",
   "metadata": {},
   "outputs": [
    {
     "data": {
      "text/plain": [
       "'Ravi'"
      ]
     },
     "execution_count": 187,
     "metadata": {},
     "output_type": "execute_result"
    }
   ],
   "source": [
    "df.iloc[0,1]"
   ]
  },
  {
   "cell_type": "code",
   "execution_count": 189,
   "id": "23e73f45-6a49-4fa3-9859-7f9adb1194cf",
   "metadata": {},
   "outputs": [
    {
     "data": {
      "text/plain": [
       "1    161\n",
       "2    150\n",
       "3    143\n",
       "4    130\n",
       "Name: Total, dtype: int64"
      ]
     },
     "execution_count": 189,
     "metadata": {},
     "output_type": "execute_result"
    }
   ],
   "source": [
    "df.loc[1:4,\"Total\"]"
   ]
  },
  {
   "cell_type": "code",
   "execution_count": 191,
   "id": "d3e856d0-f38a-4ba3-8c80-0379e54645de",
   "metadata": {},
   "outputs": [
    {
     "data": {
      "text/plain": [
       "1    161\n",
       "2    150\n",
       "3    143\n",
       "4    130\n",
       "Name: Total, dtype: int64"
      ]
     },
     "execution_count": 191,
     "metadata": {},
     "output_type": "execute_result"
    }
   ],
   "source": [
    "df.iloc[1:5,7]"
   ]
  },
  {
   "cell_type": "code",
   "execution_count": 197,
   "id": "2f1c4c69-9e05-4c0c-89a2-30d9853f57b7",
   "metadata": {},
   "outputs": [
    {
     "data": {
      "text/plain": [
       "City\n",
       "Delhi      4\n",
       "Mumbai     3\n",
       "Pune       2\n",
       "Chennai    1\n",
       "Name: count, dtype: int64"
      ]
     },
     "execution_count": 197,
     "metadata": {},
     "output_type": "execute_result"
    }
   ],
   "source": [
    "#df[\"City\"].nunique()\n",
    "df[\"City\"].value_counts()"
   ]
  },
  {
   "cell_type": "code",
   "execution_count": 205,
   "id": "ca634c85-8733-401f-9ed1-fa773495502a",
   "metadata": {},
   "outputs": [
    {
     "data": {
      "text/plain": [
       "112.0"
      ]
     },
     "execution_count": 205,
     "metadata": {},
     "output_type": "execute_result"
    }
   ],
   "source": [
    "df[df[\"City\"]==\"Delhi\"][\"Total\"].mean()"
   ]
  },
  {
   "cell_type": "code",
   "execution_count": 207,
   "id": "cff98496-b21f-45d9-afaa-b64fcd82666d",
   "metadata": {},
   "outputs": [
    {
     "data": {
      "text/plain": [
       "165.0"
      ]
     },
     "execution_count": 207,
     "metadata": {},
     "output_type": "execute_result"
    }
   ],
   "source": [
    "df[df[\"City\"]==\"Mumbai\"][\"Total\"].mean()"
   ]
  },
  {
   "cell_type": "code",
   "execution_count": 225,
   "id": "fbea79ba-5426-46e0-8d7a-6b0f804bde4a",
   "metadata": {},
   "outputs": [
    {
     "data": {
      "text/plain": [
       "<Axes: xlabel='City'>"
      ]
     },
     "execution_count": 225,
     "metadata": {},
     "output_type": "execute_result"
    },
    {
     "data": {
      "image/png": "[encoded data removed]",
      "text/plain": [
       "<Figure size 640x480 with 1 Axes>"
      ]
     },
     "metadata": {},
     "output_type": "display_data"
    }
   ],
   "source": [
    "df.groupby(\"City\")[\"Total\"].mean().sort_values(ascending=False).plot(kind=\"bar\")"
   ]
  },
  {
   "cell_type": "code",
   "execution_count": 233,
   "id": "4d710c19-ea68-4bd2-bf53-895c7bb5c5c8",
   "metadata": {},
   "outputs": [],
   "source": [
    "df.drop(\"Age\",axis=1,inplace=True)\n",
    "df.drop([\"City\",\"Background\",\"Total\"],axis=1,inplace=True)"
   ]
  },
  {
   "cell_type": "code",
   "execution_count": 235,
   "id": "c46e3c3a-49b9-4702-a3f2-342b5d72c2ee",
   "metadata": {},
   "outputs": [
    {
     "data": {
      "text/html": [
       "<div>\n",
       "<style scoped>\n",
       "    .dataframe tbody tr th:only-of-type {\n",
       "        vertical-align: middle;\n",
       "    }\n",
       "\n",
       "    .dataframe tbody tr th {\n",
       "        vertical-align: top;\n",
       "    }\n",
       "\n",
       "    .dataframe thead th {\n",
       "        text-align: right;\n",
       "    }\n",
       "</style>\n",
       "<table border=\"1\" class=\"dataframe\">\n",
       "  <thead>\n",
       "    <tr style=\"text-align: right;\">\n",
       "      <th></th>\n",
       "      <th>Rank</th>\n",
       "      <th>Name</th>\n",
       "      <th>Gender</th>\n",
       "      <th>Python</th>\n",
       "      <th>Machine Learning</th>\n",
       "      <th>Grade</th>\n",
       "    </tr>\n",
       "  </thead>\n",
       "  <tbody>\n",
       "    <tr>\n",
       "      <th>0</th>\n",
       "      <td>Rank 1</td>\n",
       "      <td>Ravi</td>\n",
       "      <td>0</td>\n",
       "      <td>89</td>\n",
       "      <td>95</td>\n",
       "      <td>A</td>\n",
       "    </tr>\n",
       "    <tr>\n",
       "      <th>1</th>\n",
       "      <td>Rank 2</td>\n",
       "      <td>Chandni</td>\n",
       "      <td>1</td>\n",
       "      <td>78</td>\n",
       "      <td>83</td>\n",
       "      <td>A</td>\n",
       "    </tr>\n",
       "    <tr>\n",
       "      <th>2</th>\n",
       "      <td>Rank 3</td>\n",
       "      <td>Gyanesh</td>\n",
       "      <td>0</td>\n",
       "      <td>70</td>\n",
       "      <td>80</td>\n",
       "      <td>A</td>\n",
       "    </tr>\n",
       "    <tr>\n",
       "      <th>3</th>\n",
       "      <td>Rank 4</td>\n",
       "      <td>Rahul</td>\n",
       "      <td>0</td>\n",
       "      <td>68</td>\n",
       "      <td>75</td>\n",
       "      <td>B</td>\n",
       "    </tr>\n",
       "    <tr>\n",
       "      <th>4</th>\n",
       "      <td>Rank 5</td>\n",
       "      <td>Kartik</td>\n",
       "      <td>0</td>\n",
       "      <td>60</td>\n",
       "      <td>70</td>\n",
       "      <td>B</td>\n",
       "    </tr>\n",
       "    <tr>\n",
       "      <th>5</th>\n",
       "      <td>Rank 6</td>\n",
       "      <td>Pratiksha</td>\n",
       "      <td>1</td>\n",
       "      <td>58</td>\n",
       "      <td>55</td>\n",
       "      <td>C</td>\n",
       "    </tr>\n",
       "    <tr>\n",
       "      <th>6</th>\n",
       "      <td>Rank 7</td>\n",
       "      <td>Maya</td>\n",
       "      <td>1</td>\n",
       "      <td>55</td>\n",
       "      <td>50</td>\n",
       "      <td>C</td>\n",
       "    </tr>\n",
       "    <tr>\n",
       "      <th>7</th>\n",
       "      <td>Rank 8</td>\n",
       "      <td>Shani</td>\n",
       "      <td>0</td>\n",
       "      <td>50</td>\n",
       "      <td>50</td>\n",
       "      <td>C</td>\n",
       "    </tr>\n",
       "    <tr>\n",
       "      <th>8</th>\n",
       "      <td>Rank 9</td>\n",
       "      <td>Neelam</td>\n",
       "      <td>1</td>\n",
       "      <td>50</td>\n",
       "      <td>47</td>\n",
       "      <td>C</td>\n",
       "    </tr>\n",
       "    <tr>\n",
       "      <th>9</th>\n",
       "      <td>Rank 10</td>\n",
       "      <td>Mangal</td>\n",
       "      <td>0</td>\n",
       "      <td>45</td>\n",
       "      <td>46</td>\n",
       "      <td>C</td>\n",
       "    </tr>\n",
       "  </tbody>\n",
       "</table>\n",
       "</div>"
      ],
      "text/plain": [
       "      Rank       Name  Gender  Python  Machine Learning Grade\n",
       "0   Rank 1       Ravi       0      89                95     A\n",
       "1   Rank 2    Chandni       1      78                83     A\n",
       "2   Rank 3    Gyanesh       0      70                80     A\n",
       "3   Rank 4      Rahul       0      68                75     B\n",
       "4   Rank 5     Kartik       0      60                70     B\n",
       "5   Rank 6  Pratiksha       1      58                55     C\n",
       "6   Rank 7       Maya       1      55                50     C\n",
       "7   Rank 8      Shani       0      50                50     C\n",
       "8   Rank 9     Neelam       1      50                47     C\n",
       "9  Rank 10     Mangal       0      45                46     C"
      ]
     },
     "execution_count": 235,
     "metadata": {},
     "output_type": "execute_result"
    }
   ],
   "source": [
    "df"
   ]
  },
  {
   "cell_type": "code",
   "execution_count": 239,
   "id": "661f46b4-93ef-45f8-a627-a98cebc97ded",
   "metadata": {},
   "outputs": [],
   "source": [
    "df.drop([0,1,4,7],inplace=True)"
   ]
  },
  {
   "cell_type": "code",
   "execution_count": 249,
   "id": "15b20e94-5f25-42c5-b99d-6000ee1a402d",
   "metadata": {},
   "outputs": [],
   "source": [
    "df.reset_index(drop=True,inplace=True)"
   ]
  },
  {
   "cell_type": "code",
   "execution_count": 251,
   "id": "d3e73248-1239-434a-83a6-5a4ddf06beac",
   "metadata": {},
   "outputs": [
    {
     "data": {
      "text/html": [
       "<div>\n",
       "<style scoped>\n",
       "    .dataframe tbody tr th:only-of-type {\n",
       "        vertical-align: middle;\n",
       "    }\n",
       "\n",
       "    .dataframe tbody tr th {\n",
       "        vertical-align: top;\n",
       "    }\n",
       "\n",
       "    .dataframe thead th {\n",
       "        text-align: right;\n",
       "    }\n",
       "</style>\n",
       "<table border=\"1\" class=\"dataframe\">\n",
       "  <thead>\n",
       "    <tr style=\"text-align: right;\">\n",
       "      <th></th>\n",
       "      <th>Rank</th>\n",
       "      <th>Name</th>\n",
       "      <th>Gender</th>\n",
       "      <th>Python</th>\n",
       "      <th>Machine Learning</th>\n",
       "      <th>Grade</th>\n",
       "    </tr>\n",
       "  </thead>\n",
       "  <tbody>\n",
       "    <tr>\n",
       "      <th>0</th>\n",
       "      <td>Rank 3</td>\n",
       "      <td>Gyanesh</td>\n",
       "      <td>0</td>\n",
       "      <td>70</td>\n",
       "      <td>80</td>\n",
       "      <td>A</td>\n",
       "    </tr>\n",
       "    <tr>\n",
       "      <th>1</th>\n",
       "      <td>Rank 4</td>\n",
       "      <td>Rahul</td>\n",
       "      <td>0</td>\n",
       "      <td>68</td>\n",
       "      <td>75</td>\n",
       "      <td>B</td>\n",
       "    </tr>\n",
       "    <tr>\n",
       "      <th>2</th>\n",
       "      <td>Rank 6</td>\n",
       "      <td>Pratiksha</td>\n",
       "      <td>1</td>\n",
       "      <td>58</td>\n",
       "      <td>55</td>\n",
       "      <td>C</td>\n",
       "    </tr>\n",
       "    <tr>\n",
       "      <th>3</th>\n",
       "      <td>Rank 7</td>\n",
       "      <td>Maya</td>\n",
       "      <td>1</td>\n",
       "      <td>55</td>\n",
       "      <td>50</td>\n",
       "      <td>C</td>\n",
       "    </tr>\n",
       "    <tr>\n",
       "      <th>4</th>\n",
       "      <td>Rank 9</td>\n",
       "      <td>Neelam</td>\n",
       "      <td>1</td>\n",
       "      <td>50</td>\n",
       "      <td>47</td>\n",
       "      <td>C</td>\n",
       "    </tr>\n",
       "    <tr>\n",
       "      <th>5</th>\n",
       "      <td>Rank 10</td>\n",
       "      <td>Mangal</td>\n",
       "      <td>0</td>\n",
       "      <td>45</td>\n",
       "      <td>46</td>\n",
       "      <td>C</td>\n",
       "    </tr>\n",
       "  </tbody>\n",
       "</table>\n",
       "</div>"
      ],
      "text/plain": [
       "      Rank       Name  Gender  Python  Machine Learning Grade\n",
       "0   Rank 3    Gyanesh       0      70                80     A\n",
       "1   Rank 4      Rahul       0      68                75     B\n",
       "2   Rank 6  Pratiksha       1      58                55     C\n",
       "3   Rank 7       Maya       1      55                50     C\n",
       "4   Rank 9     Neelam       1      50                47     C\n",
       "5  Rank 10     Mangal       0      45                46     C"
      ]
     },
     "execution_count": 251,
     "metadata": {},
     "output_type": "execute_result"
    }
   ],
   "source": [
    "df"
   ]
  },
  {
   "cell_type": "code",
   "execution_count": null,
   "id": "4129035e-b9b7-4b2e-a573-8001335685c3",
   "metadata": {},
   "outputs": [],
   "source": []
  }
 ],
 "metadata": {
  "kernelspec": {
   "display_name": "Python 3 (ipykernel)",
   "language": "python",
   "name": "python3"
  },
  "language_info": {
   "codemirror_mode": {
    "name": "ipython",
    "version": 3
   },
   "file_extension": ".py",
   "mimetype": "text/x-python",
   "name": "python",
   "nbconvert_exporter": "python",
   "pygments_lexer": "ipython3",
   "version": "3.12.4"
  }
 },
 "nbformat": 4,
 "nbformat_minor": 5
}
