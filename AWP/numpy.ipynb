{
 "cells": [
  {
   "cell_type": "code",
   "execution_count": 1,
   "id": "da8be712-fea6-4fdd-a2aa-c74c6261a360",
   "metadata": {},
   "outputs": [],
   "source": [
    "#!pip install numpy"
   ]
  },
  {
   "cell_type": "markdown",
   "id": "75ccf201-fca8-41c3-b351-592e86822ef8",
   "metadata": {},
   "source": [
    "### \n",
    "Numpy"
   ]
  },
  {
   "cell_type": "code",
   "execution_count": 3,
   "id": "710fbafb-2050-4942-9ab0-cc1ab403fc62",
   "metadata": {},
   "outputs": [],
   "source": [
    "import numpy as np"
   ]
  },
  {
   "cell_type": "code",
   "execution_count": 4,
   "id": "89bf0b7c-ce70-43ff-ab01-2fd019403487",
   "metadata": {},
   "outputs": [
    {
     "name": "stdout",
     "output_type": "stream",
     "text": [
      "[1, 2, 3, 4]\n",
      "<class 'list'>\n",
      "[1, 2, 3, 4, 1, 2, 3, 4, 1, 2, 3, 4]\n",
      "[3, 6, 9, 12]\n",
      "m [3, 6, 9, 12]\n"
     ]
    }
   ],
   "source": [
    "l=[1,2,3,4]\n",
    "print(l)\n",
    "print(type(l))\n",
    "print(l*3) # concatenation\n",
    "\n",
    "m=[]\n",
    "for i in l:\n",
    "    m.append(i*3)\n",
    "print(m)\n",
    "\n",
    "m=[i*3 for i in l]\n",
    "print(\"m\",m)"
   ]
  },
  {
   "cell_type": "code",
   "execution_count": 5,
   "id": "1eb12022-0eaa-4d4c-81b2-5e05619573e3",
   "metadata": {},
   "outputs": [
    {
     "name": "stdout",
     "output_type": "stream",
     "text": [
      "[1 2 3 4]\n",
      "<class 'numpy.ndarray'>\n",
      "[3, 6, 9, 12]\n"
     ]
    }
   ],
   "source": [
    "n=np.array(l)\n",
    "\n",
    "print(n)\n",
    "print(type(n))\n",
    "n=n*3\n",
    "print(m)"
   ]
  },
  {
   "cell_type": "code",
   "execution_count": 6,
   "id": "6ccd1809-a886-4b22-9231-eeb8339ab48c",
   "metadata": {},
   "outputs": [
    {
     "name": "stdout",
     "output_type": "stream",
     "text": [
      "['A', True, None, 10]\n",
      "<class 'list'>\n",
      "['A', True, None, 10, 'A', True, None, 10, 'A', True, None, 10]\n"
     ]
    }
   ],
   "source": [
    "l=[\"A\",True,None,10]\n",
    "print(l)\n",
    "print(type(l))\n",
    "print(l*3)"
   ]
  },
  {
   "cell_type": "code",
   "execution_count": 7,
   "id": "c9d66664-c842-446a-8316-0e52e8cacf56",
   "metadata": {},
   "outputs": [
    {
     "name": "stdout",
     "output_type": "stream",
     "text": [
      "['A' 'B' 'C']\n",
      "<class 'numpy.ndarray'>\n"
     ]
    }
   ],
   "source": [
    "l=[\"A\",\"B\",\"C\"] #\n",
    "n=np.array(l)\n",
    "print(n)\n",
    "print(type(n))\n",
    "#print(n*3) ------ error. Numpy arrays works on numbers and not on mixed datatype "
   ]
  },
  {
   "cell_type": "code",
   "execution_count": 8,
   "id": "969f9e1f-4d9c-49db-a0c0-8e757be2a3f2",
   "metadata": {},
   "outputs": [
    {
     "name": "stdout",
     "output_type": "stream",
     "text": [
      "[1 2 3 4 5]\n",
      "<class 'numpy.ndarray'>\n",
      "Shape (5,)\n",
      "Dimension 1\n"
     ]
    }
   ],
   "source": [
    "#n=np.array([[1,2,3],[4,5,6]])\n",
    "n=np.array([1,2,3,4,5])\n",
    "print(n)\n",
    "print(type(n))\n",
    "print(\"Shape\",n.shape)\n",
    "print(\"Dimension\",n.ndim)"
   ]
  },
  {
   "cell_type": "code",
   "execution_count": 9,
   "id": "fa71da3b-1899-4d54-836a-39c2a6239d87",
   "metadata": {},
   "outputs": [
    {
     "name": "stdout",
     "output_type": "stream",
     "text": [
      "[ 5 10 15 20 25]\n",
      "-------------\n",
      "[[11 22 33]\n",
      " [14 25 36]]\n"
     ]
    }
   ],
   "source": [
    "# broadcasting\n",
    "n=np.array([1,2,3,4,5])\n",
    "print(n*5)\n",
    "print(\"-------------\")\n",
    "n=np.array([[1,2,3],[4,5,6]])\n",
    "m=np.array([10,20,30])\n",
    "print(n+m)"
   ]
  },
  {
   "cell_type": "code",
   "execution_count": 10,
   "id": "1a8f0d0b-fd28-47c6-896d-3e9716b8ce83",
   "metadata": {},
   "outputs": [
    {
     "name": "stdout",
     "output_type": "stream",
     "text": [
      "[[0. 0.]\n",
      " [0. 0.]]\n",
      "<class 'numpy.ndarray'>\n",
      "Shape (2, 2)\n",
      "Dimension 2\n"
     ]
    }
   ],
   "source": [
    "n=np.zeros((2,2)) # np.ones\n",
    "print(n)\n",
    "print(type(n))\n",
    "print(\"Shape\",n.shape)\n",
    "print(\"Dimension\",n.ndim)"
   ]
  },
  {
   "cell_type": "code",
   "execution_count": 11,
   "id": "aeb9f3f4-f468-45aa-81f3-74bb72312124",
   "metadata": {},
   "outputs": [
    {
     "name": "stdout",
     "output_type": "stream",
     "text": [
      "0.7830246036135486\n",
      "[[0.83385599 0.62142114 0.05162872]\n",
      " [0.72525713 0.20636675 0.52222113]\n",
      " [0.51454167 0.53359705 0.55350528]]\n",
      "3\n",
      "[[9 3 3]\n",
      " [2 6 1]\n",
      " [9 7 6]\n",
      " [4 2 8]\n",
      " [6 9 1]]\n"
     ]
    }
   ],
   "source": [
    "u=np.random.rand() # random float number\n",
    "print(u)\n",
    "u=np.random.rand(3,3) # random float array\n",
    "print(u)\n",
    "u=np.random.randint(1,10) # random integer number between 1 to 10\n",
    "print(u)\n",
    "u=np.random.randint(1,10,size=(5,3)) # random integer array\n",
    "print(u)"
   ]
  },
  {
   "cell_type": "code",
   "execution_count": 12,
   "id": "5a4c6b45-a073-4706-a68a-0c19c0fa4261",
   "metadata": {},
   "outputs": [
    {
     "name": "stdout",
     "output_type": "stream",
     "text": [
      "[[1 2 3]\n",
      " [4 5 6]]\n",
      "Shape (2, 3)\n",
      "[[1 4]\n",
      " [2 5]\n",
      " [3 6]]\n",
      "Shape (3, 2)\n"
     ]
    }
   ],
   "source": [
    "n=np.array([[1,2,3],[4,5,6]])\n",
    "print(n)\n",
    "print(\"Shape\",n.shape)\n",
    "m=n.T\n",
    "print(m)\n",
    "print(\"Shape\",m.shape)"
   ]
  },
  {
   "cell_type": "code",
   "execution_count": 13,
   "id": "d3fb7be1-d68d-4d73-94ca-c5d3da53b0cc",
   "metadata": {},
   "outputs": [
    {
     "name": "stdout",
     "output_type": "stream",
     "text": [
      "[[1 2 3]\n",
      " [4 5 6]]\n",
      "Shape (2, 3)\n",
      "[[1]\n",
      " [2]\n",
      " [3]\n",
      " [4]\n",
      " [5]\n",
      " [6]]\n",
      "Shape (6, 1)\n",
      "[[1 2 3 4 5 6]]\n",
      "Shape (1, 6)\n",
      "[[1 2]\n",
      " [3 4]\n",
      " [5 6]]\n",
      "Shape (3, 2)\n"
     ]
    }
   ],
   "source": [
    "n=np.array([[1,2,3],[4,5,6]])\n",
    "print(n)\n",
    "print(\"Shape\",n.shape)\n",
    "m=n.reshape(6,1)\n",
    "print(m)\n",
    "print(\"Shape\",m.shape)\n",
    "m=n.reshape(1,6)\n",
    "print(m)\n",
    "print(\"Shape\",m.shape)\n",
    "m=n.reshape(3,2)\n",
    "print(m)\n",
    "print(\"Shape\",m.shape)"
   ]
  },
  {
   "cell_type": "code",
   "execution_count": 14,
   "id": "c955d441-49bc-4e08-9c90-a28c7bf7b0b8",
   "metadata": {},
   "outputs": [
    {
     "name": "stdout",
     "output_type": "stream",
     "text": [
      "[[1 2 3]\n",
      " [4 5 6]\n",
      " [7 8 9]\n",
      " [1 2 3]]\n",
      "(4, 3)\n",
      "[[1 2 3 7 8 9]\n",
      " [4 5 6 1 2 3]]\n",
      "(2, 6)\n"
     ]
    }
   ],
   "source": [
    "n=np.array([1,2,3,4,5,6]).reshape(2,3)\n",
    "m=np.array([7,8,9,1,2,3]).reshape(2,3)\n",
    "a=np.concatenate((n,m),axis=0)\n",
    "print(a)\n",
    "print(a.shape)\n",
    "a=np.concatenate((n,m),axis=1)\n",
    "print(a)\n",
    "print(a.shape)"
   ]
  },
  {
   "cell_type": "code",
   "execution_count": 15,
   "id": "d06b0bca-0444-424c-b46e-7ec1dccf3fc3",
   "metadata": {},
   "outputs": [
    {
     "name": "stdout",
     "output_type": "stream",
     "text": [
      "[[1 2 3]\n",
      " [4 5 6]\n",
      " [7 8 9]\n",
      " [1 2 3]]\n",
      "[[1 2 3 7 8 9]\n",
      " [4 5 6 1 2 3]]\n"
     ]
    }
   ],
   "source": [
    "n=np.array([1,2,3,4,5,6]).reshape(2,3)\n",
    "m=np.array([7,8,9,1,2,3]).reshape(2,3)\n",
    "a=np.vstack((n,m))\n",
    "print(a)\n",
    "a=np.hstack((n,m))\n",
    "print(a)"
   ]
  },
  {
   "cell_type": "code",
   "execution_count": 16,
   "id": "1911c16d-5dcb-44a9-b257-602b89d1f850",
   "metadata": {},
   "outputs": [
    {
     "data": {
      "text/plain": [
       "array([[1., 2., 3.],\n",
       "       [4., 5., 6.]])"
      ]
     },
     "execution_count": 16,
     "metadata": {},
     "output_type": "execute_result"
    }
   ],
   "source": [
    "n=np.array([1,2,3,4,5,6],dtype=\"float\").reshape(2,3)\n",
    "n"
   ]
  },
  {
   "cell_type": "code",
   "execution_count": 17,
   "id": "64aad6f0-a957-423e-b260-f01c7b705e15",
   "metadata": {},
   "outputs": [
    {
     "name": "stdout",
     "output_type": "stream",
     "text": [
      "[1 2 3]\n",
      "[1 2 3 4 5 6 7]\n",
      "[ 1  2 10 11 12 13 14  3  4  5  6  7]\n",
      "[ 1  2 14  3  4  5  6  7]\n"
     ]
    }
   ],
   "source": [
    "n=np.array([1,2,3]) \n",
    "print(n)\n",
    "a=np.append(n,[4,5,6,7]) # added elements at the end\n",
    "print(a)\n",
    "i=np.insert(a,2,[10,11,12,13,14]) # added elements at the given index\n",
    "print(i)\n",
    "d=np.delete(i,[2,3,4,5]) # deletes numbers on the mentioned indexes\n",
    "print(d)"
   ]
  },
  {
   "cell_type": "code",
   "execution_count": 18,
   "id": "83bb583d-c5e3-4015-bee7-b11350345db4",
   "metadata": {},
   "outputs": [
    {
     "data": {
      "text/plain": [
       "array([1, 3, 5, 7, 9])"
      ]
     },
     "execution_count": 18,
     "metadata": {},
     "output_type": "execute_result"
    }
   ],
   "source": [
    "a=np.arange(1,11,2)\n",
    "a"
   ]
  },
  {
   "cell_type": "code",
   "execution_count": 19,
   "id": "5a732d4d-92cc-4c80-afb2-7391de2211a9",
   "metadata": {},
   "outputs": [
    {
     "name": "stdout",
     "output_type": "stream",
     "text": [
      "[[20 21]\n",
      " [22 23]\n",
      " [24 25]\n",
      " [26 27]\n",
      " [28 29]]\n",
      "23\n"
     ]
    }
   ],
   "source": [
    "a=np.arange(20,30).reshape(5,2) # method chaining\n",
    "print(a)\n",
    "#25 --\n",
    "print(a[1,1]) # indexing"
   ]
  },
  {
   "cell_type": "code",
   "execution_count": 20,
   "id": "82712bbc-5769-4bb9-9278-6149296ca946",
   "metadata": {},
   "outputs": [
    {
     "name": "stdout",
     "output_type": "stream",
     "text": [
      "[[ 1  2  3  4]\n",
      " [ 5  6  7  8]\n",
      " [ 9 10 11 12]\n",
      " [13 14 15 16]]\n",
      "[[ 5  6  7  8]\n",
      " [ 9 10 11 12]]\n",
      "[[ 2  3]\n",
      " [ 6  7]\n",
      " [10 11]\n",
      " [14 15]]\n",
      "[[ 6  7]\n",
      " [10 11]]\n"
     ]
    }
   ],
   "source": [
    "b=np.arange(1,17).reshape(4,4)\n",
    "print(b)\n",
    "# [[6 7]\n",
    "#   [10 11]]\n",
    "print(b[1:3,:]) # slicing\n",
    "\n",
    "print(b[:,1:3])\n",
    "print(b[1:3,1:3])"
   ]
  },
  {
   "cell_type": "code",
   "execution_count": 21,
   "id": "5fe1c74e-3285-4473-b3dd-597dca0f5c80",
   "metadata": {},
   "outputs": [
    {
     "name": "stdout",
     "output_type": "stream",
     "text": [
      "[[1 2 3]\n",
      " [4 5 6]]\n",
      "21 3.5 1.707825127659933 2.9166666666666665 720 6 1 [ 1  3  6 10 15 21]\n"
     ]
    }
   ],
   "source": [
    "b=np.arange(1,7).reshape(2,3)\n",
    "print(b)\n",
    "print(b.sum(),b.mean(),b.std(),b.var(),b.prod(),b.max(),b.min(),b.cumsum())\n",
    "# sum is giving total, mean-- average,std--standard deviation,var -- variance\n",
    "\n"
   ]
  },
  {
   "cell_type": "code",
   "execution_count": 22,
   "id": "ed4f6f18-b9b1-4b77-9600-f86c9fd32a30",
   "metadata": {},
   "outputs": [
    {
     "name": "stdout",
     "output_type": "stream",
     "text": [
      "[[2 4]\n",
      " [6 8]]\n",
      "[[ 1  4]\n",
      " [ 9 16]]\n"
     ]
    }
   ],
   "source": [
    "a=np.array([1,2,3,4]).reshape(2,2)\n",
    "b=np.array([1,2,3,4]).reshape(2,2)\n",
    "print(a+b)\n",
    "print(a*b)"
   ]
  },
  {
   "cell_type": "code",
   "execution_count": 45,
   "id": "0000d816-22e6-4df3-93dd-e2b8e8f93869",
   "metadata": {},
   "outputs": [
    {
     "data": {
      "text/plain": [
       "array([[ 7, 10],\n",
       "       [15, 22]])"
      ]
     },
     "execution_count": 45,
     "metadata": {},
     "output_type": "execute_result"
    }
   ],
   "source": [
    "np.dot(a,b)"
   ]
  },
  {
   "cell_type": "code",
   "execution_count": null,
   "id": "0a549df4-1358-497d-8253-57fab9c1aee9",
   "metadata": {},
   "outputs": [],
   "source": []
  }
 ],
 "metadata": {
  "kernelspec": {
   "display_name": "Python 3 (ipykernel)",
   "language": "python",
   "name": "python3"
  },
  "language_info": {
   "codemirror_mode": {
    "name": "ipython",
    "version": 3
   },
   "file_extension": ".py",
   "mimetype": "text/x-python",
   "name": "python",
   "nbconvert_exporter": "python",
   "pygments_lexer": "ipython3",
   "version": "3.12.4"
  }
 },
 "nbformat": 4,
 "nbformat_minor": 5
}
