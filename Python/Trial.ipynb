{
 "cells": [
  {
   "cell_type": "code",
   "execution_count": null,
   "id": "1b536dea-8c15-4dcc-a570-74ae71d6b59e",
   "metadata": {},
   "outputs": [],
   "source": [
    "# find user input number is prime or not\n",
    "# prime number ? a number divisible by 1 or by itself"
   ]
  },
  {
   "cell_type": "code",
   "execution_count": 11,
   "id": "fc54c994-bc40-4514-a516-1abb13527fa7",
   "metadata": {},
   "outputs": [
    {
     "name": "stdout",
     "output_type": "stream",
     "text": [
      "Its a prime number\n"
     ]
    }
   ],
   "source": [
    "x=int(input(\"Enter a number : \")\n",
    "for i in range(2,x):\n",
    "    if x%i==0:\n",
    "        print(\"Its not a prime number\")\n",
    "        break\n",
    "else:\n",
    "    print(\"Its a prime number\")"
   ]
  },
  {
   "cell_type": "code",
   "execution_count": 29,
   "id": "b4c0de95-bada-4a02-8ab4-24107f44b954",
   "metadata": {},
   "outputs": [
    {
     "name": "stdout",
     "output_type": "stream",
     "text": [
      "[1, 2, 3, 5, 7, 11, 13, 17, 19, 23, 29, 31, 37, 41, 43, 47, 53, 59, 61, 67, 71, 73, 79, 83, 89, 97]\n"
     ]
    }
   ],
   "source": [
    "def f(x):\n",
    "    for i in range(2,x):\n",
    "        if x%i==0:\n",
    "            return False\n",
    "    else:\n",
    "        return True\n",
    "#n=int(input(\"Enter a number : \"))\n",
    "l=[i for i in range(1,101) if f(i)]\n",
    "print(l)"
   ]
  },
  {
   "cell_type": "code",
   "execution_count": 59,
   "id": "a1c4b667-df27-4d89-a0f8-896f1372c367",
   "metadata": {},
   "outputs": [
    {
     "name": "stdout",
     "output_type": "stream",
     "text": [
      "[2, 3, 5, 7, 11, 13, 17, 19, 23, 29, 31, 37, 41, 43, 47, 53, 59, 61, 67, 71, 73, 79, 83, 89, 97]\n"
     ]
    }
   ],
   "source": [
    "l=[]\n",
    "for k in range(2,101):\n",
    "    for i in range(2,k):\n",
    "        if k%i==0:\n",
    "            break\n",
    "    else:\n",
    "        l.append(k)\n",
    "print(l)"
   ]
  },
  {
   "cell_type": "code",
   "execution_count": null,
   "id": "e430c33e-3c27-456b-b6cb-5725677f4261",
   "metadata": {},
   "outputs": [],
   "source": []
  }
 ],
 "metadata": {
  "kernelspec": {
   "display_name": "Python 3 (ipykernel)",
   "language": "python",
   "name": "python3"
  },
  "language_info": {
   "codemirror_mode": {
    "name": "ipython",
    "version": 3
   },
   "file_extension": ".py",
   "mimetype": "text/x-python",
   "name": "python",
   "nbconvert_exporter": "python",
   "pygments_lexer": "ipython3",
   "version": "3.12.4"
  }
 },
 "nbformat": 4,
 "nbformat_minor": 5
}
