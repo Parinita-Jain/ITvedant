{
 "cells": [
  {
   "cell_type": "code",
   "execution_count": 3,
   "id": "b1afda49-ad82-4961-91b9-1345197160b9",
   "metadata": {},
   "outputs": [
    {
     "name": "stdout",
     "output_type": "stream",
     "text": [
      "32\n",
      "4\n",
      "Common error\n"
     ]
    }
   ],
   "source": [
    "try:\n",
    "    l=[1,34,56,32,7]\n",
    "    print(l[3])\n",
    "    d={1:1,2:4}\n",
    "    print(d[2])\n",
    "    a=l/\"b\"\n",
    "except IndexError as e:\n",
    "    print(e)\n",
    "except KeyError as e:\n",
    "    print(f\"key {e} doesnot exist in dictionary\")\n",
    "except Exception as e:\n",
    "    print(\"Common error\")"
   ]
  },
  {
   "cell_type": "code",
   "execution_count": 4,
   "id": "5b6b3232-d5a6-4c7a-8637-ca07aee29f05",
   "metadata": {},
   "outputs": [
    {
     "data": {
      "text/plain": [
       "'\\nPattern Meaning Example Matches\\n.                a.c    abc,axc\\n^                ^Hi    Hi ! How are you?\\n$                end$   till the end\\n*                lo*    l,lo,loo,looo,loooo\\n+                lo+    lo,looo,looo\\n?                lo?    l,lo\\n{n}              a{3}   aaa\\n{n,m}            a{2,4} aa,aaa,aaaa\\n[]               [aeiou] either a or e or i or o or u\\n[^]              [^0-9] \\n()               (ab)   ababababa,ab\\n'"
      ]
     },
     "execution_count": 4,
     "metadata": {},
     "output_type": "execute_result"
    }
   ],
   "source": [
    "'''\n",
    "Pattern Meaning Example Matches\n",
    ".                a.c    abc,axc\n",
    "^                ^Hi    Hi ! How are you?\n",
    "$                end$   till the end\n",
    "*                lo*    l,lo,loo,looo,loooo\n",
    "+                lo+    lo,looo,looo\n",
    "?                lo?    l,lo\n",
    "{n}              a{3}   aaa\n",
    "{n,m}            a{2,4} aa,aaa,aaaa\n",
    "[]               [aeiou] either a or e or i or o or u\n",
    "[^]              [^0-9] \n",
    "()               (ab)   ababababa,ab\n",
    "'''"
   ]
  },
  {
   "cell_type": "code",
   "execution_count": 5,
   "id": "878bcf9f-d6ea-4047-8376-b4d9747efff8",
   "metadata": {},
   "outputs": [
    {
     "data": {
      "text/plain": [
       "'\\nre.search() \\nre.match()\\nre.findall()\\nre.sub()\\nre.split()\\n'"
      ]
     },
     "execution_count": 5,
     "metadata": {},
     "output_type": "execute_result"
    }
   ],
   "source": [
    "'''\n",
    "re.search() \n",
    "re.match()\n",
    "re.findall()\n",
    "re.sub()\n",
    "re.split()\n",
    "'''"
   ]
  },
  {
   "cell_type": "code",
   "execution_count": 6,
   "id": "958774a4-2503-44a1-b4ad-24c9d8ce7f88",
   "metadata": {},
   "outputs": [
    {
     "data": {
      "text/plain": [
       "'\\n\\\\d Digits(0-9) \\\\d? 0988\\n\\\\D  \\\\D+ abcui\\n\\\\w (a-zA-Z0-9_)\\n\\\\W Non-word character\\n\\\\s+\\n\\\\S\\n'"
      ]
     },
     "execution_count": 6,
     "metadata": {},
     "output_type": "execute_result"
    }
   ],
   "source": [
    "'''\n",
    "\\d Digits(0-9) \\d? 0988\n",
    "\\D  \\D+ abcui\n",
    "\\w (a-zA-Z0-9_)\n",
    "\\W Non-word character\n",
    "\\s+\n",
    "\\S\n",
    "'''"
   ]
  },
  {
   "cell_type": "code",
   "execution_count": 7,
   "id": "1fcd7061-b4dd-40ad-a291-9b05193aa72f",
   "metadata": {},
   "outputs": [],
   "source": [
    "import re"
   ]
  },
  {
   "cell_type": "code",
   "execution_count": 8,
   "id": "aecda568-b35a-4944-9d80-059b3755300d",
   "metadata": {},
   "outputs": [
    {
     "data": {
      "text/plain": [
       "['A', 'Hi ', ' Cat sat ', ' on a mat']"
      ]
     },
     "execution_count": 8,
     "metadata": {},
     "output_type": "execute_result"
    }
   ],
   "source": [
    "pattern=re.compile('[\\w\\s]+')\n",
    "text=\"A|Hi ! Cat sat ; on a mat\"\n",
    "re.findall(pattern,text)"
   ]
  },
  {
   "cell_type": "code",
   "execution_count": 9,
   "id": "7baf294c-f74b-45ab-b735-9ddca2eef32a",
   "metadata": {},
   "outputs": [
    {
     "name": "stdout",
     "output_type": "stream",
     "text": [
      "Match found  Hello\n"
     ]
    }
   ],
   "source": [
    "text=\"Hello World Hello !!\"\n",
    "pattern=r\"Hello\"\n",
    "match=re.match(pattern,text)\n",
    "if match:\n",
    "    print(\"Match found \",match.group())\n",
    "else:\n",
    "    print(\"Match not found\")"
   ]
  },
  {
   "cell_type": "code",
   "execution_count": 10,
   "id": "575428d5-3583-42c9-bc68-add28bd8ad98",
   "metadata": {},
   "outputs": [
    {
     "name": "stdout",
     "output_type": "stream",
     "text": [
      "fox\n"
     ]
    }
   ],
   "source": [
    "text=\"the newfile quick brown Fox jumps over lazy dog fox Fox\"\n",
    "pattern=r\"fox\"\n",
    "sea=re.search(pattern,text)\n",
    "print(sea.group())"
   ]
  },
  {
   "cell_type": "code",
   "execution_count": 11,
   "id": "87d92276-8fb8-4c10-ac49-93ff263ce95b",
   "metadata": {},
   "outputs": [
    {
     "name": "stdout",
     "output_type": "stream",
     "text": [
      "['fox', 'fox', 'fox']\n"
     ]
    }
   ],
   "source": [
    "text=\"the newfile quick brown fox jumps over lazy dog fox fox\"\n",
    "pattern=r\"fox\"\n",
    "sea=re.findall(pattern,text)\n",
    "print(sea)"
   ]
  },
  {
   "cell_type": "code",
   "execution_count": 12,
   "id": "54755aa5-8f1f-481d-9329-9afdde58e41b",
   "metadata": {},
   "outputs": [
    {
     "name": "stdout",
     "output_type": "stream",
     "text": [
      "['8898989898', '9797979797']\n"
     ]
    }
   ],
   "source": [
    "text=\"Call me at 8898989898 or 9797979797\"\n",
    "pattern=r\"[6-9]{1}\\d{9}\"\n",
    "sea=re.findall(pattern,text)\n",
    "print(sea)"
   ]
  },
  {
   "cell_type": "code",
   "execution_count": 13,
   "id": "c225ca7a-a97f-4671-97ae-ac523280bab8",
   "metadata": {},
   "outputs": [
    {
     "name": "stdin",
     "output_type": "stream",
     "text": [
      "Enter phone number :  34\n"
     ]
    },
    {
     "name": "stdout",
     "output_type": "stream",
     "text": [
      "Invalid phone number\n"
     ]
    }
   ],
   "source": [
    "pattern=r\"[6-9]{1}\\d{9}\"\n",
    "p=input(\"Enter phone number : \")\n",
    "if len(p)==10:\n",
    "    sea=re.findall(pattern,p)\n",
    "    print(sea)\n",
    "    if sea:\n",
    "        print(\"Valid phone number\")\n",
    "    else:\n",
    "        print(\"Invalid phone number\")\n",
    "else:\n",
    "    print(\"Invalid phone number\")\n",
    "    "
   ]
  },
  {
   "cell_type": "code",
   "execution_count": 19,
   "id": "ffc01d3f-b9c7-45b1-b004-daa9999195e6",
   "metadata": {},
   "outputs": [
    {
     "name": "stdout",
     "output_type": "stream",
     "text": [
      "12\n",
      "['12', '456456']\n"
     ]
    }
   ],
   "source": [
    "text=\"My birth date is 12th and pin is 456456\"\n",
    "pattern=r\"\\d+\"\n",
    "sea=re.search(pattern,text)\n",
    "print(sea.group())\n",
    "pattern=r\"\\d+\"\n",
    "sea=re.findall(pattern,text)\n",
    "print(sea)"
   ]
  },
  {
   "cell_type": "code",
   "execution_count": 23,
   "id": "9e95ff47-ea98-4a90-a5e3-d9e06041899d",
   "metadata": {},
   "outputs": [
    {
     "name": "stdout",
     "output_type": "stream",
     "text": [
      "kiwi banana grapes kiwi kiwis\n"
     ]
    }
   ],
   "source": [
    "text=\"orange banana grapes orange oranges\"\n",
    "s=\"kiwi\"\n",
    "replaced_text=re.sub(\"orange\",s,text)\n",
    "print(replaced_text)"
   ]
  },
  {
   "cell_type": "code",
   "execution_count": 25,
   "id": "0e6536e4-08d0-4739-b68a-d96661d8ca67",
   "metadata": {},
   "outputs": [
    {
     "data": {
      "text/plain": [
       "['orange', 'banana', 'grapes', ';', 'orange', 'oranges']"
      ]
     },
     "execution_count": 25,
     "metadata": {},
     "output_type": "execute_result"
    }
   ],
   "source": [
    "text=\"orange banana grapes ; orange oranges\"\n",
    "s=\"kiwi\"\n",
    "t=re.split(\" \",text)\n",
    "t"
   ]
  },
  {
   "cell_type": "code",
   "execution_count": 30,
   "id": "73623db2-c9a8-4c3f-914a-4e7fc08f72dd",
   "metadata": {},
   "outputs": [
    {
     "name": "stdin",
     "output_type": "stream",
     "text": [
      "Enter email id :  abc\n"
     ]
    },
    {
     "name": "stdout",
     "output_type": "stream",
     "text": [
      "Invalid email id\n"
     ]
    }
   ],
   "source": [
    "pattern=r'[\\w\\.]+@[a-zA-Z]+\\.[a-zA-Z]{2,3}'\n",
    "#text=\"abc@gmail.com  def.@outlook.com \"\n",
    "#text=\"abcgmail.com\"\n",
    "#re.findall(pattern,text)\n",
    "e=input(\"Enter email id : \")\n",
    "valid=re.findall(pattern,e)\n",
    "if valid:\n",
    "    print(\"Email id is valid \",valid)\n",
    "else:\n",
    "    print(\"Invalid email id\")"
   ]
  },
  {
   "cell_type": "code",
   "execution_count": null,
   "id": "eae548a7-94e2-4367-bc81-5f2bf0734cf0",
   "metadata": {},
   "outputs": [],
   "source": []
  }
 ],
 "metadata": {
  "kernelspec": {
   "display_name": "Python 3 (ipykernel)",
   "language": "python",
   "name": "python3"
  },
  "language_info": {
   "codemirror_mode": {
    "name": "ipython",
    "version": 3
   },
   "file_extension": ".py",
   "mimetype": "text/x-python",
   "name": "python",
   "nbconvert_exporter": "python",
   "pygments_lexer": "ipython3",
   "version": "3.13.5"
  }
 },
 "nbformat": 4,
 "nbformat_minor": 5
}
