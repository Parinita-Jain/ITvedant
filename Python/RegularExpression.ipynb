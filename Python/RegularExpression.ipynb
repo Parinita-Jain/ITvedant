{
 "cells": [
  {
   "cell_type": "markdown",
   "id": "7877419c-3694-4517-91d9-90ecc22b6c07",
   "metadata": {},
   "source": [
    "'''\n",
    "[] --\n",
    ". -- \n",
    "^ -- \n",
    "$ -- \n",
    "+ --\n",
    "* --\n",
    "? --\n",
    "{n,m} -- n:, m:\n",
    "() --\n",
    "\\ --\n",
    "| -- or operator\n",
    "\n",
    "Special Characters:\n",
    "\\A\n",
    "\\Z --\n",
    "\\d -- [0-9]\n",
    "\\w -- \n",
    "\n",
    "'''"
   ]
  },
  {
   "cell_type": "code",
   "execution_count": 8,
   "id": "69ae70c5-4980-44a9-98b1-2449433fa79a",
   "metadata": {},
   "outputs": [
    {
     "data": {
      "text/plain": [
       "'[a-zA-Z0-9_]'"
      ]
     },
     "execution_count": 8,
     "metadata": {},
     "output_type": "execute_result"
    }
   ],
   "source": [
    "'''[a-zA-Z0-9_]'''"
   ]
  },
  {
   "cell_type": "code",
   "execution_count": 9,
   "id": "d47fc3e2-0530-409f-b190-9bb19447a2a9",
   "metadata": {},
   "outputs": [],
   "source": [
    "import re"
   ]
  },
  {
   "cell_type": "code",
   "execution_count": 82,
   "id": "ec49a6f7-6f56-4dbf-8a2d-5209aa5a5b93",
   "metadata": {},
   "outputs": [
    {
     "data": {
      "text/plain": [
       "[' ! ', ' ! ', ' !! ', '\\x07', ' ', ' ', ' ', ' ', '. ', ' ', ' ', ' ']"
      ]
     },
     "execution_count": 82,
     "metadata": {},
     "output_type": "execute_result"
    }
   ],
   "source": [
    "#pattern=re.compile('[abc]')\n",
    "pattern=re.compile('[^a-zA-Z0-9_]+')\n",
    "#pattern=re.compile('\\\\W+')\n",
    "s=\"Oh ! Hello ! Hi !! is\\are My name Is Zambo. My age is 18\"\n",
    "re.findall(pattern,s)"
   ]
  },
  {
   "cell_type": "code",
   "execution_count": 91,
   "id": "ad1be168-a277-4081-bb34-2c0c4d34c83a",
   "metadata": {},
   "outputs": [
    {
     "data": {
      "text/plain": [
       "['alias']"
      ]
     },
     "execution_count": 91,
     "metadata": {},
     "output_type": "execute_result"
    }
   ],
   "source": [
    "pattern=re.compile('^a...s$')\n",
    "w=\"alias\"\n",
    "re.findall(pattern,w)"
   ]
  },
  {
   "cell_type": "code",
   "execution_count": 117,
   "id": "09265106-108d-4d97-a331-c6c1e74afea5",
   "metadata": {},
   "outputs": [
    {
     "data": {
      "text/plain": [
       "['mae']"
      ]
     },
     "execution_count": 117,
     "metadata": {},
     "output_type": "execute_result"
    }
   ],
   "source": [
    "#pattern=re.compile('^m[a-z]*e$')\n",
    "pattern=re.compile('^m[a-z]?e$')\n",
    "w=\"mae\"\n",
    "re.findall(pattern,w)"
   ]
  },
  {
   "cell_type": "code",
   "execution_count": 129,
   "id": "d6f08cb5-b013-4ef1-b170-5248d9608068",
   "metadata": {},
   "outputs": [
    {
     "data": {
      "text/plain": [
       "['hi', 'Am', 'stud', 'ying', 'Pyth', 'on']"
      ]
     },
     "execution_count": 129,
     "metadata": {},
     "output_type": "execute_result"
    }
   ],
   "source": [
    "pattern=re.compile('[a-zA-Z]{2,4}')\n",
    "w=\"hi I Am studying Python\"\n",
    "re.findall(pattern,w)"
   ]
  },
  {
   "cell_type": "code",
   "execution_count": 141,
   "id": "c40f6cd6-027d-4682-b14c-a308482c65ea",
   "metadata": {},
   "outputs": [
    {
     "name": "stdin",
     "output_type": "stream",
     "text": [
      "Enter mobile number :  9098909890\n"
     ]
    },
    {
     "name": "stdout",
     "output_type": "stream",
     "text": [
      "Its a Indian Mobile Number\n"
     ]
    }
   ],
   "source": [
    "pattern=re.compile('[6-9]{1}[0-9]{9}') #\\d\n",
    "num=input(\"Enter mobile number : \")\n",
    "if len(num)==10:\n",
    "    if re.match(pattern,num):\n",
    "        print(\"Its a Indian Mobile Number\")\n",
    "    else:\n",
    "        print(\"Its not an Indian Mobile Number\")\n",
    "else:\n",
    "    print(\"Its not an Indian Mobile Number\")"
   ]
  },
  {
   "cell_type": "code",
   "execution_count": 163,
   "id": "18ff7b41-d635-4f94-bd27-8d367f1222ac",
   "metadata": {},
   "outputs": [
    {
     "name": "stdout",
     "output_type": "stream",
     "text": [
      "Pattern found World\n"
     ]
    }
   ],
   "source": [
    "text=\"Hello World World is better place!\"\n",
    "s=re.search(\"World\",text)\n",
    "if s:\n",
    "    print(\"Pattern found\",s.group())\n",
    "else:\n",
    "    print(\"Pattern not found\")"
   ]
  },
  {
   "cell_type": "code",
   "execution_count": 157,
   "id": "4b6df9e0-ccd6-45e8-935e-35a6983e1b08",
   "metadata": {},
   "outputs": [
    {
     "name": "stdout",
     "output_type": "stream",
     "text": [
      "['1 2', ' 3 4 5', '6 7 8 9', ' 0 000000']\n"
     ]
    }
   ],
   "source": [
    "text=\"1 2; 3 4 5;6 7 8 9; 0 000000\"\n",
    "parts=re.split(\";\",text)\n",
    "print(parts)"
   ]
  },
  {
   "cell_type": "code",
   "execution_count": 177,
   "id": "a968bbd8-49c3-4a5e-8591-a8f66ee7d108",
   "metadata": {},
   "outputs": [
    {
     "name": "stdout",
     "output_type": "stream",
     "text": [
      "I like mobile\n"
     ]
    }
   ],
   "source": [
    "text=\"I like cake\"\n",
    "result=re.sub(\"cake\",\"mobile\",text)\n",
    "print(result)"
   ]
  },
  {
   "cell_type": "code",
   "execution_count": null,
   "id": "f5742bcf-2c3f-4f1e-898c-bfbd2639beeb",
   "metadata": {},
   "outputs": [],
   "source": [
    "\n",
    "\n"
   ]
  },
  {
   "cell_type": "code",
   "execution_count": null,
   "id": "7d5699f6-5d87-4fb1-bcc0-4f52f81885e1",
   "metadata": {},
   "outputs": [],
   "source": [
    "\n"
   ]
  },
  {
   "cell_type": "code",
   "execution_count": null,
   "id": "4b06eb92-5d7e-43bb-81b0-da11f3177b5c",
   "metadata": {},
   "outputs": [],
   "source": []
  },
  {
   "cell_type": "code",
   "execution_count": null,
   "id": "f305a459-b923-4546-a0de-7fa6c4b46710",
   "metadata": {},
   "outputs": [],
   "source": []
  },
  {
   "cell_type": "code",
   "execution_count": null,
   "id": "2f6851fe-e018-46a3-8937-61494acf0a2b",
   "metadata": {},
   "outputs": [],
   "source": [
    "\n"
   ]
  }
 ],
 "metadata": {
  "kernelspec": {
   "display_name": "Python 3 (ipykernel)",
   "language": "python",
   "name": "python3"
  },
  "language_info": {
   "codemirror_mode": {
    "name": "ipython",
    "version": 3
   },
   "file_extension": ".py",
   "mimetype": "text/x-python",
   "name": "python",
   "nbconvert_exporter": "python",
   "pygments_lexer": "ipython3",
   "version": "3.12.4"
  }
 },
 "nbformat": 4,
 "nbformat_minor": 5
}
