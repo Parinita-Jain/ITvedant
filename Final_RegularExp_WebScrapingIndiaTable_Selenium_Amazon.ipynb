{
  "cells": [
    {
      "cell_type": "markdown",
      "metadata": {
        "id": "view-in-github",
        "colab_type": "text"
      },
      "source": [
        "<a href=\"https://colab.research.google.com/github/Parinita-Jain/ITvedant/blob/main/Final_RegularExp_WebScrapingIndiaTable_Selenium_Amazon.ipynb\" target=\"_parent\"><img src=\"https://colab.research.google.com/assets/colab-badge.svg\" alt=\"Open In Colab\"/></a>"
      ]
    },
    {
      "cell_type": "code",
      "execution_count": null,
      "id": "9a61d5cc-797c-462b-acaf-e0528a9c1794",
      "metadata": {
        "colab": {
          "base_uri": "https://localhost:8080/",
          "height": 126
        },
        "id": "9a61d5cc-797c-462b-acaf-e0528a9c1794",
        "outputId": "dd5a5b05-776c-45e1-f085-ec376444afa1"
      },
      "outputs": [
        {
          "output_type": "execute_result",
          "data": {
            "text/plain": [
              "\"\\nRegular Expression\\n----------------------------------------------------\\nIs character of sequence that defines a search pattern.\\n\\n\\nLet's say these values are my phone numbers. We need to check if the given pattern is a valid phone number :\\n\\n1234567899\\n2846749689\\n74785645746578\\nInvalid\\n\\n6878348595\\n7983495840\\nvalid\\n\\n# checking valid email\\nsometext@sometext.extension\\n\\n1234 1234 1234 1234  # numbers check for a valid aadhar card.\\n\\nWhat is a pattern ? A pattern defined using RegEx (i.e regular expression) can be used to match against a string\\n\\ne.g.\\n\\n^a...s$ ==> string should be of only 5 characters, start with a and end with s and in between a and s there can any 3 characters.\\n\\nalias ===> match\\nannes ===> match\\nAlias ===> no match\\nads ===> no match\\n\\n---------------------------------------\\n\\nPython we use the module re to work with RegEx.\\n\\nPattern of the RegEx is made of metacharacters\\n\\n[] - Sqaure brackets - set of character you wish to match and can also give range of character\\n. - Dot/Period - indicate single character\\n^ - Caret - check if the string starts with a certain character\\n$ - Dollar  - check if the string ends with a certain character\\n+ - Plus - match one or more occurances\\n* - Star - match zero or more occurances\\n? - Question Mark - match zero or one occurance\\n{} - Braces{n,m}\\nn -> Atleast number of occurances\\nm -> Atmost number of occurances\\n() - Group - Group of sub pattern\\n\\\\ - Backslash - escape special meaning that RegEx apply on the metacharacter\\n| - Alternation (or operator)\\n\\nSpecial Characters\\n\\\\A - match if the specified characters are at the start of the string\\n\\\\Z - match if the specified characters are at the end of the string\\n\\\\d - match digits same as [0-9]\\n\\\\w - match any alphanumeric characters same as [a-zA-Z0-9_]\\n\""
            ],
            "application/vnd.google.colaboratory.intrinsic+json": {
              "type": "string"
            }
          },
          "metadata": {},
          "execution_count": 1
        }
      ],
      "source": [
        "'''\n",
        "Regular Expression\n",
        "----------------------------------------------------\n",
        "Is character of sequence that defines a search pattern.\n",
        "\n",
        "\n",
        "Let's say these values are my phone numbers. We need to check if the given pattern is a valid phone number :\n",
        "\n",
        "1234567899\n",
        "2846749689\n",
        "74785645746578\n",
        "Invalid\n",
        "\n",
        "6878348595\n",
        "7983495840\n",
        "valid\n",
        "\n",
        "# checking valid email\n",
        "sometext@sometext.extension\n",
        "\n",
        "1234 1234 1234 1234  # numbers check for a valid aadhar card.\n",
        "\n",
        "What is a pattern ? A pattern defined using RegEx (i.e regular expression) can be used to match against a string\n",
        "\n",
        "e.g.\n",
        "\n",
        "^a...s$ ==> string should be of only 5 characters, start with a and end with s and in between a and s there can any 3 characters.\n",
        "\n",
        "alias ===> match\n",
        "annes ===> match\n",
        "Alias ===> no match\n",
        "ads ===> no match\n",
        "\n",
        "---------------------------------------\n",
        "\n",
        "Python we use the module re to work with RegEx.\n",
        "\n",
        "Pattern of the RegEx is made of metacharacters\n",
        "\n",
        "[] - Sqaure brackets - set of character you wish to match and can also give range of character\n",
        ". - Dot/Period - indicate single character\n",
        "^ - Caret - check if the string starts with a certain character\n",
        "$ - Dollar  - check if the string ends with a certain character\n",
        "+ - Plus - match one or more occurances\n",
        "* - Star - match zero or more occurances\n",
        "? - Question Mark - match zero or one occurance\n",
        "{} - Braces{n,m}\n",
        "n -> Atleast number of occurances\n",
        "m -> Atmost number of occurances\n",
        "() - Group - Group of sub pattern\n",
        "\\ - Backslash - escape special meaning that RegEx apply on the metacharacter\n",
        "| - Alternation (or operator)\n",
        "\n",
        "Special Characters\n",
        "\\A - match if the specified characters are at the start of the string\n",
        "\\Z - match if the specified characters are at the end of the string\n",
        "\\d - match digits same as [0-9]\n",
        "\\w - match any alphanumeric characters same as [a-zA-Z0-9_]\n",
        "'''"
      ]
    },
    {
      "cell_type": "code",
      "execution_count": 2,
      "id": "d9ae1c28-d002-4d7b-b357-2079d192fe19",
      "metadata": {
        "colab": {
          "base_uri": "https://localhost:8080/"
        },
        "id": "d9ae1c28-d002-4d7b-b357-2079d192fe19",
        "outputId": "cac7cf0a-ce2f-4fe1-ce9d-6af10f671d92"
      },
      "outputs": [
        {
          "output_type": "execute_result",
          "data": {
            "text/plain": [
              "['b', 'a', 'c']"
            ]
          },
          "metadata": {},
          "execution_count": 2
        }
      ],
      "source": [
        "import re\n",
        "\n",
        "# with the help of compile first make an expression.\n",
        "\n",
        "pattern=re.compile('[abc]') # in the complete string it will check if the character in string is a , b or c\n",
        "\n",
        "string='basics'\n",
        "\n",
        "result=re.findall(pattern,string)\n",
        "result"
      ]
    },
    {
      "cell_type": "code",
      "execution_count": null,
      "id": "ba32c0d4-e73f-42d8-a470-edd49ccd5b5e",
      "metadata": {
        "colab": {
          "base_uri": "https://localhost:8080/"
        },
        "id": "ba32c0d4-e73f-42d8-a470-edd49ccd5b5e",
        "outputId": "43d5854a-5dc2-4d6c-eddf-6eb141b8f64d"
      },
      "outputs": [
        {
          "output_type": "stream",
          "name": "stdout",
          "text": [
            "['b', 'a', 'c']\n",
            "['a', 'i', 'c']\n",
            "['b', 'a', 'c']\n"
          ]
        }
      ],
      "source": [
        "pattern=re.compile('[a-h]')  # give range of values\n",
        "result=re.findall(pattern,string)\n",
        "print(result)\n",
        "pattern = re.compile('[acit]')\n",
        "result=re.findall(pattern,string)\n",
        "print(result)\n",
        "pattern = re.compile('[a-hA-H]')\n",
        "result=re.findall(pattern,string)\n",
        "print(result)\n"
      ]
    },
    {
      "cell_type": "code",
      "execution_count": null,
      "id": "e346fa0b-f84c-4785-a5f8-37536092ce55",
      "metadata": {
        "colab": {
          "base_uri": "https://localhost:8080/"
        },
        "id": "e346fa0b-f84c-4785-a5f8-37536092ce55",
        "outputId": "7c2aadff-9b95-4656-cd38-5cd45546bd66"
      },
      "outputs": [
        {
          "output_type": "stream",
          "name": "stdout",
          "text": [
            "['3', '3', '1']\n",
            "['7', '8', '4', 'd', 'j', 'f', 'h', 'j']\n",
            "['A', 'A', 'S', 'd', 'j', 'f', 'h', 'j']\n",
            "['3', '7', '8', '3', '1', '4', 'd', 'j', 'f', 'h', 'j']\n"
          ]
        }
      ],
      "source": [
        "pattern = re.compile('[1-3]')\n",
        "string = '378314djfhj'\n",
        "result = re.findall(pattern,string)\n",
        "print(result)\n",
        "\n",
        "pattern = re.compile('[^1-3]')     # ^ means match everything except 1-3\n",
        "string = '378314djfhj'\n",
        "result = re.findall(pattern,string)\n",
        "print(result)\n",
        "\n",
        "pattern = re.compile('[a-zA-Z]')    # match alphabets.\n",
        "string = '37A8AS314djfhj'\n",
        "result = re.findall(pattern,string)\n",
        "print(result)\n",
        "\n",
        "pattern = re.compile('[a-zA-Z0-9]')   # match alphabets and characters\n",
        "string = '378314djfhj'\n",
        "result = re.findall(pattern,string)\n",
        "print(result)"
      ]
    },
    {
      "cell_type": "code",
      "execution_count": null,
      "id": "d06c7cfd-39e8-4336-90dc-ead3dcd6fe94",
      "metadata": {
        "colab": {
          "base_uri": "https://localhost:8080/"
        },
        "id": "d06c7cfd-39e8-4336-90dc-ead3dcd6fe94",
        "outputId": "eb7bef7a-4942-41ea-9549-57d8c0f3087c"
      },
      "outputs": [
        {
          "output_type": "stream",
          "name": "stdout",
          "text": [
            "['ba', 'he']\n",
            "['hi', 'le', 'ill', 'ma', 'he', 'he', 'ei', 'ca', 'al', 'ef', 'ge', 'he', 'le', 'de', 'hich', 'migh', 'gi', 'le']\n"
          ]
        }
      ],
      "source": [
        "'''\n",
        "{} - Braces{n,m}\n",
        "n -> Atleast number of occurances\n",
        "m -> Atmost number of occurances\n",
        "'''\n",
        "pattern = re.compile('[a-h]{2}')\n",
        "string = 'basics of the python'\n",
        "result = re.findall(pattern,string)\n",
        "print(result)\n",
        "\n",
        "pattern = re.compile('[a-m]{2,4}')\n",
        "string = '''This module will automate the browser options wherein we can also refresh and  get the complete HTML\n",
        "            code which might not given properly by using request module'''\n",
        "result = re.findall(pattern,string)\n",
        "print(result)\n"
      ]
    },
    {
      "cell_type": "code",
      "execution_count": null,
      "id": "f082e615-bc0f-4b1b-ab86-23ebfdeb48b5",
      "metadata": {
        "colab": {
          "base_uri": "https://localhost:8080/"
        },
        "id": "f082e615-bc0f-4b1b-ab86-23ebfdeb48b5",
        "outputId": "f1ab72c8-fdc3-4687-acb1-4d7c9a03b4ee"
      },
      "outputs": [
        {
          "output_type": "stream",
          "name": "stdout",
          "text": [
            "Pattern Not Matched\n"
          ]
        }
      ],
      "source": [
        "pattern = re.compile('^a...s$')\n",
        "#string = 'alias'\n",
        "#string = 'annes'\n",
        "string = 'ads'\n",
        "result = re.match(pattern,string) # if match is successful,it returns match object else return none.\n",
        "if result:\n",
        "    print('Pattern Matched')\n",
        "else:\n",
        "    print('Pattern Not Matched')"
      ]
    },
    {
      "cell_type": "code",
      "execution_count": null,
      "id": "6d42dba2-c268-4f3a-9a63-0531edc2d829",
      "metadata": {
        "colab": {
          "base_uri": "https://localhost:8080/"
        },
        "id": "6d42dba2-c268-4f3a-9a63-0531edc2d829",
        "outputId": "4a8c040e-2b3f-43c7-9ade-974e3b9033bb"
      },
      "outputs": [
        {
          "output_type": "stream",
          "name": "stdout",
          "text": [
            "Pattern Not Matched\n"
          ]
        }
      ],
      "source": [
        "#pattern = re.compile('^[d-wD-W]...s$')\n",
        "pattern = re.compile('^[d-wD-W]..[sd]$')#any word starting with d-w\n",
        "#string  = 'winds'\n",
        "#string = 'Beeds'\n",
        "#string = 'dead'\n",
        "string = 'dried'\n",
        "result = re.match(pattern,string)\n",
        "if result:\n",
        "    print('Pattern Matched')\n",
        "else:\n",
        "    print('Pattern Not Matched')"
      ]
    },
    {
      "cell_type": "code",
      "execution_count": null,
      "id": "cd31c626-d1b5-4bde-807f-54f7dc1dfa87",
      "metadata": {
        "colab": {
          "base_uri": "https://localhost:8080/"
        },
        "id": "cd31c626-d1b5-4bde-807f-54f7dc1dfa87",
        "outputId": "98f8e9a4-95f5-449d-ae66-34f901ef074f"
      },
      "outputs": [
        {
          "output_type": "stream",
          "name": "stdout",
          "text": [
            "Pattern Matched\n"
          ]
        }
      ],
      "source": [
        "pattern = re.compile('^m[a-z]*e$')\n",
        "#string = 'me'\n",
        "#string = 'made'\n",
        "string = 'matche'\n",
        "result = re.match(pattern,string)\n",
        "if result:\n",
        "    print('Pattern Matched')\n",
        "else:\n",
        "    print('Pattern Not Matched')\n"
      ]
    },
    {
      "cell_type": "code",
      "execution_count": null,
      "id": "27561e2d-0a71-4be9-8112-f463951f1dac",
      "metadata": {
        "colab": {
          "base_uri": "https://localhost:8080/"
        },
        "id": "27561e2d-0a71-4be9-8112-f463951f1dac",
        "outputId": "f5d239c0-bb0e-4fe3-b04d-142922388c42"
      },
      "outputs": [
        {
          "output_type": "stream",
          "name": "stdout",
          "text": [
            "Pattern Not Matched\n"
          ]
        }
      ],
      "source": [
        "pattern = re.compile('^m[a-z]?e$')\n",
        "#string = 'mae'\n",
        "string = 'made'\n",
        "#string = 'matche'\n",
        "result = re.match(pattern,string)\n",
        "if result:\n",
        "    print('Pattern Matched')\n",
        "else:\n",
        "    print('Pattern Not Matched')"
      ]
    },
    {
      "cell_type": "code",
      "execution_count": 3,
      "id": "1c343f7b-507b-485c-89b6-0f0188f6489b",
      "metadata": {
        "colab": {
          "base_uri": "https://localhost:8080/"
        },
        "id": "1c343f7b-507b-485c-89b6-0f0188f6489b",
        "outputId": "e9d1108d-dc74-4033-cfec-946fec494c28"
      },
      "outputs": [
        {
          "output_type": "stream",
          "name": "stdout",
          "text": [
            "Pattern Not Matched\n"
          ]
        }
      ],
      "source": [
        "pattern = re.compile('com|in|uk|sl')\n",
        "string = 'usa'\n",
        "result = re.match(pattern,string)\n",
        "if result:\n",
        "    print('Pattern Matched')\n",
        "else:\n",
        "    print('Pattern Not Matched')"
      ]
    },
    {
      "cell_type": "code",
      "execution_count": 4,
      "id": "2df04bce-7f00-45ec-b091-a83138e73d5f",
      "metadata": {
        "colab": {
          "base_uri": "https://localhost:8080/"
        },
        "id": "2df04bce-7f00-45ec-b091-a83138e73d5f",
        "outputId": "a34f0421-9e7e-4de1-cbea-51c653e625c1"
      },
      "outputs": [
        {
          "output_type": "stream",
          "name": "stdout",
          "text": [
            "Pattern Matched\n"
          ]
        }
      ],
      "source": [
        "pattern = re.compile('b(com|sc|a|e)')\n",
        "string = 'bsc'\n",
        "result = re.match(pattern,string)\n",
        "if result:\n",
        "    print('Pattern Matched')\n",
        "else:\n",
        "    print('Pattern Not Matched')\n"
      ]
    },
    {
      "cell_type": "code",
      "execution_count": 39,
      "id": "a4dbb0c3-6977-4311-a966-e9954e6a970b",
      "metadata": {
        "colab": {
          "base_uri": "https://localhost:8080/"
        },
        "id": "a4dbb0c3-6977-4311-a966-e9954e6a970b",
        "outputId": "4e7a8666-e2cd-4164-ffa7-1839b62a7d0a"
      },
      "outputs": [
        {
          "output_type": "stream",
          "name": "stdout",
          "text": [
            "Pattern Matched\n"
          ]
        }
      ],
      "source": [
        "pattern = re.compile(r'b\\.(com|sc|e|tech)')\n",
        "string = 'b.echiopjkl'\n",
        "result = re.match(pattern,string)\n",
        "if result:\n",
        "    print('Pattern Matched')\n",
        "else:\n",
        "    print('Pattern Not Matched')"
      ]
    },
    {
      "cell_type": "code",
      "source": [
        "email_pattern = re.compile(r'[\\w]+@[\\w]+\\.[\\w]{2,4}')\n",
        "text = \"\"\"\n",
        "\n",
        "Contact us at support@example.com for more information.\n",
        "\n",
        "You can also reach out to sales@example.commm or marketing@example.net.\n",
        "\n",
        "\"\"\"\n",
        "email_addresses = re.findall(email_pattern, text)\n",
        "print(\"Extracted email addresses:\", email_addresses)"
      ],
      "metadata": {
        "colab": {
          "base_uri": "https://localhost:8080/"
        },
        "id": "QF2BT4_QEAfe",
        "outputId": "8ccaf1a1-d8a0-48fb-ddce-aeb67a204ddf"
      },
      "id": "QF2BT4_QEAfe",
      "execution_count": 58,
      "outputs": [
        {
          "output_type": "stream",
          "name": "stdout",
          "text": [
            "Extracted email addresses: ['support@example.com', 'sales@example.comm', 'marketing@example.net']\n"
          ]
        }
      ]
    },
    {
      "cell_type": "code",
      "execution_count": null,
      "id": "8d436d33-51cc-4499-a52b-142bacb12985",
      "metadata": {
        "colab": {
          "base_uri": "https://localhost:8080/"
        },
        "id": "8d436d33-51cc-4499-a52b-142bacb12985",
        "outputId": "411d5bef-08a2-4cae-83bc-00c8062d6910"
      },
      "outputs": [
        {
          "output_type": "stream",
          "name": "stdout",
          "text": [
            "Pattern Matched\n",
            "Pattern Not Matched\n",
            "Enter you mobile number: 9090909090\n",
            "Valid Number\n"
          ]
        }
      ],
      "source": [
        "\n",
        "pattern = re.compile('\\Am..e\\Z')\n",
        "string = 'made'\n",
        "result = re.match(pattern,string)\n",
        "if result:\n",
        "    print('Pattern Matched')\n",
        "else:\n",
        "    print('Pattern Not Matched')\n",
        "\n",
        "\n",
        "#pattern = re.compile('[0-9]{3}')\n",
        "pattern = re.compile('\\d{10}')\n",
        "string = '94'\n",
        "result = re.match(pattern,string)\n",
        "if result:\n",
        "    print('Pattern Matched')\n",
        "else:\n",
        "    print('Pattern Not Matched')\n",
        "\n",
        "\n",
        "\n",
        "#To check if the user has entered the valid mobile number\n",
        "pattern = re.compile('[6-9]{1}\\d{9}')\n",
        "number = input('Enter you mobile number: ')\n",
        "if(len(number) == 10):\n",
        "    if re.match(pattern,number):\n",
        "        print('Valid Number')\n",
        "    else:\n",
        "        print('Invalid Number')\n",
        "else:\n",
        "    print('Invalid Number')\n",
        "\n"
      ]
    },
    {
      "cell_type": "code",
      "source": [
        "text = \"123 apples, 456 oranges, and 789 bananas\"\n",
        "\n",
        "matches = re.findall(r'\\d+', text)\n",
        "\n",
        "print(matches) # Output: ['123', '456', '789']"
      ],
      "metadata": {
        "colab": {
          "base_uri": "https://localhost:8080/"
        },
        "id": "xvbUE8f9AsvU",
        "outputId": "8f1c0fcc-a6e4-48ce-e6f2-9cd574fa54e2"
      },
      "id": "xvbUE8f9AsvU",
      "execution_count": 26,
      "outputs": [
        {
          "output_type": "stream",
          "name": "stdout",
          "text": [
            "['123', '456', '789']\n"
          ]
        }
      ]
    },
    {
      "cell_type": "code",
      "source": [
        "text = \"Hello, world!\"\n",
        "\n",
        "match = re.search(r'world', text)\n",
        "\n",
        "if match:\n",
        "  print(\"Found:\", match.group()) # Output: Found: world"
      ],
      "metadata": {
        "colab": {
          "base_uri": "https://localhost:8080/"
        },
        "id": "vx704DGYA2Hp",
        "outputId": "2c0dc505-6f5c-4985-fce1-9e133f9a94a7"
      },
      "id": "vx704DGYA2Hp",
      "execution_count": 29,
      "outputs": [
        {
          "output_type": "stream",
          "name": "stdout",
          "text": [
            "Found: world\n"
          ]
        }
      ]
    },
    {
      "cell_type": "code",
      "source": [
        "text = \"one, two, three; four\"\n",
        "\n",
        "parts = re.split(r'[,;]', text)\n",
        "\n",
        "print(parts) # Output: ['one', ' two', ' three', ' four']"
      ],
      "metadata": {
        "colab": {
          "base_uri": "https://localhost:8080/"
        },
        "id": "RsY_QhyGBEzo",
        "outputId": "16f52649-5b85-4b08-8063-c41a0efc5f95"
      },
      "id": "RsY_QhyGBEzo",
      "execution_count": 30,
      "outputs": [
        {
          "output_type": "stream",
          "name": "stdout",
          "text": [
            "['one', ' two', ' three', ' four']\n"
          ]
        }
      ]
    },
    {
      "cell_type": "code",
      "source": [
        "text = \"I like apples\"\n",
        "\n",
        "result = re.sub(r'apples', 'bananas', text)\n",
        "\n",
        "print(result)"
      ],
      "metadata": {
        "colab": {
          "base_uri": "https://localhost:8080/"
        },
        "id": "bRp6Mb5HBRBI",
        "outputId": "0a13ca83-f044-49d3-e5e2-c39938a65c24"
      },
      "id": "bRp6Mb5HBRBI",
      "execution_count": 31,
      "outputs": [
        {
          "output_type": "stream",
          "name": "stdout",
          "text": [
            "I like bananas\n"
          ]
        }
      ]
    },
    {
      "cell_type": "code",
      "execution_count": null,
      "id": "7f1dc6aa-10e9-4573-9014-694bf42e7394",
      "metadata": {
        "colab": {
          "base_uri": "https://localhost:8080/"
        },
        "collapsed": true,
        "id": "7f1dc6aa-10e9-4573-9014-694bf42e7394",
        "outputId": "4ceca968-5f1b-454f-9bd8-80d22cf44478"
      },
      "outputs": [
        {
          "output_type": "stream",
          "name": "stdout",
          "text": [
            "Requirement already satisfied: beautifulsoup4 in /usr/local/lib/python3.10/dist-packages (4.12.3)\n",
            "Requirement already satisfied: soupsieve>1.2 in /usr/local/lib/python3.10/dist-packages (from beautifulsoup4) (2.6)\n",
            "Requirement already satisfied: lxml in /usr/local/lib/python3.10/dist-packages (5.3.0)\n",
            "Requirement already satisfied: requests in /usr/local/lib/python3.10/dist-packages (2.32.3)\n",
            "Requirement already satisfied: charset-normalizer<4,>=2 in /usr/local/lib/python3.10/dist-packages (from requests) (3.4.0)\n",
            "Requirement already satisfied: idna<4,>=2.5 in /usr/local/lib/python3.10/dist-packages (from requests) (3.10)\n",
            "Requirement already satisfied: urllib3<3,>=1.21.1 in /usr/local/lib/python3.10/dist-packages (from requests) (2.2.3)\n",
            "Requirement already satisfied: certifi>=2017.4.17 in /usr/local/lib/python3.10/dist-packages (from requests) (2024.8.30)\n",
            "Collecting selenium\n",
            "  Downloading selenium-4.27.0-py3-none-any.whl.metadata (7.1 kB)\n",
            "Requirement already satisfied: urllib3<3,>=1.26 in /usr/local/lib/python3.10/dist-packages (from urllib3[socks]<3,>=1.26->selenium) (2.2.3)\n",
            "Collecting trio~=0.17 (from selenium)\n",
            "  Downloading trio-0.27.0-py3-none-any.whl.metadata (8.6 kB)\n",
            "Collecting trio-websocket~=0.9 (from selenium)\n",
            "  Downloading trio_websocket-0.11.1-py3-none-any.whl.metadata (4.7 kB)\n",
            "Requirement already satisfied: certifi>=2021.10.8 in /usr/local/lib/python3.10/dist-packages (from selenium) (2024.8.30)\n",
            "Requirement already satisfied: typing_extensions~=4.9 in /usr/local/lib/python3.10/dist-packages (from selenium) (4.12.2)\n",
            "Requirement already satisfied: websocket-client~=1.8 in /usr/local/lib/python3.10/dist-packages (from selenium) (1.8.0)\n",
            "Requirement already satisfied: attrs>=23.2.0 in /usr/local/lib/python3.10/dist-packages (from trio~=0.17->selenium) (24.2.0)\n",
            "Collecting sortedcontainers (from trio~=0.17->selenium)\n",
            "  Downloading sortedcontainers-2.4.0-py2.py3-none-any.whl.metadata (10 kB)\n",
            "Requirement already satisfied: idna in /usr/local/lib/python3.10/dist-packages (from trio~=0.17->selenium) (3.10)\n",
            "Collecting outcome (from trio~=0.17->selenium)\n",
            "  Downloading outcome-1.3.0.post0-py2.py3-none-any.whl.metadata (2.6 kB)\n",
            "Requirement already satisfied: sniffio>=1.3.0 in /usr/local/lib/python3.10/dist-packages (from trio~=0.17->selenium) (1.3.1)\n",
            "Requirement already satisfied: exceptiongroup in /usr/local/lib/python3.10/dist-packages (from trio~=0.17->selenium) (1.2.2)\n",
            "Collecting wsproto>=0.14 (from trio-websocket~=0.9->selenium)\n",
            "  Downloading wsproto-1.2.0-py3-none-any.whl.metadata (5.6 kB)\n",
            "Requirement already satisfied: pysocks!=1.5.7,<2.0,>=1.5.6 in /usr/local/lib/python3.10/dist-packages (from urllib3[socks]<3,>=1.26->selenium) (1.7.1)\n",
            "Requirement already satisfied: h11<1,>=0.9.0 in /usr/local/lib/python3.10/dist-packages (from wsproto>=0.14->trio-websocket~=0.9->selenium) (0.14.0)\n",
            "Downloading selenium-4.27.0-py3-none-any.whl (9.7 MB)\n",
            "\u001b[2K   \u001b[90m━━━━━━━━━━━━━━━━━━━━━━━━━━━━━━━━━━━━━━━━\u001b[0m \u001b[32m9.7/9.7 MB\u001b[0m \u001b[31m64.3 MB/s\u001b[0m eta \u001b[36m0:00:00\u001b[0m\n",
            "\u001b[?25hDownloading trio-0.27.0-py3-none-any.whl (481 kB)\n",
            "\u001b[2K   \u001b[90m━━━━━━━━━━━━━━━━━━━━━━━━━━━━━━━━━━━━━━━━\u001b[0m \u001b[32m481.7/481.7 kB\u001b[0m \u001b[31m26.2 MB/s\u001b[0m eta \u001b[36m0:00:00\u001b[0m\n",
            "\u001b[?25hDownloading trio_websocket-0.11.1-py3-none-any.whl (17 kB)\n",
            "Downloading wsproto-1.2.0-py3-none-any.whl (24 kB)\n",
            "Downloading outcome-1.3.0.post0-py2.py3-none-any.whl (10 kB)\n",
            "Downloading sortedcontainers-2.4.0-py2.py3-none-any.whl (29 kB)\n",
            "Installing collected packages: sortedcontainers, wsproto, outcome, trio, trio-websocket, selenium\n",
            "Successfully installed outcome-1.3.0.post0 selenium-4.27.0 sortedcontainers-2.4.0 trio-0.27.0 trio-websocket-0.11.1 wsproto-1.2.0\n",
            "Collecting webdriver-manager\n",
            "  Downloading webdriver_manager-4.0.2-py2.py3-none-any.whl.metadata (12 kB)\n",
            "Requirement already satisfied: requests in /usr/local/lib/python3.10/dist-packages (from webdriver-manager) (2.32.3)\n",
            "Collecting python-dotenv (from webdriver-manager)\n",
            "  Downloading python_dotenv-1.0.1-py3-none-any.whl.metadata (23 kB)\n",
            "Requirement already satisfied: packaging in /usr/local/lib/python3.10/dist-packages (from webdriver-manager) (24.2)\n",
            "Requirement already satisfied: charset-normalizer<4,>=2 in /usr/local/lib/python3.10/dist-packages (from requests->webdriver-manager) (3.4.0)\n",
            "Requirement already satisfied: idna<4,>=2.5 in /usr/local/lib/python3.10/dist-packages (from requests->webdriver-manager) (3.10)\n",
            "Requirement already satisfied: urllib3<3,>=1.21.1 in /usr/local/lib/python3.10/dist-packages (from requests->webdriver-manager) (2.2.3)\n",
            "Requirement already satisfied: certifi>=2017.4.17 in /usr/local/lib/python3.10/dist-packages (from requests->webdriver-manager) (2024.8.30)\n",
            "Downloading webdriver_manager-4.0.2-py2.py3-none-any.whl (27 kB)\n",
            "Downloading python_dotenv-1.0.1-py3-none-any.whl (19 kB)\n",
            "Installing collected packages: python-dotenv, webdriver-manager\n",
            "Successfully installed python-dotenv-1.0.1 webdriver-manager-4.0.2\n"
          ]
        }
      ],
      "source": [
        "'''\n",
        "!pip install beautifulsoup4\n",
        "!pip install lxml       #-- if required\n",
        "!pip install requests\n",
        "!pip install selenium\n",
        "!pip install webdriver-manager\n",
        "'''"
      ]
    },
    {
      "cell_type": "code",
      "execution_count": null,
      "id": "df8f4e37-35ee-44d2-9c01-1338a8642a80",
      "metadata": {
        "id": "df8f4e37-35ee-44d2-9c01-1338a8642a80"
      },
      "outputs": [],
      "source": [
        "import pandas as pd # library for data analysis\n",
        "import requests # library to handle requests\n",
        "from bs4 import BeautifulSoup # library to parse HTML documents\n",
        "from selenium import webdriver\n"
      ]
    },
    {
      "cell_type": "code",
      "execution_count": null,
      "id": "f7d2531b-6efc-43a5-9f3b-35659fd63820",
      "metadata": {
        "colab": {
          "base_uri": "https://localhost:8080/"
        },
        "id": "f7d2531b-6efc-43a5-9f3b-35659fd63820",
        "outputId": "9756387a-2051-4be1-f997-7cb8b7bee558"
      },
      "outputs": [
        {
          "output_type": "stream",
          "name": "stdout",
          "text": [
            "200\n"
          ]
        }
      ],
      "source": [
        "wikiurl=\"https://en.wikipedia.org/wiki/List_of_cities_in_India_by_population\"\n",
        "table_class=\"wikitable sortable jquery-tablesorter\"\n",
        "response=requests.get(wikiurl)\n",
        "print(response.status_code)"
      ]
    },
    {
      "cell_type": "code",
      "execution_count": null,
      "id": "4bfeb65f-2688-4818-905c-6cebd94fe757",
      "metadata": {
        "id": "4bfeb65f-2688-4818-905c-6cebd94fe757"
      },
      "outputs": [],
      "source": [
        "# parse data from the html into a beautifulsoup object\n",
        "soup = BeautifulSoup(response.text, 'html.parser')\n",
        "indiatable=soup.find('table',{'class':\"wikitable\"})"
      ]
    },
    {
      "cell_type": "code",
      "execution_count": null,
      "id": "c9b701c9-a32c-4297-b43c-0b46c80300fe",
      "metadata": {
        "collapsed": true,
        "colab": {
          "base_uri": "https://localhost:8080/",
          "height": 1000
        },
        "id": "c9b701c9-a32c-4297-b43c-0b46c80300fe",
        "outputId": "1968ce6b-e155-4a51-895f-342dc3c96ca7"
      },
      "outputs": [
        {
          "output_type": "stream",
          "name": "stderr",
          "text": [
            "<ipython-input-20-0840fb65e6b2>:1: FutureWarning: Passing literal html to 'read_html' is deprecated and will be removed in a future version. To read from a literal string, wrap it in a 'StringIO' object.\n",
            "  df=pd.read_html(str(indiatable))\n"
          ]
        },
        {
          "output_type": "execute_result",
          "data": {
            "text/plain": [
              "                City  Population (2011)[3]  Population (2001)[3][a]  \\\n",
              "0             Mumbai              12442373                 11978450   \n",
              "1              Delhi              11034555                  9879172   \n",
              "2          Bangalore               8443675                  5682293   \n",
              "3          Hyderabad               6993262                  5496960   \n",
              "4          Ahmedabad               5577940                  4470006   \n",
              "5            Chennai               4646732                  4343645   \n",
              "6            Kolkata               4496694                  4580546   \n",
              "7              Surat               4467797                  2788126   \n",
              "8               Pune               3124458                  2538473   \n",
              "9             Jaipur               3046163                  2322575   \n",
              "10           Lucknow               2817105                  2185927   \n",
              "11            Kanpur               2765348                  2551337   \n",
              "12            Nagpur               2405665                  2052066   \n",
              "13            Indore               1964086                  1503237   \n",
              "14             Thane               1841488                  1262551   \n",
              "15            Bhopal               1798218                  1458416   \n",
              "16     Visakhapatnam               1728128                  1345938   \n",
              "17  Pimpri-Chinchwad               1727692                  1020448   \n",
              "18             Patna               1684222                  1431477   \n",
              "19          Vadodara               1670806                  1338244   \n",
              "20         Ghaziabad               1648643                   968256   \n",
              "21          Ludhiana               1618879                  1398467   \n",
              "22              Agra               1585704                  1275134   \n",
              "23            Nashik               1486053                  1077236   \n",
              "24         Faridabad               1414050                  1055938   \n",
              "25            Meerut               1305429                  1068772   \n",
              "26            Rajkot               1286678                   967476   \n",
              "27  Kalyan-Dombivali               1247327                  1193512   \n",
              "28       Vasai-Virar               1222390                   518601   \n",
              "29          Varanasi               1198491                  1103952   \n",
              "30          Srinagar               1180570                   935764   \n",
              "31        Aurangabad               1175116                   873311   \n",
              "32           Dhanbad               1162472                  1031523   \n",
              "33          Amritsar               1132383                   979801   \n",
              "34       Navi Mumbai               1120547                   704002   \n",
              "35         Prayagraj               1112544                   975393   \n",
              "36            Howrah               1077075                  1007532   \n",
              "37            Ranchi               1073427                   847093   \n",
              "38          Jabalpur               1055525                   951472   \n",
              "39           Gwalior               1054420                   827026   \n",
              "40        Coimbatore               1050721                   930882   \n",
              "41        Vijayawada               1034358                   941760   \n",
              "42           Jodhpur               1033756                   856525   \n",
              "43           Madurai               1017865                   928869   \n",
              "44            Raipur               1010433                   707469   \n",
              "45              Kota               1001694                   703150   \n",
              "\n",
              "   State or union territory Reference  \n",
              "0               Maharashtra       [3]  \n",
              "1                     Delhi       [3]  \n",
              "2                 Karnataka       [3]  \n",
              "3                 Telangana       [3]  \n",
              "4                   Gujarat       [3]  \n",
              "5                Tamil Nadu       [3]  \n",
              "6               West Bengal       [3]  \n",
              "7                   Gujarat       [3]  \n",
              "8               Maharashtra       [3]  \n",
              "9                 Rajasthan       [3]  \n",
              "10            Uttar Pradesh       [3]  \n",
              "11            Uttar Pradesh       [3]  \n",
              "12              Maharashtra       [3]  \n",
              "13           Madhya Pradesh       [3]  \n",
              "14              Maharashtra       [3]  \n",
              "15           Madhya Pradesh       [3]  \n",
              "16           Andhra Pradesh    [3][b]  \n",
              "17              Maharashtra       [3]  \n",
              "18                    Bihar       [3]  \n",
              "19                  Gujarat       [3]  \n",
              "20            Uttar Pradesh       [3]  \n",
              "21                   Punjab       [3]  \n",
              "22            Uttar Pradesh       [3]  \n",
              "23              Maharashtra       [3]  \n",
              "24                  Haryana       [3]  \n",
              "25            Uttar Pradesh       [3]  \n",
              "26                  Gujarat       [3]  \n",
              "27              Maharashtra       [3]  \n",
              "28              Maharashtra       [3]  \n",
              "29            Uttar Pradesh       [3]  \n",
              "30        Jammu and Kashmir       [3]  \n",
              "31              Maharashtra       [3]  \n",
              "32                Jharkhand       [3]  \n",
              "33                   Punjab       [3]  \n",
              "34              Maharashtra       [3]  \n",
              "35            Uttar Pradesh       [3]  \n",
              "36              West Bengal       [3]  \n",
              "37                Jharkhand       [3]  \n",
              "38           Madhya Pradesh       [3]  \n",
              "39           Madhya Pradesh       [3]  \n",
              "40               Tamil Nadu       [3]  \n",
              "41           Andhra Pradesh       [3]  \n",
              "42                Rajasthan       [3]  \n",
              "43               Tamil Nadu       [3]  \n",
              "44             Chhattisgarh       [3]  \n",
              "45                Rajasthan       [3]  "
            ],
            "text/html": [
              "\n",
              "  <div id=\"df-c6442318-2ce2-4622-85f3-418c229229ae\" class=\"colab-df-container\">\n",
              "    <div>\n",
              "<style scoped>\n",
              "    .dataframe tbody tr th:only-of-type {\n",
              "        vertical-align: middle;\n",
              "    }\n",
              "\n",
              "    .dataframe tbody tr th {\n",
              "        vertical-align: top;\n",
              "    }\n",
              "\n",
              "    .dataframe thead th {\n",
              "        text-align: right;\n",
              "    }\n",
              "</style>\n",
              "<table border=\"1\" class=\"dataframe\">\n",
              "  <thead>\n",
              "    <tr style=\"text-align: right;\">\n",
              "      <th></th>\n",
              "      <th>City</th>\n",
              "      <th>Population (2011)[3]</th>\n",
              "      <th>Population (2001)[3][a]</th>\n",
              "      <th>State or union territory</th>\n",
              "      <th>Reference</th>\n",
              "    </tr>\n",
              "  </thead>\n",
              "  <tbody>\n",
              "    <tr>\n",
              "      <th>0</th>\n",
              "      <td>Mumbai</td>\n",
              "      <td>12442373</td>\n",
              "      <td>11978450</td>\n",
              "      <td>Maharashtra</td>\n",
              "      <td>[3]</td>\n",
              "    </tr>\n",
              "    <tr>\n",
              "      <th>1</th>\n",
              "      <td>Delhi</td>\n",
              "      <td>11034555</td>\n",
              "      <td>9879172</td>\n",
              "      <td>Delhi</td>\n",
              "      <td>[3]</td>\n",
              "    </tr>\n",
              "    <tr>\n",
              "      <th>2</th>\n",
              "      <td>Bangalore</td>\n",
              "      <td>8443675</td>\n",
              "      <td>5682293</td>\n",
              "      <td>Karnataka</td>\n",
              "      <td>[3]</td>\n",
              "    </tr>\n",
              "    <tr>\n",
              "      <th>3</th>\n",
              "      <td>Hyderabad</td>\n",
              "      <td>6993262</td>\n",
              "      <td>5496960</td>\n",
              "      <td>Telangana</td>\n",
              "      <td>[3]</td>\n",
              "    </tr>\n",
              "    <tr>\n",
              "      <th>4</th>\n",
              "      <td>Ahmedabad</td>\n",
              "      <td>5577940</td>\n",
              "      <td>4470006</td>\n",
              "      <td>Gujarat</td>\n",
              "      <td>[3]</td>\n",
              "    </tr>\n",
              "    <tr>\n",
              "      <th>5</th>\n",
              "      <td>Chennai</td>\n",
              "      <td>4646732</td>\n",
              "      <td>4343645</td>\n",
              "      <td>Tamil Nadu</td>\n",
              "      <td>[3]</td>\n",
              "    </tr>\n",
              "    <tr>\n",
              "      <th>6</th>\n",
              "      <td>Kolkata</td>\n",
              "      <td>4496694</td>\n",
              "      <td>4580546</td>\n",
              "      <td>West Bengal</td>\n",
              "      <td>[3]</td>\n",
              "    </tr>\n",
              "    <tr>\n",
              "      <th>7</th>\n",
              "      <td>Surat</td>\n",
              "      <td>4467797</td>\n",
              "      <td>2788126</td>\n",
              "      <td>Gujarat</td>\n",
              "      <td>[3]</td>\n",
              "    </tr>\n",
              "    <tr>\n",
              "      <th>8</th>\n",
              "      <td>Pune</td>\n",
              "      <td>3124458</td>\n",
              "      <td>2538473</td>\n",
              "      <td>Maharashtra</td>\n",
              "      <td>[3]</td>\n",
              "    </tr>\n",
              "    <tr>\n",
              "      <th>9</th>\n",
              "      <td>Jaipur</td>\n",
              "      <td>3046163</td>\n",
              "      <td>2322575</td>\n",
              "      <td>Rajasthan</td>\n",
              "      <td>[3]</td>\n",
              "    </tr>\n",
              "    <tr>\n",
              "      <th>10</th>\n",
              "      <td>Lucknow</td>\n",
              "      <td>2817105</td>\n",
              "      <td>2185927</td>\n",
              "      <td>Uttar Pradesh</td>\n",
              "      <td>[3]</td>\n",
              "    </tr>\n",
              "    <tr>\n",
              "      <th>11</th>\n",
              "      <td>Kanpur</td>\n",
              "      <td>2765348</td>\n",
              "      <td>2551337</td>\n",
              "      <td>Uttar Pradesh</td>\n",
              "      <td>[3]</td>\n",
              "    </tr>\n",
              "    <tr>\n",
              "      <th>12</th>\n",
              "      <td>Nagpur</td>\n",
              "      <td>2405665</td>\n",
              "      <td>2052066</td>\n",
              "      <td>Maharashtra</td>\n",
              "      <td>[3]</td>\n",
              "    </tr>\n",
              "    <tr>\n",
              "      <th>13</th>\n",
              "      <td>Indore</td>\n",
              "      <td>1964086</td>\n",
              "      <td>1503237</td>\n",
              "      <td>Madhya Pradesh</td>\n",
              "      <td>[3]</td>\n",
              "    </tr>\n",
              "    <tr>\n",
              "      <th>14</th>\n",
              "      <td>Thane</td>\n",
              "      <td>1841488</td>\n",
              "      <td>1262551</td>\n",
              "      <td>Maharashtra</td>\n",
              "      <td>[3]</td>\n",
              "    </tr>\n",
              "    <tr>\n",
              "      <th>15</th>\n",
              "      <td>Bhopal</td>\n",
              "      <td>1798218</td>\n",
              "      <td>1458416</td>\n",
              "      <td>Madhya Pradesh</td>\n",
              "      <td>[3]</td>\n",
              "    </tr>\n",
              "    <tr>\n",
              "      <th>16</th>\n",
              "      <td>Visakhapatnam</td>\n",
              "      <td>1728128</td>\n",
              "      <td>1345938</td>\n",
              "      <td>Andhra Pradesh</td>\n",
              "      <td>[3][b]</td>\n",
              "    </tr>\n",
              "    <tr>\n",
              "      <th>17</th>\n",
              "      <td>Pimpri-Chinchwad</td>\n",
              "      <td>1727692</td>\n",
              "      <td>1020448</td>\n",
              "      <td>Maharashtra</td>\n",
              "      <td>[3]</td>\n",
              "    </tr>\n",
              "    <tr>\n",
              "      <th>18</th>\n",
              "      <td>Patna</td>\n",
              "      <td>1684222</td>\n",
              "      <td>1431477</td>\n",
              "      <td>Bihar</td>\n",
              "      <td>[3]</td>\n",
              "    </tr>\n",
              "    <tr>\n",
              "      <th>19</th>\n",
              "      <td>Vadodara</td>\n",
              "      <td>1670806</td>\n",
              "      <td>1338244</td>\n",
              "      <td>Gujarat</td>\n",
              "      <td>[3]</td>\n",
              "    </tr>\n",
              "    <tr>\n",
              "      <th>20</th>\n",
              "      <td>Ghaziabad</td>\n",
              "      <td>1648643</td>\n",
              "      <td>968256</td>\n",
              "      <td>Uttar Pradesh</td>\n",
              "      <td>[3]</td>\n",
              "    </tr>\n",
              "    <tr>\n",
              "      <th>21</th>\n",
              "      <td>Ludhiana</td>\n",
              "      <td>1618879</td>\n",
              "      <td>1398467</td>\n",
              "      <td>Punjab</td>\n",
              "      <td>[3]</td>\n",
              "    </tr>\n",
              "    <tr>\n",
              "      <th>22</th>\n",
              "      <td>Agra</td>\n",
              "      <td>1585704</td>\n",
              "      <td>1275134</td>\n",
              "      <td>Uttar Pradesh</td>\n",
              "      <td>[3]</td>\n",
              "    </tr>\n",
              "    <tr>\n",
              "      <th>23</th>\n",
              "      <td>Nashik</td>\n",
              "      <td>1486053</td>\n",
              "      <td>1077236</td>\n",
              "      <td>Maharashtra</td>\n",
              "      <td>[3]</td>\n",
              "    </tr>\n",
              "    <tr>\n",
              "      <th>24</th>\n",
              "      <td>Faridabad</td>\n",
              "      <td>1414050</td>\n",
              "      <td>1055938</td>\n",
              "      <td>Haryana</td>\n",
              "      <td>[3]</td>\n",
              "    </tr>\n",
              "    <tr>\n",
              "      <th>25</th>\n",
              "      <td>Meerut</td>\n",
              "      <td>1305429</td>\n",
              "      <td>1068772</td>\n",
              "      <td>Uttar Pradesh</td>\n",
              "      <td>[3]</td>\n",
              "    </tr>\n",
              "    <tr>\n",
              "      <th>26</th>\n",
              "      <td>Rajkot</td>\n",
              "      <td>1286678</td>\n",
              "      <td>967476</td>\n",
              "      <td>Gujarat</td>\n",
              "      <td>[3]</td>\n",
              "    </tr>\n",
              "    <tr>\n",
              "      <th>27</th>\n",
              "      <td>Kalyan-Dombivali</td>\n",
              "      <td>1247327</td>\n",
              "      <td>1193512</td>\n",
              "      <td>Maharashtra</td>\n",
              "      <td>[3]</td>\n",
              "    </tr>\n",
              "    <tr>\n",
              "      <th>28</th>\n",
              "      <td>Vasai-Virar</td>\n",
              "      <td>1222390</td>\n",
              "      <td>518601</td>\n",
              "      <td>Maharashtra</td>\n",
              "      <td>[3]</td>\n",
              "    </tr>\n",
              "    <tr>\n",
              "      <th>29</th>\n",
              "      <td>Varanasi</td>\n",
              "      <td>1198491</td>\n",
              "      <td>1103952</td>\n",
              "      <td>Uttar Pradesh</td>\n",
              "      <td>[3]</td>\n",
              "    </tr>\n",
              "    <tr>\n",
              "      <th>30</th>\n",
              "      <td>Srinagar</td>\n",
              "      <td>1180570</td>\n",
              "      <td>935764</td>\n",
              "      <td>Jammu and Kashmir</td>\n",
              "      <td>[3]</td>\n",
              "    </tr>\n",
              "    <tr>\n",
              "      <th>31</th>\n",
              "      <td>Aurangabad</td>\n",
              "      <td>1175116</td>\n",
              "      <td>873311</td>\n",
              "      <td>Maharashtra</td>\n",
              "      <td>[3]</td>\n",
              "    </tr>\n",
              "    <tr>\n",
              "      <th>32</th>\n",
              "      <td>Dhanbad</td>\n",
              "      <td>1162472</td>\n",
              "      <td>1031523</td>\n",
              "      <td>Jharkhand</td>\n",
              "      <td>[3]</td>\n",
              "    </tr>\n",
              "    <tr>\n",
              "      <th>33</th>\n",
              "      <td>Amritsar</td>\n",
              "      <td>1132383</td>\n",
              "      <td>979801</td>\n",
              "      <td>Punjab</td>\n",
              "      <td>[3]</td>\n",
              "    </tr>\n",
              "    <tr>\n",
              "      <th>34</th>\n",
              "      <td>Navi Mumbai</td>\n",
              "      <td>1120547</td>\n",
              "      <td>704002</td>\n",
              "      <td>Maharashtra</td>\n",
              "      <td>[3]</td>\n",
              "    </tr>\n",
              "    <tr>\n",
              "      <th>35</th>\n",
              "      <td>Prayagraj</td>\n",
              "      <td>1112544</td>\n",
              "      <td>975393</td>\n",
              "      <td>Uttar Pradesh</td>\n",
              "      <td>[3]</td>\n",
              "    </tr>\n",
              "    <tr>\n",
              "      <th>36</th>\n",
              "      <td>Howrah</td>\n",
              "      <td>1077075</td>\n",
              "      <td>1007532</td>\n",
              "      <td>West Bengal</td>\n",
              "      <td>[3]</td>\n",
              "    </tr>\n",
              "    <tr>\n",
              "      <th>37</th>\n",
              "      <td>Ranchi</td>\n",
              "      <td>1073427</td>\n",
              "      <td>847093</td>\n",
              "      <td>Jharkhand</td>\n",
              "      <td>[3]</td>\n",
              "    </tr>\n",
              "    <tr>\n",
              "      <th>38</th>\n",
              "      <td>Jabalpur</td>\n",
              "      <td>1055525</td>\n",
              "      <td>951472</td>\n",
              "      <td>Madhya Pradesh</td>\n",
              "      <td>[3]</td>\n",
              "    </tr>\n",
              "    <tr>\n",
              "      <th>39</th>\n",
              "      <td>Gwalior</td>\n",
              "      <td>1054420</td>\n",
              "      <td>827026</td>\n",
              "      <td>Madhya Pradesh</td>\n",
              "      <td>[3]</td>\n",
              "    </tr>\n",
              "    <tr>\n",
              "      <th>40</th>\n",
              "      <td>Coimbatore</td>\n",
              "      <td>1050721</td>\n",
              "      <td>930882</td>\n",
              "      <td>Tamil Nadu</td>\n",
              "      <td>[3]</td>\n",
              "    </tr>\n",
              "    <tr>\n",
              "      <th>41</th>\n",
              "      <td>Vijayawada</td>\n",
              "      <td>1034358</td>\n",
              "      <td>941760</td>\n",
              "      <td>Andhra Pradesh</td>\n",
              "      <td>[3]</td>\n",
              "    </tr>\n",
              "    <tr>\n",
              "      <th>42</th>\n",
              "      <td>Jodhpur</td>\n",
              "      <td>1033756</td>\n",
              "      <td>856525</td>\n",
              "      <td>Rajasthan</td>\n",
              "      <td>[3]</td>\n",
              "    </tr>\n",
              "    <tr>\n",
              "      <th>43</th>\n",
              "      <td>Madurai</td>\n",
              "      <td>1017865</td>\n",
              "      <td>928869</td>\n",
              "      <td>Tamil Nadu</td>\n",
              "      <td>[3]</td>\n",
              "    </tr>\n",
              "    <tr>\n",
              "      <th>44</th>\n",
              "      <td>Raipur</td>\n",
              "      <td>1010433</td>\n",
              "      <td>707469</td>\n",
              "      <td>Chhattisgarh</td>\n",
              "      <td>[3]</td>\n",
              "    </tr>\n",
              "    <tr>\n",
              "      <th>45</th>\n",
              "      <td>Kota</td>\n",
              "      <td>1001694</td>\n",
              "      <td>703150</td>\n",
              "      <td>Rajasthan</td>\n",
              "      <td>[3]</td>\n",
              "    </tr>\n",
              "  </tbody>\n",
              "</table>\n",
              "</div>\n",
              "    <div class=\"colab-df-buttons\">\n",
              "\n",
              "  <div class=\"colab-df-container\">\n",
              "    <button class=\"colab-df-convert\" onclick=\"convertToInteractive('df-c6442318-2ce2-4622-85f3-418c229229ae')\"\n",
              "            title=\"Convert this dataframe to an interactive table.\"\n",
              "            style=\"display:none;\">\n",
              "\n",
              "  <svg xmlns=\"http://www.w3.org/2000/svg\" height=\"24px\" viewBox=\"0 -960 960 960\">\n",
              "    <path d=\"M120-120v-720h720v720H120Zm60-500h600v-160H180v160Zm220 220h160v-160H400v160Zm0 220h160v-160H400v160ZM180-400h160v-160H180v160Zm440 0h160v-160H620v160ZM180-180h160v-160H180v160Zm440 0h160v-160H620v160Z\"/>\n",
              "  </svg>\n",
              "    </button>\n",
              "\n",
              "  <style>\n",
              "    .colab-df-container {\n",
              "      display:flex;\n",
              "      gap: 12px;\n",
              "    }\n",
              "\n",
              "    .colab-df-convert {\n",
              "      background-color: #E8F0FE;\n",
              "      border: none;\n",
              "      border-radius: 50%;\n",
              "      cursor: pointer;\n",
              "      display: none;\n",
              "      fill: #1967D2;\n",
              "      height: 32px;\n",
              "      padding: 0 0 0 0;\n",
              "      width: 32px;\n",
              "    }\n",
              "\n",
              "    .colab-df-convert:hover {\n",
              "      background-color: #E2EBFA;\n",
              "      box-shadow: 0px 1px 2px rgba(60, 64, 67, 0.3), 0px 1px 3px 1px rgba(60, 64, 67, 0.15);\n",
              "      fill: #174EA6;\n",
              "    }\n",
              "\n",
              "    .colab-df-buttons div {\n",
              "      margin-bottom: 4px;\n",
              "    }\n",
              "\n",
              "    [theme=dark] .colab-df-convert {\n",
              "      background-color: #3B4455;\n",
              "      fill: #D2E3FC;\n",
              "    }\n",
              "\n",
              "    [theme=dark] .colab-df-convert:hover {\n",
              "      background-color: #434B5C;\n",
              "      box-shadow: 0px 1px 3px 1px rgba(0, 0, 0, 0.15);\n",
              "      filter: drop-shadow(0px 1px 2px rgba(0, 0, 0, 0.3));\n",
              "      fill: #FFFFFF;\n",
              "    }\n",
              "  </style>\n",
              "\n",
              "    <script>\n",
              "      const buttonEl =\n",
              "        document.querySelector('#df-c6442318-2ce2-4622-85f3-418c229229ae button.colab-df-convert');\n",
              "      buttonEl.style.display =\n",
              "        google.colab.kernel.accessAllowed ? 'block' : 'none';\n",
              "\n",
              "      async function convertToInteractive(key) {\n",
              "        const element = document.querySelector('#df-c6442318-2ce2-4622-85f3-418c229229ae');\n",
              "        const dataTable =\n",
              "          await google.colab.kernel.invokeFunction('convertToInteractive',\n",
              "                                                    [key], {});\n",
              "        if (!dataTable) return;\n",
              "\n",
              "        const docLinkHtml = 'Like what you see? Visit the ' +\n",
              "          '<a target=\"_blank\" href=https://colab.research.google.com/notebooks/data_table.ipynb>data table notebook</a>'\n",
              "          + ' to learn more about interactive tables.';\n",
              "        element.innerHTML = '';\n",
              "        dataTable['output_type'] = 'display_data';\n",
              "        await google.colab.output.renderOutput(dataTable, element);\n",
              "        const docLink = document.createElement('div');\n",
              "        docLink.innerHTML = docLinkHtml;\n",
              "        element.appendChild(docLink);\n",
              "      }\n",
              "    </script>\n",
              "  </div>\n",
              "\n",
              "\n",
              "<div id=\"df-a12ec3b6-daf2-46f6-ac9c-81e029924410\">\n",
              "  <button class=\"colab-df-quickchart\" onclick=\"quickchart('df-a12ec3b6-daf2-46f6-ac9c-81e029924410')\"\n",
              "            title=\"Suggest charts\"\n",
              "            style=\"display:none;\">\n",
              "\n",
              "<svg xmlns=\"http://www.w3.org/2000/svg\" height=\"24px\"viewBox=\"0 0 24 24\"\n",
              "     width=\"24px\">\n",
              "    <g>\n",
              "        <path d=\"M19 3H5c-1.1 0-2 .9-2 2v14c0 1.1.9 2 2 2h14c1.1 0 2-.9 2-2V5c0-1.1-.9-2-2-2zM9 17H7v-7h2v7zm4 0h-2V7h2v10zm4 0h-2v-4h2v4z\"/>\n",
              "    </g>\n",
              "</svg>\n",
              "  </button>\n",
              "\n",
              "<style>\n",
              "  .colab-df-quickchart {\n",
              "      --bg-color: #E8F0FE;\n",
              "      --fill-color: #1967D2;\n",
              "      --hover-bg-color: #E2EBFA;\n",
              "      --hover-fill-color: #174EA6;\n",
              "      --disabled-fill-color: #AAA;\n",
              "      --disabled-bg-color: #DDD;\n",
              "  }\n",
              "\n",
              "  [theme=dark] .colab-df-quickchart {\n",
              "      --bg-color: #3B4455;\n",
              "      --fill-color: #D2E3FC;\n",
              "      --hover-bg-color: #434B5C;\n",
              "      --hover-fill-color: #FFFFFF;\n",
              "      --disabled-bg-color: #3B4455;\n",
              "      --disabled-fill-color: #666;\n",
              "  }\n",
              "\n",
              "  .colab-df-quickchart {\n",
              "    background-color: var(--bg-color);\n",
              "    border: none;\n",
              "    border-radius: 50%;\n",
              "    cursor: pointer;\n",
              "    display: none;\n",
              "    fill: var(--fill-color);\n",
              "    height: 32px;\n",
              "    padding: 0;\n",
              "    width: 32px;\n",
              "  }\n",
              "\n",
              "  .colab-df-quickchart:hover {\n",
              "    background-color: var(--hover-bg-color);\n",
              "    box-shadow: 0 1px 2px rgba(60, 64, 67, 0.3), 0 1px 3px 1px rgba(60, 64, 67, 0.15);\n",
              "    fill: var(--button-hover-fill-color);\n",
              "  }\n",
              "\n",
              "  .colab-df-quickchart-complete:disabled,\n",
              "  .colab-df-quickchart-complete:disabled:hover {\n",
              "    background-color: var(--disabled-bg-color);\n",
              "    fill: var(--disabled-fill-color);\n",
              "    box-shadow: none;\n",
              "  }\n",
              "\n",
              "  .colab-df-spinner {\n",
              "    border: 2px solid var(--fill-color);\n",
              "    border-color: transparent;\n",
              "    border-bottom-color: var(--fill-color);\n",
              "    animation:\n",
              "      spin 1s steps(1) infinite;\n",
              "  }\n",
              "\n",
              "  @keyframes spin {\n",
              "    0% {\n",
              "      border-color: transparent;\n",
              "      border-bottom-color: var(--fill-color);\n",
              "      border-left-color: var(--fill-color);\n",
              "    }\n",
              "    20% {\n",
              "      border-color: transparent;\n",
              "      border-left-color: var(--fill-color);\n",
              "      border-top-color: var(--fill-color);\n",
              "    }\n",
              "    30% {\n",
              "      border-color: transparent;\n",
              "      border-left-color: var(--fill-color);\n",
              "      border-top-color: var(--fill-color);\n",
              "      border-right-color: var(--fill-color);\n",
              "    }\n",
              "    40% {\n",
              "      border-color: transparent;\n",
              "      border-right-color: var(--fill-color);\n",
              "      border-top-color: var(--fill-color);\n",
              "    }\n",
              "    60% {\n",
              "      border-color: transparent;\n",
              "      border-right-color: var(--fill-color);\n",
              "    }\n",
              "    80% {\n",
              "      border-color: transparent;\n",
              "      border-right-color: var(--fill-color);\n",
              "      border-bottom-color: var(--fill-color);\n",
              "    }\n",
              "    90% {\n",
              "      border-color: transparent;\n",
              "      border-bottom-color: var(--fill-color);\n",
              "    }\n",
              "  }\n",
              "</style>\n",
              "\n",
              "  <script>\n",
              "    async function quickchart(key) {\n",
              "      const quickchartButtonEl =\n",
              "        document.querySelector('#' + key + ' button');\n",
              "      quickchartButtonEl.disabled = true;  // To prevent multiple clicks.\n",
              "      quickchartButtonEl.classList.add('colab-df-spinner');\n",
              "      try {\n",
              "        const charts = await google.colab.kernel.invokeFunction(\n",
              "            'suggestCharts', [key], {});\n",
              "      } catch (error) {\n",
              "        console.error('Error during call to suggestCharts:', error);\n",
              "      }\n",
              "      quickchartButtonEl.classList.remove('colab-df-spinner');\n",
              "      quickchartButtonEl.classList.add('colab-df-quickchart-complete');\n",
              "    }\n",
              "    (() => {\n",
              "      let quickchartButtonEl =\n",
              "        document.querySelector('#df-a12ec3b6-daf2-46f6-ac9c-81e029924410 button');\n",
              "      quickchartButtonEl.style.display =\n",
              "        google.colab.kernel.accessAllowed ? 'block' : 'none';\n",
              "    })();\n",
              "  </script>\n",
              "</div>\n",
              "\n",
              "  <div id=\"id_1d2125f5-6ec1-4475-b76c-db03ab24c662\">\n",
              "    <style>\n",
              "      .colab-df-generate {\n",
              "        background-color: #E8F0FE;\n",
              "        border: none;\n",
              "        border-radius: 50%;\n",
              "        cursor: pointer;\n",
              "        display: none;\n",
              "        fill: #1967D2;\n",
              "        height: 32px;\n",
              "        padding: 0 0 0 0;\n",
              "        width: 32px;\n",
              "      }\n",
              "\n",
              "      .colab-df-generate:hover {\n",
              "        background-color: #E2EBFA;\n",
              "        box-shadow: 0px 1px 2px rgba(60, 64, 67, 0.3), 0px 1px 3px 1px rgba(60, 64, 67, 0.15);\n",
              "        fill: #174EA6;\n",
              "      }\n",
              "\n",
              "      [theme=dark] .colab-df-generate {\n",
              "        background-color: #3B4455;\n",
              "        fill: #D2E3FC;\n",
              "      }\n",
              "\n",
              "      [theme=dark] .colab-df-generate:hover {\n",
              "        background-color: #434B5C;\n",
              "        box-shadow: 0px 1px 3px 1px rgba(0, 0, 0, 0.15);\n",
              "        filter: drop-shadow(0px 1px 2px rgba(0, 0, 0, 0.3));\n",
              "        fill: #FFFFFF;\n",
              "      }\n",
              "    </style>\n",
              "    <button class=\"colab-df-generate\" onclick=\"generateWithVariable('df')\"\n",
              "            title=\"Generate code using this dataframe.\"\n",
              "            style=\"display:none;\">\n",
              "\n",
              "  <svg xmlns=\"http://www.w3.org/2000/svg\" height=\"24px\"viewBox=\"0 0 24 24\"\n",
              "       width=\"24px\">\n",
              "    <path d=\"M7,19H8.4L18.45,9,17,7.55,7,17.6ZM5,21V16.75L18.45,3.32a2,2,0,0,1,2.83,0l1.4,1.43a1.91,1.91,0,0,1,.58,1.4,1.91,1.91,0,0,1-.58,1.4L9.25,21ZM18.45,9,17,7.55Zm-12,3A5.31,5.31,0,0,0,4.9,8.1,5.31,5.31,0,0,0,1,6.5,5.31,5.31,0,0,0,4.9,4.9,5.31,5.31,0,0,0,6.5,1,5.31,5.31,0,0,0,8.1,4.9,5.31,5.31,0,0,0,12,6.5,5.46,5.46,0,0,0,6.5,12Z\"/>\n",
              "  </svg>\n",
              "    </button>\n",
              "    <script>\n",
              "      (() => {\n",
              "      const buttonEl =\n",
              "        document.querySelector('#id_1d2125f5-6ec1-4475-b76c-db03ab24c662 button.colab-df-generate');\n",
              "      buttonEl.style.display =\n",
              "        google.colab.kernel.accessAllowed ? 'block' : 'none';\n",
              "\n",
              "      buttonEl.onclick = () => {\n",
              "        google.colab.notebook.generateWithVariable('df');\n",
              "      }\n",
              "      })();\n",
              "    </script>\n",
              "  </div>\n",
              "\n",
              "    </div>\n",
              "  </div>\n"
            ],
            "application/vnd.google.colaboratory.intrinsic+json": {
              "type": "dataframe",
              "variable_name": "df",
              "summary": "{\n  \"name\": \"df\",\n  \"rows\": 46,\n  \"fields\": [\n    {\n      \"column\": \"City\",\n      \"properties\": {\n        \"dtype\": \"string\",\n        \"num_unique_values\": 46,\n        \"samples\": [\n          \"Gwalior\",\n          \"Meerut\",\n          \"Rajkot\"\n        ],\n        \"semantic_type\": \"\",\n        \"description\": \"\"\n      }\n    },\n    {\n      \"column\": \"Population (2011)[3]\",\n      \"properties\": {\n        \"dtype\": \"number\",\n        \"std\": 2574966,\n        \"min\": 1001694,\n        \"max\": 12442373,\n        \"num_unique_values\": 46,\n        \"samples\": [\n          1054420,\n          1305429,\n          1286678\n        ],\n        \"semantic_type\": \"\",\n        \"description\": \"\"\n      }\n    },\n    {\n      \"column\": \"Population (2001)[3][a]\",\n      \"properties\": {\n        \"dtype\": \"number\",\n        \"std\": 2306139,\n        \"min\": 518601,\n        \"max\": 11978450,\n        \"num_unique_values\": 46,\n        \"samples\": [\n          827026,\n          1068772,\n          967476\n        ],\n        \"semantic_type\": \"\",\n        \"description\": \"\"\n      }\n    },\n    {\n      \"column\": \"State or union territory\",\n      \"properties\": {\n        \"dtype\": \"category\",\n        \"num_unique_values\": 17,\n        \"samples\": [\n          \"Maharashtra\",\n          \"Delhi\",\n          \"Tamil Nadu\"\n        ],\n        \"semantic_type\": \"\",\n        \"description\": \"\"\n      }\n    },\n    {\n      \"column\": \"Reference\",\n      \"properties\": {\n        \"dtype\": \"category\",\n        \"num_unique_values\": 2,\n        \"samples\": [\n          \"[3][b]\",\n          \"[3]\"\n        ],\n        \"semantic_type\": \"\",\n        \"description\": \"\"\n      }\n    }\n  ]\n}"
            }
          },
          "metadata": {},
          "execution_count": 20
        }
      ],
      "source": [
        "df=pd.read_html(str(indiatable))\n",
        "df\n",
        "# convert list to dataframe\n",
        "df=pd.DataFrame(df[0],)\n",
        "df\n",
        "#print(df.head())"
      ]
    },
    {
      "cell_type": "code",
      "execution_count": null,
      "id": "b6c7f4b1-75af-4e28-9056-b6ac677292f3",
      "metadata": {
        "colab": {
          "base_uri": "https://localhost:8080/",
          "height": 733
        },
        "collapsed": true,
        "id": "b6c7f4b1-75af-4e28-9056-b6ac677292f3",
        "outputId": "460fae4a-d5a0-4a3a-ca20-b4923f8a0f1f"
      },
      "outputs": [
        {
          "output_type": "error",
          "ename": "SessionNotCreatedException",
          "evalue": "Message: session not created: Chrome failed to start: exited normally.\n  (session not created: DevToolsActivePort file doesn't exist)\n  (The process started from chrome location /root/.cache/selenium/chrome/linux64/131.0.6778.85/chrome is no longer running, so ChromeDriver is assuming that Chrome has crashed.)\nStacktrace:\n#0 0x56a964dfd31a <unknown>\n#1 0x56a9649136e0 <unknown>\n#2 0x56a96494adc8 <unknown>\n#3 0x56a964946926 <unknown>\n#4 0x56a9649926f6 <unknown>\n#5 0x56a964991d46 <unknown>\n#6 0x56a964986203 <unknown>\n#7 0x56a964954cc0 <unknown>\n#8 0x56a964955c9e <unknown>\n#9 0x56a964dcad0b <unknown>\n#10 0x56a964dcec92 <unknown>\n#11 0x56a964db7b3c <unknown>\n#12 0x56a964dcf807 <unknown>\n#13 0x56a964d9d0df <unknown>\n#14 0x56a964dec578 <unknown>\n#15 0x56a964dec740 <unknown>\n#16 0x56a964dfc196 <unknown>\n#17 0x7a74472f1ac3 <unknown>\n",
          "traceback": [
            "\u001b[0;31m---------------------------------------------------------------------------\u001b[0m",
            "\u001b[0;31mSessionNotCreatedException\u001b[0m                Traceback (most recent call last)",
            "\u001b[0;32m<ipython-input-26-709855ceb03f>\u001b[0m in \u001b[0;36m<cell line: 1>\u001b[0;34m()\u001b[0m\n\u001b[0;32m----> 1\u001b[0;31m \u001b[0mdriver\u001b[0m\u001b[0;34m=\u001b[0m\u001b[0mwebdriver\u001b[0m\u001b[0;34m.\u001b[0m\u001b[0mChrome\u001b[0m\u001b[0;34m(\u001b[0m\u001b[0;34m)\u001b[0m\u001b[0;34m\u001b[0m\u001b[0;34m\u001b[0m\u001b[0m\n\u001b[0m\u001b[1;32m      2\u001b[0m \u001b[0mdriver\u001b[0m\u001b[0;34m.\u001b[0m\u001b[0mget\u001b[0m\u001b[0;34m(\u001b[0m\u001b[0;34m'https://www.amazon.in/s?k=amazon+toys&i=toys&rh=n%3A1350380031%2Cp_n_deal_type%3A26921226031&dc&ds=v1%3AHkOCakvpCLC9XT4Ck9PFTym%2BDWteSvgsawXN1aMk6yk&adgrpid=1318316047024037&hvadid=82395012227567&hvbmt=bb&hvdev=c&hvlocphy=157612&hvnetw=o&hvqmt=e&hvtargid=kwd-82395629494887%3Aloc-90&hydadcr=26199_2456954&msclkid=5e550a5da29a142cf4d96cf53481a36e&qid=1722324516&rnid=26921223031&tag=msndeskstdin-21&ref=sr_nr_p_n_deal_type_1'\u001b[0m\u001b[0;34m)\u001b[0m\u001b[0;34m\u001b[0m\u001b[0;34m\u001b[0m\u001b[0m\n",
            "\u001b[0;32m/usr/local/lib/python3.10/dist-packages/selenium/webdriver/chrome/webdriver.py\u001b[0m in \u001b[0;36m__init__\u001b[0;34m(self, options, service, keep_alive)\u001b[0m\n\u001b[1;32m     43\u001b[0m         \u001b[0moptions\u001b[0m \u001b[0;34m=\u001b[0m \u001b[0moptions\u001b[0m \u001b[0;32mif\u001b[0m \u001b[0moptions\u001b[0m \u001b[0;32melse\u001b[0m \u001b[0mOptions\u001b[0m\u001b[0;34m(\u001b[0m\u001b[0;34m)\u001b[0m\u001b[0;34m\u001b[0m\u001b[0;34m\u001b[0m\u001b[0m\n\u001b[1;32m     44\u001b[0m \u001b[0;34m\u001b[0m\u001b[0m\n\u001b[0;32m---> 45\u001b[0;31m         super().__init__(\n\u001b[0m\u001b[1;32m     46\u001b[0m             \u001b[0mbrowser_name\u001b[0m\u001b[0;34m=\u001b[0m\u001b[0mDesiredCapabilities\u001b[0m\u001b[0;34m.\u001b[0m\u001b[0mCHROME\u001b[0m\u001b[0;34m[\u001b[0m\u001b[0;34m\"browserName\"\u001b[0m\u001b[0;34m]\u001b[0m\u001b[0;34m,\u001b[0m\u001b[0;34m\u001b[0m\u001b[0;34m\u001b[0m\u001b[0m\n\u001b[1;32m     47\u001b[0m             \u001b[0mvendor_prefix\u001b[0m\u001b[0;34m=\u001b[0m\u001b[0;34m\"goog\"\u001b[0m\u001b[0;34m,\u001b[0m\u001b[0;34m\u001b[0m\u001b[0;34m\u001b[0m\u001b[0m\n",
            "\u001b[0;32m/usr/local/lib/python3.10/dist-packages/selenium/webdriver/chromium/webdriver.py\u001b[0m in \u001b[0;36m__init__\u001b[0;34m(self, browser_name, vendor_prefix, options, service, keep_alive)\u001b[0m\n\u001b[1;32m     64\u001b[0m \u001b[0;34m\u001b[0m\u001b[0m\n\u001b[1;32m     65\u001b[0m         \u001b[0;32mtry\u001b[0m\u001b[0;34m:\u001b[0m\u001b[0;34m\u001b[0m\u001b[0;34m\u001b[0m\u001b[0m\n\u001b[0;32m---> 66\u001b[0;31m             \u001b[0msuper\u001b[0m\u001b[0;34m(\u001b[0m\u001b[0;34m)\u001b[0m\u001b[0;34m.\u001b[0m\u001b[0m__init__\u001b[0m\u001b[0;34m(\u001b[0m\u001b[0mcommand_executor\u001b[0m\u001b[0;34m=\u001b[0m\u001b[0mexecutor\u001b[0m\u001b[0;34m,\u001b[0m \u001b[0moptions\u001b[0m\u001b[0;34m=\u001b[0m\u001b[0moptions\u001b[0m\u001b[0;34m)\u001b[0m\u001b[0;34m\u001b[0m\u001b[0;34m\u001b[0m\u001b[0m\n\u001b[0m\u001b[1;32m     67\u001b[0m         \u001b[0;32mexcept\u001b[0m \u001b[0mException\u001b[0m\u001b[0;34m:\u001b[0m\u001b[0;34m\u001b[0m\u001b[0;34m\u001b[0m\u001b[0m\n\u001b[1;32m     68\u001b[0m             \u001b[0mself\u001b[0m\u001b[0;34m.\u001b[0m\u001b[0mquit\u001b[0m\u001b[0;34m(\u001b[0m\u001b[0;34m)\u001b[0m\u001b[0;34m\u001b[0m\u001b[0;34m\u001b[0m\u001b[0m\n",
            "\u001b[0;32m/usr/local/lib/python3.10/dist-packages/selenium/webdriver/remote/webdriver.py\u001b[0m in \u001b[0;36m__init__\u001b[0;34m(self, command_executor, keep_alive, file_detector, options, locator_converter, web_element_cls, client_config)\u001b[0m\n\u001b[1;32m    239\u001b[0m         \u001b[0mself\u001b[0m\u001b[0;34m.\u001b[0m\u001b[0m_authenticator_id\u001b[0m \u001b[0;34m=\u001b[0m \u001b[0;32mNone\u001b[0m\u001b[0;34m\u001b[0m\u001b[0;34m\u001b[0m\u001b[0m\n\u001b[1;32m    240\u001b[0m         \u001b[0mself\u001b[0m\u001b[0;34m.\u001b[0m\u001b[0mstart_client\u001b[0m\u001b[0;34m(\u001b[0m\u001b[0;34m)\u001b[0m\u001b[0;34m\u001b[0m\u001b[0;34m\u001b[0m\u001b[0m\n\u001b[0;32m--> 241\u001b[0;31m         \u001b[0mself\u001b[0m\u001b[0;34m.\u001b[0m\u001b[0mstart_session\u001b[0m\u001b[0;34m(\u001b[0m\u001b[0mcapabilities\u001b[0m\u001b[0;34m)\u001b[0m\u001b[0;34m\u001b[0m\u001b[0;34m\u001b[0m\u001b[0m\n\u001b[0m\u001b[1;32m    242\u001b[0m         \u001b[0mself\u001b[0m\u001b[0;34m.\u001b[0m\u001b[0m_fedcm\u001b[0m \u001b[0;34m=\u001b[0m \u001b[0mFedCM\u001b[0m\u001b[0;34m(\u001b[0m\u001b[0mself\u001b[0m\u001b[0;34m)\u001b[0m\u001b[0;34m\u001b[0m\u001b[0;34m\u001b[0m\u001b[0m\n\u001b[1;32m    243\u001b[0m \u001b[0;34m\u001b[0m\u001b[0m\n",
            "\u001b[0;32m/usr/local/lib/python3.10/dist-packages/selenium/webdriver/remote/webdriver.py\u001b[0m in \u001b[0;36mstart_session\u001b[0;34m(self, capabilities)\u001b[0m\n\u001b[1;32m    327\u001b[0m \u001b[0;34m\u001b[0m\u001b[0m\n\u001b[1;32m    328\u001b[0m         \u001b[0mcaps\u001b[0m \u001b[0;34m=\u001b[0m \u001b[0m_create_caps\u001b[0m\u001b[0;34m(\u001b[0m\u001b[0mcapabilities\u001b[0m\u001b[0;34m)\u001b[0m\u001b[0;34m\u001b[0m\u001b[0;34m\u001b[0m\u001b[0m\n\u001b[0;32m--> 329\u001b[0;31m         \u001b[0mresponse\u001b[0m \u001b[0;34m=\u001b[0m \u001b[0mself\u001b[0m\u001b[0;34m.\u001b[0m\u001b[0mexecute\u001b[0m\u001b[0;34m(\u001b[0m\u001b[0mCommand\u001b[0m\u001b[0;34m.\u001b[0m\u001b[0mNEW_SESSION\u001b[0m\u001b[0;34m,\u001b[0m \u001b[0mcaps\u001b[0m\u001b[0;34m)\u001b[0m\u001b[0;34m[\u001b[0m\u001b[0;34m\"value\"\u001b[0m\u001b[0;34m]\u001b[0m\u001b[0;34m\u001b[0m\u001b[0;34m\u001b[0m\u001b[0m\n\u001b[0m\u001b[1;32m    330\u001b[0m         \u001b[0mself\u001b[0m\u001b[0;34m.\u001b[0m\u001b[0msession_id\u001b[0m \u001b[0;34m=\u001b[0m \u001b[0mresponse\u001b[0m\u001b[0;34m.\u001b[0m\u001b[0mget\u001b[0m\u001b[0;34m(\u001b[0m\u001b[0;34m\"sessionId\"\u001b[0m\u001b[0;34m)\u001b[0m\u001b[0;34m\u001b[0m\u001b[0;34m\u001b[0m\u001b[0m\n\u001b[1;32m    331\u001b[0m         \u001b[0mself\u001b[0m\u001b[0;34m.\u001b[0m\u001b[0mcaps\u001b[0m \u001b[0;34m=\u001b[0m \u001b[0mresponse\u001b[0m\u001b[0;34m.\u001b[0m\u001b[0mget\u001b[0m\u001b[0;34m(\u001b[0m\u001b[0;34m\"capabilities\"\u001b[0m\u001b[0;34m)\u001b[0m\u001b[0;34m\u001b[0m\u001b[0;34m\u001b[0m\u001b[0m\n",
            "\u001b[0;32m/usr/local/lib/python3.10/dist-packages/selenium/webdriver/remote/webdriver.py\u001b[0m in \u001b[0;36mexecute\u001b[0;34m(self, driver_command, params)\u001b[0m\n\u001b[1;32m    382\u001b[0m         \u001b[0mresponse\u001b[0m \u001b[0;34m=\u001b[0m \u001b[0mself\u001b[0m\u001b[0;34m.\u001b[0m\u001b[0mcommand_executor\u001b[0m\u001b[0;34m.\u001b[0m\u001b[0mexecute\u001b[0m\u001b[0;34m(\u001b[0m\u001b[0mdriver_command\u001b[0m\u001b[0;34m,\u001b[0m \u001b[0mparams\u001b[0m\u001b[0;34m)\u001b[0m\u001b[0;34m\u001b[0m\u001b[0;34m\u001b[0m\u001b[0m\n\u001b[1;32m    383\u001b[0m         \u001b[0;32mif\u001b[0m \u001b[0mresponse\u001b[0m\u001b[0;34m:\u001b[0m\u001b[0;34m\u001b[0m\u001b[0;34m\u001b[0m\u001b[0m\n\u001b[0;32m--> 384\u001b[0;31m             \u001b[0mself\u001b[0m\u001b[0;34m.\u001b[0m\u001b[0merror_handler\u001b[0m\u001b[0;34m.\u001b[0m\u001b[0mcheck_response\u001b[0m\u001b[0;34m(\u001b[0m\u001b[0mresponse\u001b[0m\u001b[0;34m)\u001b[0m\u001b[0;34m\u001b[0m\u001b[0;34m\u001b[0m\u001b[0m\n\u001b[0m\u001b[1;32m    385\u001b[0m             \u001b[0mresponse\u001b[0m\u001b[0;34m[\u001b[0m\u001b[0;34m\"value\"\u001b[0m\u001b[0;34m]\u001b[0m \u001b[0;34m=\u001b[0m \u001b[0mself\u001b[0m\u001b[0;34m.\u001b[0m\u001b[0m_unwrap_value\u001b[0m\u001b[0;34m(\u001b[0m\u001b[0mresponse\u001b[0m\u001b[0;34m.\u001b[0m\u001b[0mget\u001b[0m\u001b[0;34m(\u001b[0m\u001b[0;34m\"value\"\u001b[0m\u001b[0;34m,\u001b[0m \u001b[0;32mNone\u001b[0m\u001b[0;34m)\u001b[0m\u001b[0;34m)\u001b[0m\u001b[0;34m\u001b[0m\u001b[0;34m\u001b[0m\u001b[0m\n\u001b[1;32m    386\u001b[0m             \u001b[0;32mreturn\u001b[0m \u001b[0mresponse\u001b[0m\u001b[0;34m\u001b[0m\u001b[0;34m\u001b[0m\u001b[0m\n",
            "\u001b[0;32m/usr/local/lib/python3.10/dist-packages/selenium/webdriver/remote/errorhandler.py\u001b[0m in \u001b[0;36mcheck_response\u001b[0;34m(self, response)\u001b[0m\n\u001b[1;32m    230\u001b[0m                 \u001b[0malert_text\u001b[0m \u001b[0;34m=\u001b[0m \u001b[0mvalue\u001b[0m\u001b[0;34m[\u001b[0m\u001b[0;34m\"alert\"\u001b[0m\u001b[0;34m]\u001b[0m\u001b[0;34m.\u001b[0m\u001b[0mget\u001b[0m\u001b[0;34m(\u001b[0m\u001b[0;34m\"text\"\u001b[0m\u001b[0;34m)\u001b[0m\u001b[0;34m\u001b[0m\u001b[0;34m\u001b[0m\u001b[0m\n\u001b[1;32m    231\u001b[0m             \u001b[0;32mraise\u001b[0m \u001b[0mexception_class\u001b[0m\u001b[0;34m(\u001b[0m\u001b[0mmessage\u001b[0m\u001b[0;34m,\u001b[0m \u001b[0mscreen\u001b[0m\u001b[0;34m,\u001b[0m \u001b[0mstacktrace\u001b[0m\u001b[0;34m,\u001b[0m \u001b[0malert_text\u001b[0m\u001b[0;34m)\u001b[0m  \u001b[0;31m# type: ignore[call-arg]  # mypy is not smart enough here\u001b[0m\u001b[0;34m\u001b[0m\u001b[0;34m\u001b[0m\u001b[0m\n\u001b[0;32m--> 232\u001b[0;31m         \u001b[0;32mraise\u001b[0m \u001b[0mexception_class\u001b[0m\u001b[0;34m(\u001b[0m\u001b[0mmessage\u001b[0m\u001b[0;34m,\u001b[0m \u001b[0mscreen\u001b[0m\u001b[0;34m,\u001b[0m \u001b[0mstacktrace\u001b[0m\u001b[0;34m)\u001b[0m\u001b[0;34m\u001b[0m\u001b[0;34m\u001b[0m\u001b[0m\n\u001b[0m",
            "\u001b[0;31mSessionNotCreatedException\u001b[0m: Message: session not created: Chrome failed to start: exited normally.\n  (session not created: DevToolsActivePort file doesn't exist)\n  (The process started from chrome location /root/.cache/selenium/chrome/linux64/131.0.6778.85/chrome is no longer running, so ChromeDriver is assuming that Chrome has crashed.)\nStacktrace:\n#0 0x56a964dfd31a <unknown>\n#1 0x56a9649136e0 <unknown>\n#2 0x56a96494adc8 <unknown>\n#3 0x56a964946926 <unknown>\n#4 0x56a9649926f6 <unknown>\n#5 0x56a964991d46 <unknown>\n#6 0x56a964986203 <unknown>\n#7 0x56a964954cc0 <unknown>\n#8 0x56a964955c9e <unknown>\n#9 0x56a964dcad0b <unknown>\n#10 0x56a964dcec92 <unknown>\n#11 0x56a964db7b3c <unknown>\n#12 0x56a964dcf807 <unknown>\n#13 0x56a964d9d0df <unknown>\n#14 0x56a964dec578 <unknown>\n#15 0x56a964dec740 <unknown>\n#16 0x56a964dfc196 <unknown>\n#17 0x7a74472f1ac3 <unknown>\n"
          ]
        }
      ],
      "source": [
        "driver=webdriver.Chrome()\n",
        "driver.get('https://www.amazon.in/s?k=amazon+toys&i=toys&rh=n%3A1350380031%2Cp_n_deal_type%3A26921226031&dc&ds=v1%3AHkOCakvpCLC9XT4Ck9PFTym%2BDWteSvgsawXN1aMk6yk&adgrpid=1318316047024037&hvadid=82395012227567&hvbmt=bb&hvdev=c&hvlocphy=157612&hvnetw=o&hvqmt=e&hvtargid=kwd-82395629494887%3Aloc-90&hydadcr=26199_2456954&msclkid=5e550a5da29a142cf4d96cf53481a36e&qid=1722324516&rnid=26921223031&tag=msndeskstdin-21&ref=sr_nr_p_n_deal_type_1')"
      ]
    },
    {
      "cell_type": "code",
      "execution_count": null,
      "id": "edc198e6-c6a7-4ac5-b8ff-a35fcf904103",
      "metadata": {
        "colab": {
          "base_uri": "https://localhost:8080/",
          "height": 126
        },
        "collapsed": true,
        "id": "edc198e6-c6a7-4ac5-b8ff-a35fcf904103",
        "outputId": "02840acf-369e-4e5a-b897-41fb07f4e3fd"
      },
      "outputs": [
        {
          "output_type": "execute_result",
          "data": {
            "text/plain": [
              "'<html><head>\\n<title>503 - Service Unavailable Error</title>\\n</head>\\n<body bgcolor=\"#FFFFFF\" text=\"#000000\">\\n\\n<!--\\n        To discuss automated access to Amazon data please contact api-services-support@amazon.com.\\n        For information about migrating to our APIs refer to our Marketplace APIs at https://developer.amazonservices.in/ref=rm_5_sv, or our Product Advertising API at https://affiliate-program.amazon.in/gp/advertising/api/detail/main.html/ref=rm_5_ac for advertising use cases.\\n-->\\n\\n<center>\\n<a href=\"https://www.amazon.in/ref=cs_503_logo/\">\\n<img src=\"https://images-eu.ssl-images-amazon.com/images/G/31/x-locale/communities/people/logo.gif\" width=\"200\" height=\"45\" alt=\"Amazon.in\" border=\"0\"></a>\\n<p align=\"center\">\\n<font face=\"Verdana,Arial,Helvetica\">\\n<font size=\"+2\" color=\"#CC6600\"><b>Oops!</b></font><br>\\n<b>It\\'s rush hour and traffic is piling up on that page. Please try again in a short while.<br>If you were trying to place an order, it will not have been processed at this time.</b></font></p><p><font face=\"Verdana,Arial,Helvetica\">\\n\\n<img src=\"https://images-eu.ssl-images-amazon.com/images/G/02/x-locale/common/orange-arrow.gif\" width=\"10\" height=\"9\" border=\"0\" alt=\"*\">\\n<b><a href=\"https://www.amazon.in/ref=cs_503_link/\">Go to the Amazon.in home page to continue shopping</a></b>\\n</font>\\n\\n</p></center>\\n\\n\\n</body></html>'"
            ],
            "application/vnd.google.colaboratory.intrinsic+json": {
              "type": "string"
            }
          },
          "metadata": {},
          "execution_count": 28
        }
      ],
      "source": [
        "driver.page_source"
      ]
    },
    {
      "cell_type": "code",
      "execution_count": null,
      "id": "633bd95b-7fb7-40f4-b7f2-abad1f3614ef",
      "metadata": {
        "id": "633bd95b-7fb7-40f4-b7f2-abad1f3614ef"
      },
      "outputs": [],
      "source": [
        "soup=BeautifulSoup(driver.page_source,'html.parser')"
      ]
    },
    {
      "cell_type": "code",
      "execution_count": null,
      "id": "d2a138bc-9741-40e1-85c9-ab3990c0ba4d",
      "metadata": {
        "colab": {
          "base_uri": "https://localhost:8080/"
        },
        "collapsed": true,
        "id": "d2a138bc-9741-40e1-85c9-ab3990c0ba4d",
        "outputId": "d31a45a2-4e67-47fa-ae90-495d6ef11b27"
      },
      "outputs": [
        {
          "output_type": "execute_result",
          "data": {
            "text/plain": [
              "[]"
            ]
          },
          "metadata": {},
          "execution_count": 30
        }
      ],
      "source": [
        "product_span_tag =soup.find_all('span',attrs={'class':'a-size-base-plus a-color-base a-text-normal'})\n",
        "product_name=[p.text for p in product_span_tag]\n",
        "product_name"
      ]
    },
    {
      "cell_type": "code",
      "execution_count": null,
      "id": "29977092-99a7-4b6b-b91d-4b8055a29da5",
      "metadata": {
        "colab": {
          "base_uri": "https://localhost:8080/"
        },
        "collapsed": true,
        "id": "29977092-99a7-4b6b-b91d-4b8055a29da5",
        "outputId": "4bcbe5d9-55a1-4f8c-8a93-a2f772823fcf"
      },
      "outputs": [
        {
          "output_type": "execute_result",
          "data": {
            "text/plain": [
              "[]"
            ]
          },
          "metadata": {},
          "execution_count": 31
        }
      ],
      "source": [
        "price_span_tag = soup.find_all('span',attrs={'class':'a-price-whole'})\n",
        "product_price = [p.text.replace(',','') for p in price_span_tag]\n",
        "product_price"
      ]
    },
    {
      "cell_type": "code",
      "execution_count": null,
      "id": "48848297-0dc7-4de0-8ccd-c82a3442d98e",
      "metadata": {
        "colab": {
          "base_uri": "https://localhost:8080/"
        },
        "collapsed": true,
        "id": "48848297-0dc7-4de0-8ccd-c82a3442d98e",
        "outputId": "8e50408f-adb6-4ff4-fdbe-4b9e58c27ea7"
      },
      "outputs": [
        {
          "output_type": "execute_result",
          "data": {
            "text/plain": [
              "[]"
            ]
          },
          "metadata": {},
          "execution_count": 32
        }
      ],
      "source": [
        "rating_span_tag=soup.find_all('span',attrs={'class':'a-icon-alt'})\n",
        "product_rating = [p.text[:3] for p in rating_span_tag[4:-1]]\n",
        "product_rating"
      ]
    },
    {
      "cell_type": "code",
      "execution_count": null,
      "id": "9b13fdde-48b2-4ad3-89d2-197481a906b4",
      "metadata": {
        "colab": {
          "base_uri": "https://localhost:8080/"
        },
        "collapsed": true,
        "id": "9b13fdde-48b2-4ad3-89d2-197481a906b4",
        "outputId": "696a0b38-1144-4a6c-ee33-fe13eeb0222c"
      },
      "outputs": [
        {
          "output_type": "stream",
          "name": "stdout",
          "text": [
            "0 0 0\n"
          ]
        }
      ],
      "source": [
        "print(len(product_name),len(product_price),len(product_rating))\n",
        "product_name=product_name[:41]\n",
        "product_price=product_price[:41]\n",
        "product_rating=product_rating[:41]"
      ]
    },
    {
      "cell_type": "code",
      "execution_count": null,
      "id": "7a5ef21c-08af-4936-8946-15b9237f1cd4",
      "metadata": {
        "id": "7a5ef21c-08af-4936-8946-15b9237f1cd4"
      },
      "outputs": [],
      "source": [
        "df=pd.DataFrame({'title':product_name,\n",
        "                 'price':product_price,\n",
        "                 'rating':product_rating})\n",
        "df.to_csv(\"amazon_toys_scraped_data.csv\",index=False)"
      ]
    },
    {
      "cell_type": "code",
      "execution_count": null,
      "id": "606ca4ff-2d52-4edd-b94e-912a70f086e7",
      "metadata": {
        "id": "606ca4ff-2d52-4edd-b94e-912a70f086e7"
      },
      "outputs": [],
      "source": []
    }
  ],
  "metadata": {
    "kernelspec": {
      "display_name": "Python 3 (ipykernel)",
      "language": "python",
      "name": "python3"
    },
    "language_info": {
      "codemirror_mode": {
        "name": "ipython",
        "version": 3
      },
      "file_extension": ".py",
      "mimetype": "text/x-python",
      "name": "python",
      "nbconvert_exporter": "python",
      "pygments_lexer": "ipython3",
      "version": "3.12.7"
    },
    "colab": {
      "provenance": [],
      "include_colab_link": true
    }
  },
  "nbformat": 4,
  "nbformat_minor": 5
}