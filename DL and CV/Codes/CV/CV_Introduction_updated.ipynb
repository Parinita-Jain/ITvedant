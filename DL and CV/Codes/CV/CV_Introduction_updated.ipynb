{
 "cells": [
  {
   "cell_type": "markdown",
   "metadata": {},
   "source": [
    "# Introduction to OpenCV"
   ]
  },
  {
   "cell_type": "code",
   "execution_count": 1,
   "metadata": {
    "id": "SCKM_rM9pRx8"
   },
   "outputs": [],
   "source": [
    "import numpy as np\n",
    "import cv2\n",
    "import matplotlib.pyplot as plt"
   ]
  },
  {
   "cell_type": "markdown",
   "metadata": {},
   "source": [
    "## Reading Images"
   ]
  },
  {
   "cell_type": "markdown",
   "metadata": {
    "id": "8Ry-V3br0G2M"
   },
   "source": [
    "cv2.IMREAD_COLOR: It specifies to load a color image. Any transparency of image will be neglected. It is the default flag. Alternatively, we can pass integer value 1 for this flag.\n",
    "\n",
    "\n",
    "cv2.IMREAD_GRAYSCALE: It specifies to load an image in grayscale mode. Alternatively, we can pass integer value 0 for this flag.\n",
    "\n",
    "\n",
    "cv2.IMREAD_UNCHANGED: It specifies to load an image as such including alpha channel. Alternatively, we can pass integer value -1 for this flag."
   ]
  },
  {
   "cell_type": "code",
   "execution_count": 2,
   "metadata": {
    "id": "f26VYVsZqGBO"
   },
   "outputs": [],
   "source": [
    "color_img = cv2.imread(r'C:\\Users\\hp\\Documents\\AI\\DL_MyTry\\Resources\\OIP.jpg', cv2.IMREAD_COLOR)\n",
    "gray_img = cv2.imread(r'C:\\Users\\hp\\Documents\\AI\\DL_MyTry\\Resources\\OIP.jpg', cv2.IMREAD_GRAYSCALE) # gray = cv2.cvtColor(color_img, cv2.COLOR_BGR2GRAY)\n",
    "alpha_img = cv2.imread(r'C:\\Users\\hp\\Documents\\AI\\DL_MyTry\\Resources\\UIEBe.png', cv2.IMREAD_UNCHANGED)"
   ]
  },
  {
   "cell_type": "code",
   "execution_count": 3,
   "metadata": {
    "id": "wF0icsG03A1A"
   },
   "outputs": [],
   "source": [
    "\n",
    "color_img_1 = cv2.imread(r'C:\\Users\\hp\\Documents\\AI\\DL_MyTry\\Resources\\OIP.jpg', 1)\n",
    "gray_img_1 = cv2.imread(r'C:\\Users\\hp\\Documents\\AI\\DL_MyTry\\Resources\\OIP.jpg', 0)\n",
    "alpha_img_1 = cv2.imread(r'C:\\Users\\hp\\Documents\\AI\\DL_MyTry\\Resources\\UIEBe.png', -1)"
   ]
  },
  {
   "cell_type": "code",
   "execution_count": 4,
   "metadata": {},
   "outputs": [
    {
     "data": {
      "text/plain": [
       "(381, 225, 4)"
      ]
     },
     "execution_count": 4,
     "metadata": {},
     "output_type": "execute_result"
    }
   ],
   "source": [
    "alpha_img_1.shape"
   ]
  },
  {
   "cell_type": "code",
   "execution_count": 5,
   "metadata": {
    "colab": {
     "base_uri": "https://localhost:8080/"
    },
    "executionInfo": {
     "elapsed": 463,
     "status": "ok",
     "timestamp": 1693721921753,
     "user": {
      "displayName": "Faculty ITVEDANT",
      "userId": "00597491389009726246"
     },
     "user_tz": -330
    },
    "id": "u6bKcY_l4dHB",
    "outputId": "9f74ad46-211a-4101-87c2-077db3452941"
   },
   "outputs": [
    {
     "data": {
      "text/plain": [
       "(266, 474, 3)"
      ]
     },
     "execution_count": 5,
     "metadata": {},
     "output_type": "execute_result"
    }
   ],
   "source": [
    "color_img.shape"
   ]
  },
  {
   "cell_type": "code",
   "execution_count": 6,
   "metadata": {
    "colab": {
     "base_uri": "https://localhost:8080/"
    },
    "executionInfo": {
     "elapsed": 482,
     "status": "ok",
     "timestamp": 1693721937431,
     "user": {
      "displayName": "Faculty ITVEDANT",
      "userId": "00597491389009726246"
     },
     "user_tz": -330
    },
    "id": "gf2rw-iU4m4S",
    "outputId": "c4b52517-433f-429b-adb2-28359e0ea9ad"
   },
   "outputs": [
    {
     "data": {
      "text/plain": [
       "(266, 474)"
      ]
     },
     "execution_count": 6,
     "metadata": {},
     "output_type": "execute_result"
    }
   ],
   "source": [
    "gray_img.shape"
   ]
  },
  {
   "cell_type": "code",
   "execution_count": 7,
   "metadata": {
    "colab": {
     "base_uri": "https://localhost:8080/"
    },
    "executionInfo": {
     "elapsed": 402,
     "status": "ok",
     "timestamp": 1693641355822,
     "user": {
      "displayName": "Faculty ITVEDANT",
      "userId": "00597491389009726246"
     },
     "user_tz": -330
    },
    "id": "HZFTc2_Q4yiC",
    "outputId": "d5f78dc2-7001-491e-98d8-1d4eacc3c195"
   },
   "outputs": [
    {
     "data": {
      "text/plain": [
       "(381, 225, 4)"
      ]
     },
     "execution_count": 7,
     "metadata": {},
     "output_type": "execute_result"
    }
   ],
   "source": [
    "alpha_img.shape"
   ]
  },
  {
   "cell_type": "code",
   "execution_count": 8,
   "metadata": {
    "colab": {
     "base_uri": "https://localhost:8080/"
    },
    "executionInfo": {
     "elapsed": 413,
     "status": "ok",
     "timestamp": 1693641538937,
     "user": {
      "displayName": "Faculty ITVEDANT",
      "userId": "00597491389009726246"
     },
     "user_tz": -330
    },
    "id": "Ngmga8Gw5uDE",
    "outputId": "a6778a22-8260-47a4-d0e9-434f32c43621"
   },
   "outputs": [
    {
     "data": {
      "text/plain": [
       "array([[[ 57,  58,  56],\n",
       "        [ 57,  58,  56],\n",
       "        [ 57,  58,  56],\n",
       "        ...,\n",
       "        [ 54,  55,  53],\n",
       "        [ 52,  53,  51],\n",
       "        [ 52,  53,  51]],\n",
       "\n",
       "       [[ 57,  58,  56],\n",
       "        [ 57,  58,  56],\n",
       "        [ 57,  58,  56],\n",
       "        ...,\n",
       "        [ 54,  55,  53],\n",
       "        [ 52,  53,  51],\n",
       "        [ 52,  53,  51]],\n",
       "\n",
       "       [[ 58,  59,  57],\n",
       "        [ 58,  59,  57],\n",
       "        [ 58,  59,  57],\n",
       "        ...,\n",
       "        [ 55,  56,  54],\n",
       "        [ 51,  52,  50],\n",
       "        [ 51,  52,  50]],\n",
       "\n",
       "       ...,\n",
       "\n",
       "       [[ 92,  85,  88],\n",
       "        [ 90,  85,  86],\n",
       "        [ 85,  86,  84],\n",
       "        ...,\n",
       "        [109, 104, 105],\n",
       "        [110, 104,  99],\n",
       "        [114, 104,  97]],\n",
       "\n",
       "       [[105,  97,  98],\n",
       "        [ 95,  90,  89],\n",
       "        [ 88,  87,  83],\n",
       "        ...,\n",
       "        [110, 106, 105],\n",
       "        [115, 109, 104],\n",
       "        [120, 112, 105]],\n",
       "\n",
       "       [[105,  97,  98],\n",
       "        [ 95,  90,  89],\n",
       "        [ 88,  87,  83],\n",
       "        ...,\n",
       "        [110, 106, 105],\n",
       "        [115, 109, 104],\n",
       "        [120, 112, 105]]], dtype=uint8)"
      ]
     },
     "execution_count": 8,
     "metadata": {},
     "output_type": "execute_result"
    }
   ],
   "source": [
    "color_img"
   ]
  },
  {
   "cell_type": "code",
   "execution_count": 9,
   "metadata": {
    "colab": {
     "base_uri": "https://localhost:8080/"
    },
    "executionInfo": {
     "elapsed": 411,
     "status": "ok",
     "timestamp": 1693641644420,
     "user": {
      "displayName": "Faculty ITVEDANT",
      "userId": "00597491389009726246"
     },
     "user_tz": -330
    },
    "id": "7-u9wB7M6IMD",
    "outputId": "c4925fb1-9213-41da-a5a4-3fcb6bff0dcf"
   },
   "outputs": [
    {
     "data": {
      "text/plain": [
       "array([[ 57,  57,  57, ...,  54,  52,  52],\n",
       "       [ 57,  57,  57, ...,  54,  52,  52],\n",
       "       [ 58,  58,  58, ...,  55,  51,  51],\n",
       "       ...,\n",
       "       [ 87,  86,  85, ..., 105, 103, 103],\n",
       "       [ 98,  90,  86, ..., 106, 108, 111],\n",
       "       [ 98,  90,  86, ..., 106, 108, 111]], dtype=uint8)"
      ]
     },
     "execution_count": 9,
     "metadata": {},
     "output_type": "execute_result"
    }
   ],
   "source": [
    "gray_img"
   ]
  },
  {
   "cell_type": "code",
   "execution_count": 10,
   "metadata": {
    "colab": {
     "base_uri": "https://localhost:8080/"
    },
    "executionInfo": {
     "elapsed": 4,
     "status": "ok",
     "timestamp": 1693597342343,
     "user": {
      "displayName": "Faculty ITVEDANT",
      "userId": "00597491389009726246"
     },
     "user_tz": -330
    },
    "id": "mjgzO2r2qXZU",
    "outputId": "35422693-a85d-4b3a-91bf-01268412bd20"
   },
   "outputs": [
    {
     "data": {
      "text/plain": [
       "((266, 474, 3), (266, 474), (381, 225, 4))"
      ]
     },
     "execution_count": 10,
     "metadata": {},
     "output_type": "execute_result"
    }
   ],
   "source": [
    "color_img.shape, gray_img.shape, alpha_img.shape"
   ]
  },
  {
   "cell_type": "code",
   "execution_count": null,
   "metadata": {
    "colab": {
     "base_uri": "https://localhost:8080/",
     "height": 398
    },
    "executionInfo": {
     "elapsed": 1025,
     "status": "ok",
     "timestamp": 1693720837300,
     "user": {
      "displayName": "Faculty ITVEDANT",
      "userId": "00597491389009726246"
     },
     "user_tz": -330
    },
    "id": "R7VBdjsT6ZKt",
    "outputId": "3758eabd-897d-4cd4-e9e2-1f01b53d47cd"
   },
   "outputs": [],
   "source": [
    "cv2.imshow(\"Black and White\",gray_img)\n",
    "cv2.imshow(\"Color\",color_img) #5sec\n",
    "cv2.waitKey(0)\n",
    "cv2.destroyAllWindows()"
   ]
  },
  {
   "cell_type": "code",
   "execution_count": null,
   "metadata": {},
   "outputs": [],
   "source": [
    "cv2.imshow(\"Color\",color_img)\n",
    "cv2.waitKey(5000) #5sec\n",
    "cv2.destroyAllWindows()"
   ]
  },
  {
   "cell_type": "code",
   "execution_count": null,
   "metadata": {
    "colab": {
     "base_uri": "https://localhost:8080/",
     "height": 398
    },
    "executionInfo": {
     "elapsed": 1392,
     "status": "ok",
     "timestamp": 1693597346502,
     "user": {
      "displayName": "Faculty ITVEDANT",
      "userId": "00597491389009726246"
     },
     "user_tz": -330
    },
    "id": "M9S-p40Fz905",
    "outputId": "212eb2a5-2c89-486b-d896-9206561835e4"
   },
   "outputs": [],
   "source": [
    "cv2.imshow(\"Color\",color_img)\n",
    "if cv2.waitKey(0) & 0xFF == ord('r'):\n",
    "    cv2.destroyAllWindows()"
   ]
  },
  {
   "cell_type": "code",
   "execution_count": null,
   "metadata": {},
   "outputs": [],
   "source": [
    "cv2.imshow(\"Color\",alpha_img)\n",
    "if cv2.waitKey(0) & 0xFF == ord('q'):\n",
    "    cv2.destroyAllWindows()"
   ]
  },
  {
   "cell_type": "code",
   "execution_count": null,
   "metadata": {
    "colab": {
     "base_uri": "https://localhost:8080/",
     "height": 452
    },
    "executionInfo": {
     "elapsed": 1200,
     "status": "ok",
     "timestamp": 1693642042575,
     "user": {
      "displayName": "Faculty ITVEDANT",
      "userId": "00597491389009726246"
     },
     "user_tz": -330
    },
    "id": "yFRCOVWU0XpU",
    "outputId": "ed12a5b0-c638-4fa5-f04d-ecc4bd104087"
   },
   "outputs": [],
   "source": [
    "plt.imshow(color_img)"
   ]
  },
  {
   "cell_type": "code",
   "execution_count": null,
   "metadata": {},
   "outputs": [],
   "source": [
    "color_img.shape"
   ]
  },
  {
   "cell_type": "code",
   "execution_count": null,
   "metadata": {
    "colab": {
     "base_uri": "https://localhost:8080/",
     "height": 452
    },
    "executionInfo": {
     "elapsed": 900,
     "status": "ok",
     "timestamp": 1693642115399,
     "user": {
      "displayName": "Faculty ITVEDANT",
      "userId": "00597491389009726246"
     },
     "user_tz": -330
    },
    "id": "1P6WQ0a803AT",
    "outputId": "9f59bce7-9469-4c87-a0b2-a77e4fbbe3ad"
   },
   "outputs": [],
   "source": [
    "RGB_img = cv2.cvtColor(color_img, cv2.COLOR_BGR2RGB)\n",
    "plt.imshow(RGB_img)"
   ]
  },
  {
   "cell_type": "code",
   "execution_count": null,
   "metadata": {
    "colab": {
     "base_uri": "https://localhost:8080/",
     "height": 398
    },
    "executionInfo": {
     "elapsed": 6,
     "status": "ok",
     "timestamp": 1693642136986,
     "user": {
      "displayName": "Faculty ITVEDANT",
      "userId": "00597491389009726246"
     },
     "user_tz": -330
    },
    "id": "nXCA0Q3s7-Z9",
    "outputId": "7db02e0e-e39c-4a2d-943f-71ea627cecb1"
   },
   "outputs": [],
   "source": [
    "cv2.imshow(\"Color\",RGB_img)\n",
    "cv2.waitKey(5000) #5sec\n",
    "cv2.destroyAllWindows()"
   ]
  },
  {
   "cell_type": "markdown",
   "metadata": {},
   "source": [
    "## Saving the image"
   ]
  },
  {
   "cell_type": "code",
   "execution_count": null,
   "metadata": {},
   "outputs": [],
   "source": [
    "cv2.imwrite('edited.jpg', color_img)"
   ]
  },
  {
   "cell_type": "code",
   "execution_count": null,
   "metadata": {},
   "outputs": [],
   "source": [
    "# Brightness \n",
    "new_gray_img=gray_img+70\n",
    "cv2.imshow(\"new_color_img\", new_gray_img)\n",
    "cv2.waitKey(0)\n",
    "cv2.destroyAllWindows()"
   ]
  },
  {
   "cell_type": "code",
   "execution_count": null,
   "metadata": {},
   "outputs": [],
   "source": [
    "# contrast\n",
    "new_gray_img=gray_img*.21\n",
    "cv2.imshow(\"new_color_img\", new_gray_img)\n",
    "cv2.waitKey(0)\n",
    "cv2.destroyAllWindows()"
   ]
  },
  {
   "cell_type": "markdown",
   "metadata": {
    "id": "cGQeIsfikAe5"
   },
   "source": [
    "## Extracting RGB values of pixels"
   ]
  },
  {
   "cell_type": "code",
   "execution_count": null,
   "metadata": {
    "id": "BfF02_DMj9_b"
   },
   "outputs": [],
   "source": [
    "import cv2\n",
    "\n",
    "B, G, R = cv2.split(color_img)\n",
    "# Corresponding channels are separated\n",
    "\n",
    "cv2.imshow(\"blue\", B)\n",
    "cv2.waitKey(0)\n",
    "\n",
    "cv2.imshow(\"Green\", G)\n",
    "cv2.waitKey(0)\n",
    "\n",
    "cv2.imshow(\"red\", R)\n",
    "cv2.waitKey(0)"
   ]
  },
  {
   "cell_type": "markdown",
   "metadata": {},
   "source": [
    "## Extraction Region Of Interest (ROI)"
   ]
  },
  {
   "cell_type": "code",
   "execution_count": null,
   "metadata": {},
   "outputs": [],
   "source": [
    "RGB_img = cv2.cvtColor(color_img, cv2.COLOR_BGR2RGB)\n",
    "plt.imshow(RGB_img)\n",
    "plt.yticks(range(0,RGB_img.shape[0],10))\n",
    "plt.xticks(range(0,RGB_img.shape[1],20))\n",
    "plt.xticks(rotation=40)\n",
    "plt.show()"
   ]
  },
  {
   "cell_type": "code",
   "execution_count": null,
   "metadata": {},
   "outputs": [],
   "source": [
    "RGB_img.shape"
   ]
  },
  {
   "cell_type": "code",
   "execution_count": null,
   "metadata": {},
   "outputs": [],
   "source": [
    "image=cv2.imread(r'C:\\Users\\hp\\Documents\\AI\\DL_MyTry\\Resources\\OIP.jpg')\n",
    "\n",
    "# Step 3: Extract the ROI\n",
    "roi = image[0:150, 180:300] # for face\n",
    "#roi = image[50:155, 350:430] # for flower \n",
    "\n",
    "# Step 4: Display the Original Image and the ROI\n",
    "# Convert BGR image to RGB for displaying with matplotlib\n",
    "image_rgb = cv2.cvtColor(image, cv2.COLOR_BGR2RGB)\n",
    "roi_rgb = cv2.cvtColor(roi, cv2.COLOR_BGR2RGB)\n",
    "\n",
    "plt.title(\"Region of Interest (ROI)\")\n",
    "plt.imshow(roi_rgb)\n",
    "plt.show()\n",
    "\n",
    "plt.imshow(image_rgb)\n",
    "\n",
    "\n"
   ]
  },
  {
   "cell_type": "markdown",
   "metadata": {},
   "source": [
    "## Extracting height and width of an image"
   ]
  },
  {
   "cell_type": "code",
   "execution_count": null,
   "metadata": {
    "colab": {
     "base_uri": "https://localhost:8080/",
     "height": 245
    },
    "executionInfo": {
     "elapsed": 11,
     "status": "error",
     "timestamp": 1693669646954,
     "user": {
      "displayName": "Faculty ITVEDANT",
      "userId": "00597491389009726246"
     },
     "user_tz": -330
    },
    "id": "FT1oKX102aZ9",
    "outputId": "993745ae-314f-48e6-ca32-9e205a84ea5f"
   },
   "outputs": [],
   "source": [
    "#reading the image using imread() function\n",
    "\n",
    "image=cv2.imread(r'C:\\Users\\hp\\Documents\\AI\\DL_MyTry\\Resources\\OIP.jpg')\n",
    "\n",
    "#Extracting the height and width of image\n",
    "\n",
    "h,w=image.shape[:2]\n",
    "\n",
    "#display the heigh and width\n",
    "\n",
    "print(f\"height = {h} , width = {w}\")"
   ]
  },
  {
   "cell_type": "markdown",
   "metadata": {},
   "source": [
    "## Resizing the image"
   ]
  },
  {
   "cell_type": "markdown",
   "metadata": {
    "id": "GZso9zBS8-YP"
   },
   "source": [
    "### Resizing an image can be done in many ways. We will look into examples demonstrating the following resize operations.\n",
    "\n",
    "1. Preserve Aspect Ratio (height to width ratio of image is preserved)\n",
    "\n",
    "  - Downscale (Decrease the size of the image)\n",
    "\n",
    "  - Upscale (Increase the size of the image)\n",
    "\n",
    "2. Do not preserve Aspect Ratio\n",
    "  \n",
    "  - Resize only the width (Increase or decrease the width of the image keeping height unchanged)\n",
    "  \n",
    "  - Resize only the height (Increase or decrease the height of the image keeping width unchanged)\n",
    "\n",
    "3. Resize to specific width and height"
   ]
  },
  {
   "cell_type": "markdown",
   "metadata": {
    "id": "2wnJ9quflXAq"
   },
   "source": [
    "**Choice of Interpolation Method for Resizing:**\n",
    "\n",
    "cv2.INTER_AREA: This is used when we need to shrink an image.\n",
    "\n",
    "\n",
    "cv2.INTER_CUBIC: This is slow but more efficient.\n",
    "\n",
    "\n",
    "cv2.INTER_LINEAR: This is primarily used when zooming is required. This is the default interpolation technique in OpenCV."
   ]
  },
  {
   "cell_type": "markdown",
   "metadata": {
    "id": "3A2CA-o-9apN"
   },
   "source": [
    "### 1. Downscale – Resize and Preserve Aspect Ratio"
   ]
  },
  {
   "cell_type": "code",
   "execution_count": null,
   "metadata": {
    "colab": {
     "base_uri": "https://localhost:8080/",
     "height": 211
    },
    "executionInfo": {
     "elapsed": 1472,
     "status": "ok",
     "timestamp": 1693726829711,
     "user": {
      "displayName": "Faculty ITVEDANT",
      "userId": "00597491389009726246"
     },
     "user_tz": -330
    },
    "id": "9y5ccZ1B6lUa",
    "outputId": "4a8d0462-2544-4cb5-ae1e-3b59db3ffadb"
   },
   "outputs": [],
   "source": [
    "img = cv2.imread(r'C:\\Users\\hp\\Documents\\AI\\DL_MyTry\\Resources\\OIP.jpg', 1)\n",
    "\n",
    "print('Original Dimensions : ',img.shape)\n",
    "\n",
    "scale_percent = 60 # percent of original size\n",
    "width = int(img.shape[1] * scale_percent / 100)\n",
    "height = int(img.shape[0] * scale_percent / 100)\n",
    "dim = (width, height)\n",
    "\n",
    "# resize image\n",
    "resized = cv2.resize(img, dim, interpolation = cv2.INTER_AREA)\n",
    "\n",
    "print('Resized Dimensions : ',resized.shape)\n",
    "\n",
    "cv2.imshow(\"Original\",img)\n",
    "cv2.imshow(\"Resized\",resized)\n",
    "cv2.waitKey(0)\n",
    "cv2.destroyAllWindows()"
   ]
  },
  {
   "cell_type": "markdown",
   "metadata": {
    "id": "SrHernbm90I3"
   },
   "source": [
    "### 2. Upscale – Resize and Preserve Aspect Ratio"
   ]
  },
  {
   "cell_type": "code",
   "execution_count": null,
   "metadata": {
    "colab": {
     "base_uri": "https://localhost:8080/",
     "height": 637
    },
    "executionInfo": {
     "elapsed": 2614,
     "status": "ok",
     "timestamp": 1693726949564,
     "user": {
      "displayName": "Faculty ITVEDANT",
      "userId": "00597491389009726246"
     },
     "user_tz": -330
    },
    "id": "rVAaLb7W9vgl",
    "outputId": "1d9bc64c-bdb6-4a66-9670-6d36d861506f"
   },
   "outputs": [],
   "source": [
    "img = cv2.imread(r'C:\\Users\\hp\\Documents\\AI\\DL_MyTry\\Resources\\OIP.jpg', 1)\n",
    "\n",
    "print('Original Dimensions : ',img.shape)\n",
    "\n",
    "scale_percent = 120 # percent of original size\n",
    "width = int(img.shape[1] * scale_percent / 100)\n",
    "height = int(img.shape[0] * scale_percent / 100)\n",
    "dim = (width, height)\n",
    "\n",
    "# resize image\n",
    "resized = cv2.resize(img, dim, interpolation = cv2.INTER_CUBIC)\n",
    "\n",
    "print('Resized Dimensions : ',resized.shape)\n",
    "\n",
    "cv2.imshow(\"Original\",img)\n",
    "cv2.imshow(\"Resized\",resized)\n",
    "cv2.waitKey(0)\n",
    "cv2.destroyAllWindows()"
   ]
  },
  {
   "cell_type": "markdown",
   "metadata": {
    "id": "QmIhRWDy-E6W"
   },
   "source": [
    "### 3. Resize only width and do not preserve Aspect Ratio"
   ]
  },
  {
   "cell_type": "code",
   "execution_count": null,
   "metadata": {
    "colab": {
     "base_uri": "https://localhost:8080/",
     "height": 318
    },
    "executionInfo": {
     "elapsed": 27,
     "status": "ok",
     "timestamp": 1693597355578,
     "user": {
      "displayName": "Faculty ITVEDANT",
      "userId": "00597491389009726246"
     },
     "user_tz": -330
    },
    "id": "2kLd96a-9_TV",
    "outputId": "ef670809-568f-4a1e-b616-6404c4cb3a21"
   },
   "outputs": [],
   "source": [
    "img = cv2.imread(r'C:\\Users\\hp\\Documents\\AI\\DL_MyTry\\Resources\\OIP.jpg', 1)\n",
    "\n",
    "print('Original Dimensions : ',img.shape)\n",
    "\n",
    "width = 900\n",
    "height = img.shape[0] # keep original height\n",
    "dim = (width, height)\n",
    "\n",
    "# resize image\n",
    "resized = cv2.resize(img, dim, interpolation = cv2.INTER_AREA)\n",
    "\n",
    "print('Resized Dimensions : ',resized.shape)\n",
    "\n",
    "cv2.imshow(\"Original\",img)\n",
    "cv2.imshow(\"Resized\",resized)\n",
    "cv2.waitKey(0)\n",
    "cv2.destroyAllWindows()"
   ]
  },
  {
   "cell_type": "markdown",
   "metadata": {
    "id": "oFicbOgZ-TH5"
   },
   "source": [
    "### 4. Resize only height and do not preserve Aspect Ratio"
   ]
  },
  {
   "cell_type": "code",
   "execution_count": null,
   "metadata": {
    "colab": {
     "base_uri": "https://localhost:8080/",
     "height": 492
    },
    "executionInfo": {
     "elapsed": 23,
     "status": "ok",
     "timestamp": 1693597355579,
     "user": {
      "displayName": "Faculty ITVEDANT",
      "userId": "00597491389009726246"
     },
     "user_tz": -330
    },
    "id": "Sdnqzud2-Pbi",
    "outputId": "cfe0c1b4-2fb4-4039-f9ac-af3f51386a8f"
   },
   "outputs": [],
   "source": [
    "img = cv2.imread(r'C:\\Users\\hp\\Documents\\AI\\DL_MyTry\\Resources\\OIP.jpg', 1)\n",
    "\n",
    "print('Original Dimensions : ',img.shape)\n",
    "\n",
    "width = img.shape[1] # keep original width\n",
    "height = 440\n",
    "dim = (width, height)\n",
    "\n",
    "# resize image\n",
    "resized = cv2.resize(img, dim, interpolation = cv2.INTER_AREA)\n",
    "\n",
    "print('Resized Dimensions : ',resized.shape)\n",
    "\n",
    "cv2.imshow(\"Original\",img)\n",
    "cv2.imshow(\"Resized\",resized)\n",
    "cv2.waitKey(0)\n",
    "cv2.destroyAllWindows()"
   ]
  },
  {
   "cell_type": "markdown",
   "metadata": {
    "id": "s5lEHKG7-hnU"
   },
   "source": [
    "### 5. Resize to specific width and height"
   ]
  },
  {
   "cell_type": "code",
   "execution_count": null,
   "metadata": {
    "colab": {
     "base_uri": "https://localhost:8080/",
     "height": 502
    },
    "executionInfo": {
     "elapsed": 19,
     "status": "ok",
     "timestamp": 1693597355580,
     "user": {
      "displayName": "Faculty ITVEDANT",
      "userId": "00597491389009726246"
     },
     "user_tz": -330
    },
    "id": "kj7tqr66-eGD",
    "outputId": "47e10321-438c-4a35-9517-c0d9d2974b25"
   },
   "outputs": [],
   "source": [
    "img = cv2.imread(r'C:\\Users\\hp\\Documents\\AI\\DL_MyTry\\Resources\\OIP.jpg', 1)\n",
    "\n",
    "print('Original Dimensions : ',img.shape)\n",
    "\n",
    "width = 350\n",
    "height = 450\n",
    "dim = (width, height)\n",
    "\n",
    "# resize image\n",
    "resized = cv2.resize(img, dim, interpolation = cv2.INTER_AREA)\n",
    "\n",
    "print('Resized Dimensions : ',resized.shape)\n",
    "\n",
    "cv2.imshow(\"Original\",img)\n",
    "cv2.imshow(\"Resized\",resized)\n",
    "cv2.waitKey(0)\n",
    "cv2.destroyAllWindows()"
   ]
  },
  {
   "cell_type": "markdown",
   "metadata": {
    "id": "EIoKugIQCQTR"
   },
   "source": [
    "## Rotating the image"
   ]
  },
  {
   "cell_type": "code",
   "execution_count": null,
   "metadata": {
    "colab": {
     "base_uri": "https://localhost:8080/",
     "height": 283
    },
    "executionInfo": {
     "elapsed": 1700,
     "status": "ok",
     "timestamp": 1693728655846,
     "user": {
      "displayName": "Faculty ITVEDANT",
      "userId": "00597491389009726246"
     },
     "user_tz": -330
    },
    "id": "7is9kaj4-qOJ",
    "outputId": "8739b7c1-63cf-489b-88fc-3a9780382336"
   },
   "outputs": [],
   "source": [
    "img = cv2.imread(r'C:\\Users\\hp\\Documents\\AI\\DL_MyTry\\Resources\\OIP.jpg', 1)\n",
    "# Calculating the center of the image\n",
    "\n",
    "h,w = img.shape[:2]\n",
    "\n",
    "print(w, h)\n",
    "\n",
    "center = (w // 2, h // 2)\n",
    "\n",
    "\n",
    "# Generating a rotation matrix\n",
    "\n",
    "#matrix = cv2.getRotationMatrix2D(center, 45, 1.0) # original size image\n",
    "#matrix = cv2.getRotationMatrix2D(center, 45, 2.5) # gives zoomed image\n",
    "#matrix = cv2.getRotationMatrix2D(center, 45, 2.5) # shrinked image\n",
    "matrix = cv2.getRotationMatrix2D(center, 180, 1.0) # upside down\n",
    "\n",
    "\n",
    "# Performing the affine transformation\n",
    "\n",
    "#rotated = cv2.warpAffine(img, matrix, (w, h))\n",
    "\n",
    "rotated = cv2.warpAffine(img, matrix, (600, 400)) # then window area gets increased and image size is that only. \n",
    "# Thats why we need scale value in getRotationMatrix2D to fill the black area.\n",
    "\n",
    "cv2.imshow(\"Original\",img)\n",
    "cv2.imshow(\"Rotated\",rotated)\n",
    "cv2.waitKey(0)\n",
    "cv2.destroyAllWindows()"
   ]
  },
  {
   "cell_type": "markdown",
   "metadata": {
    "id": "_3WCIQhOpkZB"
   },
   "source": [
    "## Drawing Rectangle"
   ]
  },
  {
   "cell_type": "code",
   "execution_count": null,
   "metadata": {},
   "outputs": [],
   "source": [
    "img = cv2.imread(r'C:\\Users\\hp\\Documents\\AI\\DL_MyTry\\Resources\\OIP.jpg', 1)"
   ]
  },
  {
   "cell_type": "code",
   "execution_count": null,
   "metadata": {
    "colab": {
     "base_uri": "https://localhost:8080/",
     "height": 361
    },
    "executionInfo": {
     "elapsed": 2202,
     "status": "ok",
     "timestamp": 1693728853093,
     "user": {
      "displayName": "Faculty ITVEDANT",
      "userId": "00597491389009726246"
     },
     "user_tz": -330
    },
    "id": "v74fgfMdGxXS",
    "outputId": "ece16f90-bb87-4e7d-8302-cdd876d62c20"
   },
   "outputs": [],
   "source": [
    "cv2.imshow(\"Original\",img)\n",
    "cv2.waitKey(0)\n",
    "cv2.destroyAllWindows()"
   ]
  },
  {
   "cell_type": "code",
   "execution_count": null,
   "metadata": {},
   "outputs": [],
   "source": [
    "plt.imshow(img)"
   ]
  },
  {
   "cell_type": "code",
   "execution_count": null,
   "metadata": {
    "id": "AZz_JHkQDdvD"
   },
   "outputs": [],
   "source": [
    "rectangle = cv2.rectangle(img, (180,0),(300,140), (255,230,120), 3) # img,starting location of rectangle,ending location,color in BGR, thickness of rect\n",
    "rectangle = cv2.rectangle(img, (180,0),(300,140), (0,0,255), 3) # open cv works in BGR format\n",
    "#rectangle = cv2.rectangle(img, (320, 60),(430, 155), (50, 150, 250), 3) # generally thickness of rectangle is between 2-5"
   ]
  },
  {
   "cell_type": "code",
   "execution_count": null,
   "metadata": {
    "colab": {
     "base_uri": "https://localhost:8080/",
     "height": 361
    },
    "executionInfo": {
     "elapsed": 1807,
     "status": "ok",
     "timestamp": 1693729045691,
     "user": {
      "displayName": "Faculty ITVEDANT",
      "userId": "00597491389009726246"
     },
     "user_tz": -330
    },
    "id": "cs54K3RcG8yt",
    "outputId": "e3d8038e-75a9-4dc5-9335-3fdfaf2a2958"
   },
   "outputs": [],
   "source": [
    "plt.imshow(img) # but when we r showing , we r plotting by matplotlib, which works with RGB."
   ]
  },
  {
   "cell_type": "code",
   "execution_count": null,
   "metadata": {
    "colab": {
     "base_uri": "https://localhost:8080/",
     "height": 283
    },
    "executionInfo": {
     "elapsed": 4,
     "status": "ok",
     "timestamp": 1693729047573,
     "user": {
      "displayName": "Faculty ITVEDANT",
      "userId": "00597491389009726246"
     },
     "user_tz": -330
    },
    "id": "qgYoRCQoGl5Q",
    "outputId": "1f2acb73-c6b6-4ab9-88ab-3c11f8a89936"
   },
   "outputs": [],
   "source": [
    "cv2.imshow(\"Rectangle\",img)\n",
    "cv2.waitKey(0)\n",
    "cv2.destroyAllWindows()"
   ]
  },
  {
   "cell_type": "markdown",
   "metadata": {
    "id": "N2TteD2creRK"
   },
   "source": [
    "## Writing text over images\n",
    "\n",
    "Fonts\n",
    "\n",
    "OpenCV supports the following fonts:\n",
    "\n",
    "Font Name Font Size\n",
    "\n",
    "FONT_HERSHEY_SIMPLEX 0\n",
    "\n",
    "FONT_HERSHEY_PLAIN 1\n",
    "\n",
    "FONT_HERSHEY_DUPLEX 2\n",
    "\n",
    "FONT_HERSHEY_COMPLEX 3\n",
    "\n",
    "FONT_HERSHEY_TRIPLEX 4\n",
    "\n",
    "FONT_HERSHEY_COMPLEX_SMALL 5\n",
    "\n",
    "FONT_HERSHEY_SCRIPT_SIMPLEX 6\n",
    "\n",
    "FONT_HERSHEY_SCRIPT_COMPLEX 7\n",
    "\n",
    "FONT_ITALIC 16"
   ]
  },
  {
   "cell_type": "code",
   "execution_count": null,
   "metadata": {
    "colab": {
     "base_uri": "https://localhost:8080/",
     "height": 283
    },
    "executionInfo": {
     "elapsed": 1047,
     "status": "ok",
     "timestamp": 1693729425641,
     "user": {
      "displayName": "Faculty ITVEDANT",
      "userId": "00597491389009726246"
     },
     "user_tz": -330
    },
    "id": "AVezS1XBGq4P",
    "outputId": "190a9f0a-aff0-4615-e085-468e9f2b583d"
   },
   "outputs": [],
   "source": [
    "img = cv2.imread(r'C:\\Users\\hp\\Documents\\AI\\DL_MyTry\\Resources\\OIP.jpg', 1)\n",
    "\n",
    "# Adding the text using putText() function\n",
    "rectangle = cv2.rectangle(img, (197, 40),\n",
    "\n",
    "\t\t\t\t\t\t(270, 140), (255, 230, 120), 3)\n",
    "\n",
    "text = cv2.putText(rectangle, 'Neeraj Chopra', (197, 30),cv2.FONT_HERSHEY_COMPLEX, 0.6, (255, 0, 0), 2)\n",
    "# 1st arg is input image, 2nd arg is name to write on the image,3rd arg starting location from where u want to start writing, \n",
    "# next arg is what type of font u want to write on,next is arg 0.6 is style of the text like how cursive it will be, then \n",
    "# next arg is color of the text and last is thickness of the text\n",
    "\n",
    "cv2.imshow(\"Text\",text)\n",
    "cv2.waitKey(0)\n",
    "cv2.destroyAllWindows()"
   ]
  },
  {
   "cell_type": "markdown",
   "metadata": {},
   "source": [
    "## Video Capture"
   ]
  },
  {
   "cell_type": "code",
   "execution_count": null,
   "metadata": {},
   "outputs": [],
   "source": [
    "cap = cv2.VideoCapture(0)\n",
    "\n",
    "\n",
    "while(cap.isOpened()):\n",
    "\n",
    "    # Capture frame-by-frame\n",
    "\n",
    "    ret, frame = cap.read()\n",
    "\n",
    "    if ret:\n",
    "\n",
    "        # Our operations on the frame come here\n",
    "\n",
    "        # gray = cv2.cvtColor(frame, cv2.COLOR_BGR2GRAY)\n",
    "\n",
    "        text = cv2.putText(frame, 'Press Q to close the video', (30, 30),cv2.FONT_HERSHEY_COMPLEX, 0.6, (0, 0, 255), 2)\n",
    "\n",
    "\n",
    "        # Display the resulting frame\n",
    "        # By cv2.imshow(\"Text\",gray) \n",
    "        cv2.imshow(\"Text\",text)\n",
    "\n",
    "        if cv2.waitKey(1) & 0xFF == ord('q'):\n",
    "            break\n",
    "\n",
    "    else:\n",
    "        break\n",
    "\n",
    "\n",
    "# When everything done, release the capture\n",
    "\n",
    "cap.release()\n",
    "\n",
    "cv2.destroyAllWindows()\n"
   ]
  },
  {
   "cell_type": "markdown",
   "metadata": {},
   "source": [
    "## Rotated Video Frame"
   ]
  },
  {
   "cell_type": "code",
   "execution_count": null,
   "metadata": {},
   "outputs": [],
   "source": [
    "\n",
    "cap = cv2.VideoCapture(0)\n",
    "\n",
    "\n",
    "while(cap.isOpened()):\n",
    "\n",
    "    # Capture frame-by-frame\n",
    "\n",
    "    ret, frame = cap.read()\n",
    "\n",
    "    if ret:\n",
    "\n",
    "        # Our operations on the frame come here\n",
    "\n",
    "        #gray = cv2.cvtColor(frame, cv2.COLOR_BGR2GRAY)\n",
    "\n",
    "        text = cv2.putText(frame, 'Press Q to close the video', (30, 30),cv2.FONT_HERSHEY_COMPLEX, 0.6, (0, 0, 255), 2)\n",
    "        \n",
    "        h,w = frame.shape[:2]\n",
    "        \n",
    "        print(w, h)\n",
    "        \n",
    "        center = (w // 2, h // 2)\n",
    "        \n",
    "        \n",
    "        # Generating a rotation matrix\n",
    "        matrix = cv2.getRotationMatrix2D(center, 180, 1.0) # upside down\n",
    "        \n",
    "        \n",
    "        # Performing the affine transformation\n",
    "        rotated = cv2.warpAffine(frame, matrix, (w,h)) # \n",
    "\n",
    "\n",
    "        # Display the resulting frame\n",
    "        # By cv2.imshow(\"Text\",gray) \n",
    "        cv2.imshow(\"Text\",rotated)\n",
    "\n",
    "        if cv2.waitKey(1) & 0xFF == ord('q'):\n",
    "            break\n",
    "\n",
    "    else:\n",
    "        break\n",
    "\n",
    "\n",
    "# When everything done, release the capture\n",
    "\n",
    "cap.release()\n",
    "\n",
    "cv2.destroyAllWindows()\n"
   ]
  },
  {
   "cell_type": "markdown",
   "metadata": {},
   "source": [
    "## Reading video from a path"
   ]
  },
  {
   "cell_type": "code",
   "execution_count": null,
   "metadata": {},
   "outputs": [],
   "source": [
    "#cap = cv2.VideoCapture(0)\n",
    "cap = cv2.VideoCapture(r'C:\\Users\\hp\\Documents\\AI\\DL_MyTry\\Resources\\vtest.mp4')\n",
    "\n",
    "\n",
    "while(cap.isOpened()):\n",
    "\n",
    "    # Capture frame-by-frame\n",
    "\n",
    "    ret, frame = cap.read()\n",
    "\n",
    "    if ret:\n",
    "\n",
    "        # Our operations on the frame come here\n",
    "\n",
    "        # gray = cv2.cvtColor(frame, cv2.COLOR_BGR2GRAY)\n",
    "\n",
    "        text = cv2.putText(frame, 'Press Q to close the video', (30, 30),cv2.FONT_HERSHEY_COMPLEX, 0.6, (0, 0, 255), 2)\n",
    "\n",
    "\n",
    "        # Display the resulting frame\n",
    "        # By cv2.imshow(\"Text\",gray) \n",
    "        cv2.imshow(\"Text\",text)\n",
    "\n",
    "        if cv2.waitKey(1) & 0xFF == ord('q'):\n",
    "            break\n",
    "\n",
    "    else:\n",
    "        break\n",
    "\n",
    "\n",
    "# When everything done, release the capture\n",
    "\n",
    "cap.release()\n",
    "\n",
    "cv2.destroyAllWindows()"
   ]
  },
  {
   "cell_type": "markdown",
   "metadata": {},
   "source": [
    "## Saving frames from videos"
   ]
  },
  {
   "cell_type": "code",
   "execution_count": null,
   "metadata": {},
   "outputs": [],
   "source": [
    "import cv2\n",
    "\n",
    "\n",
    "cap = cv2.VideoCapture(r'C:\\Users\\hp\\Documents\\AI\\DL_MyTry\\Resources\\vtest.mp4') # for reading video from webcam write 0 instead of path.\n",
    "\n",
    "i = 0 # 1st frame index is 0\n",
    "while(cap.isOpened()):\n",
    "\n",
    "    ret, frame = cap.read()\n",
    "\n",
    "    if ret == True:\n",
    "\n",
    "        gray = cv2.cvtColor(frame, cv2.COLOR_BGR2GRAY)\n",
    "\n",
    "        if i%5 == 0:\n",
    "            # create a folder names saved_frames, there it will be saved\n",
    "            cv2.imwrite(f\"saved_frames/frame_{i}.jpg\", frame)\n",
    "\n",
    "        cv2.imshow(\"Text\",gray)\n",
    "\n",
    "        i += 1\n",
    "\n",
    "        if cv2.waitKey(1) & 0xFF == ord('q'):\n",
    "            break\n",
    "\n",
    "    else:\n",
    "        break\n",
    "\n",
    "\n",
    "cap.release()\n",
    "\n",
    "cv2.destroyAllWindows()"
   ]
  },
  {
   "cell_type": "markdown",
   "metadata": {},
   "source": [
    "## Saving Videos"
   ]
  },
  {
   "cell_type": "code",
   "execution_count": null,
   "metadata": {},
   "outputs": [],
   "source": [
    "import numpy as np\n",
    "\n",
    "import cv2\n",
    "\n",
    "\n",
    "cap = cv2.VideoCapture(0)\n",
    "\n",
    "\n",
    "# Define the codec and create VideoWriter object\n",
    "\n",
    "fourcc = cv2.VideoWriter_fourcc(*'XVID')\n",
    "\n",
    "out = cv2.VideoWriter('output.avi',fourcc, 20.0, (640,480)) # output.avi - name of the video,next is the format on which I want to save,\n",
    "#next 20.0 is frames per second. If u want to increase this to 60.0 fps, it will be a very smooth video., 640 width, 480 heigh. \n",
    "#This is the dimension of my video. \n",
    "\n",
    "\n",
    "while(cap.isOpened()):\n",
    "\n",
    "    ret, frame = cap.read()\n",
    "\n",
    "    if ret==True:\n",
    "\n",
    "        #frame = cv2.flip(frame,0) - this flips the frame.\n",
    "\n",
    "\n",
    "        # write the flipped frame\n",
    "\n",
    "        out.write(frame)\n",
    "\n",
    "\n",
    "        cv2.imshow('frame',frame)\n",
    "\n",
    "        if cv2.waitKey(1) & 0xFF == ord('q'):\n",
    "\n",
    "            break\n",
    "\n",
    "    else:\n",
    "\n",
    "        break\n",
    "\n",
    "\n",
    "# Release everything if job is finished\n",
    "\n",
    "cap.release()\n",
    "\n",
    "out.release()\n",
    "\n",
    "cv2.destroyAllWindows()"
   ]
  },
  {
   "cell_type": "markdown",
   "metadata": {},
   "source": [
    "## Video from images"
   ]
  },
  {
   "cell_type": "code",
   "execution_count": null,
   "metadata": {},
   "outputs": [],
   "source": [
    "import glob # glob in python is used to search a particular kind of file in a system.\n",
    "\n",
    "img_array = []\n",
    "\n",
    "#for filename in glob.glob(r'tennis\\*.jpg'):\n",
    "for filename in glob.glob(r'saved_frames\\*.jpg'): # gives me all the files with jpg extension inside saved_frames folder.\n",
    "  img = cv2.imread(filename) # read the image and save as numpy array inside img variable\n",
    "  height, width = img.shape[:2] # then we will take height and width of the saved numpy array\n",
    "  size = (width,height) # store it in a variable size with first width then height\n",
    "  img_array.append(img) # next appnd this numpy array in the list\n",
    "\n",
    "# create a folder saved_video\n",
    "out = cv2.VideoWriter(r'saved_video\\video.avi',cv2.VideoWriter_fourcc(*'XVID'), 40, size) # 40 fps and size of the new video, 10 fps will be slower\n",
    "\n",
    "for i in range(len(img_array)): # fetching each and every image\n",
    "\n",
    "  out.write(img_array[i]) # writing the image in the out object. \n",
    "\n",
    "  cv2.imshow('frame',img_array[i]) # we r showing also the image getting read and written\n",
    "\n",
    "  if cv2.waitKey(1) & 0xFF == ord('q'):\n",
    "    break\n",
    "\n",
    "out.release()\n",
    "\n",
    "cv2.destroyAllWindows()"
   ]
  },
  {
   "cell_type": "markdown",
   "metadata": {
    "id": "T5gus4HXQOVC"
   },
   "source": [
    "# Edge Detection"
   ]
  },
  {
   "attachments": {
    "image.png": {
     "image/png": "[encoded data removed]"
    }
   },
   "cell_type": "markdown",
   "metadata": {},
   "source": [
    "![image.png](attachment:image.png)"
   ]
  },
  {
   "cell_type": "code",
   "execution_count": null,
   "metadata": {
    "colab": {
     "base_uri": "https://localhost:8080/",
     "height": 489
    },
    "executionInfo": {
     "elapsed": 2509,
     "status": "ok",
     "timestamp": 1694934498316,
     "user": {
      "displayName": "Faculty ITVEDANT",
      "userId": "00597491389009726246"
     },
     "user_tz": -330
    },
    "id": "G1A4INiW9Nz4",
    "outputId": "8b9222c4-fc33-4b9b-c68b-707fc54b2a6b"
   },
   "outputs": [],
   "source": [
    "img = cv2.imread(r'C:\\Users\\hp\\Documents\\AI\\DL_MyTry\\Resources\\cats.jpg', 1)\n",
    "\n",
    "cv2.imshow(\"Players\",img)\n",
    "cv2.waitKey(0)\n",
    "cv2.destroyAllWindows()"
   ]
  },
  {
   "cell_type": "markdown",
   "metadata": {},
   "source": [
    "### Using Canny"
   ]
  },
  {
   "cell_type": "code",
   "execution_count": null,
   "metadata": {
    "colab": {
     "base_uri": "https://localhost:8080/",
     "height": 489
    },
    "executionInfo": {
     "elapsed": 9,
     "status": "ok",
     "timestamp": 1694934651832,
     "user": {
      "displayName": "Faculty ITVEDANT",
      "userId": "00597491389009726246"
     },
     "user_tz": -330
    },
    "id": "oOFVG7vBIHTx",
    "outputId": "bdb32455-af0c-4c3d-e533-bb7fd0a7deb9"
   },
   "outputs": [],
   "source": [
    "# Convert the image to grayscale\n",
    "gray_image = cv2.cvtColor(img, cv2.COLOR_BGR2GRAY)\n",
    "\n",
    "# Perform edge detection on the image\n",
    "edges = cv2.Canny(gray_image, threshold1=200, threshold2=250) # pass the image, the thresholds maintain noise or distortions.\n",
    "# these are the hyperparameters, change the value to 100,150 and seee.\n",
    "\n",
    "cv2.imshow(\"Edges\",edges)\n",
    "cv2.waitKey(0)\n",
    "cv2.destroyAllWindows()"
   ]
  },
  {
   "cell_type": "markdown",
   "metadata": {},
   "source": [
    "### Using Sobel"
   ]
  },
  {
   "cell_type": "code",
   "execution_count": null,
   "metadata": {
    "colab": {
     "base_uri": "https://localhost:8080/",
     "height": 1000
    },
    "executionInfo": {
     "elapsed": 1844,
     "status": "ok",
     "timestamp": 1694934761855,
     "user": {
      "displayName": "Faculty ITVEDANT",
      "userId": "00597491389009726246"
     },
     "user_tz": -330
    },
    "id": "RimXqpD5QxvS",
    "outputId": "8bb8e63d-53af-4d63-c806-9d0d312d7ed2"
   },
   "outputs": [],
   "source": [
    "img = cv2.imread(r'C:\\Users\\hp\\Documents\\AI\\DL_MyTry\\Resources\\cats.jpg', 1)\n",
    "img = cv2.cvtColor(img, cv2.COLOR_BGR2GRAY)\n",
    "\n",
    "# Sobel Edge Detection\n",
    "sobelx = cv2.Sobel(src=img, ddepth=cv2.CV_64F, dx=1, dy=0, ksize=1) #Sobel Edge Detection on the X axis \n",
    "#cv2.CV_64F only checks for the precision of values. It can have 2 bit, 4 bit, 8 bit 16 bit etc precision . \n",
    "# 64 f is the highest one and gives the best results.This is tried and tested.\n",
    "# now if u want to find vertical edges along x-axis then put dx=1, or for horizontal edges, put dy=1\n",
    "# and for both dirction put dx,dy both 1.\n",
    "# ksize is kernel size. So when we will read CNN we will try to understand kernel there.\n",
    "sobely = cv2.Sobel(src=img, ddepth=cv2.CV_64F, dx=0, dy=1, ksize=1) # Sobel Edge Detection on the Y axis\n",
    "sobelxy = cv2.Sobel(src=img, ddepth=cv2.CV_64F, dx=1, dy=1, ksize=1) # Combined X and Y Sobel Edge Detection\n",
    "\n",
    "# Display Sobel Edge Detection Images\n",
    "cv2.imshow(\"X axis\",sobelx)\n",
    "\n",
    "cv2.imshow(\"Y axis\",sobely)\n",
    "\n",
    "cv2.imshow(\"XY combined\",sobelxy)\n",
    "\n",
    "cv2.waitKey(0)\n",
    "cv2.destroyAllWindows()"
   ]
  },
  {
   "cell_type": "markdown",
   "metadata": {
    "id": "GsuxzOW7xkiV"
   },
   "source": [
    "## Template Matching"
   ]
  },
  {
   "cell_type": "code",
   "execution_count": null,
   "metadata": {
    "colab": {
     "base_uri": "https://localhost:8080/",
     "height": 489
    },
    "executionInfo": {
     "elapsed": 2510,
     "status": "ok",
     "timestamp": 1694934060585,
     "user": {
      "displayName": "Faculty ITVEDANT",
      "userId": "00597491389009726246"
     },
     "user_tz": -330
    },
    "id": "CfTt1MwjxoAU",
    "outputId": "97b56f7c-d81c-4a39-ac1d-4a66ad641ef3"
   },
   "outputs": [],
   "source": [
    "import cv2\n",
    "import numpy as np\n",
    "# loading original image\n",
    "img = cv2.imread(r'C:\\Users\\hp\\Documents\\AI\\DL_MyTry\\Resources\\rl.png', 1)\n",
    "cv2.imshow(\"Text\",img)\n",
    "cv2.waitKey(0)\n",
    "cv2.destroyAllWindows()"
   ]
  },
  {
   "cell_type": "code",
   "execution_count": null,
   "metadata": {
    "colab": {
     "base_uri": "https://localhost:8080/",
     "height": 227
    },
    "executionInfo": {
     "elapsed": 1224,
     "status": "ok",
     "timestamp": 1694934064755,
     "user": {
      "displayName": "Faculty ITVEDANT",
      "userId": "00597491389009726246"
     },
     "user_tz": -330
    },
    "id": "fKPcK2gOyKgM",
    "outputId": "3e80b369-c992-470e-d0de-f73ae19b9e26"
   },
   "outputs": [],
   "source": [
    "gray = cv2.cvtColor(img, cv2.COLOR_BGR2GRAY)\n",
    "# loading template image.\n",
    "template = cv2.imread(r'C:\\Users\\hp\\Documents\\AI\\DL_MyTry\\Resources\\m.jpg',1)\n",
    "cv2.imshow(\"Text\",template)\n",
    "cv2.waitKey(0)\n",
    "cv2.destroyAllWindows()"
   ]
  },
  {
   "cell_type": "code",
   "execution_count": null,
   "metadata": {
    "colab": {
     "base_uri": "https://localhost:8080/",
     "height": 489
    },
    "executionInfo": {
     "elapsed": 1782,
     "status": "ok",
     "timestamp": 1694934075475,
     "user": {
      "displayName": "Faculty ITVEDANT",
      "userId": "00597491389009726246"
     },
     "user_tz": -330
    },
    "id": "5-hFKzfyyNSx",
    "outputId": "c1e75221-6430-47e6-f10a-844af7ebe0d7"
   },
   "outputs": [],
   "source": [
    "img = cv2.imread(r'C:\\Users\\hp\\Documents\\AI\\DL_MyTry\\Resources\\rl.png', 1)\n",
    "\n",
    "h,w = template.shape[:2] # extracting height and width of the template image\n",
    "\n",
    "matched = cv2.matchTemplate(img,template,5) # last arg is the precision whose value is from 0-5. Best result is from 5. matched is numpy array\n",
    "\n",
    "min_val, max_val, min_loc, max_loc = cv2.minMaxLoc(matched) # min max loc give minimum and maximum location where match found\n",
    "\n",
    "print(min_val, max_val, min_loc, max_loc) #max_loc is bounding box top left corner position. From this point , the \n",
    "\n",
    "cv2.rectangle(img, max_loc, (max_loc[0] + w, max_loc[1] + h), (0,255,255), 2)\n",
    "\n",
    "cv2.imshow(\"Text\",img)\n",
    "cv2.waitKey(0)\n",
    "cv2.destroyAllWindows()"
   ]
  },
  {
   "cell_type": "markdown",
   "metadata": {
    "id": "1XMX9OYX5BP5"
   },
   "source": [
    "## Face Detection"
   ]
  },
  {
   "cell_type": "code",
   "execution_count": 2,
   "metadata": {
    "colab": {
     "base_uri": "https://localhost:8080/",
     "height": 489
    },
    "executionInfo": {
     "elapsed": 2619,
     "status": "ok",
     "timestamp": 1694941482166,
     "user": {
      "displayName": "Faculty ITVEDANT",
      "userId": "00597491389009726246"
     },
     "user_tz": -330
    },
    "id": "VCCWAG0g5AYY",
    "outputId": "dc1edbfb-e490-46ed-bb57-019a446294ba"
   },
   "outputs": [
    {
     "name": "stdout",
     "output_type": "stream",
     "text": [
      "[[471  97 112 112]\n",
      " [158 103 115 115]]\n"
     ]
    }
   ],
   "source": [
    "import numpy as np\n",
    "import cv2\n",
    "face_cascade = cv2.CascadeClassifier(cv2.data.haarcascades + 'haarcascade_frontalface_default.xml')\n",
    "\n",
    "img = cv2.imread(r'C:\\Users\\hp\\Documents\\AI\\DL_MyTry\\Resources\\rl.png')\n",
    "\n",
    "gray = cv2.cvtColor(img, cv2.COLOR_BGR2GRAY)\n",
    "faces = face_cascade.detectMultiScale(gray, 1.3, 5)\n",
    "print(faces)\n",
    "for (x,y,w,h) in faces:\n",
    "  cv2.rectangle(img,(x,y),(x+w,y+h),(255,0,0),2)\n",
    "\n",
    "cv2.imshow(\"Text\",img)\n",
    "cv2.waitKey(0)\n",
    "cv2.destroyAllWindows()"
   ]
  },
  {
   "cell_type": "code",
   "execution_count": 3,
   "metadata": {
    "colab": {
     "base_uri": "https://localhost:8080/"
    },
    "executionInfo": {
     "elapsed": 14,
     "status": "ok",
     "timestamp": 1694941248898,
     "user": {
      "displayName": "Faculty ITVEDANT",
      "userId": "00597491389009726246"
     },
     "user_tz": -330
    },
    "id": "kqygkTUSXu6s",
    "outputId": "1bf7ce16-ccb0-48c3-f746-3b08981ee8f3"
   },
   "outputs": [],
   "source": [
    "cap = cv2.VideoCapture(0)\n",
    "\n",
    "\n",
    "while(cap.isOpened()):\n",
    "\n",
    "    # Capture frame-by-frame\n",
    "\n",
    "    ret, frame = cap.read() #Reading the frame\n",
    "\n",
    "    if ret:\n",
    "\n",
    "        # Our operations on the frame come here\n",
    "\n",
    "        # gray = cv2.cvtColor(frame, cv2.COLOR_BGR2GRAY)\n",
    "\n",
    "        face_cascade = cv2.CascadeClassifier(cv2.data.haarcascades + 'haarcascade_frontalface_default.xml') # applying cascade\n",
    "\n",
    "        gray = cv2.cvtColor(frame, cv2.COLOR_BGR2GRAY) # converting to gray\n",
    "\n",
    "        faces = face_cascade.detectMultiScale(gray, 1.3, 5) # detect face\n",
    "\n",
    "        for (x,y,w,h) in faces:\n",
    "            cv2.rectangle(frame,(x,y),(x+w,y+h),(255,0,0),2) # draw rectangle\n",
    "\n",
    "\n",
    "        # Display the resulting frame\n",
    "\n",
    "        cv2.imshow(\"Text\",frame)\n",
    "\n",
    "        if cv2.waitKey(1) & 0xFF == ord('q'):\n",
    "            break\n",
    "\n",
    "    else:\n",
    "        break\n",
    "\n",
    "\n",
    "# When everything done, release the capture\n",
    "\n",
    "cap.release()\n",
    "\n",
    "cv2.destroyAllWindows()"
   ]
  },
  {
   "cell_type": "code",
   "execution_count": null,
   "metadata": {},
   "outputs": [],
   "source": []
  }
 ],
 "metadata": {
  "colab": {
   "provenance": []
  },
  "kernelspec": {
   "display_name": "Python 3 (ipykernel)",
   "language": "python",
   "name": "python3"
  },
  "language_info": {
   "codemirror_mode": {
    "name": "ipython",
    "version": 3
   },
   "file_extension": ".py",
   "mimetype": "text/x-python",
   "name": "python",
   "nbconvert_exporter": "python",
   "pygments_lexer": "ipython3",
   "version": "3.12.9"
  }
 },
 "nbformat": 4,
 "nbformat_minor": 4
}
