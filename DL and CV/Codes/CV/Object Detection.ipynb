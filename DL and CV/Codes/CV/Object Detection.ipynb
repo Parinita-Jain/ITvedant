{
 "cells": [
  {
   "cell_type": "code",
   "execution_count": null,
   "id": "cae53d94",
   "metadata": {},
   "outputs": [],
   "source": [
    "!pip install ultralytics"
   ]
  },
  {
   "cell_type": "code",
   "execution_count": 1,
   "id": "814c91c7",
   "metadata": {},
   "outputs": [],
   "source": [
    "from ultralytics import YOLO"
   ]
  },
  {
   "cell_type": "code",
   "execution_count": 2,
   "id": "40746cd0",
   "metadata": {},
   "outputs": [
    {
     "name": "stdout",
     "output_type": "stream",
     "text": [
      "Downloading https://github.com/ultralytics/assets/releases/download/v8.3.0/yolov8s.pt to 'yolov8s.pt'...\n"
     ]
    },
    {
     "name": "stderr",
     "output_type": "stream",
     "text": [
      "100%|█████████████████████████████████████████████████████████████████████████████| 21.5M/21.5M [00:01<00:00, 16.8MB/s]\n"
     ]
    }
   ],
   "source": [
    "model = YOLO('yolov8s.pt')"
   ]
  },
  {
   "cell_type": "code",
   "execution_count": 3,
   "id": "26059000",
   "metadata": {},
   "outputs": [],
   "source": [
    "import cv2"
   ]
  },
  {
   "cell_type": "code",
   "execution_count": 5,
   "id": "a52d736b",
   "metadata": {},
   "outputs": [
    {
     "name": "stdout",
     "output_type": "stream",
     "text": [
      "\n",
      "image 1/1 C:\\Users\\hp\\Documents\\AI\\DL_MyTry\\Resources\\peopleimg.jpg: 448x640 7 persons, 341.5ms\n",
      "Speed: 3.8ms preprocess, 341.5ms inference, 2.4ms postprocess per image at shape (1, 3, 448, 640)\n"
     ]
    }
   ],
   "source": [
    "model(r'C:\\Users\\hp\\Documents\\AI\\DL_MyTry\\Resources\\peopleimg.jpg', show=True)\n",
    "cv2.waitKey(0)\n",
    "cv2.destroyAllWindows()"
   ]
  },
  {
   "cell_type": "code",
   "execution_count": 6,
   "id": "23a7e3d1",
   "metadata": {},
   "outputs": [
    {
     "name": "stdout",
     "output_type": "stream",
     "text": [
      "\n",
      "image 1/1 C:\\Users\\hp\\Documents\\AI\\DL_MyTry\\Resources\\cars.jpg: 448x640 26 cars, 2 trucks, 352.8ms\n",
      "Speed: 3.8ms preprocess, 352.8ms inference, 1.9ms postprocess per image at shape (1, 3, 448, 640)\n"
     ]
    }
   ],
   "source": [
    "model(r'C:\\Users\\hp\\Documents\\AI\\DL_MyTry\\Resources\\cars.jpg', show=True)\n",
    "cv2.waitKey(0)\n",
    "cv2.destroyAllWindows()"
   ]
  },
  {
   "cell_type": "code",
   "execution_count": 7,
   "id": "b65d00b1",
   "metadata": {},
   "outputs": [
    {
     "name": "stdout",
     "output_type": "stream",
     "text": [
      "\n",
      "0: 480x640 1 person, 3 chairs, 1 tv, 382.4ms\n",
      "Speed: 5.1ms preprocess, 382.4ms inference, 1.8ms postprocess per image at shape (1, 3, 480, 640)\n",
      "\n",
      "0: 480x640 1 person, 1 surfboard, 1 tv, 381.7ms\n",
      "Speed: 12.5ms preprocess, 381.7ms inference, 1.2ms postprocess per image at shape (1, 3, 480, 640)\n",
      "\n",
      "0: 480x640 1 person, 1 chair, 1 tv, 358.0ms\n",
      "Speed: 8.9ms preprocess, 358.0ms inference, 1.7ms postprocess per image at shape (1, 3, 480, 640)\n",
      "\n",
      "0: 480x640 1 person, 1 tv, 339.6ms\n",
      "Speed: 3.5ms preprocess, 339.6ms inference, 1.5ms postprocess per image at shape (1, 3, 480, 640)\n",
      "\n",
      "0: 480x640 1 person, 1 chair, 1 tv, 343.1ms\n",
      "Speed: 4.2ms preprocess, 343.1ms inference, 1.6ms postprocess per image at shape (1, 3, 480, 640)\n",
      "\n",
      "0: 480x640 1 person, 1 chair, 1 tv, 342.7ms\n",
      "Speed: 4.1ms preprocess, 342.7ms inference, 1.9ms postprocess per image at shape (1, 3, 480, 640)\n",
      "\n",
      "0: 480x640 1 person, 1 chair, 1 tv, 348.7ms\n",
      "Speed: 8.9ms preprocess, 348.7ms inference, 1.7ms postprocess per image at shape (1, 3, 480, 640)\n",
      "\n",
      "0: 480x640 1 person, 1 chair, 1 tv, 337.4ms\n",
      "Speed: 6.6ms preprocess, 337.4ms inference, 1.1ms postprocess per image at shape (1, 3, 480, 640)\n",
      "\n",
      "0: 480x640 1 person, 2 chairs, 1 tv, 354.1ms\n",
      "Speed: 5.4ms preprocess, 354.1ms inference, 1.7ms postprocess per image at shape (1, 3, 480, 640)\n",
      "\n",
      "0: 480x640 1 person, 1 tv, 410.1ms\n",
      "Speed: 54.5ms preprocess, 410.1ms inference, 1.1ms postprocess per image at shape (1, 3, 480, 640)\n",
      "\n",
      "0: 480x640 1 person, 1 tv, 385.1ms\n",
      "Speed: 5.1ms preprocess, 385.1ms inference, 1.7ms postprocess per image at shape (1, 3, 480, 640)\n",
      "\n",
      "0: 480x640 1 person, 378.5ms\n",
      "Speed: 5.8ms preprocess, 378.5ms inference, 1.3ms postprocess per image at shape (1, 3, 480, 640)\n",
      "\n",
      "0: 480x640 1 person, 1 tv, 342.1ms\n",
      "Speed: 4.8ms preprocess, 342.1ms inference, 2.2ms postprocess per image at shape (1, 3, 480, 640)\n",
      "\n",
      "0: 480x640 1 person, 1 tv, 338.3ms\n",
      "Speed: 4.2ms preprocess, 338.3ms inference, 1.1ms postprocess per image at shape (1, 3, 480, 640)\n",
      "\n",
      "0: 480x640 1 person, 1 tv, 348.0ms\n",
      "Speed: 6.9ms preprocess, 348.0ms inference, 1.5ms postprocess per image at shape (1, 3, 480, 640)\n",
      "\n",
      "0: 480x640 1 person, 1 chair, 1 tv, 336.5ms\n",
      "Speed: 6.7ms preprocess, 336.5ms inference, 1.1ms postprocess per image at shape (1, 3, 480, 640)\n",
      "\n",
      "0: 480x640 1 person, 1 chair, 1 tv, 330.8ms\n",
      "Speed: 4.4ms preprocess, 330.8ms inference, 1.8ms postprocess per image at shape (1, 3, 480, 640)\n",
      "\n",
      "0: 480x640 1 person, 1 chair, 1 tv, 358.3ms\n",
      "Speed: 5.0ms preprocess, 358.3ms inference, 2.0ms postprocess per image at shape (1, 3, 480, 640)\n",
      "\n",
      "0: 480x640 1 person, 1 chair, 1 tv, 390.8ms\n",
      "Speed: 51.8ms preprocess, 390.8ms inference, 1.6ms postprocess per image at shape (1, 3, 480, 640)\n",
      "\n",
      "0: 480x640 1 person, 1 tv, 390.3ms\n",
      "Speed: 38.3ms preprocess, 390.3ms inference, 1.6ms postprocess per image at shape (1, 3, 480, 640)\n",
      "\n",
      "0: 480x640 1 person, 1 chair, 1 tv, 366.9ms\n",
      "Speed: 6.0ms preprocess, 366.9ms inference, 1.7ms postprocess per image at shape (1, 3, 480, 640)\n",
      "\n",
      "0: 480x640 1 person, 1 tv, 351.8ms\n",
      "Speed: 4.7ms preprocess, 351.8ms inference, 1.8ms postprocess per image at shape (1, 3, 480, 640)\n",
      "\n",
      "0: 480x640 1 person, 1 tv, 373.5ms\n",
      "Speed: 4.0ms preprocess, 373.5ms inference, 1.1ms postprocess per image at shape (1, 3, 480, 640)\n",
      "\n",
      "0: 480x640 1 person, 2 chairs, 1 tv, 339.1ms\n",
      "Speed: 4.3ms preprocess, 339.1ms inference, 1.1ms postprocess per image at shape (1, 3, 480, 640)\n"
     ]
    }
   ],
   "source": [
    "cap = cv2.VideoCapture(0)\n",
    "\n",
    "while True:\n",
    "    ret, frame = cap.read()\n",
    "    results = model(frame, stream=True, show=False)\n",
    "    \n",
    "    for result in results:\n",
    "        \n",
    "        boxes = result.boxes\n",
    "        \n",
    "        for box in boxes:\n",
    "            \n",
    "            x1, y1, x2, y2 = box.xyxy.numpy()[0]\n",
    "            cv2.rectangle(frame, \n",
    "                          (int(x1), int(y1)), \n",
    "                          (int(x2), int(y2)), \n",
    "                          (255,0,0), \n",
    "                         3)\n",
    "            cv2.putText(frame, \n",
    "                        result.names[int(box.cls)], \n",
    "                        (int(x1), int(y1)), \n",
    "                        cv2.FONT_HERSHEY_SIMPLEX, \n",
    "                        1, \n",
    "                        (0,255,0), \n",
    "                        2)\n",
    "    cv2.imshow('Object Detection', frame)\n",
    "    key = cv2.waitKey(1)\n",
    "    if key == ord('q'):\n",
    "        break\n",
    "\n",
    "cap.release()\n",
    "cv2.destroyAllWindows()"
   ]
  },
  {
   "cell_type": "code",
   "execution_count": null,
   "id": "7a161f19",
   "metadata": {},
   "outputs": [],
   "source": []
  }
 ],
 "metadata": {
  "kernelspec": {
   "display_name": "Python 3 (ipykernel)",
   "language": "python",
   "name": "python3"
  },
  "language_info": {
   "codemirror_mode": {
    "name": "ipython",
    "version": 3
   },
   "file_extension": ".py",
   "mimetype": "text/x-python",
   "name": "python",
   "nbconvert_exporter": "python",
   "pygments_lexer": "ipython3",
   "version": "3.12.9"
  }
 },
 "nbformat": 4,
 "nbformat_minor": 5
}
