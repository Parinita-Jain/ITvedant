{
 "cells": [
  {
   "cell_type": "code",
   "execution_count": 2,
   "id": "46e8df0f",
   "metadata": {
    "colab": {
     "base_uri": "https://localhost:8080/"
    },
    "id": "46e8df0f",
    "outputId": "c39e1cc1-4106-4926-b5a2-8935627a5d0e"
   },
   "outputs": [
    {
     "name": "stdout",
     "output_type": "stream",
     "text": [
      "Collecting mediapipe==0.10.13\n",
      "  Downloading mediapipe-0.10.13-cp312-cp312-win_amd64.whl.metadata (9.9 kB)\n",
      "Requirement already satisfied: absl-py in c:\\users\\hp\\appdata\\local\\packages\\pythonsoftwarefoundation.python.3.12_qbz5n2kfra8p0\\localcache\\local-packages\\python312\\site-packages (from mediapipe==0.10.13) (2.1.0)\n",
      "Requirement already satisfied: attrs>=19.1.0 in c:\\users\\hp\\appdata\\local\\packages\\pythonsoftwarefoundation.python.3.12_qbz5n2kfra8p0\\localcache\\local-packages\\python312\\site-packages (from mediapipe==0.10.13) (24.2.0)\n",
      "Requirement already satisfied: flatbuffers>=2.0 in c:\\users\\hp\\appdata\\local\\packages\\pythonsoftwarefoundation.python.3.12_qbz5n2kfra8p0\\localcache\\local-packages\\python312\\site-packages (from mediapipe==0.10.13) (25.2.10)\n",
      "Requirement already satisfied: jax in c:\\users\\hp\\appdata\\local\\packages\\pythonsoftwarefoundation.python.3.12_qbz5n2kfra8p0\\localcache\\local-packages\\python312\\site-packages (from mediapipe==0.10.13) (0.5.0)\n",
      "Requirement already satisfied: jaxlib in c:\\users\\hp\\appdata\\local\\packages\\pythonsoftwarefoundation.python.3.12_qbz5n2kfra8p0\\localcache\\local-packages\\python312\\site-packages (from mediapipe==0.10.13) (0.5.0)\n",
      "Requirement already satisfied: matplotlib in c:\\users\\hp\\appdata\\local\\packages\\pythonsoftwarefoundation.python.3.12_qbz5n2kfra8p0\\localcache\\local-packages\\python312\\site-packages (from mediapipe==0.10.13) (3.8.4)\n",
      "Requirement already satisfied: numpy in c:\\users\\hp\\appdata\\local\\packages\\pythonsoftwarefoundation.python.3.12_qbz5n2kfra8p0\\localcache\\local-packages\\python312\\site-packages (from mediapipe==0.10.13) (1.26.4)\n",
      "Requirement already satisfied: opencv-contrib-python in c:\\users\\hp\\appdata\\local\\packages\\pythonsoftwarefoundation.python.3.12_qbz5n2kfra8p0\\localcache\\local-packages\\python312\\site-packages (from mediapipe==0.10.13) (4.11.0.86)\n",
      "Requirement already satisfied: protobuf<5,>=4.25.3 in c:\\users\\hp\\appdata\\local\\packages\\pythonsoftwarefoundation.python.3.12_qbz5n2kfra8p0\\localcache\\local-packages\\python312\\site-packages (from mediapipe==0.10.13) (4.25.6)\n",
      "Requirement already satisfied: sounddevice>=0.4.4 in c:\\users\\hp\\appdata\\local\\packages\\pythonsoftwarefoundation.python.3.12_qbz5n2kfra8p0\\localcache\\local-packages\\python312\\site-packages (from mediapipe==0.10.13) (0.5.1)\n",
      "Requirement already satisfied: CFFI>=1.0 in c:\\users\\hp\\appdata\\local\\packages\\pythonsoftwarefoundation.python.3.12_qbz5n2kfra8p0\\localcache\\local-packages\\python312\\site-packages (from sounddevice>=0.4.4->mediapipe==0.10.13) (1.17.0)\n",
      "Requirement already satisfied: ml_dtypes>=0.4.0 in c:\\users\\hp\\appdata\\local\\packages\\pythonsoftwarefoundation.python.3.12_qbz5n2kfra8p0\\localcache\\local-packages\\python312\\site-packages (from jax->mediapipe==0.10.13) (0.4.1)\n",
      "Requirement already satisfied: opt_einsum in c:\\users\\hp\\appdata\\local\\packages\\pythonsoftwarefoundation.python.3.12_qbz5n2kfra8p0\\localcache\\local-packages\\python312\\site-packages (from jax->mediapipe==0.10.13) (3.4.0)\n",
      "Requirement already satisfied: scipy>=1.11.1 in c:\\users\\hp\\appdata\\local\\packages\\pythonsoftwarefoundation.python.3.12_qbz5n2kfra8p0\\localcache\\local-packages\\python312\\site-packages (from jax->mediapipe==0.10.13) (1.15.2)\n",
      "Requirement already satisfied: contourpy>=1.0.1 in c:\\users\\hp\\appdata\\local\\packages\\pythonsoftwarefoundation.python.3.12_qbz5n2kfra8p0\\localcache\\local-packages\\python312\\site-packages (from matplotlib->mediapipe==0.10.13) (1.2.1)\n",
      "Requirement already satisfied: cycler>=0.10 in c:\\users\\hp\\appdata\\local\\packages\\pythonsoftwarefoundation.python.3.12_qbz5n2kfra8p0\\localcache\\local-packages\\python312\\site-packages (from matplotlib->mediapipe==0.10.13) (0.12.1)\n",
      "Requirement already satisfied: fonttools>=4.22.0 in c:\\users\\hp\\appdata\\local\\packages\\pythonsoftwarefoundation.python.3.12_qbz5n2kfra8p0\\localcache\\local-packages\\python312\\site-packages (from matplotlib->mediapipe==0.10.13) (4.51.0)\n",
      "Requirement already satisfied: kiwisolver>=1.3.1 in c:\\users\\hp\\appdata\\local\\packages\\pythonsoftwarefoundation.python.3.12_qbz5n2kfra8p0\\localcache\\local-packages\\python312\\site-packages (from matplotlib->mediapipe==0.10.13) (1.4.5)\n",
      "Requirement already satisfied: packaging>=20.0 in c:\\users\\hp\\appdata\\local\\packages\\pythonsoftwarefoundation.python.3.12_qbz5n2kfra8p0\\localcache\\local-packages\\python312\\site-packages (from matplotlib->mediapipe==0.10.13) (24.0)\n",
      "Requirement already satisfied: pillow>=8 in c:\\users\\hp\\appdata\\local\\packages\\pythonsoftwarefoundation.python.3.12_qbz5n2kfra8p0\\localcache\\local-packages\\python312\\site-packages (from matplotlib->mediapipe==0.10.13) (10.3.0)\n",
      "Requirement already satisfied: pyparsing>=2.3.1 in c:\\users\\hp\\appdata\\local\\packages\\pythonsoftwarefoundation.python.3.12_qbz5n2kfra8p0\\localcache\\local-packages\\python312\\site-packages (from matplotlib->mediapipe==0.10.13) (3.1.2)\n",
      "Requirement already satisfied: python-dateutil>=2.7 in c:\\users\\hp\\appdata\\local\\packages\\pythonsoftwarefoundation.python.3.12_qbz5n2kfra8p0\\localcache\\local-packages\\python312\\site-packages (from matplotlib->mediapipe==0.10.13) (2.9.0.post0)\n",
      "Requirement already satisfied: pycparser in c:\\users\\hp\\appdata\\local\\packages\\pythonsoftwarefoundation.python.3.12_qbz5n2kfra8p0\\localcache\\local-packages\\python312\\site-packages (from CFFI>=1.0->sounddevice>=0.4.4->mediapipe==0.10.13) (2.22)\n",
      "Requirement already satisfied: six>=1.5 in c:\\users\\hp\\appdata\\local\\packages\\pythonsoftwarefoundation.python.3.12_qbz5n2kfra8p0\\localcache\\local-packages\\python312\\site-packages (from python-dateutil>=2.7->matplotlib->mediapipe==0.10.13) (1.16.0)\n",
      "Downloading mediapipe-0.10.13-cp312-cp312-win_amd64.whl (50.8 MB)\n",
      "   ---------------------------------------- 0.0/50.8 MB ? eta -:--:--\n",
      "    --------------------------------------- 1.0/50.8 MB 12.5 MB/s eta 0:00:04\n",
      "   - -------------------------------------- 2.1/50.8 MB 5.1 MB/s eta 0:00:10\n",
      "   -- ------------------------------------- 3.4/50.8 MB 5.2 MB/s eta 0:00:10\n",
      "   ---- ----------------------------------- 5.2/50.8 MB 7.1 MB/s eta 0:00:07\n",
      "   ----- ---------------------------------- 7.6/50.8 MB 7.0 MB/s eta 0:00:07\n",
      "   ------ --------------------------------- 8.4/50.8 MB 7.4 MB/s eta 0:00:06\n",
      "   --------- ------------------------------ 11.5/50.8 MB 7.7 MB/s eta 0:00:06\n",
      "   --------- ------------------------------ 11.5/50.8 MB 7.7 MB/s eta 0:00:06\n",
      "   --------- ------------------------------ 11.5/50.8 MB 7.7 MB/s eta 0:00:06\n",
      "   ---------- ----------------------------- 13.6/50.8 MB 6.4 MB/s eta 0:00:06\n",
      "   ----------- ---------------------------- 14.9/50.8 MB 6.3 MB/s eta 0:00:06\n",
      "   ------------ --------------------------- 15.7/50.8 MB 6.6 MB/s eta 0:00:06\n",
      "   -------------- ------------------------- 17.8/50.8 MB 6.4 MB/s eta 0:00:06\n",
      "   -------------- ------------------------- 18.4/50.8 MB 6.1 MB/s eta 0:00:06\n",
      "   -------------- ------------------------- 18.9/50.8 MB 6.2 MB/s eta 0:00:06\n",
      "   -------------- ------------------------- 18.9/50.8 MB 6.2 MB/s eta 0:00:06\n",
      "   --------------- ------------------------ 19.1/50.8 MB 5.3 MB/s eta 0:00:07\n",
      "   --------------- ------------------------ 19.9/50.8 MB 5.4 MB/s eta 0:00:06\n",
      "   ---------------- ----------------------- 21.5/50.8 MB 5.3 MB/s eta 0:00:06\n",
      "   ----------------- ---------------------- 22.5/50.8 MB 5.2 MB/s eta 0:00:06\n",
      "   ------------------ --------------------- 23.1/50.8 MB 5.3 MB/s eta 0:00:06\n",
      "   ------------------ --------------------- 24.1/50.8 MB 5.1 MB/s eta 0:00:06\n",
      "   ------------------ --------------------- 24.1/50.8 MB 5.1 MB/s eta 0:00:06\n",
      "   -------------------- ------------------- 26.2/50.8 MB 5.2 MB/s eta 0:00:05\n",
      "   -------------------- ------------------- 26.2/50.8 MB 5.2 MB/s eta 0:00:05\n",
      "   -------------------- ------------------- 26.2/50.8 MB 5.2 MB/s eta 0:00:05\n",
      "   -------------------- ------------------- 26.2/50.8 MB 5.2 MB/s eta 0:00:05\n",
      "   ---------------------- ----------------- 28.8/50.8 MB 4.8 MB/s eta 0:00:05\n",
      "   ----------------------- ---------------- 29.4/50.8 MB 4.9 MB/s eta 0:00:05\n",
      "   ----------------------- ---------------- 30.4/50.8 MB 4.8 MB/s eta 0:00:05\n",
      "   ------------------------ --------------- 31.2/50.8 MB 4.7 MB/s eta 0:00:05\n",
      "   ------------------------ --------------- 31.5/50.8 MB 4.8 MB/s eta 0:00:05\n",
      "   ------------------------ --------------- 31.5/50.8 MB 4.8 MB/s eta 0:00:05\n",
      "   ------------------------ --------------- 31.5/50.8 MB 4.8 MB/s eta 0:00:05\n",
      "   ------------------------ --------------- 31.5/50.8 MB 4.8 MB/s eta 0:00:05\n",
      "   ------------------------ --------------- 31.5/50.8 MB 4.8 MB/s eta 0:00:05\n",
      "   ------------------------- -------------- 32.5/50.8 MB 4.2 MB/s eta 0:00:05\n",
      "   ------------------------- -------------- 32.5/50.8 MB 4.2 MB/s eta 0:00:05\n",
      "   ------------------------- -------------- 32.5/50.8 MB 4.2 MB/s eta 0:00:05\n",
      "   ------------------------- -------------- 32.5/50.8 MB 4.2 MB/s eta 0:00:05\n",
      "   -------------------------- ------------- 33.6/50.8 MB 3.9 MB/s eta 0:00:05\n",
      "   --------------------------- ------------ 34.3/50.8 MB 3.9 MB/s eta 0:00:05\n",
      "   ----------------------------- ---------- 37.7/50.8 MB 4.2 MB/s eta 0:00:04\n",
      "   ----------------------------- ---------- 37.7/50.8 MB 4.2 MB/s eta 0:00:04\n",
      "   ----------------------------- ---------- 37.7/50.8 MB 4.2 MB/s eta 0:00:04\n",
      "   ----------------------------- ---------- 37.7/50.8 MB 4.2 MB/s eta 0:00:04\n",
      "   ----------------------------- ---------- 37.7/50.8 MB 4.2 MB/s eta 0:00:04\n",
      "   ----------------------------- ---------- 37.7/50.8 MB 4.2 MB/s eta 0:00:04\n",
      "   ----------------------------- ---------- 37.7/50.8 MB 4.2 MB/s eta 0:00:04\n",
      "   ----------------------------- ---------- 37.7/50.8 MB 4.2 MB/s eta 0:00:04\n",
      "   ----------------------------- ---------- 37.7/50.8 MB 4.2 MB/s eta 0:00:04\n",
      "   ----------------------------- ---------- 37.7/50.8 MB 4.2 MB/s eta 0:00:04\n",
      "   ----------------------------- ---------- 37.7/50.8 MB 4.2 MB/s eta 0:00:04\n",
      "   ----------------------------- ---------- 37.7/50.8 MB 4.2 MB/s eta 0:00:04\n",
      "   ------------------------------ --------- 39.1/50.8 MB 3.3 MB/s eta 0:00:04\n",
      "   ------------------------------- -------- 39.8/50.8 MB 3.4 MB/s eta 0:00:04\n",
      "   -------------------------------- ------- 40.9/50.8 MB 3.4 MB/s eta 0:00:03\n",
      "   --------------------------------- ------ 43.0/50.8 MB 3.5 MB/s eta 0:00:03\n",
      "   ----------------------------------- ---- 45.6/50.8 MB 3.6 MB/s eta 0:00:02\n",
      "   ------------------------------------- -- 47.2/50.8 MB 3.7 MB/s eta 0:00:01\n",
      "   ------------------------------------- -- 47.7/50.8 MB 3.7 MB/s eta 0:00:01\n",
      "   ------------------------------------- -- 48.2/50.8 MB 3.7 MB/s eta 0:00:01\n",
      "   ---------------------------------------  50.6/50.8 MB 3.8 MB/s eta 0:00:01\n",
      "   ---------------------------------------- 50.8/50.8 MB 3.7 MB/s eta 0:00:00\n",
      "Installing collected packages: mediapipe\n",
      "  Attempting uninstall: mediapipe\n",
      "    Found existing installation: mediapipe 0.10.21\n",
      "    Uninstalling mediapipe-0.10.21:\n",
      "      Successfully uninstalled mediapipe-0.10.21\n",
      "Successfully installed mediapipe-0.10.13\n"
     ]
    }
   ],
   "source": [
    "!pip install mediapipe==0.10.13 --user"
   ]
  },
  {
   "cell_type": "code",
   "execution_count": 3,
   "id": "a2e34bc0",
   "metadata": {
    "id": "a2e34bc0"
   },
   "outputs": [],
   "source": [
    "# Import the important libraries\n",
    "\n",
    "import mediapipe as mp\n",
    "import cv2\n",
    "import time"
   ]
  },
  {
   "cell_type": "markdown",
   "id": "3e7f5152",
   "metadata": {
    "id": "3e7f5152"
   },
   "source": [
    "mp_holistic.Holistic(\n",
    "                    static_image_mode=False,\n",
    "                    model_complexity=1,\n",
    "                    smooth_landmarks=True,\n",
    "                    min_detection_confidence = 0.5,\n",
    "                    min_tracking_confidence=0.5)"
   ]
  },
  {
   "cell_type": "code",
   "execution_count": 4,
   "id": "e040615a",
   "metadata": {
    "id": "e040615a"
   },
   "outputs": [],
   "source": [
    "# Initialize the models\n",
    "\n",
    "mp_holistic = mp.solutions.holistic\n",
    "\n",
    "holistic_model = mp_holistic.Holistic()\n",
    "\n",
    "mp_drawing = mp.solutions.drawing_utils"
   ]
  },
  {
   "cell_type": "code",
   "execution_count": 5,
   "id": "ace6ae0a",
   "metadata": {
    "id": "ace6ae0a"
   },
   "outputs": [
    {
     "name": "stderr",
     "output_type": "stream",
     "text": [
      "C:\\Users\\hp\\AppData\\Local\\Packages\\PythonSoftwareFoundation.Python.3.12_qbz5n2kfra8p0\\LocalCache\\local-packages\\Python312\\site-packages\\google\\protobuf\\symbol_database.py:55: UserWarning: SymbolDatabase.GetPrototype() is deprecated. Please use message_factory.GetMessageClass() instead. SymbolDatabase.GetPrototype() will be removed soon.\n",
      "  warnings.warn('SymbolDatabase.GetPrototype() is deprecated. Please '\n"
     ]
    }
   ],
   "source": [
    "# Capture the video\n",
    "\n",
    "capture = cv2.VideoCapture(0)\n",
    "\n",
    "# For calculation of Frame Per Second (FPS)\n",
    "\n",
    "previousTime = 0\n",
    "currentTime = 0\n",
    "\n",
    "while capture.isOpened():\n",
    "\n",
    "    # Capture the frame\n",
    "    ret, frame = capture.read()\n",
    "\n",
    "    # Resize the frame\n",
    "    frame = cv2.resize(frame, (800,600))\n",
    "\n",
    "    # Convert from BGR to RGB\n",
    "    image = cv2.cvtColor(frame, cv2.COLOR_BGR2RGB)\n",
    "\n",
    "    # Detect Landmarks\n",
    "    image.flags.writeable = False\n",
    "    results = holistic_model.process(image)\n",
    "    image.flags.writeable = True\n",
    "\n",
    "    # Convert back to BGR\n",
    "    image = cv2.cvtColor(image, cv2.COLOR_RGB2BGR)\n",
    "\n",
    "    # Drawing Facial Landmarks\n",
    "\n",
    "    mp_drawing.draw_landmarks(\n",
    "    image, results.face_landmarks,\n",
    "    mp_holistic.FACEMESH_CONTOURS,\n",
    "    mp_drawing.DrawingSpec(\n",
    "    color = (255, 0, 255),\n",
    "    thickness = 1,\n",
    "    circle_radius = 1),\n",
    "    mp_drawing.DrawingSpec(\n",
    "    color = (255,0,255),\n",
    "    thickness=1,\n",
    "    circle_radius=1))\n",
    "\n",
    "    # Drawing Right Hand Landmarks\n",
    "\n",
    "    mp_drawing.draw_landmarks(\n",
    "    image, results.right_hand_landmarks,\n",
    "    mp_holistic.HAND_CONNECTIONS)\n",
    "\n",
    "    # Drawing Left Hand Landmarks\n",
    "\n",
    "    mp_drawing.draw_landmarks(\n",
    "    image, results.left_hand_landmarks,\n",
    "    mp_holistic.HAND_CONNECTIONS)\n",
    "\n",
    "    # Calculate the FPS\n",
    "    currentTime = time.time()\n",
    "    fps = 1/(currentTime-previousTime)\n",
    "    previousTime = currentTime\n",
    "\n",
    "    # Displaying FPS on the image\n",
    "\n",
    "    cv2.putText(image,\n",
    "                str(int(fps))+\" FPS\",\n",
    "                (10,70),\n",
    "                cv2.FONT_HERSHEY_COMPLEX,\n",
    "                1, (0, 255, 0),\n",
    "                2)\n",
    "\n",
    "    # Show the frame\n",
    "    cv2.imshow('Mediapipe Practical', image)\n",
    "    key = cv2.waitKey(5)\n",
    "    if key == ord('q'):\n",
    "        break\n",
    "\n",
    "capture.release()\n",
    "cv2.destroyAllWindows()"
   ]
  },
  {
   "cell_type": "code",
   "execution_count": null,
   "id": "f2f73257",
   "metadata": {
    "id": "f2f73257"
   },
   "outputs": [],
   "source": []
  },
  {
   "cell_type": "code",
   "execution_count": null,
   "id": "0379f9ee",
   "metadata": {
    "id": "0379f9ee"
   },
   "outputs": [],
   "source": []
  }
 ],
 "metadata": {
  "colab": {
   "provenance": []
  },
  "kernelspec": {
   "display_name": "Python 3 (ipykernel)",
   "language": "python",
   "name": "python3"
  },
  "language_info": {
   "codemirror_mode": {
    "name": "ipython",
    "version": 3
   },
   "file_extension": ".py",
   "mimetype": "text/x-python",
   "name": "python",
   "nbconvert_exporter": "python",
   "pygments_lexer": "ipython3",
   "version": "3.12.9"
  }
 },
 "nbformat": 4,
 "nbformat_minor": 5
}
