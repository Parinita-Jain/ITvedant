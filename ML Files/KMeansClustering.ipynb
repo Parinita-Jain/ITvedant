{
 "cells": [
  {
   "cell_type": "code",
   "execution_count": 46,
   "id": "fb9d2fa7-b871-4763-9f12-0f799457bc05",
   "metadata": {},
   "outputs": [],
   "source": [
    "import numpy as np # \n",
    "import pandas as pd # \n",
    "import matplotlib.pyplot as plt\n",
    "import seaborn as sns\n",
    "\n",
    "import warnings\n",
    "warnings.filterwarnings(\"ignore\")"
   ]
  },
  {
   "cell_type": "code",
   "execution_count": 47,
   "id": "751dfad6-cd9b-4905-801f-78fe3dd92e4b",
   "metadata": {},
   "outputs": [
    {
     "data": {
      "text/html": [
       "<div>\n",
       "<style scoped>\n",
       "    .dataframe tbody tr th:only-of-type {\n",
       "        vertical-align: middle;\n",
       "    }\n",
       "\n",
       "    .dataframe tbody tr th {\n",
       "        vertical-align: top;\n",
       "    }\n",
       "\n",
       "    .dataframe thead th {\n",
       "        text-align: right;\n",
       "    }\n",
       "</style>\n",
       "<table border=\"1\" class=\"dataframe\">\n",
       "  <thead>\n",
       "    <tr style=\"text-align: right;\">\n",
       "      <th></th>\n",
       "      <th>CustomerID</th>\n",
       "      <th>Genre</th>\n",
       "      <th>Age</th>\n",
       "      <th>Annual Income (k$)</th>\n",
       "      <th>Spending Score (1-100)</th>\n",
       "    </tr>\n",
       "  </thead>\n",
       "  <tbody>\n",
       "    <tr>\n",
       "      <th>0</th>\n",
       "      <td>1</td>\n",
       "      <td>Male</td>\n",
       "      <td>19</td>\n",
       "      <td>15</td>\n",
       "      <td>39</td>\n",
       "    </tr>\n",
       "    <tr>\n",
       "      <th>1</th>\n",
       "      <td>2</td>\n",
       "      <td>Male</td>\n",
       "      <td>21</td>\n",
       "      <td>15</td>\n",
       "      <td>81</td>\n",
       "    </tr>\n",
       "    <tr>\n",
       "      <th>2</th>\n",
       "      <td>3</td>\n",
       "      <td>Female</td>\n",
       "      <td>20</td>\n",
       "      <td>16</td>\n",
       "      <td>6</td>\n",
       "    </tr>\n",
       "    <tr>\n",
       "      <th>3</th>\n",
       "      <td>4</td>\n",
       "      <td>Female</td>\n",
       "      <td>23</td>\n",
       "      <td>16</td>\n",
       "      <td>77</td>\n",
       "    </tr>\n",
       "    <tr>\n",
       "      <th>4</th>\n",
       "      <td>5</td>\n",
       "      <td>Female</td>\n",
       "      <td>31</td>\n",
       "      <td>17</td>\n",
       "      <td>40</td>\n",
       "    </tr>\n",
       "  </tbody>\n",
       "</table>\n",
       "</div>"
      ],
      "text/plain": [
       "   CustomerID   Genre  Age  Annual Income (k$)  Spending Score (1-100)\n",
       "0           1    Male   19                  15                      39\n",
       "1           2    Male   21                  15                      81\n",
       "2           3  Female   20                  16                       6\n",
       "3           4  Female   23                  16                      77\n",
       "4           5  Female   31                  17                      40"
      ]
     },
     "execution_count": 47,
     "metadata": {},
     "output_type": "execute_result"
    }
   ],
   "source": [
    "df=pd.read_csv(\"Mall_Customers.csv\")\n",
    "df.head()"
   ]
  },
  {
   "cell_type": "code",
   "execution_count": 48,
   "id": "1d12ebff-df8a-4f6b-997d-0390f452d601",
   "metadata": {},
   "outputs": [
    {
     "data": {
      "text/html": [
       "<div>\n",
       "<style scoped>\n",
       "    .dataframe tbody tr th:only-of-type {\n",
       "        vertical-align: middle;\n",
       "    }\n",
       "\n",
       "    .dataframe tbody tr th {\n",
       "        vertical-align: top;\n",
       "    }\n",
       "\n",
       "    .dataframe thead th {\n",
       "        text-align: right;\n",
       "    }\n",
       "</style>\n",
       "<table border=\"1\" class=\"dataframe\">\n",
       "  <thead>\n",
       "    <tr style=\"text-align: right;\">\n",
       "      <th></th>\n",
       "      <th>Annual Income (k$)</th>\n",
       "      <th>Spending Score (1-100)</th>\n",
       "    </tr>\n",
       "  </thead>\n",
       "  <tbody>\n",
       "    <tr>\n",
       "      <th>count</th>\n",
       "      <td>200.000000</td>\n",
       "      <td>200.000000</td>\n",
       "    </tr>\n",
       "    <tr>\n",
       "      <th>mean</th>\n",
       "      <td>60.560000</td>\n",
       "      <td>50.200000</td>\n",
       "    </tr>\n",
       "    <tr>\n",
       "      <th>std</th>\n",
       "      <td>26.264721</td>\n",
       "      <td>25.823522</td>\n",
       "    </tr>\n",
       "    <tr>\n",
       "      <th>min</th>\n",
       "      <td>15.000000</td>\n",
       "      <td>1.000000</td>\n",
       "    </tr>\n",
       "    <tr>\n",
       "      <th>25%</th>\n",
       "      <td>41.500000</td>\n",
       "      <td>34.750000</td>\n",
       "    </tr>\n",
       "    <tr>\n",
       "      <th>50%</th>\n",
       "      <td>61.500000</td>\n",
       "      <td>50.000000</td>\n",
       "    </tr>\n",
       "    <tr>\n",
       "      <th>75%</th>\n",
       "      <td>78.000000</td>\n",
       "      <td>73.000000</td>\n",
       "    </tr>\n",
       "    <tr>\n",
       "      <th>max</th>\n",
       "      <td>137.000000</td>\n",
       "      <td>99.000000</td>\n",
       "    </tr>\n",
       "  </tbody>\n",
       "</table>\n",
       "</div>"
      ],
      "text/plain": [
       "       Annual Income (k$)  Spending Score (1-100)\n",
       "count          200.000000              200.000000\n",
       "mean            60.560000               50.200000\n",
       "std             26.264721               25.823522\n",
       "min             15.000000                1.000000\n",
       "25%             41.500000               34.750000\n",
       "50%             61.500000               50.000000\n",
       "75%             78.000000               73.000000\n",
       "max            137.000000               99.000000"
      ]
     },
     "execution_count": 48,
     "metadata": {},
     "output_type": "execute_result"
    }
   ],
   "source": [
    "df1=df[[\"Annual Income (k$)\",\"Spending Score (1-100)\"]]\n",
    "df1.describe()"
   ]
  },
  {
   "cell_type": "code",
   "execution_count": 49,
   "id": "58739ce2-3f8f-4518-9e3c-194b4c250bec",
   "metadata": {},
   "outputs": [
    {
     "data": {
      "text/plain": [
       "<Axes: xlabel='Annual Income (k$)', ylabel='Spending Score (1-100)'>"
      ]
     },
     "execution_count": 49,
     "metadata": {},
     "output_type": "execute_result"
    },
    {
     "data": {
      "image/png": "[encoded data removed]",
      "text/plain": [
       "<Figure size 640x480 with 1 Axes>"
      ]
     },
     "metadata": {},
     "output_type": "display_data"
    }
   ],
   "source": [
    "sns.scatterplot(data=df1,x=\"Annual Income (k$)\",y=\"Spending Score (1-100)\")"
   ]
  },
  {
   "cell_type": "code",
   "execution_count": 50,
   "id": "f49b8cc3-fd14-4a13-a282-650ad28d7d9f",
   "metadata": {},
   "outputs": [
    {
     "data": {
      "text/plain": [
       "array([[-1.73899919, -0.43480148],\n",
       "       [-1.73899919,  1.19570407],\n",
       "       [-1.70082976, -1.71591298],\n",
       "       [-1.70082976,  1.04041783],\n",
       "       [-1.66266033, -0.39597992],\n",
       "       [-1.66266033,  1.00159627],\n",
       "       [-1.62449091, -1.71591298],\n",
       "       [-1.62449091,  1.70038436],\n",
       "       [-1.58632148, -1.83237767],\n",
       "       [-1.58632148,  0.84631002],\n",
       "       [-1.58632148, -1.4053405 ],\n",
       "       [-1.58632148,  1.89449216],\n",
       "       [-1.54815205, -1.36651894],\n",
       "       [-1.54815205,  1.04041783],\n",
       "       [-1.54815205, -1.44416206],\n",
       "       [-1.54815205,  1.11806095],\n",
       "       [-1.50998262, -0.59008772],\n",
       "       [-1.50998262,  0.61338066],\n",
       "       [-1.43364376, -0.82301709],\n",
       "       [-1.43364376,  1.8556706 ],\n",
       "       [-1.39547433, -0.59008772],\n",
       "       [-1.39547433,  0.88513158],\n",
       "       [-1.3573049 , -1.75473454],\n",
       "       [-1.3573049 ,  0.88513158],\n",
       "       [-1.24279661, -1.4053405 ],\n",
       "       [-1.24279661,  1.23452563],\n",
       "       [-1.24279661, -0.7065524 ],\n",
       "       [-1.24279661,  0.41927286],\n",
       "       [-1.20462718, -0.74537397],\n",
       "       [-1.20462718,  1.42863343],\n",
       "       [-1.16645776, -1.7935561 ],\n",
       "       [-1.16645776,  0.88513158],\n",
       "       [-1.05194947, -1.7935561 ],\n",
       "       [-1.05194947,  1.62274124],\n",
       "       [-1.05194947, -1.4053405 ],\n",
       "       [-1.05194947,  1.19570407],\n",
       "       [-1.01378004, -1.28887582],\n",
       "       [-1.01378004,  0.88513158],\n",
       "       [-0.89927175, -0.93948177],\n",
       "       [-0.89927175,  0.96277471],\n",
       "       [-0.86110232, -0.59008772],\n",
       "       [-0.86110232,  1.62274124],\n",
       "       [-0.82293289, -0.55126616],\n",
       "       [-0.82293289,  0.41927286],\n",
       "       [-0.82293289, -0.86183865],\n",
       "       [-0.82293289,  0.5745591 ],\n",
       "       [-0.78476346,  0.18634349],\n",
       "       [-0.78476346, -0.12422899],\n",
       "       [-0.78476346, -0.3183368 ],\n",
       "       [-0.78476346, -0.3183368 ],\n",
       "       [-0.70842461,  0.06987881],\n",
       "       [-0.70842461,  0.38045129],\n",
       "       [-0.67025518,  0.14752193],\n",
       "       [-0.67025518,  0.38045129],\n",
       "       [-0.67025518, -0.20187212],\n",
       "       [-0.67025518, -0.35715836],\n",
       "       [-0.63208575, -0.00776431],\n",
       "       [-0.63208575, -0.16305055],\n",
       "       [-0.55574689,  0.03105725],\n",
       "       [-0.55574689, -0.16305055],\n",
       "       [-0.55574689,  0.22516505],\n",
       "       [-0.55574689,  0.18634349],\n",
       "       [-0.51757746,  0.06987881],\n",
       "       [-0.51757746,  0.34162973],\n",
       "       [-0.47940803,  0.03105725],\n",
       "       [-0.47940803,  0.34162973],\n",
       "       [-0.47940803, -0.00776431],\n",
       "       [-0.47940803, -0.08540743],\n",
       "       [-0.47940803,  0.34162973],\n",
       "       [-0.47940803, -0.12422899],\n",
       "       [-0.4412386 ,  0.18634349],\n",
       "       [-0.4412386 , -0.3183368 ],\n",
       "       [-0.40306917, -0.04658587],\n",
       "       [-0.40306917,  0.22516505],\n",
       "       [-0.25039146, -0.12422899],\n",
       "       [-0.25039146,  0.14752193],\n",
       "       [-0.25039146,  0.10870037],\n",
       "       [-0.25039146, -0.08540743],\n",
       "       [-0.25039146,  0.06987881],\n",
       "       [-0.25039146, -0.3183368 ],\n",
       "       [-0.25039146,  0.03105725],\n",
       "       [-0.25039146,  0.18634349],\n",
       "       [-0.25039146, -0.35715836],\n",
       "       [-0.25039146, -0.24069368],\n",
       "       [-0.25039146,  0.26398661],\n",
       "       [-0.25039146, -0.16305055],\n",
       "       [-0.13588317,  0.30280817],\n",
       "       [-0.13588317,  0.18634349],\n",
       "       [-0.09771374,  0.38045129],\n",
       "       [-0.09771374, -0.16305055],\n",
       "       [-0.05954431,  0.18634349],\n",
       "       [-0.05954431, -0.35715836],\n",
       "       [-0.02137488, -0.04658587],\n",
       "       [-0.02137488, -0.39597992],\n",
       "       [-0.02137488, -0.3183368 ],\n",
       "       [-0.02137488,  0.06987881],\n",
       "       [-0.02137488, -0.12422899],\n",
       "       [-0.02137488, -0.00776431],\n",
       "       [ 0.01679455, -0.3183368 ],\n",
       "       [ 0.01679455, -0.04658587],\n",
       "       [ 0.05496398, -0.35715836],\n",
       "       [ 0.05496398, -0.08540743],\n",
       "       [ 0.05496398,  0.34162973],\n",
       "       [ 0.05496398,  0.18634349],\n",
       "       [ 0.05496398,  0.22516505],\n",
       "       [ 0.05496398, -0.3183368 ],\n",
       "       [ 0.09313341, -0.00776431],\n",
       "       [ 0.09313341, -0.16305055],\n",
       "       [ 0.09313341, -0.27951524],\n",
       "       [ 0.09313341, -0.08540743],\n",
       "       [ 0.09313341,  0.06987881],\n",
       "       [ 0.09313341,  0.14752193],\n",
       "       [ 0.13130284, -0.3183368 ],\n",
       "       [ 0.13130284, -0.16305055],\n",
       "       [ 0.16947227, -0.08540743],\n",
       "       [ 0.16947227, -0.00776431],\n",
       "       [ 0.16947227, -0.27951524],\n",
       "       [ 0.16947227,  0.34162973],\n",
       "       [ 0.24581112, -0.27951524],\n",
       "       [ 0.24581112,  0.26398661],\n",
       "       [ 0.24581112,  0.22516505],\n",
       "       [ 0.24581112, -0.39597992],\n",
       "       [ 0.32214998,  0.30280817],\n",
       "       [ 0.32214998,  1.58391968],\n",
       "       [ 0.36031941, -0.82301709],\n",
       "       [ 0.36031941,  1.04041783],\n",
       "       [ 0.39848884, -0.59008772],\n",
       "       [ 0.39848884,  1.73920592],\n",
       "       [ 0.39848884, -1.52180518],\n",
       "       [ 0.39848884,  0.96277471],\n",
       "       [ 0.39848884, -1.5994483 ],\n",
       "       [ 0.39848884,  0.96277471],\n",
       "       [ 0.43665827, -0.62890928],\n",
       "       [ 0.43665827,  0.80748846],\n",
       "       [ 0.4748277 , -1.75473454],\n",
       "       [ 0.4748277 ,  1.46745499],\n",
       "       [ 0.4748277 , -1.67709142],\n",
       "       [ 0.4748277 ,  0.88513158],\n",
       "       [ 0.51299713, -1.56062674],\n",
       "       [ 0.51299713,  0.84631002],\n",
       "       [ 0.55116656, -1.75473454],\n",
       "       [ 0.55116656,  1.6615628 ],\n",
       "       [ 0.58933599, -0.39597992],\n",
       "       [ 0.58933599,  1.42863343],\n",
       "       [ 0.62750542, -1.48298362],\n",
       "       [ 0.62750542,  1.81684904],\n",
       "       [ 0.62750542, -0.55126616],\n",
       "       [ 0.62750542,  0.92395314],\n",
       "       [ 0.66567484, -1.09476801],\n",
       "       [ 0.66567484,  1.54509812],\n",
       "       [ 0.66567484, -1.28887582],\n",
       "       [ 0.66567484,  1.46745499],\n",
       "       [ 0.66567484, -1.17241113],\n",
       "       [ 0.66567484,  1.00159627],\n",
       "       [ 0.66567484, -1.32769738],\n",
       "       [ 0.66567484,  1.50627656],\n",
       "       [ 0.66567484, -1.91002079],\n",
       "       [ 0.66567484,  1.07923939],\n",
       "       [ 0.66567484, -1.91002079],\n",
       "       [ 0.66567484,  0.88513158],\n",
       "       [ 0.70384427, -0.59008772],\n",
       "       [ 0.70384427,  1.27334719],\n",
       "       [ 0.78018313, -1.75473454],\n",
       "       [ 0.78018313,  1.6615628 ],\n",
       "       [ 0.93286085, -0.93948177],\n",
       "       [ 0.93286085,  0.96277471],\n",
       "       [ 0.97103028, -1.17241113],\n",
       "       [ 0.97103028,  1.73920592],\n",
       "       [ 1.00919971, -0.90066021],\n",
       "       [ 1.00919971,  0.49691598],\n",
       "       [ 1.00919971, -1.44416206],\n",
       "       [ 1.00919971,  0.96277471],\n",
       "       [ 1.00919971, -1.56062674],\n",
       "       [ 1.00919971,  1.62274124],\n",
       "       [ 1.04736914, -1.44416206],\n",
       "       [ 1.04736914,  1.38981187],\n",
       "       [ 1.04736914, -1.36651894],\n",
       "       [ 1.04736914,  0.72984534],\n",
       "       [ 1.23821628, -1.4053405 ],\n",
       "       [ 1.23821628,  1.54509812],\n",
       "       [ 1.390894  , -0.7065524 ],\n",
       "       [ 1.390894  ,  1.38981187],\n",
       "       [ 1.42906343, -1.36651894],\n",
       "       [ 1.42906343,  1.46745499],\n",
       "       [ 1.46723286, -0.43480148],\n",
       "       [ 1.46723286,  1.81684904],\n",
       "       [ 1.54357172, -1.01712489],\n",
       "       [ 1.54357172,  0.69102378],\n",
       "       [ 1.61991057, -1.28887582],\n",
       "       [ 1.61991057,  1.35099031],\n",
       "       [ 1.61991057, -1.05594645],\n",
       "       [ 1.61991057,  0.72984534],\n",
       "       [ 2.00160487, -1.63826986],\n",
       "       [ 2.00160487,  1.58391968],\n",
       "       [ 2.26879087, -1.32769738],\n",
       "       [ 2.26879087,  1.11806095],\n",
       "       [ 2.49780745, -0.86183865],\n",
       "       [ 2.49780745,  0.92395314],\n",
       "       [ 2.91767117, -1.25005425],\n",
       "       [ 2.91767117,  1.27334719]])"
      ]
     },
     "execution_count": 50,
     "metadata": {},
     "output_type": "execute_result"
    }
   ],
   "source": [
    "from sklearn.preprocessing import StandardScaler\n",
    "ss = StandardScaler()\n",
    "x_new=ss.fit_transform(df1)\n",
    "x_new"
   ]
  },
  {
   "cell_type": "code",
   "execution_count": 51,
   "id": "8a0a7fb6-3b80-4a66-87f7-0e2b7fddcb77",
   "metadata": {},
   "outputs": [],
   "source": [
    "wcss=[]\n",
    "from sklearn.cluster import KMeans\n",
    "for i in range(1,11):\n",
    "    kmeans=KMeans(n_clusters=i)\n",
    "    kmeans.fit(x_new)\n",
    "    wcss.append(kmeans.inertia_)\n",
    "    "
   ]
  },
  {
   "cell_type": "code",
   "execution_count": 52,
   "id": "e6240438-a45c-42c9-a7ae-6d233ed60076",
   "metadata": {},
   "outputs": [
    {
     "data": {
      "text/plain": [
       "[400.0,\n",
       " 273.66888662642015,\n",
       " 157.70400815035947,\n",
       " 123.43171680553705,\n",
       " 65.57885579985047,\n",
       " 55.11422576528423,\n",
       " 47.70784156804295,\n",
       " 44.71194842006207,\n",
       " 38.064332773980965,\n",
       " 33.74980691364644]"
      ]
     },
     "execution_count": 52,
     "metadata": {},
     "output_type": "execute_result"
    }
   ],
   "source": [
    "wcss"
   ]
  },
  {
   "cell_type": "code",
   "execution_count": 53,
   "id": "ddc63b17-096c-4017-b4e2-19c9ba5ece28",
   "metadata": {},
   "outputs": [
    {
     "data": {
      "image/png": "[encoded data removed]",
      "text/plain": [
       "<Figure size 640x480 with 1 Axes>"
      ]
     },
     "metadata": {},
     "output_type": "display_data"
    }
   ],
   "source": [
    "# Applying elbow method for optimal number of k\n",
    "plt.plot(range(1,11),wcss,'o--')\n",
    "plt.xlabel(\"Number of Clusters\")\n",
    "plt.ylabel(\"WCSS\")\n",
    "plt.show()"
   ]
  },
  {
   "cell_type": "code",
   "execution_count": 82,
   "id": "92515481-a433-480f-9f29-c70db8346688",
   "metadata": {},
   "outputs": [
    {
     "data": {
      "text/plain": [
       "array([0, 3, 0, 3, 0, 3, 0, 3, 0, 3, 0, 3, 0, 3, 0, 3, 0, 3, 0, 3, 0, 3,\n",
       "       0, 3, 0, 3, 0, 3, 0, 3, 0, 3, 0, 3, 0, 3, 0, 3, 0, 3, 0, 3, 0, 1,\n",
       "       0, 3, 1, 1, 1, 1, 1, 1, 1, 1, 1, 1, 1, 1, 1, 1, 1, 1, 1, 1, 1, 1,\n",
       "       1, 1, 1, 1, 1, 1, 1, 1, 1, 1, 1, 1, 1, 1, 1, 1, 1, 1, 1, 1, 1, 1,\n",
       "       1, 1, 1, 1, 1, 1, 1, 1, 1, 1, 1, 1, 1, 1, 1, 1, 1, 1, 1, 1, 1, 1,\n",
       "       1, 1, 1, 1, 1, 1, 1, 1, 1, 1, 1, 1, 1, 4, 2, 4, 1, 4, 2, 4, 2, 4,\n",
       "       1, 4, 2, 4, 2, 4, 2, 4, 2, 4, 1, 4, 2, 4, 2, 4, 2, 4, 2, 4, 2, 4,\n",
       "       2, 4, 2, 4, 2, 4, 2, 4, 2, 4, 2, 4, 2, 4, 2, 4, 2, 4, 2, 4, 2, 4,\n",
       "       2, 4, 2, 4, 2, 4, 2, 4, 2, 4, 2, 4, 2, 4, 2, 4, 2, 4, 2, 4, 2, 4,\n",
       "       2, 4])"
      ]
     },
     "execution_count": 82,
     "metadata": {},
     "output_type": "execute_result"
    }
   ],
   "source": [
    "kmeans=KMeans(n_clusters=5)\n",
    "kmeans.fit(x_new)\n",
    "ypredicted_classes=kmeans.predict(x_new)\n",
    "ypredicted_classes"
   ]
  },
  {
   "cell_type": "code",
   "execution_count": 84,
   "id": "fc9a0698-5936-49ba-b3b8-7458edf16f33",
   "metadata": {},
   "outputs": [
    {
     "data": {
      "text/html": [
       "<div>\n",
       "<style scoped>\n",
       "    .dataframe tbody tr th:only-of-type {\n",
       "        vertical-align: middle;\n",
       "    }\n",
       "\n",
       "    .dataframe tbody tr th {\n",
       "        vertical-align: top;\n",
       "    }\n",
       "\n",
       "    .dataframe thead th {\n",
       "        text-align: right;\n",
       "    }\n",
       "</style>\n",
       "<table border=\"1\" class=\"dataframe\">\n",
       "  <thead>\n",
       "    <tr style=\"text-align: right;\">\n",
       "      <th></th>\n",
       "      <th>CustomerID</th>\n",
       "      <th>Genre</th>\n",
       "      <th>Age</th>\n",
       "      <th>Annual Income (k$)</th>\n",
       "      <th>Spending Score (1-100)</th>\n",
       "      <th>Target</th>\n",
       "    </tr>\n",
       "  </thead>\n",
       "  <tbody>\n",
       "    <tr>\n",
       "      <th>0</th>\n",
       "      <td>1</td>\n",
       "      <td>Male</td>\n",
       "      <td>19</td>\n",
       "      <td>15</td>\n",
       "      <td>39</td>\n",
       "      <td>0</td>\n",
       "    </tr>\n",
       "    <tr>\n",
       "      <th>1</th>\n",
       "      <td>2</td>\n",
       "      <td>Male</td>\n",
       "      <td>21</td>\n",
       "      <td>15</td>\n",
       "      <td>81</td>\n",
       "      <td>3</td>\n",
       "    </tr>\n",
       "    <tr>\n",
       "      <th>2</th>\n",
       "      <td>3</td>\n",
       "      <td>Female</td>\n",
       "      <td>20</td>\n",
       "      <td>16</td>\n",
       "      <td>6</td>\n",
       "      <td>0</td>\n",
       "    </tr>\n",
       "    <tr>\n",
       "      <th>3</th>\n",
       "      <td>4</td>\n",
       "      <td>Female</td>\n",
       "      <td>23</td>\n",
       "      <td>16</td>\n",
       "      <td>77</td>\n",
       "      <td>3</td>\n",
       "    </tr>\n",
       "    <tr>\n",
       "      <th>4</th>\n",
       "      <td>5</td>\n",
       "      <td>Female</td>\n",
       "      <td>31</td>\n",
       "      <td>17</td>\n",
       "      <td>40</td>\n",
       "      <td>0</td>\n",
       "    </tr>\n",
       "  </tbody>\n",
       "</table>\n",
       "</div>"
      ],
      "text/plain": [
       "   CustomerID   Genre  Age  Annual Income (k$)  Spending Score (1-100)  Target\n",
       "0           1    Male   19                  15                      39       0\n",
       "1           2    Male   21                  15                      81       3\n",
       "2           3  Female   20                  16                       6       0\n",
       "3           4  Female   23                  16                      77       3\n",
       "4           5  Female   31                  17                      40       0"
      ]
     },
     "execution_count": 84,
     "metadata": {},
     "output_type": "execute_result"
    }
   ],
   "source": [
    "df[\"Target\"]=ypredicted_classes\n",
    "df.head()"
   ]
  },
  {
   "cell_type": "code",
   "execution_count": 86,
   "id": "1abd6ca9-90b6-435a-9364-1112661019e6",
   "metadata": {},
   "outputs": [
    {
     "data": {
      "text/plain": [
       "array([[-1.30751869, -1.13696536],\n",
       "       [-0.20091257, -0.02645617],\n",
       "       [ 1.05500302, -1.28443907],\n",
       "       [-1.32954532,  1.13217788],\n",
       "       [ 0.99158305,  1.23950275]])"
      ]
     },
     "execution_count": 86,
     "metadata": {},
     "output_type": "execute_result"
    }
   ],
   "source": [
    "kmeans.cluster_centers_"
   ]
  },
  {
   "cell_type": "code",
   "execution_count": 88,
   "id": "f41d9cac-c359-4361-8c58-23740269f192",
   "metadata": {},
   "outputs": [
    {
     "data": {
      "text/plain": [
       "array([-1.13696536, -0.02645617, -1.28443907,  1.13217788,  1.23950275])"
      ]
     },
     "execution_count": 88,
     "metadata": {},
     "output_type": "execute_result"
    }
   ],
   "source": [
    "kmeans.cluster_centers_[:,1]"
   ]
  },
  {
   "cell_type": "code",
   "execution_count": 90,
   "id": "70798fc0-7be7-4966-9564-fdbb7f0c00c3",
   "metadata": {},
   "outputs": [
    {
     "data": {
      "image/png": "[encoded data removed]",
      "text/plain": [
       "<Figure size 640x480 with 1 Axes>"
      ]
     },
     "metadata": {},
     "output_type": "display_data"
    }
   ],
   "source": [
    "plt.scatter(x_new[:,0],x_new[:,1],c=df[\"Target\"],cmap=\"rainbow\")\n",
    "plt.scatter(kmeans.cluster_centers_[:,0],kmeans.cluster_centers_[:,1],c=\"yellow\")\n",
    "plt.xlabel(\"Annual Score\")\n",
    "plt.ylabel(\"Spending\")\n",
    "plt.title(\"Clusters\")\n",
    "plt.show()"
   ]
  },
  {
   "cell_type": "code",
   "execution_count": null,
   "id": "8d57eb98-22f6-411e-aa2e-828898674782",
   "metadata": {},
   "outputs": [],
   "source": []
  },
  {
   "cell_type": "code",
   "execution_count": null,
   "id": "371feb5a-5aa6-4a48-94d9-6b8a468067af",
   "metadata": {},
   "outputs": [],
   "source": []
  }
 ],
 "metadata": {
  "kernelspec": {
   "display_name": "Python 3 (ipykernel)",
   "language": "python",
   "name": "python3"
  },
  "language_info": {
   "codemirror_mode": {
    "name": "ipython",
    "version": 3
   },
   "file_extension": ".py",
   "mimetype": "text/x-python",
   "name": "python",
   "nbconvert_exporter": "python",
   "pygments_lexer": "ipython3",
   "version": "3.12.4"
  }
 },
 "nbformat": 4,
 "nbformat_minor": 5
}
