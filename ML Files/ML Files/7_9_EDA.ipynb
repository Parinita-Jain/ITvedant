{
 "cells": [
  {
   "cell_type": "code",
   "execution_count": 86,
   "id": "f24f8399-7b44-4f9f-86d4-d9d83164991e",
   "metadata": {},
   "outputs": [],
   "source": [
    "import numpy as np\n",
    "import pandas as pd\n",
    "import matplotlib.pyplot as plt\n",
    "import seaborn as sns\n",
    "\n",
    "import warnings\n",
    "warnings.filterwarnings(\"ignore\")"
   ]
  },
  {
   "cell_type": "code",
   "execution_count": 87,
   "id": "845cae1b-e943-4f49-a429-2bb7b7d4f780",
   "metadata": {},
   "outputs": [],
   "source": [
    "df=pd.read_csv(\"data1.csv\")"
   ]
  },
  {
   "cell_type": "code",
   "execution_count": 88,
   "id": "b9e0ebe2-0870-4c0b-89b9-3e099f1546a8",
   "metadata": {},
   "outputs": [
    {
     "data": {
      "text/html": [
       "<div>\n",
       "<style scoped>\n",
       "    .dataframe tbody tr th:only-of-type {\n",
       "        vertical-align: middle;\n",
       "    }\n",
       "\n",
       "    .dataframe tbody tr th {\n",
       "        vertical-align: top;\n",
       "    }\n",
       "\n",
       "    .dataframe thead th {\n",
       "        text-align: right;\n",
       "    }\n",
       "</style>\n",
       "<table border=\"1\" class=\"dataframe\">\n",
       "  <thead>\n",
       "    <tr style=\"text-align: right;\">\n",
       "      <th></th>\n",
       "      <th>Name</th>\n",
       "      <th>Python</th>\n",
       "      <th>Machine Learning</th>\n",
       "    </tr>\n",
       "  </thead>\n",
       "  <tbody>\n",
       "    <tr>\n",
       "      <th>0</th>\n",
       "      <td>jay</td>\n",
       "      <td>90.0</td>\n",
       "      <td>NaN</td>\n",
       "    </tr>\n",
       "    <tr>\n",
       "      <th>1</th>\n",
       "      <td>raj</td>\n",
       "      <td>NaN</td>\n",
       "      <td>89.0</td>\n",
       "    </tr>\n",
       "  </tbody>\n",
       "</table>\n",
       "</div>"
      ],
      "text/plain": [
       "  Name  Python  Machine Learning\n",
       "0  jay    90.0               NaN\n",
       "1  raj     NaN              89.0"
      ]
     },
     "execution_count": 88,
     "metadata": {},
     "output_type": "execute_result"
    }
   ],
   "source": [
    "df.head(2)"
   ]
  },
  {
   "cell_type": "code",
   "execution_count": 89,
   "id": "afb5fceb-6c89-4453-b764-c6a45270d419",
   "metadata": {},
   "outputs": [
    {
     "data": {
      "text/html": [
       "<div>\n",
       "<style scoped>\n",
       "    .dataframe tbody tr th:only-of-type {\n",
       "        vertical-align: middle;\n",
       "    }\n",
       "\n",
       "    .dataframe tbody tr th {\n",
       "        vertical-align: top;\n",
       "    }\n",
       "\n",
       "    .dataframe thead th {\n",
       "        text-align: right;\n",
       "    }\n",
       "</style>\n",
       "<table border=\"1\" class=\"dataframe\">\n",
       "  <thead>\n",
       "    <tr style=\"text-align: right;\">\n",
       "      <th></th>\n",
       "      <th>Name</th>\n",
       "      <th>Python</th>\n",
       "      <th>Machine Learning</th>\n",
       "    </tr>\n",
       "  </thead>\n",
       "  <tbody>\n",
       "    <tr>\n",
       "      <th>5</th>\n",
       "      <td>viraj</td>\n",
       "      <td>65.0</td>\n",
       "      <td>56.0</td>\n",
       "    </tr>\n",
       "    <tr>\n",
       "      <th>6</th>\n",
       "      <td>vijay</td>\n",
       "      <td>45.0</td>\n",
       "      <td>67.0</td>\n",
       "    </tr>\n",
       "    <tr>\n",
       "      <th>7</th>\n",
       "      <td>sumit</td>\n",
       "      <td>80.0</td>\n",
       "      <td>45.0</td>\n",
       "    </tr>\n",
       "    <tr>\n",
       "      <th>8</th>\n",
       "      <td>akash</td>\n",
       "      <td>70.0</td>\n",
       "      <td>67.0</td>\n",
       "    </tr>\n",
       "    <tr>\n",
       "      <th>9</th>\n",
       "      <td>sujit</td>\n",
       "      <td>NaN</td>\n",
       "      <td>NaN</td>\n",
       "    </tr>\n",
       "  </tbody>\n",
       "</table>\n",
       "</div>"
      ],
      "text/plain": [
       "    Name  Python  Machine Learning\n",
       "5  viraj    65.0              56.0\n",
       "6  vijay    45.0              67.0\n",
       "7  sumit    80.0              45.0\n",
       "8  akash    70.0              67.0\n",
       "9  sujit     NaN               NaN"
      ]
     },
     "execution_count": 89,
     "metadata": {},
     "output_type": "execute_result"
    }
   ],
   "source": [
    "df.tail()"
   ]
  },
  {
   "cell_type": "code",
   "execution_count": 90,
   "id": "cd2498d5-462a-45a4-b882-52acce4f3274",
   "metadata": {},
   "outputs": [
    {
     "name": "stdout",
     "output_type": "stream",
     "text": [
      "<class 'pandas.core.frame.DataFrame'>\n",
      "RangeIndex: 10 entries, 0 to 9\n",
      "Data columns (total 3 columns):\n",
      " #   Column            Non-Null Count  Dtype  \n",
      "---  ------            --------------  -----  \n",
      " 0   Name              10 non-null     object \n",
      " 1   Python            6 non-null      float64\n",
      " 2   Machine Learning  7 non-null      float64\n",
      "dtypes: float64(2), object(1)\n",
      "memory usage: 372.0+ bytes\n"
     ]
    }
   ],
   "source": [
    "df.info() # Python - 4\n",
    "# ML -- 3"
   ]
  },
  {
   "cell_type": "code",
   "execution_count": 91,
   "id": "76d13d55-776f-43b2-916a-33b1117c233d",
   "metadata": {},
   "outputs": [
    {
     "data": {
      "text/html": [
       "<div>\n",
       "<style scoped>\n",
       "    .dataframe tbody tr th:only-of-type {\n",
       "        vertical-align: middle;\n",
       "    }\n",
       "\n",
       "    .dataframe tbody tr th {\n",
       "        vertical-align: top;\n",
       "    }\n",
       "\n",
       "    .dataframe thead th {\n",
       "        text-align: right;\n",
       "    }\n",
       "</style>\n",
       "<table border=\"1\" class=\"dataframe\">\n",
       "  <thead>\n",
       "    <tr style=\"text-align: right;\">\n",
       "      <th></th>\n",
       "      <th>Python</th>\n",
       "      <th>Machine Learning</th>\n",
       "    </tr>\n",
       "  </thead>\n",
       "  <tbody>\n",
       "    <tr>\n",
       "      <th>count</th>\n",
       "      <td>6.000000</td>\n",
       "      <td>7.000000</td>\n",
       "    </tr>\n",
       "    <tr>\n",
       "      <th>mean</th>\n",
       "      <td>71.333333</td>\n",
       "      <td>69.857143</td>\n",
       "    </tr>\n",
       "    <tr>\n",
       "      <th>std</th>\n",
       "      <td>15.513435</td>\n",
       "      <td>16.087558</td>\n",
       "    </tr>\n",
       "    <tr>\n",
       "      <th>min</th>\n",
       "      <td>45.000000</td>\n",
       "      <td>45.000000</td>\n",
       "    </tr>\n",
       "    <tr>\n",
       "      <th>25%</th>\n",
       "      <td>66.250000</td>\n",
       "      <td>61.500000</td>\n",
       "    </tr>\n",
       "    <tr>\n",
       "      <th>50%</th>\n",
       "      <td>74.000000</td>\n",
       "      <td>67.000000</td>\n",
       "    </tr>\n",
       "    <tr>\n",
       "      <th>75%</th>\n",
       "      <td>79.500000</td>\n",
       "      <td>82.500000</td>\n",
       "    </tr>\n",
       "    <tr>\n",
       "      <th>max</th>\n",
       "      <td>90.000000</td>\n",
       "      <td>89.000000</td>\n",
       "    </tr>\n",
       "  </tbody>\n",
       "</table>\n",
       "</div>"
      ],
      "text/plain": [
       "          Python  Machine Learning\n",
       "count   6.000000          7.000000\n",
       "mean   71.333333         69.857143\n",
       "std    15.513435         16.087558\n",
       "min    45.000000         45.000000\n",
       "25%    66.250000         61.500000\n",
       "50%    74.000000         67.000000\n",
       "75%    79.500000         82.500000\n",
       "max    90.000000         89.000000"
      ]
     },
     "execution_count": 91,
     "metadata": {},
     "output_type": "execute_result"
    }
   ],
   "source": [
    "df.describe() # Python - skewness -- mean<median -- negative skewness\n",
    "# Ml -- mean>median -- +ve skewness"
   ]
  },
  {
   "cell_type": "code",
   "execution_count": 92,
   "id": "dcdf97d8-9c49-42e2-a040-7a99f2423145",
   "metadata": {},
   "outputs": [
    {
     "data": {
      "text/plain": [
       "<Axes: xlabel='Python', ylabel='Density'>"
      ]
     },
     "execution_count": 92,
     "metadata": {},
     "output_type": "execute_result"
    },
    {
     "data": {
      "image/png": "[encoded data removed]",
      "text/plain": [
       "<Figure size 640x480 with 1 Axes>"
      ]
     },
     "metadata": {},
     "output_type": "display_data"
    }
   ],
   "source": [
    "sns.kdeplot(df[\"Python\"])"
   ]
  },
  {
   "cell_type": "code",
   "execution_count": 93,
   "id": "8e9a3745-60e3-49fc-bf60-65747ea6dad4",
   "metadata": {},
   "outputs": [
    {
     "data": {
      "text/plain": [
       "<Axes: xlabel='Machine Learning', ylabel='Density'>"
      ]
     },
     "execution_count": 93,
     "metadata": {},
     "output_type": "execute_result"
    },
    {
     "data": {
      "image/png": "[encoded data removed]",
      "text/plain": [
       "<Figure size 640x480 with 1 Axes>"
      ]
     },
     "metadata": {},
     "output_type": "display_data"
    }
   ],
   "source": [
    "sns.kdeplot(df[\"Machine Learning\"])"
   ]
  },
  {
   "cell_type": "code",
   "execution_count": 94,
   "id": "2682180a-ecb6-4c39-b9f2-726428ca7512",
   "metadata": {},
   "outputs": [
    {
     "data": {
      "text/html": [
       "<div>\n",
       "<style scoped>\n",
       "    .dataframe tbody tr th:only-of-type {\n",
       "        vertical-align: middle;\n",
       "    }\n",
       "\n",
       "    .dataframe tbody tr th {\n",
       "        vertical-align: top;\n",
       "    }\n",
       "\n",
       "    .dataframe thead th {\n",
       "        text-align: right;\n",
       "    }\n",
       "</style>\n",
       "<table border=\"1\" class=\"dataframe\">\n",
       "  <thead>\n",
       "    <tr style=\"text-align: right;\">\n",
       "      <th></th>\n",
       "      <th>Name</th>\n",
       "      <th>Python</th>\n",
       "      <th>Machine Learning</th>\n",
       "    </tr>\n",
       "  </thead>\n",
       "  <tbody>\n",
       "    <tr>\n",
       "      <th>2</th>\n",
       "      <td>kumar</td>\n",
       "      <td>78.0</td>\n",
       "      <td>78.0</td>\n",
       "    </tr>\n",
       "    <tr>\n",
       "      <th>5</th>\n",
       "      <td>viraj</td>\n",
       "      <td>65.0</td>\n",
       "      <td>56.0</td>\n",
       "    </tr>\n",
       "    <tr>\n",
       "      <th>6</th>\n",
       "      <td>vijay</td>\n",
       "      <td>45.0</td>\n",
       "      <td>67.0</td>\n",
       "    </tr>\n",
       "    <tr>\n",
       "      <th>7</th>\n",
       "      <td>sumit</td>\n",
       "      <td>80.0</td>\n",
       "      <td>45.0</td>\n",
       "    </tr>\n",
       "    <tr>\n",
       "      <th>8</th>\n",
       "      <td>akash</td>\n",
       "      <td>70.0</td>\n",
       "      <td>67.0</td>\n",
       "    </tr>\n",
       "  </tbody>\n",
       "</table>\n",
       "</div>"
      ],
      "text/plain": [
       "    Name  Python  Machine Learning\n",
       "2  kumar    78.0              78.0\n",
       "5  viraj    65.0              56.0\n",
       "6  vijay    45.0              67.0\n",
       "7  sumit    80.0              45.0\n",
       "8  akash    70.0              67.0"
      ]
     },
     "execution_count": 94,
     "metadata": {},
     "output_type": "execute_result"
    }
   ],
   "source": [
    "# null values remove\n",
    "#df.dropna(inplace=True)\n",
    "#df=df.dropna()\n",
    "df.dropna()"
   ]
  },
  {
   "cell_type": "code",
   "execution_count": 95,
   "id": "ba86a763-bb28-4c3b-8808-f50ea3c12da9",
   "metadata": {},
   "outputs": [
    {
     "data": {
      "text/plain": [
       "Name                 0.0\n",
       "Python              40.0\n",
       "Machine Learning    30.0\n",
       "dtype: float64"
      ]
     },
     "execution_count": 95,
     "metadata": {},
     "output_type": "execute_result"
    }
   ],
   "source": [
    "(df.isnull().sum()/len(df))*100 # calculating percentage of missing values"
   ]
  },
  {
   "cell_type": "code",
   "execution_count": 96,
   "id": "c8bf6798-4892-494c-ac35-961fa4310c61",
   "metadata": {},
   "outputs": [],
   "source": [
    "df[\"Python\"]=df[\"Python\"].fillna(df[\"Python\"].median())"
   ]
  },
  {
   "cell_type": "code",
   "execution_count": 97,
   "id": "3a826e5e-f215-4f82-866e-92e9cab19def",
   "metadata": {},
   "outputs": [],
   "source": [
    "df[\"Machine Learning\"].fillna(df[\"Machine Learning\"].median(),inplace=True)"
   ]
  },
  {
   "cell_type": "code",
   "execution_count": 98,
   "id": "2e180e75-b7c5-47ba-93cc-0107088e97e3",
   "metadata": {},
   "outputs": [
    {
     "data": {
      "text/plain": [
       "Name                0\n",
       "Python              0\n",
       "Machine Learning    0\n",
       "dtype: int64"
      ]
     },
     "execution_count": 98,
     "metadata": {},
     "output_type": "execute_result"
    }
   ],
   "source": [
    "df.isnull().sum()"
   ]
  },
  {
   "cell_type": "code",
   "execution_count": 99,
   "id": "f7fd4d9a-2d1a-40bc-8e7c-4d4e5fe09321",
   "metadata": {},
   "outputs": [
    {
     "data": {
      "text/html": [
       "<div>\n",
       "<style scoped>\n",
       "    .dataframe tbody tr th:only-of-type {\n",
       "        vertical-align: middle;\n",
       "    }\n",
       "\n",
       "    .dataframe tbody tr th {\n",
       "        vertical-align: top;\n",
       "    }\n",
       "\n",
       "    .dataframe thead th {\n",
       "        text-align: right;\n",
       "    }\n",
       "</style>\n",
       "<table border=\"1\" class=\"dataframe\">\n",
       "  <thead>\n",
       "    <tr style=\"text-align: right;\">\n",
       "      <th></th>\n",
       "      <th>symboling</th>\n",
       "      <th>normalized-losses</th>\n",
       "      <th>make</th>\n",
       "      <th>fuel-type</th>\n",
       "      <th>body-style</th>\n",
       "      <th>drive-wheels</th>\n",
       "      <th>engine-location</th>\n",
       "      <th>width</th>\n",
       "      <th>height</th>\n",
       "      <th>engine-type</th>\n",
       "      <th>engine-size</th>\n",
       "      <th>horsepower</th>\n",
       "      <th>city-mpg</th>\n",
       "      <th>highway-mpg</th>\n",
       "      <th>price</th>\n",
       "    </tr>\n",
       "  </thead>\n",
       "  <tbody>\n",
       "    <tr>\n",
       "      <th>0</th>\n",
       "      <td>3</td>\n",
       "      <td>?</td>\n",
       "      <td>alfa-romero</td>\n",
       "      <td>gas</td>\n",
       "      <td>convertible</td>\n",
       "      <td>rwd</td>\n",
       "      <td>front</td>\n",
       "      <td>64.1</td>\n",
       "      <td>48.8</td>\n",
       "      <td>dohc</td>\n",
       "      <td>130</td>\n",
       "      <td>111</td>\n",
       "      <td>21</td>\n",
       "      <td>27</td>\n",
       "      <td>13495</td>\n",
       "    </tr>\n",
       "    <tr>\n",
       "      <th>1</th>\n",
       "      <td>3</td>\n",
       "      <td>?</td>\n",
       "      <td>alfa-romero</td>\n",
       "      <td>gas</td>\n",
       "      <td>convertible</td>\n",
       "      <td>rwd</td>\n",
       "      <td>front</td>\n",
       "      <td>64.1</td>\n",
       "      <td>48.8</td>\n",
       "      <td>dohc</td>\n",
       "      <td>130</td>\n",
       "      <td>111</td>\n",
       "      <td>21</td>\n",
       "      <td>27</td>\n",
       "      <td>16500</td>\n",
       "    </tr>\n",
       "    <tr>\n",
       "      <th>2</th>\n",
       "      <td>1</td>\n",
       "      <td>?</td>\n",
       "      <td>alfa-romero</td>\n",
       "      <td>gas</td>\n",
       "      <td>hatchback</td>\n",
       "      <td>rwd</td>\n",
       "      <td>front</td>\n",
       "      <td>65.5</td>\n",
       "      <td>52.4</td>\n",
       "      <td>ohcv</td>\n",
       "      <td>152</td>\n",
       "      <td>154</td>\n",
       "      <td>19</td>\n",
       "      <td>26</td>\n",
       "      <td>16500</td>\n",
       "    </tr>\n",
       "    <tr>\n",
       "      <th>3</th>\n",
       "      <td>2</td>\n",
       "      <td>164</td>\n",
       "      <td>audi</td>\n",
       "      <td>gas</td>\n",
       "      <td>sedan</td>\n",
       "      <td>fwd</td>\n",
       "      <td>front</td>\n",
       "      <td>66.2</td>\n",
       "      <td>54.3</td>\n",
       "      <td>ohc</td>\n",
       "      <td>109</td>\n",
       "      <td>102</td>\n",
       "      <td>24</td>\n",
       "      <td>30</td>\n",
       "      <td>13950</td>\n",
       "    </tr>\n",
       "    <tr>\n",
       "      <th>4</th>\n",
       "      <td>2</td>\n",
       "      <td>164</td>\n",
       "      <td>audi</td>\n",
       "      <td>gas</td>\n",
       "      <td>sedan</td>\n",
       "      <td>4wd</td>\n",
       "      <td>front</td>\n",
       "      <td>66.4</td>\n",
       "      <td>54.3</td>\n",
       "      <td>ohc</td>\n",
       "      <td>136</td>\n",
       "      <td>115</td>\n",
       "      <td>18</td>\n",
       "      <td>22</td>\n",
       "      <td>17450</td>\n",
       "    </tr>\n",
       "  </tbody>\n",
       "</table>\n",
       "</div>"
      ],
      "text/plain": [
       "   symboling normalized-losses         make fuel-type   body-style  \\\n",
       "0          3                 ?  alfa-romero       gas  convertible   \n",
       "1          3                 ?  alfa-romero       gas  convertible   \n",
       "2          1                 ?  alfa-romero       gas    hatchback   \n",
       "3          2               164         audi       gas        sedan   \n",
       "4          2               164         audi       gas        sedan   \n",
       "\n",
       "  drive-wheels engine-location  width  height engine-type  engine-size  \\\n",
       "0          rwd           front   64.1    48.8        dohc          130   \n",
       "1          rwd           front   64.1    48.8        dohc          130   \n",
       "2          rwd           front   65.5    52.4        ohcv          152   \n",
       "3          fwd           front   66.2    54.3         ohc          109   \n",
       "4          4wd           front   66.4    54.3         ohc          136   \n",
       "\n",
       "  horsepower  city-mpg  highway-mpg  price  \n",
       "0        111        21           27  13495  \n",
       "1        111        21           27  16500  \n",
       "2        154        19           26  16500  \n",
       "3        102        24           30  13950  \n",
       "4        115        18           22  17450  "
      ]
     },
     "execution_count": 99,
     "metadata": {},
     "output_type": "execute_result"
    }
   ],
   "source": [
    "df=pd.read_csv(\"cars.csv\")\n",
    "df.head() #target - price "
   ]
  },
  {
   "cell_type": "code",
   "execution_count": 100,
   "id": "9151346b-8075-45c5-a229-0e0c1032c4c9",
   "metadata": {},
   "outputs": [
    {
     "name": "stdout",
     "output_type": "stream",
     "text": [
      "<class 'pandas.core.frame.DataFrame'>\n",
      "RangeIndex: 205 entries, 0 to 204\n",
      "Data columns (total 15 columns):\n",
      " #   Column             Non-Null Count  Dtype  \n",
      "---  ------             --------------  -----  \n",
      " 0   symboling          205 non-null    int64  \n",
      " 1   normalized-losses  205 non-null    object \n",
      " 2   make               205 non-null    object \n",
      " 3   fuel-type          205 non-null    object \n",
      " 4   body-style         205 non-null    object \n",
      " 5   drive-wheels       205 non-null    object \n",
      " 6   engine-location    205 non-null    object \n",
      " 7   width              205 non-null    float64\n",
      " 8   height             205 non-null    float64\n",
      " 9   engine-type        205 non-null    object \n",
      " 10  engine-size        205 non-null    int64  \n",
      " 11  horsepower         205 non-null    object \n",
      " 12  city-mpg           205 non-null    int64  \n",
      " 13  highway-mpg        205 non-null    int64  \n",
      " 14  price              205 non-null    int64  \n",
      "dtypes: float64(2), int64(5), object(8)\n",
      "memory usage: 24.2+ KB\n"
     ]
    }
   ],
   "source": [
    "df.info()\n",
    "# normalized-losses\n",
    "# horsepower"
   ]
  },
  {
   "cell_type": "code",
   "execution_count": 101,
   "id": "6b280f55-6a62-4850-b641-b1fa5dfcc0f4",
   "metadata": {},
   "outputs": [],
   "source": [
    "df[\"normalized-losses\"].value_counts() # ?      41\n",
    "df[\"normalized-losses\"].replace(\"?\",np.nan,inplace=True)"
   ]
  },
  {
   "cell_type": "code",
   "execution_count": 102,
   "id": "d3755750-096d-4feb-beb2-679f39b418be",
   "metadata": {},
   "outputs": [
    {
     "data": {
      "text/plain": [
       "np.float64(20.0)"
      ]
     },
     "execution_count": 102,
     "metadata": {},
     "output_type": "execute_result"
    }
   ],
   "source": [
    "(df[\"normalized-losses\"].isnull().sum()/len(df))*100 #-- 20 % missing value"
   ]
  },
  {
   "cell_type": "code",
   "execution_count": 103,
   "id": "b1571cbc-5f60-4852-907f-8b3004e95452",
   "metadata": {},
   "outputs": [],
   "source": [
    "df[\"normalized-losses\"]=df[\"normalized-losses\"].astype(\"float\")"
   ]
  },
  {
   "cell_type": "code",
   "execution_count": 104,
   "id": "fc6c25fe-f52d-4621-8a49-04b75fc741f5",
   "metadata": {},
   "outputs": [
    {
     "data": {
      "text/plain": [
       "np.True_"
      ]
     },
     "execution_count": 104,
     "metadata": {},
     "output_type": "execute_result"
    }
   ],
   "source": [
    "df[\"normalized-losses\"].mean()>df[\"normalized-losses\"].median() # +ve skewne"
   ]
  },
  {
   "cell_type": "code",
   "execution_count": 105,
   "id": "d42cf972-00ea-40cc-a891-be522d210c05",
   "metadata": {},
   "outputs": [],
   "source": [
    "df[\"normalized-losses\"].fillna(df[\"normalized-losses\"].median(),inplace=True)"
   ]
  },
  {
   "cell_type": "code",
   "execution_count": 106,
   "id": "1723c9cf-bee8-4aaa-bb39-fcea911c9100",
   "metadata": {},
   "outputs": [
    {
     "name": "stdout",
     "output_type": "stream",
     "text": [
      "0.975609756097561\n"
     ]
    }
   ],
   "source": [
    "df[\"horsepower\"].value_counts() # 2 ?\n",
    "df[\"horsepower\"].replace(\"?\",np.nan,inplace=True)\n",
    "df[\"horsepower\"]=df[\"horsepower\"].astype(\"float\")\n",
    "print((df[\"horsepower\"].isnull().sum()/len(df))*100 ) # 0.97"
   ]
  },
  {
   "cell_type": "code",
   "execution_count": 107,
   "id": "4de2b57e-daec-4941-ac41-a545bdc92167",
   "metadata": {},
   "outputs": [
    {
     "data": {
      "text/plain": [
       "np.True_"
      ]
     },
     "execution_count": 107,
     "metadata": {},
     "output_type": "execute_result"
    }
   ],
   "source": [
    "df[\"horsepower\"].mean()>df[\"horsepower\"].median()"
   ]
  },
  {
   "cell_type": "code",
   "execution_count": 108,
   "id": "f4b58158-68b9-4290-88f0-07bd337521ab",
   "metadata": {},
   "outputs": [],
   "source": [
    "df[\"horsepower\"].fillna(df[\"horsepower\"].median(),inplace=True)"
   ]
  },
  {
   "cell_type": "code",
   "execution_count": 109,
   "id": "dafd474a-340c-4b42-bf0b-964c7e8f717c",
   "metadata": {},
   "outputs": [],
   "source": [
    "# outlier processing"
   ]
  },
  {
   "cell_type": "code",
   "execution_count": 110,
   "id": "f5e6ad03-b433-4981-bbcb-e041d60df5ba",
   "metadata": {},
   "outputs": [
    {
     "data": {
      "text/plain": [
       "<Axes: xlabel='price', ylabel='Density'>"
      ]
     },
     "execution_count": 110,
     "metadata": {},
     "output_type": "execute_result"
    },
    {
     "data": {
      "image/png": "[encoded data removed]",
      "text/plain": [
       "<Figure size 640x480 with 1 Axes>"
      ]
     },
     "metadata": {},
     "output_type": "display_data"
    }
   ],
   "source": [
    "sns.kdeplot(df[\"price\"]) # +vely skewed"
   ]
  },
  {
   "cell_type": "code",
   "execution_count": 111,
   "id": "a008004a-48ec-4284-b266-2b1d711682bd",
   "metadata": {},
   "outputs": [
    {
     "data": {
      "text/plain": [
       "count      205.000000\n",
       "mean     13227.478049\n",
       "std       7902.651615\n",
       "min       5118.000000\n",
       "25%       7788.000000\n",
       "50%      10345.000000\n",
       "75%      16500.000000\n",
       "max      45400.000000\n",
       "Name: price, dtype: float64"
      ]
     },
     "execution_count": 111,
     "metadata": {},
     "output_type": "execute_result"
    }
   ],
   "source": [
    "df[\"price\"].describe()# mean     13227.478049 > 50%      10345.000000\n",
    "#+ve skewness"
   ]
  },
  {
   "cell_type": "code",
   "execution_count": 112,
   "id": "2512e503-1772-46c9-8bcb-70a267bc2554",
   "metadata": {},
   "outputs": [
    {
     "data": {
      "text/plain": [
       "<Axes: ylabel='price'>"
      ]
     },
     "execution_count": 112,
     "metadata": {},
     "output_type": "execute_result"
    },
    {
     "data": {
      "image/png": "[encoded data removed]",
      "text/plain": [
       "<Figure size 640x480 with 1 Axes>"
      ]
     },
     "metadata": {},
     "output_type": "display_data"
    }
   ],
   "source": [
    "sns.boxplot(df[\"price\"])"
   ]
  },
  {
   "cell_type": "code",
   "execution_count": 113,
   "id": "7ce3a756-d979-4d70-9998-987d025f217c",
   "metadata": {},
   "outputs": [
    {
     "data": {
      "text/plain": [
       "make\n",
       "toyota           32\n",
       "nissan           18\n",
       "mazda            17\n",
       "mitsubishi       13\n",
       "honda            13\n",
       "subaru           12\n",
       "volkswagen       12\n",
       "volvo            11\n",
       "peugot           11\n",
       "dodge             9\n",
       "mercedes-benz     8\n",
       "bmw               8\n",
       "audi              7\n",
       "plymouth          7\n",
       "saab              6\n",
       "porsche           5\n",
       "isuzu             4\n",
       "alfa-romero       3\n",
       "chevrolet         3\n",
       "jaguar            3\n",
       "renault           2\n",
       "mercury           1\n",
       "Name: count, dtype: int64"
      ]
     },
     "execution_count": 113,
     "metadata": {},
     "output_type": "execute_result"
    }
   ],
   "source": [
    "df[\"make\"].value_counts()"
   ]
  },
  {
   "cell_type": "code",
   "execution_count": 114,
   "id": "46df30f3-91f9-4c2f-999f-80dcf5f55bc2",
   "metadata": {},
   "outputs": [
    {
     "data": {
      "text/plain": [
       "<Axes: xlabel='price', ylabel='make'>"
      ]
     },
     "execution_count": 114,
     "metadata": {},
     "output_type": "execute_result"
    },
    {
     "data": {
      "image/png": "[encoded data removed]",
      "text/plain": [
       "<Figure size 640x480 with 1 Axes>"
      ]
     },
     "metadata": {},
     "output_type": "display_data"
    }
   ],
   "source": [
    "sns.boxplot(data=df,y=\"make\",x=\"price\")"
   ]
  },
  {
   "cell_type": "code",
   "execution_count": 115,
   "id": "09c330b8-c9bd-4a9c-a839-f7e7ea4e4c1f",
   "metadata": {},
   "outputs": [
    {
     "name": "stdout",
     "output_type": "stream",
     "text": [
      "Requirement already satisfied: plotly in c:\\users\\faculty-cr2\\anaconda3\\lib\\site-packages (5.24.1)\n",
      "Requirement already satisfied: tenacity>=6.2.0 in c:\\users\\faculty-cr2\\anaconda3\\lib\\site-packages (from plotly) (9.0.0)\n",
      "Requirement already satisfied: packaging in c:\\users\\faculty-cr2\\anaconda3\\lib\\site-packages (from plotly) (24.2)\n",
      "Note: you may need to restart the kernel to use updated packages.\n"
     ]
    }
   ],
   "source": [
    "pip install plotly"
   ]
  },
  {
   "cell_type": "code",
   "execution_count": 116,
   "id": "62aeade8-f763-4ad5-b44c-0b62b1dfeae0",
   "metadata": {},
   "outputs": [
    {
     "data": {
      "application/vnd.plotly.v1+json": {
       "config": {
        "plotlyServerURL": "https://plot.ly"
       },
       "data": [
        {
         "alignmentgroup": "True",
         "hovertemplate": "price=%{x}<br>make=%{y}<extra></extra>",
         "legendgroup": "",
         "marker": {
          "color": "#636efa"
         },
         "name": "",
         "notched": false,
         "offsetgroup": "",
         "orientation": "h",
         "showlegend": false,
         "type": "box",
         "x": [
          13495,
          16500,
          16500,
          13950,
          17450,
          15250,
          17710,
          18920,
          23875,
          12000,
          16430,
          16925,
          20970,
          21105,
          24565,
          30760,
          41315,
          36880,
          5151,
          6295,
          6575,
          5572,
          6377,
          7957,
          6229,
          6692,
          7609,
          8558,
          8921,
          12964,
          6479,
          6855,
          5399,
          6529,
          7129,
          7295,
          7295,
          7895,
          9095,
          8845,
          10295,
          12945,
          10345,
          6785,
          10000,
          23000,
          11048,
          32250,
          35550,
          36000,
          5195,
          6095,
          6795,
          6695,
          7395,
          10945,
          11845,
          13645,
          15645,
          8845,
          8495,
          10595,
          10245,
          10795,
          11245,
          18280,
          18344,
          25552,
          28248,
          28176,
          31600,
          34184,
          35056,
          40960,
          45400,
          16503,
          5389,
          6189,
          6669,
          7689,
          9959,
          8499,
          12629,
          14869,
          14489,
          6989,
          8189,
          9279,
          9279,
          5499,
          7099,
          6649,
          6849,
          7349,
          7299,
          7799,
          7499,
          7999,
          8249,
          8949,
          9549,
          13499,
          14399,
          13499,
          17199,
          19699,
          18399,
          11900,
          13200,
          12440,
          13860,
          15580,
          16900,
          16695,
          17075,
          16630,
          17950,
          18150,
          5572,
          7957,
          6229,
          6692,
          7609,
          8921,
          12764,
          22018,
          32528,
          34028,
          37028,
          12000,
          9295,
          9895,
          11850,
          12170,
          15040,
          15510,
          18150,
          18620,
          5118,
          7053,
          7603,
          7126,
          7775,
          9960,
          9233,
          11259,
          7463,
          10198,
          8013,
          11694,
          5348,
          6338,
          6488,
          6918,
          7898,
          8778,
          6938,
          7198,
          7898,
          7788,
          7738,
          8358,
          9258,
          8058,
          8238,
          9298,
          9538,
          8449,
          9639,
          9989,
          11199,
          11549,
          17669,
          8948,
          10698,
          9988,
          10898,
          11248,
          16558,
          15998,
          15690,
          15750,
          7775,
          7975,
          7995,
          8195,
          8495,
          9495,
          9995,
          11595,
          9980,
          13295,
          13845,
          12290,
          12940,
          13415,
          15985,
          16515,
          18420,
          18950,
          16845,
          19045,
          21485,
          22470,
          22625
         ],
         "x0": " ",
         "xaxis": "x",
         "y": [
          "alfa-romero",
          "alfa-romero",
          "alfa-romero",
          "audi",
          "audi",
          "audi",
          "audi",
          "audi",
          "audi",
          "audi",
          "bmw",
          "bmw",
          "bmw",
          "bmw",
          "bmw",
          "bmw",
          "bmw",
          "bmw",
          "chevrolet",
          "chevrolet",
          "chevrolet",
          "dodge",
          "dodge",
          "dodge",
          "dodge",
          "dodge",
          "dodge",
          "dodge",
          "dodge",
          "dodge",
          "honda",
          "honda",
          "honda",
          "honda",
          "honda",
          "honda",
          "honda",
          "honda",
          "honda",
          "honda",
          "honda",
          "honda",
          "honda",
          "isuzu",
          "isuzu",
          "isuzu",
          "isuzu",
          "jaguar",
          "jaguar",
          "jaguar",
          "mazda",
          "mazda",
          "mazda",
          "mazda",
          "mazda",
          "mazda",
          "mazda",
          "mazda",
          "mazda",
          "mazda",
          "mazda",
          "mazda",
          "mazda",
          "mazda",
          "mazda",
          "mazda",
          "mazda",
          "mercedes-benz",
          "mercedes-benz",
          "mercedes-benz",
          "mercedes-benz",
          "mercedes-benz",
          "mercedes-benz",
          "mercedes-benz",
          "mercedes-benz",
          "mercury",
          "mitsubishi",
          "mitsubishi",
          "mitsubishi",
          "mitsubishi",
          "mitsubishi",
          "mitsubishi",
          "mitsubishi",
          "mitsubishi",
          "mitsubishi",
          "mitsubishi",
          "mitsubishi",
          "mitsubishi",
          "mitsubishi",
          "nissan",
          "nissan",
          "nissan",
          "nissan",
          "nissan",
          "nissan",
          "nissan",
          "nissan",
          "nissan",
          "nissan",
          "nissan",
          "nissan",
          "nissan",
          "nissan",
          "nissan",
          "nissan",
          "nissan",
          "nissan",
          "peugot",
          "peugot",
          "peugot",
          "peugot",
          "peugot",
          "peugot",
          "peugot",
          "peugot",
          "peugot",
          "peugot",
          "peugot",
          "plymouth",
          "plymouth",
          "plymouth",
          "plymouth",
          "plymouth",
          "plymouth",
          "plymouth",
          "porsche",
          "porsche",
          "porsche",
          "porsche",
          "porsche",
          "renault",
          "renault",
          "saab",
          "saab",
          "saab",
          "saab",
          "saab",
          "saab",
          "subaru",
          "subaru",
          "subaru",
          "subaru",
          "subaru",
          "subaru",
          "subaru",
          "subaru",
          "subaru",
          "subaru",
          "subaru",
          "subaru",
          "toyota",
          "toyota",
          "toyota",
          "toyota",
          "toyota",
          "toyota",
          "toyota",
          "toyota",
          "toyota",
          "toyota",
          "toyota",
          "toyota",
          "toyota",
          "toyota",
          "toyota",
          "toyota",
          "toyota",
          "toyota",
          "toyota",
          "toyota",
          "toyota",
          "toyota",
          "toyota",
          "toyota",
          "toyota",
          "toyota",
          "toyota",
          "toyota",
          "toyota",
          "toyota",
          "toyota",
          "toyota",
          "volkswagen",
          "volkswagen",
          "volkswagen",
          "volkswagen",
          "volkswagen",
          "volkswagen",
          "volkswagen",
          "volkswagen",
          "volkswagen",
          "volkswagen",
          "volkswagen",
          "volkswagen",
          "volvo",
          "volvo",
          "volvo",
          "volvo",
          "volvo",
          "volvo",
          "volvo",
          "volvo",
          "volvo",
          "volvo",
          "volvo"
         ],
         "y0": " ",
         "yaxis": "y"
        }
       ],
       "layout": {
        "boxmode": "group",
        "legend": {
         "tracegroupgap": 0
        },
        "margin": {
         "t": 60
        },
        "template": {
         "data": {
          "bar": [
           {
            "error_x": {
             "color": "#2a3f5f"
            },
            "error_y": {
             "color": "#2a3f5f"
            },
            "marker": {
             "line": {
              "color": "#E5ECF6",
              "width": 0.5
             },
             "pattern": {
              "fillmode": "overlay",
              "size": 10,
              "solidity": 0.2
             }
            },
            "type": "bar"
           }
          ],
          "barpolar": [
           {
            "marker": {
             "line": {
              "color": "#E5ECF6",
              "width": 0.5
             },
             "pattern": {
              "fillmode": "overlay",
              "size": 10,
              "solidity": 0.2
             }
            },
            "type": "barpolar"
           }
          ],
          "carpet": [
           {
            "aaxis": {
             "endlinecolor": "#2a3f5f",
             "gridcolor": "white",
             "linecolor": "white",
             "minorgridcolor": "white",
             "startlinecolor": "#2a3f5f"
            },
            "baxis": {
             "endlinecolor": "#2a3f5f",
             "gridcolor": "white",
             "linecolor": "white",
             "minorgridcolor": "white",
             "startlinecolor": "#2a3f5f"
            },
            "type": "carpet"
           }
          ],
          "choropleth": [
           {
            "colorbar": {
             "outlinewidth": 0,
             "ticks": ""
            },
            "type": "choropleth"
           }
          ],
          "contour": [
           {
            "colorbar": {
             "outlinewidth": 0,
             "ticks": ""
            },
            "colorscale": [
             [
              0,
              "#0d0887"
             ],
             [
              0.1111111111111111,
              "#46039f"
             ],
             [
              0.2222222222222222,
              "#7201a8"
             ],
             [
              0.3333333333333333,
              "#9c179e"
             ],
             [
              0.4444444444444444,
              "#bd3786"
             ],
             [
              0.5555555555555556,
              "#d8576b"
             ],
             [
              0.6666666666666666,
              "#ed7953"
             ],
             [
              0.7777777777777778,
              "#fb9f3a"
             ],
             [
              0.8888888888888888,
              "#fdca26"
             ],
             [
              1,
              "#f0f921"
             ]
            ],
            "type": "contour"
           }
          ],
          "contourcarpet": [
           {
            "colorbar": {
             "outlinewidth": 0,
             "ticks": ""
            },
            "type": "contourcarpet"
           }
          ],
          "heatmap": [
           {
            "colorbar": {
             "outlinewidth": 0,
             "ticks": ""
            },
            "colorscale": [
             [
              0,
              "#0d0887"
             ],
             [
              0.1111111111111111,
              "#46039f"
             ],
             [
              0.2222222222222222,
              "#7201a8"
             ],
             [
              0.3333333333333333,
              "#9c179e"
             ],
             [
              0.4444444444444444,
              "#bd3786"
             ],
             [
              0.5555555555555556,
              "#d8576b"
             ],
             [
              0.6666666666666666,
              "#ed7953"
             ],
             [
              0.7777777777777778,
              "#fb9f3a"
             ],
             [
              0.8888888888888888,
              "#fdca26"
             ],
             [
              1,
              "#f0f921"
             ]
            ],
            "type": "heatmap"
           }
          ],
          "heatmapgl": [
           {
            "colorbar": {
             "outlinewidth": 0,
             "ticks": ""
            },
            "colorscale": [
             [
              0,
              "#0d0887"
             ],
             [
              0.1111111111111111,
              "#46039f"
             ],
             [
              0.2222222222222222,
              "#7201a8"
             ],
             [
              0.3333333333333333,
              "#9c179e"
             ],
             [
              0.4444444444444444,
              "#bd3786"
             ],
             [
              0.5555555555555556,
              "#d8576b"
             ],
             [
              0.6666666666666666,
              "#ed7953"
             ],
             [
              0.7777777777777778,
              "#fb9f3a"
             ],
             [
              0.8888888888888888,
              "#fdca26"
             ],
             [
              1,
              "#f0f921"
             ]
            ],
            "type": "heatmapgl"
           }
          ],
          "histogram": [
           {
            "marker": {
             "pattern": {
              "fillmode": "overlay",
              "size": 10,
              "solidity": 0.2
             }
            },
            "type": "histogram"
           }
          ],
          "histogram2d": [
           {
            "colorbar": {
             "outlinewidth": 0,
             "ticks": ""
            },
            "colorscale": [
             [
              0,
              "#0d0887"
             ],
             [
              0.1111111111111111,
              "#46039f"
             ],
             [
              0.2222222222222222,
              "#7201a8"
             ],
             [
              0.3333333333333333,
              "#9c179e"
             ],
             [
              0.4444444444444444,
              "#bd3786"
             ],
             [
              0.5555555555555556,
              "#d8576b"
             ],
             [
              0.6666666666666666,
              "#ed7953"
             ],
             [
              0.7777777777777778,
              "#fb9f3a"
             ],
             [
              0.8888888888888888,
              "#fdca26"
             ],
             [
              1,
              "#f0f921"
             ]
            ],
            "type": "histogram2d"
           }
          ],
          "histogram2dcontour": [
           {
            "colorbar": {
             "outlinewidth": 0,
             "ticks": ""
            },
            "colorscale": [
             [
              0,
              "#0d0887"
             ],
             [
              0.1111111111111111,
              "#46039f"
             ],
             [
              0.2222222222222222,
              "#7201a8"
             ],
             [
              0.3333333333333333,
              "#9c179e"
             ],
             [
              0.4444444444444444,
              "#bd3786"
             ],
             [
              0.5555555555555556,
              "#d8576b"
             ],
             [
              0.6666666666666666,
              "#ed7953"
             ],
             [
              0.7777777777777778,
              "#fb9f3a"
             ],
             [
              0.8888888888888888,
              "#fdca26"
             ],
             [
              1,
              "#f0f921"
             ]
            ],
            "type": "histogram2dcontour"
           }
          ],
          "mesh3d": [
           {
            "colorbar": {
             "outlinewidth": 0,
             "ticks": ""
            },
            "type": "mesh3d"
           }
          ],
          "parcoords": [
           {
            "line": {
             "colorbar": {
              "outlinewidth": 0,
              "ticks": ""
             }
            },
            "type": "parcoords"
           }
          ],
          "pie": [
           {
            "automargin": true,
            "type": "pie"
           }
          ],
          "scatter": [
           {
            "fillpattern": {
             "fillmode": "overlay",
             "size": 10,
             "solidity": 0.2
            },
            "type": "scatter"
           }
          ],
          "scatter3d": [
           {
            "line": {
             "colorbar": {
              "outlinewidth": 0,
              "ticks": ""
             }
            },
            "marker": {
             "colorbar": {
              "outlinewidth": 0,
              "ticks": ""
             }
            },
            "type": "scatter3d"
           }
          ],
          "scattercarpet": [
           {
            "marker": {
             "colorbar": {
              "outlinewidth": 0,
              "ticks": ""
             }
            },
            "type": "scattercarpet"
           }
          ],
          "scattergeo": [
           {
            "marker": {
             "colorbar": {
              "outlinewidth": 0,
              "ticks": ""
             }
            },
            "type": "scattergeo"
           }
          ],
          "scattergl": [
           {
            "marker": {
             "colorbar": {
              "outlinewidth": 0,
              "ticks": ""
             }
            },
            "type": "scattergl"
           }
          ],
          "scattermapbox": [
           {
            "marker": {
             "colorbar": {
              "outlinewidth": 0,
              "ticks": ""
             }
            },
            "type": "scattermapbox"
           }
          ],
          "scatterpolar": [
           {
            "marker": {
             "colorbar": {
              "outlinewidth": 0,
              "ticks": ""
             }
            },
            "type": "scatterpolar"
           }
          ],
          "scatterpolargl": [
           {
            "marker": {
             "colorbar": {
              "outlinewidth": 0,
              "ticks": ""
             }
            },
            "type": "scatterpolargl"
           }
          ],
          "scatterternary": [
           {
            "marker": {
             "colorbar": {
              "outlinewidth": 0,
              "ticks": ""
             }
            },
            "type": "scatterternary"
           }
          ],
          "surface": [
           {
            "colorbar": {
             "outlinewidth": 0,
             "ticks": ""
            },
            "colorscale": [
             [
              0,
              "#0d0887"
             ],
             [
              0.1111111111111111,
              "#46039f"
             ],
             [
              0.2222222222222222,
              "#7201a8"
             ],
             [
              0.3333333333333333,
              "#9c179e"
             ],
             [
              0.4444444444444444,
              "#bd3786"
             ],
             [
              0.5555555555555556,
              "#d8576b"
             ],
             [
              0.6666666666666666,
              "#ed7953"
             ],
             [
              0.7777777777777778,
              "#fb9f3a"
             ],
             [
              0.8888888888888888,
              "#fdca26"
             ],
             [
              1,
              "#f0f921"
             ]
            ],
            "type": "surface"
           }
          ],
          "table": [
           {
            "cells": {
             "fill": {
              "color": "#EBF0F8"
             },
             "line": {
              "color": "white"
             }
            },
            "header": {
             "fill": {
              "color": "#C8D4E3"
             },
             "line": {
              "color": "white"
             }
            },
            "type": "table"
           }
          ]
         },
         "layout": {
          "annotationdefaults": {
           "arrowcolor": "#2a3f5f",
           "arrowhead": 0,
           "arrowwidth": 1
          },
          "autotypenumbers": "strict",
          "coloraxis": {
           "colorbar": {
            "outlinewidth": 0,
            "ticks": ""
           }
          },
          "colorscale": {
           "diverging": [
            [
             0,
             "#8e0152"
            ],
            [
             0.1,
             "#c51b7d"
            ],
            [
             0.2,
             "#de77ae"
            ],
            [
             0.3,
             "#f1b6da"
            ],
            [
             0.4,
             "#fde0ef"
            ],
            [
             0.5,
             "#f7f7f7"
            ],
            [
             0.6,
             "#e6f5d0"
            ],
            [
             0.7,
             "#b8e186"
            ],
            [
             0.8,
             "#7fbc41"
            ],
            [
             0.9,
             "#4d9221"
            ],
            [
             1,
             "#276419"
            ]
           ],
           "sequential": [
            [
             0,
             "#0d0887"
            ],
            [
             0.1111111111111111,
             "#46039f"
            ],
            [
             0.2222222222222222,
             "#7201a8"
            ],
            [
             0.3333333333333333,
             "#9c179e"
            ],
            [
             0.4444444444444444,
             "#bd3786"
            ],
            [
             0.5555555555555556,
             "#d8576b"
            ],
            [
             0.6666666666666666,
             "#ed7953"
            ],
            [
             0.7777777777777778,
             "#fb9f3a"
            ],
            [
             0.8888888888888888,
             "#fdca26"
            ],
            [
             1,
             "#f0f921"
            ]
           ],
           "sequentialminus": [
            [
             0,
             "#0d0887"
            ],
            [
             0.1111111111111111,
             "#46039f"
            ],
            [
             0.2222222222222222,
             "#7201a8"
            ],
            [
             0.3333333333333333,
             "#9c179e"
            ],
            [
             0.4444444444444444,
             "#bd3786"
            ],
            [
             0.5555555555555556,
             "#d8576b"
            ],
            [
             0.6666666666666666,
             "#ed7953"
            ],
            [
             0.7777777777777778,
             "#fb9f3a"
            ],
            [
             0.8888888888888888,
             "#fdca26"
            ],
            [
             1,
             "#f0f921"
            ]
           ]
          },
          "colorway": [
           "#636efa",
           "#EF553B",
           "#00cc96",
           "#ab63fa",
           "#FFA15A",
           "#19d3f3",
           "#FF6692",
           "#B6E880",
           "#FF97FF",
           "#FECB52"
          ],
          "font": {
           "color": "#2a3f5f"
          },
          "geo": {
           "bgcolor": "white",
           "lakecolor": "white",
           "landcolor": "#E5ECF6",
           "showlakes": true,
           "showland": true,
           "subunitcolor": "white"
          },
          "hoverlabel": {
           "align": "left"
          },
          "hovermode": "closest",
          "mapbox": {
           "style": "light"
          },
          "paper_bgcolor": "white",
          "plot_bgcolor": "#E5ECF6",
          "polar": {
           "angularaxis": {
            "gridcolor": "white",
            "linecolor": "white",
            "ticks": ""
           },
           "bgcolor": "#E5ECF6",
           "radialaxis": {
            "gridcolor": "white",
            "linecolor": "white",
            "ticks": ""
           }
          },
          "scene": {
           "xaxis": {
            "backgroundcolor": "#E5ECF6",
            "gridcolor": "white",
            "gridwidth": 2,
            "linecolor": "white",
            "showbackground": true,
            "ticks": "",
            "zerolinecolor": "white"
           },
           "yaxis": {
            "backgroundcolor": "#E5ECF6",
            "gridcolor": "white",
            "gridwidth": 2,
            "linecolor": "white",
            "showbackground": true,
            "ticks": "",
            "zerolinecolor": "white"
           },
           "zaxis": {
            "backgroundcolor": "#E5ECF6",
            "gridcolor": "white",
            "gridwidth": 2,
            "linecolor": "white",
            "showbackground": true,
            "ticks": "",
            "zerolinecolor": "white"
           }
          },
          "shapedefaults": {
           "line": {
            "color": "#2a3f5f"
           }
          },
          "ternary": {
           "aaxis": {
            "gridcolor": "white",
            "linecolor": "white",
            "ticks": ""
           },
           "baxis": {
            "gridcolor": "white",
            "linecolor": "white",
            "ticks": ""
           },
           "bgcolor": "#E5ECF6",
           "caxis": {
            "gridcolor": "white",
            "linecolor": "white",
            "ticks": ""
           }
          },
          "title": {
           "x": 0.05
          },
          "xaxis": {
           "automargin": true,
           "gridcolor": "white",
           "linecolor": "white",
           "ticks": "",
           "title": {
            "standoff": 15
           },
           "zerolinecolor": "white",
           "zerolinewidth": 2
          },
          "yaxis": {
           "automargin": true,
           "gridcolor": "white",
           "linecolor": "white",
           "ticks": "",
           "title": {
            "standoff": 15
           },
           "zerolinecolor": "white",
           "zerolinewidth": 2
          }
         }
        },
        "xaxis": {
         "anchor": "y",
         "domain": [
          0,
          1
         ],
         "title": {
          "text": "price"
         }
        },
        "yaxis": {
         "anchor": "x",
         "domain": [
          0,
          1
         ],
         "title": {
          "text": "make"
         }
        }
       }
      },
      "text/html": [
       "<div>                            <div id=\"d1de2545-efbc-4842-909b-6757b034e66e\" class=\"plotly-graph-div\" style=\"height:525px; width:100%;\"></div>            <script type=\"text/javascript\">                require([\"plotly\"], function(Plotly) {                    window.PLOTLYENV=window.PLOTLYENV || {};                                    if (document.getElementById(\"d1de2545-efbc-4842-909b-6757b034e66e\")) {                    Plotly.newPlot(                        \"d1de2545-efbc-4842-909b-6757b034e66e\",                        [{\"alignmentgroup\":\"True\",\"hovertemplate\":\"price=%{x}\\u003cbr\\u003emake=%{y}\\u003cextra\\u003e\\u003c\\u002fextra\\u003e\",\"legendgroup\":\"\",\"marker\":{\"color\":\"#636efa\"},\"name\":\"\",\"notched\":false,\"offsetgroup\":\"\",\"orientation\":\"h\",\"showlegend\":false,\"x\":[13495,16500,16500,13950,17450,15250,17710,18920,23875,12000,16430,16925,20970,21105,24565,30760,41315,36880,5151,6295,6575,5572,6377,7957,6229,6692,7609,8558,8921,12964,6479,6855,5399,6529,7129,7295,7295,7895,9095,8845,10295,12945,10345,6785,10000,23000,11048,32250,35550,36000,5195,6095,6795,6695,7395,10945,11845,13645,15645,8845,8495,10595,10245,10795,11245,18280,18344,25552,28248,28176,31600,34184,35056,40960,45400,16503,5389,6189,6669,7689,9959,8499,12629,14869,14489,6989,8189,9279,9279,5499,7099,6649,6849,7349,7299,7799,7499,7999,8249,8949,9549,13499,14399,13499,17199,19699,18399,11900,13200,12440,13860,15580,16900,16695,17075,16630,17950,18150,5572,7957,6229,6692,7609,8921,12764,22018,32528,34028,37028,12000,9295,9895,11850,12170,15040,15510,18150,18620,5118,7053,7603,7126,7775,9960,9233,11259,7463,10198,8013,11694,5348,6338,6488,6918,7898,8778,6938,7198,7898,7788,7738,8358,9258,8058,8238,9298,9538,8449,9639,9989,11199,11549,17669,8948,10698,9988,10898,11248,16558,15998,15690,15750,7775,7975,7995,8195,8495,9495,9995,11595,9980,13295,13845,12290,12940,13415,15985,16515,18420,18950,16845,19045,21485,22470,22625],\"x0\":\" \",\"xaxis\":\"x\",\"y\":[\"alfa-romero\",\"alfa-romero\",\"alfa-romero\",\"audi\",\"audi\",\"audi\",\"audi\",\"audi\",\"audi\",\"audi\",\"bmw\",\"bmw\",\"bmw\",\"bmw\",\"bmw\",\"bmw\",\"bmw\",\"bmw\",\"chevrolet\",\"chevrolet\",\"chevrolet\",\"dodge\",\"dodge\",\"dodge\",\"dodge\",\"dodge\",\"dodge\",\"dodge\",\"dodge\",\"dodge\",\"honda\",\"honda\",\"honda\",\"honda\",\"honda\",\"honda\",\"honda\",\"honda\",\"honda\",\"honda\",\"honda\",\"honda\",\"honda\",\"isuzu\",\"isuzu\",\"isuzu\",\"isuzu\",\"jaguar\",\"jaguar\",\"jaguar\",\"mazda\",\"mazda\",\"mazda\",\"mazda\",\"mazda\",\"mazda\",\"mazda\",\"mazda\",\"mazda\",\"mazda\",\"mazda\",\"mazda\",\"mazda\",\"mazda\",\"mazda\",\"mazda\",\"mazda\",\"mercedes-benz\",\"mercedes-benz\",\"mercedes-benz\",\"mercedes-benz\",\"mercedes-benz\",\"mercedes-benz\",\"mercedes-benz\",\"mercedes-benz\",\"mercury\",\"mitsubishi\",\"mitsubishi\",\"mitsubishi\",\"mitsubishi\",\"mitsubishi\",\"mitsubishi\",\"mitsubishi\",\"mitsubishi\",\"mitsubishi\",\"mitsubishi\",\"mitsubishi\",\"mitsubishi\",\"mitsubishi\",\"nissan\",\"nissan\",\"nissan\",\"nissan\",\"nissan\",\"nissan\",\"nissan\",\"nissan\",\"nissan\",\"nissan\",\"nissan\",\"nissan\",\"nissan\",\"nissan\",\"nissan\",\"nissan\",\"nissan\",\"nissan\",\"peugot\",\"peugot\",\"peugot\",\"peugot\",\"peugot\",\"peugot\",\"peugot\",\"peugot\",\"peugot\",\"peugot\",\"peugot\",\"plymouth\",\"plymouth\",\"plymouth\",\"plymouth\",\"plymouth\",\"plymouth\",\"plymouth\",\"porsche\",\"porsche\",\"porsche\",\"porsche\",\"porsche\",\"renault\",\"renault\",\"saab\",\"saab\",\"saab\",\"saab\",\"saab\",\"saab\",\"subaru\",\"subaru\",\"subaru\",\"subaru\",\"subaru\",\"subaru\",\"subaru\",\"subaru\",\"subaru\",\"subaru\",\"subaru\",\"subaru\",\"toyota\",\"toyota\",\"toyota\",\"toyota\",\"toyota\",\"toyota\",\"toyota\",\"toyota\",\"toyota\",\"toyota\",\"toyota\",\"toyota\",\"toyota\",\"toyota\",\"toyota\",\"toyota\",\"toyota\",\"toyota\",\"toyota\",\"toyota\",\"toyota\",\"toyota\",\"toyota\",\"toyota\",\"toyota\",\"toyota\",\"toyota\",\"toyota\",\"toyota\",\"toyota\",\"toyota\",\"toyota\",\"volkswagen\",\"volkswagen\",\"volkswagen\",\"volkswagen\",\"volkswagen\",\"volkswagen\",\"volkswagen\",\"volkswagen\",\"volkswagen\",\"volkswagen\",\"volkswagen\",\"volkswagen\",\"volvo\",\"volvo\",\"volvo\",\"volvo\",\"volvo\",\"volvo\",\"volvo\",\"volvo\",\"volvo\",\"volvo\",\"volvo\"],\"y0\":\" \",\"yaxis\":\"y\",\"type\":\"box\"}],                        {\"template\":{\"data\":{\"histogram2dcontour\":[{\"type\":\"histogram2dcontour\",\"colorbar\":{\"outlinewidth\":0,\"ticks\":\"\"},\"colorscale\":[[0.0,\"#0d0887\"],[0.1111111111111111,\"#46039f\"],[0.2222222222222222,\"#7201a8\"],[0.3333333333333333,\"#9c179e\"],[0.4444444444444444,\"#bd3786\"],[0.5555555555555556,\"#d8576b\"],[0.6666666666666666,\"#ed7953\"],[0.7777777777777778,\"#fb9f3a\"],[0.8888888888888888,\"#fdca26\"],[1.0,\"#f0f921\"]]}],\"choropleth\":[{\"type\":\"choropleth\",\"colorbar\":{\"outlinewidth\":0,\"ticks\":\"\"}}],\"histogram2d\":[{\"type\":\"histogram2d\",\"colorbar\":{\"outlinewidth\":0,\"ticks\":\"\"},\"colorscale\":[[0.0,\"#0d0887\"],[0.1111111111111111,\"#46039f\"],[0.2222222222222222,\"#7201a8\"],[0.3333333333333333,\"#9c179e\"],[0.4444444444444444,\"#bd3786\"],[0.5555555555555556,\"#d8576b\"],[0.6666666666666666,\"#ed7953\"],[0.7777777777777778,\"#fb9f3a\"],[0.8888888888888888,\"#fdca26\"],[1.0,\"#f0f921\"]]}],\"heatmap\":[{\"type\":\"heatmap\",\"colorbar\":{\"outlinewidth\":0,\"ticks\":\"\"},\"colorscale\":[[0.0,\"#0d0887\"],[0.1111111111111111,\"#46039f\"],[0.2222222222222222,\"#7201a8\"],[0.3333333333333333,\"#9c179e\"],[0.4444444444444444,\"#bd3786\"],[0.5555555555555556,\"#d8576b\"],[0.6666666666666666,\"#ed7953\"],[0.7777777777777778,\"#fb9f3a\"],[0.8888888888888888,\"#fdca26\"],[1.0,\"#f0f921\"]]}],\"heatmapgl\":[{\"type\":\"heatmapgl\",\"colorbar\":{\"outlinewidth\":0,\"ticks\":\"\"},\"colorscale\":[[0.0,\"#0d0887\"],[0.1111111111111111,\"#46039f\"],[0.2222222222222222,\"#7201a8\"],[0.3333333333333333,\"#9c179e\"],[0.4444444444444444,\"#bd3786\"],[0.5555555555555556,\"#d8576b\"],[0.6666666666666666,\"#ed7953\"],[0.7777777777777778,\"#fb9f3a\"],[0.8888888888888888,\"#fdca26\"],[1.0,\"#f0f921\"]]}],\"contourcarpet\":[{\"type\":\"contourcarpet\",\"colorbar\":{\"outlinewidth\":0,\"ticks\":\"\"}}],\"contour\":[{\"type\":\"contour\",\"colorbar\":{\"outlinewidth\":0,\"ticks\":\"\"},\"colorscale\":[[0.0,\"#0d0887\"],[0.1111111111111111,\"#46039f\"],[0.2222222222222222,\"#7201a8\"],[0.3333333333333333,\"#9c179e\"],[0.4444444444444444,\"#bd3786\"],[0.5555555555555556,\"#d8576b\"],[0.6666666666666666,\"#ed7953\"],[0.7777777777777778,\"#fb9f3a\"],[0.8888888888888888,\"#fdca26\"],[1.0,\"#f0f921\"]]}],\"surface\":[{\"type\":\"surface\",\"colorbar\":{\"outlinewidth\":0,\"ticks\":\"\"},\"colorscale\":[[0.0,\"#0d0887\"],[0.1111111111111111,\"#46039f\"],[0.2222222222222222,\"#7201a8\"],[0.3333333333333333,\"#9c179e\"],[0.4444444444444444,\"#bd3786\"],[0.5555555555555556,\"#d8576b\"],[0.6666666666666666,\"#ed7953\"],[0.7777777777777778,\"#fb9f3a\"],[0.8888888888888888,\"#fdca26\"],[1.0,\"#f0f921\"]]}],\"mesh3d\":[{\"type\":\"mesh3d\",\"colorbar\":{\"outlinewidth\":0,\"ticks\":\"\"}}],\"scatter\":[{\"fillpattern\":{\"fillmode\":\"overlay\",\"size\":10,\"solidity\":0.2},\"type\":\"scatter\"}],\"parcoords\":[{\"type\":\"parcoords\",\"line\":{\"colorbar\":{\"outlinewidth\":0,\"ticks\":\"\"}}}],\"scatterpolargl\":[{\"type\":\"scatterpolargl\",\"marker\":{\"colorbar\":{\"outlinewidth\":0,\"ticks\":\"\"}}}],\"bar\":[{\"error_x\":{\"color\":\"#2a3f5f\"},\"error_y\":{\"color\":\"#2a3f5f\"},\"marker\":{\"line\":{\"color\":\"#E5ECF6\",\"width\":0.5},\"pattern\":{\"fillmode\":\"overlay\",\"size\":10,\"solidity\":0.2}},\"type\":\"bar\"}],\"scattergeo\":[{\"type\":\"scattergeo\",\"marker\":{\"colorbar\":{\"outlinewidth\":0,\"ticks\":\"\"}}}],\"scatterpolar\":[{\"type\":\"scatterpolar\",\"marker\":{\"colorbar\":{\"outlinewidth\":0,\"ticks\":\"\"}}}],\"histogram\":[{\"marker\":{\"pattern\":{\"fillmode\":\"overlay\",\"size\":10,\"solidity\":0.2}},\"type\":\"histogram\"}],\"scattergl\":[{\"type\":\"scattergl\",\"marker\":{\"colorbar\":{\"outlinewidth\":0,\"ticks\":\"\"}}}],\"scatter3d\":[{\"type\":\"scatter3d\",\"line\":{\"colorbar\":{\"outlinewidth\":0,\"ticks\":\"\"}},\"marker\":{\"colorbar\":{\"outlinewidth\":0,\"ticks\":\"\"}}}],\"scattermapbox\":[{\"type\":\"scattermapbox\",\"marker\":{\"colorbar\":{\"outlinewidth\":0,\"ticks\":\"\"}}}],\"scatterternary\":[{\"type\":\"scatterternary\",\"marker\":{\"colorbar\":{\"outlinewidth\":0,\"ticks\":\"\"}}}],\"scattercarpet\":[{\"type\":\"scattercarpet\",\"marker\":{\"colorbar\":{\"outlinewidth\":0,\"ticks\":\"\"}}}],\"carpet\":[{\"aaxis\":{\"endlinecolor\":\"#2a3f5f\",\"gridcolor\":\"white\",\"linecolor\":\"white\",\"minorgridcolor\":\"white\",\"startlinecolor\":\"#2a3f5f\"},\"baxis\":{\"endlinecolor\":\"#2a3f5f\",\"gridcolor\":\"white\",\"linecolor\":\"white\",\"minorgridcolor\":\"white\",\"startlinecolor\":\"#2a3f5f\"},\"type\":\"carpet\"}],\"table\":[{\"cells\":{\"fill\":{\"color\":\"#EBF0F8\"},\"line\":{\"color\":\"white\"}},\"header\":{\"fill\":{\"color\":\"#C8D4E3\"},\"line\":{\"color\":\"white\"}},\"type\":\"table\"}],\"barpolar\":[{\"marker\":{\"line\":{\"color\":\"#E5ECF6\",\"width\":0.5},\"pattern\":{\"fillmode\":\"overlay\",\"size\":10,\"solidity\":0.2}},\"type\":\"barpolar\"}],\"pie\":[{\"automargin\":true,\"type\":\"pie\"}]},\"layout\":{\"autotypenumbers\":\"strict\",\"colorway\":[\"#636efa\",\"#EF553B\",\"#00cc96\",\"#ab63fa\",\"#FFA15A\",\"#19d3f3\",\"#FF6692\",\"#B6E880\",\"#FF97FF\",\"#FECB52\"],\"font\":{\"color\":\"#2a3f5f\"},\"hovermode\":\"closest\",\"hoverlabel\":{\"align\":\"left\"},\"paper_bgcolor\":\"white\",\"plot_bgcolor\":\"#E5ECF6\",\"polar\":{\"bgcolor\":\"#E5ECF6\",\"angularaxis\":{\"gridcolor\":\"white\",\"linecolor\":\"white\",\"ticks\":\"\"},\"radialaxis\":{\"gridcolor\":\"white\",\"linecolor\":\"white\",\"ticks\":\"\"}},\"ternary\":{\"bgcolor\":\"#E5ECF6\",\"aaxis\":{\"gridcolor\":\"white\",\"linecolor\":\"white\",\"ticks\":\"\"},\"baxis\":{\"gridcolor\":\"white\",\"linecolor\":\"white\",\"ticks\":\"\"},\"caxis\":{\"gridcolor\":\"white\",\"linecolor\":\"white\",\"ticks\":\"\"}},\"coloraxis\":{\"colorbar\":{\"outlinewidth\":0,\"ticks\":\"\"}},\"colorscale\":{\"sequential\":[[0.0,\"#0d0887\"],[0.1111111111111111,\"#46039f\"],[0.2222222222222222,\"#7201a8\"],[0.3333333333333333,\"#9c179e\"],[0.4444444444444444,\"#bd3786\"],[0.5555555555555556,\"#d8576b\"],[0.6666666666666666,\"#ed7953\"],[0.7777777777777778,\"#fb9f3a\"],[0.8888888888888888,\"#fdca26\"],[1.0,\"#f0f921\"]],\"sequentialminus\":[[0.0,\"#0d0887\"],[0.1111111111111111,\"#46039f\"],[0.2222222222222222,\"#7201a8\"],[0.3333333333333333,\"#9c179e\"],[0.4444444444444444,\"#bd3786\"],[0.5555555555555556,\"#d8576b\"],[0.6666666666666666,\"#ed7953\"],[0.7777777777777778,\"#fb9f3a\"],[0.8888888888888888,\"#fdca26\"],[1.0,\"#f0f921\"]],\"diverging\":[[0,\"#8e0152\"],[0.1,\"#c51b7d\"],[0.2,\"#de77ae\"],[0.3,\"#f1b6da\"],[0.4,\"#fde0ef\"],[0.5,\"#f7f7f7\"],[0.6,\"#e6f5d0\"],[0.7,\"#b8e186\"],[0.8,\"#7fbc41\"],[0.9,\"#4d9221\"],[1,\"#276419\"]]},\"xaxis\":{\"gridcolor\":\"white\",\"linecolor\":\"white\",\"ticks\":\"\",\"title\":{\"standoff\":15},\"zerolinecolor\":\"white\",\"automargin\":true,\"zerolinewidth\":2},\"yaxis\":{\"gridcolor\":\"white\",\"linecolor\":\"white\",\"ticks\":\"\",\"title\":{\"standoff\":15},\"zerolinecolor\":\"white\",\"automargin\":true,\"zerolinewidth\":2},\"scene\":{\"xaxis\":{\"backgroundcolor\":\"#E5ECF6\",\"gridcolor\":\"white\",\"linecolor\":\"white\",\"showbackground\":true,\"ticks\":\"\",\"zerolinecolor\":\"white\",\"gridwidth\":2},\"yaxis\":{\"backgroundcolor\":\"#E5ECF6\",\"gridcolor\":\"white\",\"linecolor\":\"white\",\"showbackground\":true,\"ticks\":\"\",\"zerolinecolor\":\"white\",\"gridwidth\":2},\"zaxis\":{\"backgroundcolor\":\"#E5ECF6\",\"gridcolor\":\"white\",\"linecolor\":\"white\",\"showbackground\":true,\"ticks\":\"\",\"zerolinecolor\":\"white\",\"gridwidth\":2}},\"shapedefaults\":{\"line\":{\"color\":\"#2a3f5f\"}},\"annotationdefaults\":{\"arrowcolor\":\"#2a3f5f\",\"arrowhead\":0,\"arrowwidth\":1},\"geo\":{\"bgcolor\":\"white\",\"landcolor\":\"#E5ECF6\",\"subunitcolor\":\"white\",\"showland\":true,\"showlakes\":true,\"lakecolor\":\"white\"},\"title\":{\"x\":0.05},\"mapbox\":{\"style\":\"light\"}}},\"xaxis\":{\"anchor\":\"y\",\"domain\":[0.0,1.0],\"title\":{\"text\":\"price\"}},\"yaxis\":{\"anchor\":\"x\",\"domain\":[0.0,1.0],\"title\":{\"text\":\"make\"}},\"legend\":{\"tracegroupgap\":0},\"margin\":{\"t\":60},\"boxmode\":\"group\"},                        {\"responsive\": true}                    ).then(function(){\n",
       "                            \n",
       "var gd = document.getElementById('d1de2545-efbc-4842-909b-6757b034e66e');\n",
       "var x = new MutationObserver(function (mutations, observer) {{\n",
       "        var display = window.getComputedStyle(gd).display;\n",
       "        if (!display || display === 'none') {{\n",
       "            console.log([gd, 'removed!']);\n",
       "            Plotly.purge(gd);\n",
       "            observer.disconnect();\n",
       "        }}\n",
       "}});\n",
       "\n",
       "// Listen for the removal of the full notebook cells\n",
       "var notebookContainer = gd.closest('#notebook-container');\n",
       "if (notebookContainer) {{\n",
       "    x.observe(notebookContainer, {childList: true});\n",
       "}}\n",
       "\n",
       "// Listen for the clearing of the current output cell\n",
       "var outputEl = gd.closest('.output');\n",
       "if (outputEl) {{\n",
       "    x.observe(outputEl, {childList: true});\n",
       "}}\n",
       "\n",
       "                        })                };                });            </script>        </div>"
      ]
     },
     "metadata": {},
     "output_type": "display_data"
    }
   ],
   "source": [
    "import plotly.express as px\n",
    "px.box(df,x=df[\"price\"],y=df[\"make\"])"
   ]
  },
  {
   "cell_type": "code",
   "execution_count": 117,
   "id": "dcdb81f0-b5c0-4b1a-b40d-a480979d0fa5",
   "metadata": {},
   "outputs": [],
   "source": [
    "def identify_outliers(group):\n",
    "    q1=group[\"price\"].quantile(0.25)\n",
    "    q3=group[\"price\"].quantile(0.75)\n",
    "    iqr=q3-q1\n",
    "    lw=q1-1.5*iqr\n",
    "    uw=q3+1.5*iqr\n",
    "    outliers=group[(group[\"price\"]<lw)|(group[\"price\"]>uw)]\n",
    "    return outliers[[\"make\",\"price\"]]"
   ]
  },
  {
   "cell_type": "code",
   "execution_count": 118,
   "id": "99562e9a-83a9-42b5-8f2a-9cdf322d38cb",
   "metadata": {},
   "outputs": [
    {
     "data": {
      "text/html": [
       "<div>\n",
       "<style scoped>\n",
       "    .dataframe tbody tr th:only-of-type {\n",
       "        vertical-align: middle;\n",
       "    }\n",
       "\n",
       "    .dataframe tbody tr th {\n",
       "        vertical-align: top;\n",
       "    }\n",
       "\n",
       "    .dataframe thead th {\n",
       "        text-align: right;\n",
       "    }\n",
       "</style>\n",
       "<table border=\"1\" class=\"dataframe\">\n",
       "  <thead>\n",
       "    <tr style=\"text-align: right;\">\n",
       "      <th></th>\n",
       "      <th></th>\n",
       "      <th>make</th>\n",
       "      <th>price</th>\n",
       "    </tr>\n",
       "    <tr>\n",
       "      <th>make</th>\n",
       "      <th></th>\n",
       "      <th></th>\n",
       "      <th></th>\n",
       "    </tr>\n",
       "  </thead>\n",
       "  <tbody>\n",
       "    <tr>\n",
       "      <th>dodge</th>\n",
       "      <th>29</th>\n",
       "      <td>dodge</td>\n",
       "      <td>12964</td>\n",
       "    </tr>\n",
       "    <tr>\n",
       "      <th>honda</th>\n",
       "      <th>41</th>\n",
       "      <td>honda</td>\n",
       "      <td>12945</td>\n",
       "    </tr>\n",
       "    <tr>\n",
       "      <th>isuzu</th>\n",
       "      <th>45</th>\n",
       "      <td>isuzu</td>\n",
       "      <td>23000</td>\n",
       "    </tr>\n",
       "    <tr>\n",
       "      <th rowspan=\"2\" valign=\"top\">mitsubishi</th>\n",
       "      <th>83</th>\n",
       "      <td>mitsubishi</td>\n",
       "      <td>14869</td>\n",
       "    </tr>\n",
       "    <tr>\n",
       "      <th>84</th>\n",
       "      <td>mitsubishi</td>\n",
       "      <td>14489</td>\n",
       "    </tr>\n",
       "    <tr>\n",
       "      <th>plymouth</th>\n",
       "      <th>124</th>\n",
       "      <td>plymouth</td>\n",
       "      <td>12764</td>\n",
       "    </tr>\n",
       "    <tr>\n",
       "      <th rowspan=\"5\" valign=\"top\">toyota</th>\n",
       "      <th>172</th>\n",
       "      <td>toyota</td>\n",
       "      <td>17669</td>\n",
       "    </tr>\n",
       "    <tr>\n",
       "      <th>178</th>\n",
       "      <td>toyota</td>\n",
       "      <td>16558</td>\n",
       "    </tr>\n",
       "    <tr>\n",
       "      <th>179</th>\n",
       "      <td>toyota</td>\n",
       "      <td>15998</td>\n",
       "    </tr>\n",
       "    <tr>\n",
       "      <th>180</th>\n",
       "      <td>toyota</td>\n",
       "      <td>15690</td>\n",
       "    </tr>\n",
       "    <tr>\n",
       "      <th>181</th>\n",
       "      <td>toyota</td>\n",
       "      <td>15750</td>\n",
       "    </tr>\n",
       "  </tbody>\n",
       "</table>\n",
       "</div>"
      ],
      "text/plain": [
       "                      make  price\n",
       "make                             \n",
       "dodge      29        dodge  12964\n",
       "honda      41        honda  12945\n",
       "isuzu      45        isuzu  23000\n",
       "mitsubishi 83   mitsubishi  14869\n",
       "           84   mitsubishi  14489\n",
       "plymouth   124    plymouth  12764\n",
       "toyota     172      toyota  17669\n",
       "           178      toyota  16558\n",
       "           179      toyota  15998\n",
       "           180      toyota  15690\n",
       "           181      toyota  15750"
      ]
     },
     "execution_count": 118,
     "metadata": {},
     "output_type": "execute_result"
    }
   ],
   "source": [
    "df.groupby(\"make\").apply(identify_outliers)"
   ]
  },
  {
   "cell_type": "code",
   "execution_count": 119,
   "id": "5c7ca287-7498-4be6-905f-0e99a637a6e3",
   "metadata": {},
   "outputs": [],
   "source": [
    "def replacing_outliers(group):\n",
    "    q1=group[\"price\"].quantile(0.25)\n",
    "    q3=group[\"price\"].quantile(0.75)\n",
    "    iqr=q3-q1\n",
    "    lw=q1-1.5*iqr\n",
    "    uw=q3+1.5*iqr\n",
    "    group[\"price\"]=group[\"price\"].apply(lambda x:min(max(x,lw),uw))\n",
    "    return group\n",
    "                                        \n",
    "    "
   ]
  },
  {
   "cell_type": "code",
   "execution_count": 120,
   "id": "3fa37509-6998-432a-8ef0-15b00b2e33ce",
   "metadata": {},
   "outputs": [],
   "source": [
    "df=df.groupby(\"make\").apply(replacing_outliers).reset_index(drop=True)"
   ]
  },
  {
   "cell_type": "code",
   "execution_count": 121,
   "id": "5d7bbe74-958c-4c6d-8f32-0b1743f21bae",
   "metadata": {},
   "outputs": [
    {
     "data": {
      "text/plain": [
       "<Axes: xlabel='price', ylabel='make'>"
      ]
     },
     "execution_count": 121,
     "metadata": {},
     "output_type": "execute_result"
    },
    {
     "data": {
      "image/png": "[encoded data removed]",
      "text/plain": [
       "<Figure size 640x480 with 1 Axes>"
      ]
     },
     "metadata": {},
     "output_type": "display_data"
    }
   ],
   "source": [
    "sns.boxplot(data=df,y=\"make\",x=\"price\")"
   ]
  },
  {
   "cell_type": "code",
   "execution_count": 122,
   "id": "b535e2dc-51d3-44bc-be49-a487c43ff6fc",
   "metadata": {},
   "outputs": [],
   "source": [
    "# Skewness removal"
   ]
  },
  {
   "cell_type": "code",
   "execution_count": 123,
   "id": "6fa059d1-e55e-4732-a94e-33b938506df7",
   "metadata": {},
   "outputs": [],
   "source": [
    "from scipy.stats import skew"
   ]
  },
  {
   "cell_type": "code",
   "execution_count": 124,
   "id": "f677eab1-9507-4dcf-b68e-8589d422e628",
   "metadata": {},
   "outputs": [
    {
     "data": {
      "text/plain": [
       "Index(['symboling', 'normalized-losses', 'width', 'height', 'engine-size',\n",
       "       'horsepower', 'city-mpg', 'highway-mpg', 'price'],\n",
       "      dtype='object')"
      ]
     },
     "execution_count": 124,
     "metadata": {},
     "output_type": "execute_result"
    }
   ],
   "source": [
    "numerical_cols=df.select_dtypes([\"int\",\"float\"]).columns\n",
    "numerical_cols"
   ]
  },
  {
   "cell_type": "code",
   "execution_count": 125,
   "id": "21d3e4f4-7d71-4a6a-9d5e-e711406dd1df",
   "metadata": {},
   "outputs": [
    {
     "name": "stdout",
     "output_type": "stream",
     "text": [
      "symboling : 0.20952469094997359 \n",
      "normalized-losses : 0.9689566830169458 \n",
      "width : 0.8973753485201392 \n",
      "height : 0.06265991683394276 \n",
      "engine-size : 1.9333748457840114 \n",
      "horsepower : 1.3931510049522813 \n",
      "city-mpg : 0.6588377533622138 \n",
      "highway-mpg : 0.5360379305163596 \n",
      "price : 1.8132747028799934 \n"
     ]
    },
    {
     "data": {
      "text/plain": [
       "'\\nnormalized-losses : 0.9689566830169458 \\nwidth : 0.8973753485201392\\nengine-size : 1.9333748457840114 \\nhorsepower : 1.3931510049522813 \\nprice : 1.8132747028799934 \\n'"
      ]
     },
     "execution_count": 125,
     "metadata": {},
     "output_type": "execute_result"
    }
   ],
   "source": [
    "\n",
    "for i in numerical_cols:\n",
    "    print(f\"{i} : {skew(df[i])} \") \n",
    "'''\n",
    "normalized-losses : 0.9689566830169458 \n",
    "width : 0.8973753485201392\n",
    "engine-size : 1.9333748457840114 \n",
    "horsepower : 1.3931510049522813 \n",
    "price : 1.8132747028799934 \n",
    "'''"
   ]
  },
  {
   "cell_type": "code",
   "execution_count": 126,
   "id": "41979d30-6dab-4b4e-8453-2e15e237eb1c",
   "metadata": {},
   "outputs": [
    {
     "data": {
      "text/plain": [
       "'\\n# HIghly correlated \\nhighway-mpg         -0.679232\\ncity-mpg            -0.655077\\nwidth                0.720006\\nhorsepower           0.746189\\nengine-size          0.852845\\n# skewness removal candidates\\nnormalized-losses : 0.9689566830169458 \\n'"
      ]
     },
     "execution_count": 126,
     "metadata": {},
     "output_type": "execute_result"
    }
   ],
   "source": [
    "df[numerical_cols].corr()[\"price\"].sort_values()\n",
    "'''\n",
    "# HIghly correlated \n",
    "highway-mpg         -0.679232\n",
    "city-mpg            -0.655077\n",
    "width                0.720006\n",
    "horsepower           0.746189\n",
    "engine-size          0.852845\n",
    "# skewness removal candidates\n",
    "normalized-losses : 0.9689566830169458 \n",
    "'''"
   ]
  },
  {
   "cell_type": "code",
   "execution_count": 127,
   "id": "794d2835-f8ca-4063-8834-47e420bfb6b9",
   "metadata": {},
   "outputs": [
    {
     "data": {
      "text/plain": [
       "np.float64(nan)"
      ]
     },
     "execution_count": 127,
     "metadata": {},
     "output_type": "execute_result"
    }
   ],
   "source": [
    "np.sqrt(-25)"
   ]
  },
  {
   "cell_type": "code",
   "execution_count": 128,
   "id": "a437f87b-2c3d-49eb-9318-297aef321146",
   "metadata": {},
   "outputs": [
    {
     "data": {
      "text/plain": [
       "np.float64(nan)"
      ]
     },
     "execution_count": 128,
     "metadata": {},
     "output_type": "execute_result"
    }
   ],
   "source": [
    "np.log(-25)"
   ]
  },
  {
   "cell_type": "code",
   "execution_count": 129,
   "id": "0d1ffa6e-4568-43a1-8a55-a927d401c28b",
   "metadata": {},
   "outputs": [
    {
     "data": {
      "text/plain": [
       "0"
      ]
     },
     "execution_count": 129,
     "metadata": {},
     "output_type": "execute_result"
    }
   ],
   "source": [
    "len(df[df[\"normalized-losses\"]<0])"
   ]
  },
  {
   "cell_type": "code",
   "execution_count": 130,
   "id": "b3558aa6-1972-475c-b58a-cbd56c6c568b",
   "metadata": {},
   "outputs": [
    {
     "name": "stdout",
     "output_type": "stream",
     "text": [
      "0.17095064676203378\n"
     ]
    }
   ],
   "source": [
    "df[\"normalized-losses\"]=np.log(df[\"normalized-losses\"])\n",
    "print(skew(df[\"normalized-losses\"]))"
   ]
  },
  {
   "cell_type": "code",
   "execution_count": 131,
   "id": "3030241d-8dd3-49ee-96ad-b093efe17aab",
   "metadata": {},
   "outputs": [
    {
     "data": {
      "text/plain": [
       "<Axes: xlabel='normalized-losses', ylabel='Density'>"
      ]
     },
     "execution_count": 131,
     "metadata": {},
     "output_type": "execute_result"
    },
    {
     "data": {
      "image/png": "[encoded data removed]",
      "text/plain": [
       "<Figure size 640x480 with 1 Axes>"
      ]
     },
     "metadata": {},
     "output_type": "display_data"
    }
   ],
   "source": [
    "sns.kdeplot(df[\"normalized-losses\"])"
   ]
  },
  {
   "cell_type": "code",
   "execution_count": 132,
   "id": "29492df5-3a08-4114-b24f-0ff0e72ca352",
   "metadata": {},
   "outputs": [
    {
     "data": {
      "text/plain": [
       "Index(['make', 'fuel-type', 'body-style', 'drive-wheels', 'engine-location',\n",
       "       'engine-type'],\n",
       "      dtype='object')"
      ]
     },
     "execution_count": 132,
     "metadata": {},
     "output_type": "execute_result"
    }
   ],
   "source": [
    "object_cols=df.select_dtypes(\"object\").columns\n",
    "object_cols"
   ]
  },
  {
   "cell_type": "code",
   "execution_count": 133,
   "id": "bedd3d0f-1fe0-4677-95f7-16983271ab17",
   "metadata": {},
   "outputs": [
    {
     "name": "stdout",
     "output_type": "stream",
     "text": [
      "make has total different values : 22\n",
      "fuel-type has total different values : 2\n",
      "body-style has total different values : 5\n",
      "drive-wheels has total different values : 3\n",
      "engine-location has total different values : 2\n",
      "engine-type has total different values : 7\n"
     ]
    }
   ],
   "source": [
    "for i in object_cols:\n",
    "    print(f\"{i} has total different values : {df[i].nunique()}\")"
   ]
  },
  {
   "cell_type": "code",
   "execution_count": 134,
   "id": "b4f26726-dbe2-4197-bbb8-623f32919bd1",
   "metadata": {},
   "outputs": [
    {
     "name": "stdout",
     "output_type": "stream",
     "text": [
      "make different values distribution: make\n",
      "toyota           32\n",
      "nissan           18\n",
      "mazda            17\n",
      "mitsubishi       13\n",
      "honda            13\n",
      "subaru           12\n",
      "volkswagen       12\n",
      "volvo            11\n",
      "peugot           11\n",
      "dodge             9\n",
      "mercedes-benz     8\n",
      "bmw               8\n",
      "audi              7\n",
      "plymouth          7\n",
      "saab              6\n",
      "porsche           5\n",
      "isuzu             4\n",
      "alfa-romero       3\n",
      "chevrolet         3\n",
      "jaguar            3\n",
      "renault           2\n",
      "mercury           1\n",
      "Name: count, dtype: int64\n",
      "fuel-type different values distribution: fuel-type\n",
      "gas       185\n",
      "diesel     20\n",
      "Name: count, dtype: int64\n",
      "body-style different values distribution: body-style\n",
      "sedan          96\n",
      "hatchback      70\n",
      "wagon          25\n",
      "hardtop         8\n",
      "convertible     6\n",
      "Name: count, dtype: int64\n",
      "drive-wheels different values distribution: drive-wheels\n",
      "fwd    120\n",
      "rwd     76\n",
      "4wd      9\n",
      "Name: count, dtype: int64\n",
      "engine-location different values distribution: engine-location\n",
      "front    202\n",
      "rear       3\n",
      "Name: count, dtype: int64\n",
      "engine-type different values distribution: engine-type\n",
      "ohc      148\n",
      "ohcf      15\n",
      "ohcv      13\n",
      "dohc      12\n",
      "l         12\n",
      "rotor      4\n",
      "dohcv      1\n",
      "Name: count, dtype: int64\n"
     ]
    }
   ],
   "source": [
    "for i in object_cols:\n",
    "    print(f\"{i} different values distribution: {df[i].value_counts()}\")"
   ]
  },
  {
   "cell_type": "code",
   "execution_count": 135,
   "id": "f281975b-2e7e-4298-9850-dfa243e187ec",
   "metadata": {},
   "outputs": [
    {
     "name": "stdout",
     "output_type": "stream",
     "text": [
      "['diesel' 'gas']\n",
      "[1 1 1 1 1 1 1 1 1 1 1 1 1 1 1 1 1 1 1 1 1 1 1 1 1 1 1 1 1 1 1 1 1 1 1 1 1\n",
      " 1 1 1 1 1 1 1 1 1 1 1 1 1 1 1 1 1 1 1 1 1 1 1 1 1 1 0 1 1 0 0 0 0 0 1 1 1\n",
      " 1 1 1 1 1 1 1 1 1 1 1 1 1 1 1 1 0 1 1 1 1 1 1 1 1 1 1 1 1 1 1 1 1 1 0 1 0\n",
      " 1 0 1 0 1 0 1 1 1 1 1 1 1 1 1 1 1 1 1 1 1 1 1 1 1 1 1 1 1 1 1 1 1 1 1 1 1\n",
      " 1 1 1 1 1 1 1 1 1 1 0 0 1 1 1 1 1 1 1 1 1 1 1 1 1 1 0 1 1 1 1 1 1 1 0 1 0\n",
      " 1 1 0 1 1 1 1 0 1 1 1 1 1 1 1 1 1 1 0 1]\n",
      "['gas' 'gas' 'gas' 'gas' 'gas' 'gas' 'gas' 'gas' 'gas' 'gas' 'gas' 'gas'\n",
      " 'gas' 'gas' 'gas' 'gas' 'gas' 'gas' 'gas' 'gas' 'gas' 'gas' 'gas' 'gas'\n",
      " 'gas' 'gas' 'gas' 'gas' 'gas' 'gas' 'gas' 'gas' 'gas' 'gas' 'gas' 'gas'\n",
      " 'gas' 'gas' 'gas' 'gas' 'gas' 'gas' 'gas' 'gas' 'gas' 'gas' 'gas' 'gas'\n",
      " 'gas' 'gas' 'gas' 'gas' 'gas' 'gas' 'gas' 'gas' 'gas' 'gas' 'gas' 'gas'\n",
      " 'gas' 'gas' 'gas' 'diesel' 'gas' 'gas' 'diesel' 'diesel' 'diesel'\n",
      " 'diesel' 'diesel' 'gas' 'gas' 'gas' 'gas' 'gas' 'gas' 'gas' 'gas' 'gas'\n",
      " 'gas' 'gas' 'gas' 'gas' 'gas' 'gas' 'gas' 'gas' 'gas' 'gas' 'diesel'\n",
      " 'gas' 'gas' 'gas' 'gas' 'gas' 'gas' 'gas' 'gas' 'gas' 'gas' 'gas' 'gas'\n",
      " 'gas' 'gas' 'gas' 'gas' 'gas' 'diesel' 'gas' 'diesel' 'gas' 'diesel'\n",
      " 'gas' 'diesel' 'gas' 'diesel' 'gas' 'gas' 'gas' 'gas' 'gas' 'gas' 'gas'\n",
      " 'gas' 'gas' 'gas' 'gas' 'gas' 'gas' 'gas' 'gas' 'gas' 'gas' 'gas' 'gas'\n",
      " 'gas' 'gas' 'gas' 'gas' 'gas' 'gas' 'gas' 'gas' 'gas' 'gas' 'gas' 'gas'\n",
      " 'gas' 'gas' 'gas' 'gas' 'gas' 'gas' 'gas' 'gas' 'gas' 'gas' 'diesel'\n",
      " 'diesel' 'gas' 'gas' 'gas' 'gas' 'gas' 'gas' 'gas' 'gas' 'gas' 'gas'\n",
      " 'gas' 'gas' 'gas' 'gas' 'diesel' 'gas' 'gas' 'gas' 'gas' 'gas' 'gas'\n",
      " 'gas' 'diesel' 'gas' 'diesel' 'gas' 'gas' 'diesel' 'gas' 'gas' 'gas'\n",
      " 'gas' 'diesel' 'gas' 'gas' 'gas' 'gas' 'gas' 'gas' 'gas' 'gas' 'gas'\n",
      " 'gas' 'diesel' 'gas']\n"
     ]
    }
   ],
   "source": [
    "from sklearn.preprocessing import LabelEncoder\n",
    "le = LabelEncoder()\n",
    "e=le.fit_transform(df[\"fuel-type\"]) # fit(), transform(), fit_transform()\n",
    "print(le.classes_)\n",
    "print(e)\n",
    "print(le.inverse_transform(e))\n",
    "# fit() -- StandardScaler, fit(), transform()-- fit_transform()--"
   ]
  },
  {
   "cell_type": "code",
   "execution_count": 136,
   "id": "6981a5f3-cc41-41cc-948a-41a243b8bf16",
   "metadata": {},
   "outputs": [],
   "source": [
    "#le.fit_transform(df[[\"fuel-type\",\"body-style\",\"engine-type\"]]) -- error"
   ]
  },
  {
   "cell_type": "code",
   "execution_count": 137,
   "id": "4fef9126-eb01-4f4e-8345-57b59fd44613",
   "metadata": {},
   "outputs": [],
   "source": [
    "from sklearn.preprocessing import OrdinalEncoder\n",
    "enc = OrdinalEncoder()\n",
    "df[object_cols]=enc.fit_transform(df[object_cols])"
   ]
  },
  {
   "cell_type": "code",
   "execution_count": 138,
   "id": "d7c4e498-4e61-4ee7-8660-ec0ae8150947",
   "metadata": {},
   "outputs": [
    {
     "data": {
      "text/html": [
       "<div>\n",
       "<style scoped>\n",
       "    .dataframe tbody tr th:only-of-type {\n",
       "        vertical-align: middle;\n",
       "    }\n",
       "\n",
       "    .dataframe tbody tr th {\n",
       "        vertical-align: top;\n",
       "    }\n",
       "\n",
       "    .dataframe thead th {\n",
       "        text-align: right;\n",
       "    }\n",
       "</style>\n",
       "<table border=\"1\" class=\"dataframe\">\n",
       "  <thead>\n",
       "    <tr style=\"text-align: right;\">\n",
       "      <th></th>\n",
       "      <th>make</th>\n",
       "      <th>fuel-type</th>\n",
       "      <th>body-style</th>\n",
       "      <th>drive-wheels</th>\n",
       "      <th>engine-location</th>\n",
       "      <th>engine-type</th>\n",
       "    </tr>\n",
       "  </thead>\n",
       "  <tbody>\n",
       "    <tr>\n",
       "      <th>0</th>\n",
       "      <td>0.0</td>\n",
       "      <td>1.0</td>\n",
       "      <td>0.0</td>\n",
       "      <td>2.0</td>\n",
       "      <td>0.0</td>\n",
       "      <td>0.0</td>\n",
       "    </tr>\n",
       "    <tr>\n",
       "      <th>1</th>\n",
       "      <td>0.0</td>\n",
       "      <td>1.0</td>\n",
       "      <td>0.0</td>\n",
       "      <td>2.0</td>\n",
       "      <td>0.0</td>\n",
       "      <td>0.0</td>\n",
       "    </tr>\n",
       "    <tr>\n",
       "      <th>2</th>\n",
       "      <td>0.0</td>\n",
       "      <td>1.0</td>\n",
       "      <td>2.0</td>\n",
       "      <td>2.0</td>\n",
       "      <td>0.0</td>\n",
       "      <td>5.0</td>\n",
       "    </tr>\n",
       "    <tr>\n",
       "      <th>3</th>\n",
       "      <td>1.0</td>\n",
       "      <td>1.0</td>\n",
       "      <td>3.0</td>\n",
       "      <td>1.0</td>\n",
       "      <td>0.0</td>\n",
       "      <td>3.0</td>\n",
       "    </tr>\n",
       "    <tr>\n",
       "      <th>4</th>\n",
       "      <td>1.0</td>\n",
       "      <td>1.0</td>\n",
       "      <td>3.0</td>\n",
       "      <td>0.0</td>\n",
       "      <td>0.0</td>\n",
       "      <td>3.0</td>\n",
       "    </tr>\n",
       "    <tr>\n",
       "      <th>...</th>\n",
       "      <td>...</td>\n",
       "      <td>...</td>\n",
       "      <td>...</td>\n",
       "      <td>...</td>\n",
       "      <td>...</td>\n",
       "      <td>...</td>\n",
       "    </tr>\n",
       "    <tr>\n",
       "      <th>200</th>\n",
       "      <td>21.0</td>\n",
       "      <td>1.0</td>\n",
       "      <td>3.0</td>\n",
       "      <td>2.0</td>\n",
       "      <td>0.0</td>\n",
       "      <td>3.0</td>\n",
       "    </tr>\n",
       "    <tr>\n",
       "      <th>201</th>\n",
       "      <td>21.0</td>\n",
       "      <td>1.0</td>\n",
       "      <td>3.0</td>\n",
       "      <td>2.0</td>\n",
       "      <td>0.0</td>\n",
       "      <td>3.0</td>\n",
       "    </tr>\n",
       "    <tr>\n",
       "      <th>202</th>\n",
       "      <td>21.0</td>\n",
       "      <td>1.0</td>\n",
       "      <td>3.0</td>\n",
       "      <td>2.0</td>\n",
       "      <td>0.0</td>\n",
       "      <td>5.0</td>\n",
       "    </tr>\n",
       "    <tr>\n",
       "      <th>203</th>\n",
       "      <td>21.0</td>\n",
       "      <td>0.0</td>\n",
       "      <td>3.0</td>\n",
       "      <td>2.0</td>\n",
       "      <td>0.0</td>\n",
       "      <td>3.0</td>\n",
       "    </tr>\n",
       "    <tr>\n",
       "      <th>204</th>\n",
       "      <td>21.0</td>\n",
       "      <td>1.0</td>\n",
       "      <td>3.0</td>\n",
       "      <td>2.0</td>\n",
       "      <td>0.0</td>\n",
       "      <td>3.0</td>\n",
       "    </tr>\n",
       "  </tbody>\n",
       "</table>\n",
       "<p>205 rows × 6 columns</p>\n",
       "</div>"
      ],
      "text/plain": [
       "     make  fuel-type  body-style  drive-wheels  engine-location  engine-type\n",
       "0     0.0        1.0         0.0           2.0              0.0          0.0\n",
       "1     0.0        1.0         0.0           2.0              0.0          0.0\n",
       "2     0.0        1.0         2.0           2.0              0.0          5.0\n",
       "3     1.0        1.0         3.0           1.0              0.0          3.0\n",
       "4     1.0        1.0         3.0           0.0              0.0          3.0\n",
       "..    ...        ...         ...           ...              ...          ...\n",
       "200  21.0        1.0         3.0           2.0              0.0          3.0\n",
       "201  21.0        1.0         3.0           2.0              0.0          3.0\n",
       "202  21.0        1.0         3.0           2.0              0.0          5.0\n",
       "203  21.0        0.0         3.0           2.0              0.0          3.0\n",
       "204  21.0        1.0         3.0           2.0              0.0          3.0\n",
       "\n",
       "[205 rows x 6 columns]"
      ]
     },
     "execution_count": 138,
     "metadata": {},
     "output_type": "execute_result"
    }
   ],
   "source": [
    "df[object_cols]"
   ]
  },
  {
   "cell_type": "code",
   "execution_count": 139,
   "id": "438948ec-6a5f-49a0-9dae-12db6a8283db",
   "metadata": {},
   "outputs": [
    {
     "name": "stdout",
     "output_type": "stream",
     "text": [
      "<class 'pandas.core.frame.DataFrame'>\n",
      "RangeIndex: 205 entries, 0 to 204\n",
      "Data columns (total 15 columns):\n",
      " #   Column             Non-Null Count  Dtype  \n",
      "---  ------             --------------  -----  \n",
      " 0   symboling          205 non-null    int64  \n",
      " 1   normalized-losses  205 non-null    float64\n",
      " 2   make               205 non-null    float64\n",
      " 3   fuel-type          205 non-null    float64\n",
      " 4   body-style         205 non-null    float64\n",
      " 5   drive-wheels       205 non-null    float64\n",
      " 6   engine-location    205 non-null    float64\n",
      " 7   width              205 non-null    float64\n",
      " 8   height             205 non-null    float64\n",
      " 9   engine-type        205 non-null    float64\n",
      " 10  engine-size        205 non-null    int64  \n",
      " 11  horsepower         205 non-null    float64\n",
      " 12  city-mpg           205 non-null    int64  \n",
      " 13  highway-mpg        205 non-null    int64  \n",
      " 14  price              205 non-null    float64\n",
      "dtypes: float64(11), int64(4)\n",
      "memory usage: 24.2 KB\n"
     ]
    }
   ],
   "source": [
    "df.info()"
   ]
  },
  {
   "cell_type": "code",
   "execution_count": 140,
   "id": "50c2b2ac-2b54-40b3-a5d0-79fcbff034f5",
   "metadata": {},
   "outputs": [],
   "source": [
    "# Feature Scaling "
   ]
  },
  {
   "cell_type": "code",
   "execution_count": 141,
   "id": "a56f0ba0-0de4-4c43-98d0-3b6f813079f3",
   "metadata": {},
   "outputs": [
    {
     "data": {
      "text/plain": [
       "Index(['symboling', 'normalized-losses', 'make', 'fuel-type', 'body-style',\n",
       "       'drive-wheels', 'engine-location', 'width', 'height', 'engine-type',\n",
       "       'engine-size', 'horsepower', 'city-mpg', 'highway-mpg', 'price'],\n",
       "      dtype='object')"
      ]
     },
     "execution_count": 141,
     "metadata": {},
     "output_type": "execute_result"
    }
   ],
   "source": [
    "df.columns"
   ]
  },
  {
   "cell_type": "code",
   "execution_count": 142,
   "id": "4c27b773-d146-4450-b3c3-ab86d3197e9d",
   "metadata": {},
   "outputs": [],
   "source": [
    "features=df.drop(\"price\",axis=1)\n",
    "target=df[\"price\"]"
   ]
  },
  {
   "cell_type": "code",
   "execution_count": 143,
   "id": "da11a3a7-cbd9-49f8-a97f-9b12948ae08e",
   "metadata": {},
   "outputs": [
    {
     "data": {
      "text/plain": [
       "Index(['symboling', 'normalized-losses', 'make', 'fuel-type', 'body-style',\n",
       "       'drive-wheels', 'engine-location', 'width', 'height', 'engine-type',\n",
       "       'engine-size', 'horsepower', 'city-mpg', 'highway-mpg'],\n",
       "      dtype='object')"
      ]
     },
     "execution_count": 143,
     "metadata": {},
     "output_type": "execute_result"
    }
   ],
   "source": [
    "features.columns"
   ]
  },
  {
   "cell_type": "code",
   "execution_count": 144,
   "id": "ea9a7192-329f-4af6-9de3-b7f8c2de202f",
   "metadata": {},
   "outputs": [
    {
     "data": {
      "text/html": [
       "<div>\n",
       "<style scoped>\n",
       "    .dataframe tbody tr th:only-of-type {\n",
       "        vertical-align: middle;\n",
       "    }\n",
       "\n",
       "    .dataframe tbody tr th {\n",
       "        vertical-align: top;\n",
       "    }\n",
       "\n",
       "    .dataframe thead th {\n",
       "        text-align: right;\n",
       "    }\n",
       "</style>\n",
       "<table border=\"1\" class=\"dataframe\">\n",
       "  <thead>\n",
       "    <tr style=\"text-align: right;\">\n",
       "      <th></th>\n",
       "      <th>symboling</th>\n",
       "      <th>normalized-losses</th>\n",
       "      <th>make</th>\n",
       "      <th>fuel-type</th>\n",
       "      <th>body-style</th>\n",
       "      <th>drive-wheels</th>\n",
       "      <th>engine-location</th>\n",
       "      <th>width</th>\n",
       "      <th>height</th>\n",
       "      <th>engine-type</th>\n",
       "      <th>engine-size</th>\n",
       "      <th>horsepower</th>\n",
       "      <th>city-mpg</th>\n",
       "      <th>highway-mpg</th>\n",
       "    </tr>\n",
       "  </thead>\n",
       "  <tbody>\n",
       "    <tr>\n",
       "      <th>0</th>\n",
       "      <td>1.743470</td>\n",
       "      <td>-0.059233</td>\n",
       "      <td>-1.948256</td>\n",
       "      <td>0.328798</td>\n",
       "      <td>-3.050975</td>\n",
       "      <td>1.213330</td>\n",
       "      <td>-0.121867</td>\n",
       "      <td>-0.844782</td>\n",
       "      <td>-2.020417</td>\n",
       "      <td>-2.865105</td>\n",
       "      <td>0.074449</td>\n",
       "      <td>0.173309</td>\n",
       "      <td>-0.646553</td>\n",
       "      <td>-0.546059</td>\n",
       "    </tr>\n",
       "    <tr>\n",
       "      <th>1</th>\n",
       "      <td>1.743470</td>\n",
       "      <td>-0.059233</td>\n",
       "      <td>-1.948256</td>\n",
       "      <td>0.328798</td>\n",
       "      <td>-3.050975</td>\n",
       "      <td>1.213330</td>\n",
       "      <td>-0.121867</td>\n",
       "      <td>-0.844782</td>\n",
       "      <td>-2.020417</td>\n",
       "      <td>-2.865105</td>\n",
       "      <td>0.074449</td>\n",
       "      <td>0.173309</td>\n",
       "      <td>-0.646553</td>\n",
       "      <td>-0.546059</td>\n",
       "    </tr>\n",
       "    <tr>\n",
       "      <th>2</th>\n",
       "      <td>0.133509</td>\n",
       "      <td>-0.059233</td>\n",
       "      <td>-1.948256</td>\n",
       "      <td>0.328798</td>\n",
       "      <td>-0.717207</td>\n",
       "      <td>1.213330</td>\n",
       "      <td>-0.121867</td>\n",
       "      <td>-0.190566</td>\n",
       "      <td>-0.543527</td>\n",
       "      <td>1.886890</td>\n",
       "      <td>0.604046</td>\n",
       "      <td>1.263761</td>\n",
       "      <td>-0.953012</td>\n",
       "      <td>-0.691627</td>\n",
       "    </tr>\n",
       "    <tr>\n",
       "      <th>3</th>\n",
       "      <td>0.938490</td>\n",
       "      <td>1.342078</td>\n",
       "      <td>-1.788499</td>\n",
       "      <td>0.328798</td>\n",
       "      <td>0.449677</td>\n",
       "      <td>-0.589081</td>\n",
       "      <td>-0.121867</td>\n",
       "      <td>0.136542</td>\n",
       "      <td>0.235942</td>\n",
       "      <td>-0.013908</td>\n",
       "      <td>-0.431076</td>\n",
       "      <td>-0.054925</td>\n",
       "      <td>-0.186865</td>\n",
       "      <td>-0.109354</td>\n",
       "    </tr>\n",
       "    <tr>\n",
       "      <th>4</th>\n",
       "      <td>0.938490</td>\n",
       "      <td>1.342078</td>\n",
       "      <td>-1.788499</td>\n",
       "      <td>0.328798</td>\n",
       "      <td>0.449677</td>\n",
       "      <td>-2.391492</td>\n",
       "      <td>-0.121867</td>\n",
       "      <td>0.230001</td>\n",
       "      <td>0.235942</td>\n",
       "      <td>-0.013908</td>\n",
       "      <td>0.218885</td>\n",
       "      <td>0.274747</td>\n",
       "      <td>-1.106241</td>\n",
       "      <td>-1.273900</td>\n",
       "    </tr>\n",
       "  </tbody>\n",
       "</table>\n",
       "</div>"
      ],
      "text/plain": [
       "   symboling  normalized-losses      make  fuel-type  body-style  \\\n",
       "0   1.743470          -0.059233 -1.948256   0.328798   -3.050975   \n",
       "1   1.743470          -0.059233 -1.948256   0.328798   -3.050975   \n",
       "2   0.133509          -0.059233 -1.948256   0.328798   -0.717207   \n",
       "3   0.938490           1.342078 -1.788499   0.328798    0.449677   \n",
       "4   0.938490           1.342078 -1.788499   0.328798    0.449677   \n",
       "\n",
       "   drive-wheels  engine-location     width    height  engine-type  \\\n",
       "0      1.213330        -0.121867 -0.844782 -2.020417    -2.865105   \n",
       "1      1.213330        -0.121867 -0.844782 -2.020417    -2.865105   \n",
       "2      1.213330        -0.121867 -0.190566 -0.543527     1.886890   \n",
       "3     -0.589081        -0.121867  0.136542  0.235942    -0.013908   \n",
       "4     -2.391492        -0.121867  0.230001  0.235942    -0.013908   \n",
       "\n",
       "   engine-size  horsepower  city-mpg  highway-mpg  \n",
       "0     0.074449    0.173309 -0.646553    -0.546059  \n",
       "1     0.074449    0.173309 -0.646553    -0.546059  \n",
       "2     0.604046    1.263761 -0.953012    -0.691627  \n",
       "3    -0.431076   -0.054925 -0.186865    -0.109354  \n",
       "4     0.218885    0.274747 -1.106241    -1.273900  "
      ]
     },
     "execution_count": 144,
     "metadata": {},
     "output_type": "execute_result"
    }
   ],
   "source": [
    "from sklearn.preprocessing import StandardScaler\n",
    "scaler=StandardScaler()\n",
    "features.iloc[:]=scaler.fit_transform(features.iloc[:])\n",
    "features.head()"
   ]
  },
  {
   "cell_type": "code",
   "execution_count": 145,
   "id": "06d04849-fb89-4714-940f-5331b3daae40",
   "metadata": {},
   "outputs": [],
   "source": [
    "from sklearn.model_selection import train_test_split\n",
    "xtrain, xtest, ytrain, ytest = train_test_split(\n",
    "    features, target, test_size=0.2, random_state=1)"
   ]
  },
  {
   "cell_type": "code",
   "execution_count": 146,
   "id": "e22436e6-d885-40c6-89de-74db15099fbd",
   "metadata": {},
   "outputs": [
    {
     "name": "stdout",
     "output_type": "stream",
     "text": [
      "(164, 14) (164,)\n"
     ]
    }
   ],
   "source": [
    "print(xtrain.shape,ytrain.shape)"
   ]
  },
  {
   "cell_type": "code",
   "execution_count": 147,
   "id": "316db7aa-d03e-41cc-80b1-e180b535b516",
   "metadata": {},
   "outputs": [
    {
     "name": "stdout",
     "output_type": "stream",
     "text": [
      "(41, 14) (41,)\n"
     ]
    }
   ],
   "source": [
    "print(xtest.shape,ytest.shape)"
   ]
  },
  {
   "cell_type": "code",
   "execution_count": 148,
   "id": "c5f0b31f-26e2-44bb-acc4-ad2e7f362145",
   "metadata": {},
   "outputs": [],
   "source": [
    "#sns.pairplot(df) # linearity not present"
   ]
  },
  {
   "cell_type": "code",
   "execution_count": 149,
   "id": "99f794c4-6ba1-465f-ba83-16ef15d0e5d4",
   "metadata": {},
   "outputs": [
    {
     "data": {
      "text/plain": [
       "<Axes: >"
      ]
     },
     "execution_count": 149,
     "metadata": {},
     "output_type": "execute_result"
    },
    {
     "data": {
      "image/png": "[encoded data removed]",
      "text/plain": [
       "<Figure size 640x480 with 2 Axes>"
      ]
     },
     "metadata": {},
     "output_type": "display_data"
    }
   ],
   "source": [
    "sns.heatmap(df[numerical_cols].corr(),annot=True) \n",
    "# multicollinearity present"
   ]
  },
  {
   "cell_type": "code",
   "execution_count": 150,
   "id": "3d36a156-159b-4cec-997a-c3a6191ee0de",
   "metadata": {},
   "outputs": [
    {
     "data": {
      "text/plain": [
       "'\\nNegatively Correlated Column\\nhighway-mpg         -0.679232\\ncity-mpg            -0.655077\\nPositively Correlated Column \\nwidth                0.720006\\nhorsepower           0.746189\\nengine-size          0.852845\\n'"
      ]
     },
     "execution_count": 150,
     "metadata": {},
     "output_type": "execute_result"
    }
   ],
   "source": [
    "df[numerical_cols].corr()[\"price\"].sort_values()\n",
    "\"\"\"\n",
    "Negatively Correlated Column\n",
    "highway-mpg         -0.679232\n",
    "city-mpg            -0.655077\n",
    "Positively Correlated Column \n",
    "width                0.720006\n",
    "horsepower           0.746189\n",
    "engine-size          0.852845\n",
    "\"\"\""
   ]
  },
  {
   "cell_type": "code",
   "execution_count": 151,
   "id": "a4b55f20-a6e8-4526-bc2f-b43efd830bec",
   "metadata": {},
   "outputs": [],
   "source": [
    "from sklearn.linear_model import LinearRegression\n",
    "lr=LinearRegression()\n",
    "lr.fit(xtrain,ytrain) #\n",
    "ypred=lr.predict(xtest)"
   ]
  },
  {
   "cell_type": "code",
   "execution_count": 152,
   "id": "cc08fbac-fc91-4634-b78d-839b1b2a947b",
   "metadata": {},
   "outputs": [
    {
     "data": {
      "text/html": [
       "<div>\n",
       "<style scoped>\n",
       "    .dataframe tbody tr th:only-of-type {\n",
       "        vertical-align: middle;\n",
       "    }\n",
       "\n",
       "    .dataframe tbody tr th {\n",
       "        vertical-align: top;\n",
       "    }\n",
       "\n",
       "    .dataframe thead th {\n",
       "        text-align: right;\n",
       "    }\n",
       "</style>\n",
       "<table border=\"1\" class=\"dataframe\">\n",
       "  <thead>\n",
       "    <tr style=\"text-align: right;\">\n",
       "      <th></th>\n",
       "      <th>Columns</th>\n",
       "      <th>Coefficient</th>\n",
       "    </tr>\n",
       "  </thead>\n",
       "  <tbody>\n",
       "    <tr>\n",
       "      <th>0</th>\n",
       "      <td>symboling</td>\n",
       "      <td>89.225507</td>\n",
       "    </tr>\n",
       "    <tr>\n",
       "      <th>1</th>\n",
       "      <td>normalized-losses</td>\n",
       "      <td>-200.774131</td>\n",
       "    </tr>\n",
       "    <tr>\n",
       "      <th>2</th>\n",
       "      <td>make</td>\n",
       "      <td>-1227.843551</td>\n",
       "    </tr>\n",
       "    <tr>\n",
       "      <th>3</th>\n",
       "      <td>fuel-type</td>\n",
       "      <td>-129.765163</td>\n",
       "    </tr>\n",
       "    <tr>\n",
       "      <th>4</th>\n",
       "      <td>body-style</td>\n",
       "      <td>-160.333110</td>\n",
       "    </tr>\n",
       "    <tr>\n",
       "      <th>5</th>\n",
       "      <td>drive-wheels</td>\n",
       "      <td>1135.400329</td>\n",
       "    </tr>\n",
       "    <tr>\n",
       "      <th>6</th>\n",
       "      <td>engine-location</td>\n",
       "      <td>1943.579677</td>\n",
       "    </tr>\n",
       "    <tr>\n",
       "      <th>7</th>\n",
       "      <td>width</td>\n",
       "      <td>1754.440061</td>\n",
       "    </tr>\n",
       "    <tr>\n",
       "      <th>8</th>\n",
       "      <td>height</td>\n",
       "      <td>722.350653</td>\n",
       "    </tr>\n",
       "    <tr>\n",
       "      <th>9</th>\n",
       "      <td>engine-type</td>\n",
       "      <td>345.927713</td>\n",
       "    </tr>\n",
       "    <tr>\n",
       "      <th>10</th>\n",
       "      <td>engine-size</td>\n",
       "      <td>4028.724383</td>\n",
       "    </tr>\n",
       "    <tr>\n",
       "      <th>11</th>\n",
       "      <td>horsepower</td>\n",
       "      <td>-528.387655</td>\n",
       "    </tr>\n",
       "    <tr>\n",
       "      <th>12</th>\n",
       "      <td>city-mpg</td>\n",
       "      <td>1384.868978</td>\n",
       "    </tr>\n",
       "    <tr>\n",
       "      <th>13</th>\n",
       "      <td>highway-mpg</td>\n",
       "      <td>-2304.686999</td>\n",
       "    </tr>\n",
       "  </tbody>\n",
       "</table>\n",
       "</div>"
      ],
      "text/plain": [
       "              Columns  Coefficient\n",
       "0           symboling    89.225507\n",
       "1   normalized-losses  -200.774131\n",
       "2                make -1227.843551\n",
       "3           fuel-type  -129.765163\n",
       "4          body-style  -160.333110\n",
       "5        drive-wheels  1135.400329\n",
       "6     engine-location  1943.579677\n",
       "7               width  1754.440061\n",
       "8              height   722.350653\n",
       "9         engine-type   345.927713\n",
       "10        engine-size  4028.724383\n",
       "11         horsepower  -528.387655\n",
       "12           city-mpg  1384.868978\n",
       "13        highway-mpg -2304.686999"
      ]
     },
     "execution_count": 152,
     "metadata": {},
     "output_type": "execute_result"
    }
   ],
   "source": [
    "f=pd.DataFrame({\"Columns\":xtrain.columns,\n",
    "                \"Coefficient\":lr.coef_})\n",
    "f"
   ]
  },
  {
   "cell_type": "code",
   "execution_count": 153,
   "id": "80d505ef-9f11-425e-a601-6af1b588cfcf",
   "metadata": {},
   "outputs": [
    {
     "data": {
      "text/plain": [
       "np.float64(12998.814172468834)"
      ]
     },
     "execution_count": 153,
     "metadata": {},
     "output_type": "execute_result"
    }
   ],
   "source": [
    "lr.intercept_"
   ]
  },
  {
   "cell_type": "code",
   "execution_count": 154,
   "id": "fd59376f-9a1a-4d2f-9fbc-9d5d69409cd8",
   "metadata": {},
   "outputs": [
    {
     "name": "stdout",
     "output_type": "stream",
     "text": [
      "MSE : 14173632.853311265\n",
      "R2 : 0.7391441035336072\n"
     ]
    }
   ],
   "source": [
    "from sklearn.metrics import mean_squared_error,r2_score\n",
    "mse=mean_squared_error(ytest,ypred)\n",
    "r2=r2_score(ytest,ypred)\n",
    "print(f\"MSE : {mse}\")\n",
    "print(f\"R2 : {r2}\")"
   ]
  },
  {
   "cell_type": "code",
   "execution_count": 155,
   "id": "e0a63184-c910-440b-b272-56c603435685",
   "metadata": {},
   "outputs": [
    {
     "data": {
      "text/plain": [
       "<Axes: ylabel='price'>"
      ]
     },
     "execution_count": 155,
     "metadata": {},
     "output_type": "execute_result"
    },
    {
     "data": {
      "image/png": "[encoded data removed]",
      "text/plain": [
       "<Figure size 640x480 with 1 Axes>"
      ]
     },
     "metadata": {},
     "output_type": "display_data"
    }
   ],
   "source": [
    "# homoscedascity\n",
    "sns.scatterplot(x=ypred,y=(ytest-ypred)) # funnel shape variance -- not satisfied"
   ]
  },
  {
   "cell_type": "code",
   "execution_count": 156,
   "id": "ff778858-08e2-4e77-8bac-cb32ef4a5250",
   "metadata": {},
   "outputs": [
    {
     "data": {
      "text/plain": [
       "<Axes: xlabel='price', ylabel='Density'>"
      ]
     },
     "execution_count": 156,
     "metadata": {},
     "output_type": "execute_result"
    },
    {
     "data": {
      "image/png": "[encoded data removed]",
      "text/plain": [
       "<Figure size 640x480 with 1 Axes>"
      ]
     },
     "metadata": {},
     "output_type": "display_data"
    }
   ],
   "source": [
    "# Normality of residuals -- not satisfied\n",
    "sns.kdeplot(ytest-ypred)"
   ]
  },
  {
   "cell_type": "code",
   "execution_count": 157,
   "id": "f213f64c-9b2c-4e6d-8d7c-05058a9bc2e0",
   "metadata": {},
   "outputs": [
    {
     "name": "stdout",
     "output_type": "stream",
     "text": [
      "(164, 120)\n",
      "MSE : 60212928.056478485\n",
      "R2 : -0.10817723935678525\n",
      "2 : traini_score 0.9875865579401472 \n",
      "         test_score -0.10817723935678525\n",
      "(164, 680)\n",
      "MSE : 61643562.26405504\n",
      "R2 : -0.13450707113634097\n",
      "3 : traini_score 0.9950522961444461 \n",
      "         test_score -0.13450707113634097\n",
      "(164, 3060)\n",
      "MSE : 112722018.17003424\n",
      "R2 : -1.0745706768025847\n",
      "4 : traini_score 0.9950522961444461 \n",
      "         test_score -1.0745706768025847\n",
      "(164, 11628)\n",
      "MSE : 196760728.9718817\n",
      "R2 : -2.6212449466228587\n",
      "5 : traini_score 0.9950522961444461 \n",
      "         test_score -2.6212449466228587\n",
      "(164, 38760)\n",
      "MSE : 369620895.1242118\n",
      "R2 : -5.802616587307154\n",
      "6 : traini_score 0.9950522961444461 \n",
      "         test_score -5.802616587307154\n",
      "(164, 116280)\n",
      "MSE : 1444280473.7790082\n",
      "R2 : -25.580981858050105\n",
      "7 : traini_score 0.9950522961444461 \n",
      "         test_score -25.580981858050105\n"
     ]
    }
   ],
   "source": [
    "# Hyperparameter tuning to know the right degree\n",
    "from sklearn.preprocessing import PolynomialFeatures\n",
    "for i in range(2,8):\n",
    "    poly = PolynomialFeatures(degree=i)\n",
    "    xtrainp=poly.fit_transform(xtrain)\n",
    "    xtestp=poly.transform(xtest)\n",
    "    print(xtrainp.shape)\n",
    "    l=LinearRegression()\n",
    "    l.fit(xtrainp,ytrain)\n",
    "    ypred=l.predict(xtestp)\n",
    "    mse=mean_squared_error(ytest,ypred)\n",
    "    r2=r2_score(ytest,ypred)\n",
    "    print(f\"MSE : {mse}\")\n",
    "    print(f\"R2 : {r2}\")\n",
    "    print(f\"\"\"{i} : traini_score {l.score(xtrainp,ytrain)} \n",
    "         test_score {l.score(xtestp,ytest)}\"\"\")"
   ]
  },
  {
   "cell_type": "code",
   "execution_count": 158,
   "id": "8795bbc1-9205-407b-ad61-2de351dfe1e8",
   "metadata": {},
   "outputs": [],
   "source": [
    "# Since polynomial regression is giving R2-score of -ve number, \n",
    "# that means the model didnt learned anything with higher degree than 1. \n",
    "# So, going ahead with Linear Regression Model."
   ]
  },
  {
   "cell_type": "code",
   "execution_count": 159,
   "id": "6be923dc-48d6-44ca-97a1-969f64351a4d",
   "metadata": {},
   "outputs": [
    {
     "name": "stdout",
     "output_type": "stream",
     "text": [
      "Accurate Training Score :  0.8573114444550021\n",
      "Accurate Testing Score :  0.7391441035336072\n"
     ]
    },
    {
     "data": {
      "text/plain": [
       "'\\ngeneralization\\n'"
      ]
     },
     "execution_count": 159,
     "metadata": {},
     "output_type": "execute_result"
    }
   ],
   "source": [
    "# Overfitting underfitting check\n",
    "print(\"Accurate Training Score : \",lr.score(xtrain,ytrain))\n",
    "print(\"Accurate Testing Score : \",lr.score(xtest,ytest))\n",
    "\n",
    "# Training Score > Testing Score - Overfitting\n",
    "# So to deal with overftting  - Apply Regularization.\n",
    "'''\n",
    "generalization\n",
    "'''\n",
    "# There are 2 types of Regularization --\n",
    "# 1. Lasso (L1 Regularization) : Loss = Original Loss i.e. MSE+lambda*(sum(abs(slope)))\n",
    "# 2. Ridge (L2 Regularization) : Loss = Original Loss i.e. MSE+lambda*(sum(slope**2))"
   ]
  },
  {
   "cell_type": "code",
   "execution_count": 160,
   "id": "cc79bec3-3080-4c3d-95a7-054f2972c1b2",
   "metadata": {},
   "outputs": [],
   "source": [
    "from sklearn.linear_model import Lasso,Ridge"
   ]
  },
  {
   "cell_type": "code",
   "execution_count": 161,
   "id": "7e18b17d-3a36-4ea6-a377-7e28035bcaca",
   "metadata": {},
   "outputs": [
    {
     "name": "stdout",
     "output_type": "stream",
     "text": [
      "200 : traini_score 0.849368670660755 :test_score 0.7582336863184987\n",
      "201 : traini_score 0.8493276108519527 :test_score 0.7582116304680293\n",
      "202 : traini_score 0.8492863462239943 :test_score 0.7581893949993024\n",
      "203 : traini_score 0.8492448767876 :test_score 0.758166980036934\n",
      "204 : traini_score 0.8492032025427696 :test_score 0.7581443855809238\n",
      "205 : traini_score 0.8491613234572766 :test_score 0.7581216112006952\n",
      "206 : traini_score 0.8491192392390849 :test_score 0.7580986530169339\n",
      "207 : traini_score 0.849076950208916 :test_score 0.7580755153335628\n",
      "208 : traini_score 0.8490344562980539 :test_score 0.7580521982804533\n",
      "209 : traini_score 0.8489917573460003 :test_score 0.7580287021552734\n",
      "210 : traini_score 0.8489488535791267 :test_score 0.7580050265266527\n",
      "211 : traini_score 0.8489057449974332 :test_score 0.7579811713945912\n",
      "212 : traini_score 0.8488624316009195 :test_score 0.7579571367590888\n",
      "213 : traini_score 0.8488189133895859 :test_score 0.7579329226201454\n",
      "214 : traini_score 0.8487751903634322 :test_score 0.7579085289777612\n",
      "215 : traini_score 0.8487312625224585 :test_score 0.7578839558319361\n",
      "216 : traini_score 0.8486871298666647 :test_score 0.7578592031826702\n",
      "217 : traini_score 0.8486427923960509 :test_score 0.7578342710299633\n",
      "218 : traini_score 0.8485982501106171 :test_score 0.7578091593738155\n",
      "219 : traini_score 0.8485535030103631 :test_score 0.7577838682142269\n",
      "220 : traini_score 0.8485085510952892 :test_score 0.7577583975511974\n",
      "221 : traini_score 0.8484633943653953 :test_score 0.757732747384727\n",
      "222 : traini_score 0.8484180328206814 :test_score 0.7577069177148158\n",
      "223 : traini_score 0.8483724664611474 :test_score 0.7576809085414636\n",
      "224 : traini_score 0.8483266952867933 :test_score 0.7576547198646707\n",
      "225 : traini_score 0.8482807192976192 :test_score 0.7576283516844368\n",
      "226 : traini_score 0.8482345384936251 :test_score 0.7576018040007622\n",
      "227 : traini_score 0.848188152874811 :test_score 0.7575750768136464\n",
      "228 : traini_score 0.8481415624411768 :test_score 0.75754817012309\n",
      "229 : traini_score 0.8480947671927226 :test_score 0.7575210839290926\n",
      "230 : traini_score 0.8480477671294484 :test_score 0.7574938182316542\n",
      "231 : traini_score 0.848000562251354 :test_score 0.757466373030775\n",
      "232 : traini_score 0.8479531525584397 :test_score 0.7574387483264551\n",
      "233 : traini_score 0.8479055380507053 :test_score 0.757410944118694\n",
      "234 : traini_score 0.847857718728151 :test_score 0.7573829604074923\n",
      "235 : traini_score 0.8478096945907766 :test_score 0.7573547971928497\n",
      "236 : traini_score 0.8477614656385821 :test_score 0.7573264544747661\n",
      "237 : traini_score 0.8477130318715677 :test_score 0.7572979322532417\n",
      "238 : traini_score 0.8476643932897331 :test_score 0.7572692305282764\n",
      "239 : traini_score 0.8476155498930785 :test_score 0.7572403492998702\n",
      "240 : traini_score 0.847566501681604 :test_score 0.7572112885680231\n",
      "241 : traini_score 0.8475172486553093 :test_score 0.7571820483327352\n",
      "242 : traini_score 0.8474677908141947 :test_score 0.7571526285940064\n",
      "243 : traini_score 0.84741812815826 :test_score 0.7571230293518367\n",
      "244 : traini_score 0.8473682606875053 :test_score 0.7570932506062262\n",
      "245 : traini_score 0.8473181884019305 :test_score 0.7570632923571746\n",
      "246 : traini_score 0.8472679113015357 :test_score 0.7570331546046825\n",
      "247 : traini_score 0.8472174293863208 :test_score 0.7570028373487492\n",
      "248 : traini_score 0.847166742656286 :test_score 0.756972340589375\n",
      "249 : traini_score 0.8471158511114312 :test_score 0.7569416643265601\n",
      "250 : traini_score 0.8470647547517562 :test_score 0.7569108085603042\n",
      "251 : traini_score 0.8470134535772613 :test_score 0.7568797732906074\n",
      "252 : traini_score 0.8469619475879462 :test_score 0.7568485585174699\n",
      "253 : traini_score 0.8469102367838113 :test_score 0.7568171642408914\n",
      "254 : traini_score 0.8468583211648562 :test_score 0.756785590460872\n",
      "255 : traini_score 0.846806200731081 :test_score 0.7567538371774118\n",
      "256 : traini_score 0.8467538908040655 :test_score 0.7567236998584473\n",
      "257 : traini_score 0.8467013608662212 :test_score 0.7566915809710794\n",
      "258 : traini_score 0.8466486261138276 :test_score 0.7566592825791612\n",
      "259 : traini_score 0.846595686546885 :test_score 0.7566268046826925\n",
      "260 : traini_score 0.846542542165393 :test_score 0.7565941472816735\n",
      "261 : traini_score 0.8464891929896612 :test_score 0.756561309924308\n",
      "262 : traini_score 0.8464356393773723 :test_score 0.7565282846879017\n",
      "263 : traini_score 0.846381880953372 :test_score 0.7564950799490225\n",
      "264 : traini_score 0.8463279177176601 :test_score 0.7564616957076706\n",
      "265 : traini_score 0.8462737496702369 :test_score 0.7564281319638462\n",
      "266 : traini_score 0.8462193768111023 :test_score 0.7563943887175489\n",
      "267 : traini_score 0.8461647991402562 :test_score 0.756360465968779\n",
      "268 : traini_score 0.8461100166576987 :test_score 0.7563263637175365\n",
      "269 : traini_score 0.8460550293634298 :test_score 0.7562920819638212\n",
      "270 : traini_score 0.8459998372574494 :test_score 0.7562576207076332\n",
      "271 : traini_score 0.8459444403397576 :test_score 0.7562229799489725\n",
      "272 : traini_score 0.8458888386103544 :test_score 0.7561881596878393\n",
      "273 : traini_score 0.8458330320692397 :test_score 0.756153159924233\n",
      "274 : traini_score 0.8457770207164137 :test_score 0.7561179806581544\n",
      "275 : traini_score 0.8457208045518761 :test_score 0.7560826218896028\n",
      "276 : traini_score 0.8456643835756272 :test_score 0.7560470836185788\n",
      "277 : traini_score 0.8456077577763457 :test_score 0.7560113657987843\n",
      "278 : traini_score 0.8455509271624597 :test_score 0.755975468464926\n",
      "279 : traini_score 0.8454938917367589 :test_score 0.7559393916284395\n",
      "280 : traini_score 0.8454366514992433 :test_score 0.7559031352893247\n",
      "281 : traini_score 0.845379206449913 :test_score 0.7558666994475819\n",
      "282 : traini_score 0.8453215565887681 :test_score 0.7558300841032108\n",
      "283 : traini_score 0.8452637019158082 :test_score 0.7557932892562114\n",
      "284 : traini_score 0.8452056424310338 :test_score 0.7557563149065839\n",
      "285 : traini_score 0.8451473781344445 :test_score 0.7557191610543281\n",
      "286 : traini_score 0.8450889090260405 :test_score 0.7556818276994441\n",
      "287 : traini_score 0.8450302351058219 :test_score 0.755644314841932\n",
      "288 : traini_score 0.8449713563737884 :test_score 0.7556066224817914\n",
      "289 : traini_score 0.8449122728299401 :test_score 0.7555687506190228\n",
      "290 : traini_score 0.8448529844742771 :test_score 0.7555306992536258\n",
      "291 : traini_score 0.8447934913067995 :test_score 0.7554924683856008\n",
      "292 : traini_score 0.844733793327507 :test_score 0.7554540580149474\n",
      "293 : traini_score 0.8446738905363999 :test_score 0.7554154681416658\n",
      "294 : traini_score 0.8446137829334779 :test_score 0.7553766987657559\n",
      "295 : traini_score 0.8445534705187412 :test_score 0.755337749887218\n",
      "296 : traini_score 0.8444929532921899 :test_score 0.7552986215060518\n",
      "297 : traini_score 0.8444322312538237 :test_score 0.7552593136222574\n",
      "298 : traini_score 0.8443713059428465 :test_score 0.7552198169994067\n",
      "299 : traini_score 0.8443101760866105 :test_score 0.7551801393529791\n",
      "300 : traini_score 0.8442488414303189 :test_score 0.7551402822179833\n",
      "301 : traini_score 0.8441873019739713 :test_score 0.7551002455944194\n",
      "302 : traini_score 0.8441255577175679 :test_score 0.7550600294822866\n",
      "303 : traini_score 0.8440636086611087 :test_score 0.7550196338815857\n",
      "304 : traini_score 0.8440014548045938 :test_score 0.7549790587923164\n",
      "305 : traini_score 0.843939096148023 :test_score 0.7549383042144786\n",
      "306 : traini_score 0.8438765326913964 :test_score 0.7548973701480725\n",
      "307 : traini_score 0.8438137038178245 :test_score 0.7548580267695969\n",
      "308 : traini_score 0.8437507354298661 :test_score 0.7548167220475973\n",
      "309 : traini_score 0.8436875616184216 :test_score 0.7547752377332004\n",
      "310 : traini_score 0.8436241829849797 :test_score 0.7547335739539618\n",
      "311 : traini_score 0.8435605995778699 :test_score 0.7546917307203583\n",
      "312 : traini_score 0.8434968113970923 :test_score 0.75464970803239\n",
      "313 : traini_score 0.8434328184405284 :test_score 0.7546075059228302\n",
      "314 : traini_score 0.843368620701119 :test_score 0.7545651245002502\n",
      "315 : traini_score 0.8433042181879766 :test_score 0.7545225636232529\n",
      "316 : traini_score 0.8432396109011014 :test_score 0.7544798232918379\n",
      "317 : traini_score 0.8431747988404935 :test_score 0.7544369035060059\n",
      "318 : traini_score 0.8431097820061526 :test_score 0.7543938042657564\n",
      "319 : traini_score 0.8430445649642467 :test_score 0.7543505203785974\n",
      "320 : traini_score 0.8429791475461861 :test_score 0.7543070521400759\n",
      "321 : traini_score 0.8429135254095821 :test_score 0.7542634045217413\n",
      "322 : traini_score 0.8428476985544344 :test_score 0.754219577523594\n",
      "323 : traini_score 0.8427816669748067 :test_score 0.7541755711666437\n",
      "324 : traini_score 0.842715430659662 :test_score 0.7541313854895407\n",
      "325 : traini_score 0.8426489896258371 :test_score 0.7540870204324543\n",
      "326 : traini_score 0.8425823438733321 :test_score 0.7540424759953848\n",
      "327 : traini_score 0.8425154934021469 :test_score 0.7539977521783316\n",
      "328 : traini_score 0.8424484382122817 :test_score 0.7539528489812952\n",
      "329 : traini_score 0.8423811783037363 :test_score 0.7539077664042755\n",
      "330 : traini_score 0.8423137136765106 :test_score 0.7538625044472724\n",
      "331 : traini_score 0.8422460578435949 :test_score 0.7538170605058055\n",
      "332 : traini_score 0.8421782002722537 :test_score 0.7537714367509047\n",
      "333 : traini_score 0.8421101380801695 :test_score 0.7537256337517269\n",
      "334 : traini_score 0.8420418712673424 :test_score 0.753679651508272\n",
      "335 : traini_score 0.8419733998337725 :test_score 0.7536334900205397\n",
      "336 : traini_score 0.8419047237794595 :test_score 0.7535871492885302\n",
      "337 : traini_score 0.841835868600072 :test_score 0.7535406409094987\n",
      "338 : traini_score 0.8417668110027132 :test_score 0.7534939544371582\n",
      "339 : traini_score 0.8417024143675975 :test_score 0.7534501778172669\n",
      "340 : traini_score 0.8416412667823895 :test_score 0.7534063405644698\n",
      "341 : traini_score 0.841579898252286 :test_score 0.7533626723410031\n",
      "342 : traini_score 0.8415183494983658 :test_score 0.7533188549113607\n",
      "343 : traini_score 0.8414566205206291 :test_score 0.7532748882755425\n",
      "344 : traini_score 0.8413947113190756 :test_score 0.7532307724335486\n",
      "345 : traini_score 0.8413326218760016 :test_score 0.7531865074342821\n",
      "346 : traini_score 0.8412703522039058 :test_score 0.7531420932428664\n",
      "347 : traini_score 0.8412079023078616 :test_score 0.7530975298452446\n",
      "348 : traini_score 0.8411452721878689 :test_score 0.7530528172414166\n",
      "349 : traini_score 0.841082461843928 :test_score 0.7530079554313825\n",
      "350 : traini_score 0.8410194712760385 :test_score 0.7529629444151422\n",
      "351 : traini_score 0.8409563004842006 :test_score 0.7529177841926957\n",
      "352 : traini_score 0.8408929494684143 :test_score 0.7528724747640431\n",
      "353 : traini_score 0.8408294182286794 :test_score 0.7528270161291842\n",
      "354 : traini_score 0.8407657067649962 :test_score 0.7527814082881191\n",
      "355 : traini_score 0.8407018150773645 :test_score 0.7527356512408481\n",
      "356 : traini_score 0.8406377431657844 :test_score 0.7526897449873706\n",
      "357 : traini_score 0.8405734910302558 :test_score 0.7526436895276871\n",
      "358 : traini_score 0.8405090586707789 :test_score 0.7525974848617974\n",
      "359 : traini_score 0.8404444460873535 :test_score 0.7525511309897015\n",
      "360 : traini_score 0.8403796532799797 :test_score 0.7525046279113994\n",
      "361 : traini_score 0.8403146802486573 :test_score 0.7524579756268912\n",
      "362 : traini_score 0.8402495269933865 :test_score 0.7524111741361768\n",
      "363 : traini_score 0.8401841935141674 :test_score 0.7523642234392562\n",
      "364 : traini_score 0.8401186798109997 :test_score 0.7523171235361296\n",
      "365 : traini_score 0.8400529858838837 :test_score 0.7522698744267965\n",
      "366 : traini_score 0.8399871117328191 :test_score 0.7522224761112574\n",
      "367 : traini_score 0.8399210573578062 :test_score 0.752174928589512\n",
      "368 : traini_score 0.8398548227588449 :test_score 0.7521272318615605\n",
      "369 : traini_score 0.8397884079359351 :test_score 0.7520793859274029\n",
      "370 : traini_score 0.8397218128890769 :test_score 0.7520313907870391\n",
      "371 : traini_score 0.8396550376182702 :test_score 0.7519832464404691\n",
      "372 : traini_score 0.8395880821235151 :test_score 0.7519349528876929\n",
      "373 : traini_score 0.8395209464048115 :test_score 0.7518865101287104\n",
      "374 : traini_score 0.8394536304621595 :test_score 0.751837918163522\n",
      "375 : traini_score 0.8393861342955591 :test_score 0.7517891769921273\n",
      "376 : traini_score 0.8393184579050101 :test_score 0.7517402866145264\n",
      "377 : traini_score 0.8392506012905129 :test_score 0.7516912470307193\n",
      "378 : traini_score 0.8391825644520671 :test_score 0.7516420582407062\n",
      "379 : traini_score 0.8391143473896729 :test_score 0.7515927202444866\n",
      "380 : traini_score 0.8390459501033303 :test_score 0.751543233042061\n",
      "381 : traini_score 0.8389773725930392 :test_score 0.7514935966334293\n",
      "382 : traini_score 0.8389086148587998 :test_score 0.7514438110185914\n",
      "383 : traini_score 0.8388396769006117 :test_score 0.7513938761975473\n",
      "384 : traini_score 0.8387705587184754 :test_score 0.7513437921702969\n",
      "385 : traini_score 0.8387012603123906 :test_score 0.7512935589368405\n",
      "386 : traini_score 0.8386317816823573 :test_score 0.7512431764971779\n",
      "387 : traini_score 0.8385621228283756 :test_score 0.751192644851309\n",
      "388 : traini_score 0.8384922837504455 :test_score 0.751141963999234\n",
      "389 : traini_score 0.8384222644485669 :test_score 0.7510911339409527\n",
      "390 : traini_score 0.8383520646877207 :test_score 0.7510401548970529\n",
      "391 : traini_score 0.8382816826564902 :test_score 0.7509890285570421\n",
      "392 : traini_score 0.8382111164497276 :test_score 0.7509377560254534\n",
      "393 : traini_score 0.8381403694228942 :test_score 0.7508863345784862\n",
      "394 : traini_score 0.8380694382406767 :test_score 0.7508347640259123\n",
      "395 : traini_score 0.8379983251341212 :test_score 0.7507830430696584\n",
      "396 : traini_score 0.8379270286020624 :test_score 0.7507311699360069\n",
      "397 : traini_score 0.8378555503938429 :test_score 0.7506791356289565\n",
      "398 : traini_score 0.8377849892676837 :test_score 0.7506265321205177\n",
      "399 : traini_score 0.8377255734654564 :test_score 0.7505686157054681\n",
      "400 : traini_score 0.8376660085731332 :test_score 0.7505105591538178\n",
      "401 : traini_score 0.8376062945907141 :test_score 0.750452362465567\n",
      "402 : traini_score 0.8375464315181992 :test_score 0.7503940256407152\n",
      "403 : traini_score 0.8374864193555883 :test_score 0.7503355486792629\n",
      "404 : traini_score 0.8374262581028815 :test_score 0.7502769315812099\n",
      "405 : traini_score 0.8373659477600788 :test_score 0.7502181743465561\n",
      "406 : traini_score 0.8373054883271802 :test_score 0.7501592769753018\n",
      "407 : traini_score 0.8372448798041856 :test_score 0.7501002394674465\n",
      "408 : traini_score 0.8371841221910952 :test_score 0.7500410618229909\n",
      "409 : traini_score 0.8371232154879088 :test_score 0.7499817440419343\n",
      "410 : traini_score 0.8370621596946266 :test_score 0.7499222861242771\n",
      "411 : traini_score 0.8370009548112485 :test_score 0.7498626880700194\n",
      "412 : traini_score 0.8369396008377743 :test_score 0.7498029498791607\n",
      "413 : traini_score 0.8368780977742043 :test_score 0.7497430715517015\n",
      "414 : traini_score 0.8368164456205385 :test_score 0.7496830530876415\n",
      "415 : traini_score 0.8367546443767767 :test_score 0.7496228944869808\n",
      "416 : traini_score 0.8366926940339598 :test_score 0.7495625957743446\n",
      "417 : traini_score 0.8366305942837968 :test_score 0.7495021577944776\n",
      "418 : traini_score 0.8365683454419771 :test_score 0.7494415796771665\n",
      "419 : traini_score 0.8365059475085008 :test_score 0.7493808614224113\n",
      "420 : traini_score 0.8364434004833681 :test_score 0.7493200030302121\n",
      "421 : traini_score 0.8363807043665786 :test_score 0.7492590045005688\n",
      "422 : traini_score 0.8363178591581327 :test_score 0.7491978658334815\n",
      "423 : traini_score 0.8362548648580304 :test_score 0.7491365870289503\n",
      "424 : traini_score 0.8361917214662714 :test_score 0.7490751680869748\n",
      "425 : traini_score 0.8361284289828559 :test_score 0.7490136090075554\n",
      "426 : traini_score 0.8360649874077838 :test_score 0.7489519097906919\n",
      "427 : traini_score 0.8360013967410552 :test_score 0.7488900704363844\n",
      "428 : traini_score 0.83593765698267 :test_score 0.7488280909446329\n",
      "429 : traini_score 0.8358737681326284 :test_score 0.7487659713154373\n",
      "430 : traini_score 0.8358097301909301 :test_score 0.7487037115487976\n",
      "431 : traini_score 0.8357455431575753 :test_score 0.7486413116447138\n",
      "432 : traini_score 0.835681207032564 :test_score 0.7485787716031862\n",
      "433 : traini_score 0.8356167218158961 :test_score 0.7485160914242143\n",
      "434 : traini_score 0.8355520875075717 :test_score 0.7484532711077985\n",
      "435 : traini_score 0.8354873041075908 :test_score 0.7483903106539386\n",
      "436 : traini_score 0.8354223716159532 :test_score 0.7483272100626346\n",
      "437 : traini_score 0.8353572900326591 :test_score 0.7482639693338866\n",
      "438 : traini_score 0.8352920593577086 :test_score 0.7482005884676947\n",
      "439 : traini_score 0.8352266795911014 :test_score 0.7481370674640586\n",
      "440 : traini_score 0.8351611507328377 :test_score 0.7480734063229785\n",
      "441 : traini_score 0.8350954727829175 :test_score 0.7480096050444542\n",
      "442 : traini_score 0.8350296457413408 :test_score 0.747945663628486\n",
      "443 : traini_score 0.8349636696081074 :test_score 0.7478815820750738\n",
      "444 : traini_score 0.8348975443832175 :test_score 0.7478173603842176\n",
      "445 : traini_score 0.8348312700666711 :test_score 0.7477529985559173\n",
      "446 : traini_score 0.8347648466584682 :test_score 0.7476884965901729\n",
      "447 : traini_score 0.8346982741586086 :test_score 0.7476238544869844\n",
      "448 : traini_score 0.8346315525670926 :test_score 0.7475590722463519\n",
      "449 : traini_score 0.8345646818839201 :test_score 0.7474941498682754\n",
      "450 : traini_score 0.8344976621090909 :test_score 0.7474290873527549\n",
      "451 : traini_score 0.8344304932426052 :test_score 0.7473638846997903\n",
      "452 : traini_score 0.834363175284463 :test_score 0.7472985419093816\n",
      "453 : traini_score 0.8342957082346643 :test_score 0.7472330589815288\n",
      "454 : traini_score 0.8342280920932089 :test_score 0.7471674359162321\n",
      "455 : traini_score 0.8341603268600971 :test_score 0.7471016727134914\n",
      "456 : traini_score 0.8340924124431128 :test_score 0.7470357696625146\n",
      "457 : traini_score 0.8340243488479984 :test_score 0.7469697267430709\n",
      "458 : traini_score 0.833956136160448 :test_score 0.7469035436856977\n",
      "459 : traini_score 0.833887774380462 :test_score 0.7468372204903947\n",
      "460 : traini_score 0.8338192635080401 :test_score 0.746770757157162\n",
      "461 : traini_score 0.8337506035431828 :test_score 0.7467041536859997\n",
      "462 : traini_score 0.8336817944858895 :test_score 0.746637410076908\n",
      "463 : traini_score 0.8336128363361606 :test_score 0.7465705263298865\n",
      "464 : traini_score 0.833543729093996 :test_score 0.7465035024449354\n",
      "465 : traini_score 0.8334744728042739 :test_score 0.7464363383422326\n",
      "466 : traini_score 0.8334050677203123 :test_score 0.7463690335730859\n",
      "467 : traini_score 0.8333355135453846 :test_score 0.7463015886666975\n",
      "468 : traini_score 0.8332658102794906 :test_score 0.7462340036230668\n",
      "469 : traini_score 0.8331959579226306 :test_score 0.7461662784421944\n",
      "470 : traini_score 0.8331259564748043 :test_score 0.74609841312408\n",
      "471 : traini_score 0.8330558059360118 :test_score 0.7460304076687234\n",
      "472 : traini_score 0.8329855063062532 :test_score 0.7459622620761249\n",
      "473 : traini_score 0.8329150575855284 :test_score 0.7458939763462846\n",
      "474 : traini_score 0.8328444597738374 :test_score 0.7458255504792023\n",
      "475 : traini_score 0.8327737128711803 :test_score 0.7457569844748779\n",
      "476 : traini_score 0.832702816877557 :test_score 0.7456882783333116\n",
      "477 : traini_score 0.8326317717929675 :test_score 0.7456194320545033\n",
      "478 : traini_score 0.8325605776174119 :test_score 0.7455504456384532\n",
      "479 : traini_score 0.8324892343508901 :test_score 0.7454813190851608\n",
      "480 : traini_score 0.8324177419934021 :test_score 0.7454120523946266\n",
      "481 : traini_score 0.832346100544948 :test_score 0.7453426455668504\n",
      "482 : traini_score 0.8322743100055275 :test_score 0.7452730986018324\n",
      "483 : traini_score 0.8322023703751411 :test_score 0.7452034114995723\n",
      "484 : traini_score 0.8321302816537884 :test_score 0.7451335842600701\n",
      "485 : traini_score 0.8320580438414695 :test_score 0.745063616883326\n",
      "486 : traini_score 0.8319856569381845 :test_score 0.74499350936934\n",
      "487 : traini_score 0.8319131209439333 :test_score 0.744923261718112\n",
      "488 : traini_score 0.831840435858716 :test_score 0.7448528739296421\n",
      "489 : traini_score 0.8317676016825325 :test_score 0.74478234600393\n",
      "490 : traini_score 0.8316946184153828 :test_score 0.7447116779409761\n",
      "491 : traini_score 0.8316214860572669 :test_score 0.7446408697407801\n",
      "492 : traini_score 0.8315482046081849 :test_score 0.7445699214033423\n",
      "493 : traini_score 0.8314747740681367 :test_score 0.7444988329286625\n",
      "494 : traini_score 0.8314011944371223 :test_score 0.7444276043167407\n",
      "495 : traini_score 0.8313274657151417 :test_score 0.7443562355675768\n",
      "496 : traini_score 0.831253587902195 :test_score 0.744284726681171\n",
      "497 : traini_score 0.831179560998282 :test_score 0.7442130776575232\n",
      "498 : traini_score 0.831105385003403 :test_score 0.7441412884966335\n",
      "499 : traini_score 0.8310310599175578 :test_score 0.7440693591985018\n",
      "500 : traini_score 0.8309565857407464 :test_score 0.7439972897631282\n",
      "501 : traini_score 0.8308819624729689 :test_score 0.7439250801905126\n",
      "502 : traini_score 0.8308071901142251 :test_score 0.7438527304806549\n",
      "503 : traini_score 0.8307322686645151 :test_score 0.7437802406335553\n",
      "504 : traini_score 0.830657198340134 :test_score 0.7437076104796432\n",
      "505 : traini_score 0.8305819789485526 :test_score 0.7436348401346817\n",
      "506 : traini_score 0.8305066102954723 :test_score 0.7435619296681758\n",
      "507 : traini_score 0.8304310925516963 :test_score 0.7434888790646077\n",
      "508 : traini_score 0.8303554257172248 :test_score 0.7434156883239774\n",
      "509 : traini_score 0.8302796097920575 :test_score 0.743342357446285\n",
      "510 : traini_score 0.8302036447761947 :test_score 0.7432688864315304\n",
      "511 : traini_score 0.8301275306696363 :test_score 0.7431952752797136\n",
      "512 : traini_score 0.8300512674723821 :test_score 0.7431215239908346\n",
      "513 : traini_score 0.8299748551844325 :test_score 0.7430476325648935\n",
      "514 : traini_score 0.8298982938057871 :test_score 0.7429736010018901\n",
      "515 : traini_score 0.8298215833364462 :test_score 0.7428994293018247\n",
      "516 : traini_score 0.8297447237764096 :test_score 0.7428251174646971\n",
      "517 : traini_score 0.8296677151256775 :test_score 0.7427506654905074\n",
      "518 : traini_score 0.8295905573842497 :test_score 0.7426760733792553\n",
      "519 : traini_score 0.8295132505521263 :test_score 0.7426013411309412\n",
      "520 : traini_score 0.8294357946293073 :test_score 0.7425264687455649\n",
      "521 : traini_score 0.8293581896157927 :test_score 0.7424514562231264\n",
      "522 : traini_score 0.8292804355115824 :test_score 0.7423763035636257\n",
      "523 : traini_score 0.8292025323166765 :test_score 0.7423010107670629\n",
      "524 : traini_score 0.8291244800310751 :test_score 0.7422255778334379\n",
      "525 : traini_score 0.829046278654778 :test_score 0.7421500047627507\n",
      "526 : traini_score 0.8289679281877852 :test_score 0.7420742915550014\n",
      "527 : traini_score 0.8288894286300968 :test_score 0.7419984382101898\n",
      "528 : traini_score 0.8288107799817128 :test_score 0.7419224447283161\n",
      "529 : traini_score 0.8287319822426333 :test_score 0.7418463111093804\n",
      "530 : traini_score 0.8286530354128581 :test_score 0.7417700373533824\n",
      "531 : traini_score 0.8285739398913126 :test_score 0.7416936233173697\n",
      "532 : traini_score 0.8284946956371761 :test_score 0.7416170690174092\n",
      "533 : traini_score 0.8284153022951848 :test_score 0.7415403745812525\n",
      "534 : traini_score 0.8283357598653385 :test_score 0.7414635400088994\n",
      "535 : traini_score 0.8282560683476371 :test_score 0.7413865653003497\n",
      "536 : traini_score 0.8281762277420808 :test_score 0.7413094504556034\n",
      "537 : traini_score 0.8280962380486696 :test_score 0.7412321954746608\n",
      "538 : traini_score 0.8280160992674035 :test_score 0.7411548003575219\n",
      "539 : traini_score 0.8279358113982823 :test_score 0.7410772651041863\n",
      "540 : traini_score 0.8278553744413062 :test_score 0.7409995897146542\n",
      "541 : traini_score 0.8277747883964752 :test_score 0.7409217741889256\n",
      "542 : traini_score 0.8276940531375953 :test_score 0.7408438187957586\n",
      "543 : traini_score 0.8276131687754368 :test_score 0.7407657232979167\n",
      "544 : traini_score 0.8275321353249038 :test_score 0.7406874876635849\n",
      "545 : traini_score 0.8274509527859961 :test_score 0.7406091118927632\n",
      "546 : traini_score 0.8273696211587138 :test_score 0.7405305959854516\n",
      "547 : traini_score 0.8272881404430569 :test_score 0.74045193994165\n",
      "548 : traini_score 0.8272065106390254 :test_score 0.7403731437613585\n",
      "549 : traini_score 0.8271247317466193 :test_score 0.7402942074445771\n",
      "550 : traini_score 0.8270428037658386 :test_score 0.7402151309913056\n",
      "551 : traini_score 0.8269607266966832 :test_score 0.7401359144015445\n",
      "552 : traini_score 0.8268785005391532 :test_score 0.7400565576752932\n",
      "553 : traini_score 0.8267961252932488 :test_score 0.7399770608125522\n",
      "554 : traini_score 0.8267136009589696 :test_score 0.7398974238133211\n",
      "555 : traini_score 0.8266309275363157 :test_score 0.7398176466776001\n",
      "556 : traini_score 0.8265481050138246 :test_score 0.7397377292978233\n",
      "557 : traini_score 0.82646513336834 :test_score 0.7396576714577913\n",
      "558 : traini_score 0.8263820126343147 :test_score 0.7395774734814604\n",
      "559 : traini_score 0.8262987428117482 :test_score 0.7394971353688311\n",
      "560 : traini_score 0.8262153239006408 :test_score 0.7394166571199032\n",
      "561 : traini_score 0.8261317559009925 :test_score 0.7393360387346767\n",
      "562 : traini_score 0.8260480388128033 :test_score 0.7392552802131516\n",
      "563 : traini_score 0.8259641726360731 :test_score 0.7391743815553278\n",
      "564 : traini_score 0.825880157370802 :test_score 0.7390933427612055\n",
      "565 : traini_score 0.8257959930535643 :test_score 0.7390121638393302\n",
      "566 : traini_score 0.8257116805933836 :test_score 0.7389308450020704\n",
      "567 : traini_score 0.8256272190481302 :test_score 0.7388493860292773\n",
      "568 : traini_score 0.8255426084178042 :test_score 0.7387677869209504\n",
      "569 : traini_score 0.8254578487024056 :test_score 0.7386860476770899\n",
      "570 : traini_score 0.8253729399019342 :test_score 0.7386041682976958\n",
      "571 : traini_score 0.8252878820163903 :test_score 0.7385221487827682\n",
      "572 : traini_score 0.8252026750457736 :test_score 0.7384399891323072\n",
      "573 : traini_score 0.8251173189900844 :test_score 0.7383576893463124\n",
      "574 : traini_score 0.8250318138493224 :test_score 0.738275249424784\n",
      "575 : traini_score 0.8249461596234879 :test_score 0.7381926693677219\n",
      "576 : traini_score 0.8248603563125807 :test_score 0.7381099491751264\n",
      "577 : traini_score 0.8247744039166008 :test_score 0.7380270888469973\n",
      "578 : traini_score 0.8246883024355482 :test_score 0.7379440883833345\n",
      "579 : traini_score 0.8246020518694231 :test_score 0.7378609477841382\n",
      "580 : traini_score 0.8245156522182254 :test_score 0.7377776670494084\n",
      "581 : traini_score 0.824429103481955 :test_score 0.7376942461791448\n",
      "582 : traini_score 0.8243424056606119 :test_score 0.7376106851733477\n",
      "583 : traini_score 0.8242555587541962 :test_score 0.7375269840320171\n",
      "584 : traini_score 0.8241685627627078 :test_score 0.7374431427551529\n",
      "585 : traini_score 0.8240814176861468 :test_score 0.737359161342755\n",
      "586 : traini_score 0.8239941235245132 :test_score 0.7372750397948236\n",
      "587 : traini_score 0.8239066802778068 :test_score 0.7371907781113587\n",
      "588 : traini_score 0.8238190879460279 :test_score 0.73710637629236\n",
      "589 : traini_score 0.8237313465291762 :test_score 0.7370218343378279\n",
      "590 : traini_score 0.823643456027252 :test_score 0.7369371522477621\n",
      "591 : traini_score 0.823555416714305 :test_score 0.7368523303338108\n",
      "592 : traini_score 0.8234672292388094 :test_score 0.7367673693307799\n",
      "593 : traini_score 0.8233788926822809 :test_score 0.7366822681925229\n",
      "594 : traini_score 0.8232904070447196 :test_score 0.7365970269190394\n",
      "595 : traini_score 0.8232017723261252 :test_score 0.7365116455103295\n",
      "596 : traini_score 0.823112988526498 :test_score 0.7364261239663932\n",
      "597 : traini_score 0.8230240556458377 :test_score 0.7363404622872305\n",
      "598 : traini_score 0.8229349736841446 :test_score 0.7362546604728414\n",
      "599 : traini_score 0.8228457426414184 :test_score 0.736168718523226\n",
      "600 : traini_score 0.8227563625176595 :test_score 0.7360826364383841\n",
      "601 : traini_score 0.8226668333128675 :test_score 0.7359964142183157\n",
      "602 : traini_score 0.8225771550270427 :test_score 0.7359100518630213\n",
      "603 : traini_score 0.8224873276601847 :test_score 0.7358235493725003\n",
      "604 : traini_score 0.8223973512122941 :test_score 0.7357369067467529\n",
      "605 : traini_score 0.8223072256833703 :test_score 0.735650123985779\n",
      "606 : traini_score 0.8222169510734137 :test_score 0.735563201089579\n",
      "607 : traini_score 0.8221265273824242 :test_score 0.7354761380581523\n",
      "608 : traini_score 0.8220359551372733 :test_score 0.7353889366978079\n",
      "609 : traini_score 0.8219452343569797 :test_score 0.7353015970639417\n",
      "610 : traini_score 0.8218543644991728 :test_score 0.7352141172937736\n",
      "611 : traini_score 0.8217633455638527 :test_score 0.735126497387303\n",
      "612 : traini_score 0.8216721775510193 :test_score 0.7350387373445302\n",
      "613 : traini_score 0.8215808604606726 :test_score 0.7349508371654551\n",
      "614 : traini_score 0.8214893942928125 :test_score 0.7348627968500778\n",
      "615 : traini_score 0.8213977790474393 :test_score 0.7347746163983984\n",
      "616 : traini_score 0.8213060147245529 :test_score 0.7346862958104163\n",
      "617 : traini_score 0.8212141013241531 :test_score 0.7345978350861323\n",
      "618 : traini_score 0.8211220388999098 :test_score 0.7345092386154938\n",
      "619 : traini_score 0.8210298274423908 :test_score 0.7344205056041866\n",
      "620 : traini_score 0.8209374669076663 :test_score 0.7343316324523349\n",
      "621 : traini_score 0.8208449572957363 :test_score 0.7342426191599392\n",
      "622 : traini_score 0.8207522986066008 :test_score 0.7341534657269992\n",
      "623 : traini_score 0.8206594905095732 :test_score 0.7340641741083491\n",
      "624 : traini_score 0.82056653103367 :test_score 0.7339747559211032\n",
      "625 : traini_score 0.8204734224720627 :test_score 0.733885197582733\n",
      "626 : traini_score 0.8203801608261398 :test_score 0.733795512062948\n",
      "627 : traini_score 0.8203128640775836 :test_score 0.7337249959215484\n",
      "628 : traini_score 0.8202493924948301 :test_score 0.7336585468013805\n",
      "629 : traini_score 0.8201858197655093 :test_score 0.7335920161787555\n",
      "630 : traini_score 0.8201221458896213 :test_score 0.733525404053673\n",
      "631 : traini_score 0.820058370867166 :test_score 0.7334587104261332\n",
      "632 : traini_score 0.8199944946981437 :test_score 0.7333919352961361\n",
      "633 : traini_score 0.8199305173825542 :test_score 0.7333250786636818\n",
      "634 : traini_score 0.8198664389203973 :test_score 0.73325814052877\n",
      "635 : traini_score 0.8198022593116734 :test_score 0.7331911208914008\n",
      "636 : traini_score 0.8197379785563822 :test_score 0.7331240197515745\n",
      "637 : traini_score 0.8196735966545238 :test_score 0.7330568371092908\n",
      "638 : traini_score 0.8196091136060982 :test_score 0.7329895729645497\n",
      "639 : traini_score 0.8195445294111054 :test_score 0.7329222273173512\n",
      "640 : traini_score 0.8194798440695454 :test_score 0.7328548001676954\n",
      "641 : traini_score 0.8194150575814183 :test_score 0.7327872915155824\n",
      "642 : traini_score 0.8193501699467239 :test_score 0.732719701361012\n",
      "643 : traini_score 0.8192851811654623 :test_score 0.7326520297039842\n",
      "644 : traini_score 0.8192200912376335 :test_score 0.7325842765444992\n",
      "645 : traini_score 0.8191549001632376 :test_score 0.7325164418825568\n",
      "646 : traini_score 0.8190896079422744 :test_score 0.7324485257181571\n",
      "647 : traini_score 0.819024214574744 :test_score 0.7323805280513\n",
      "648 : traini_score 0.8189587200606464 :test_score 0.7323124488819857\n",
      "649 : traini_score 0.8188931243999816 :test_score 0.7322442882102138\n",
      "650 : traini_score 0.8188274275927496 :test_score 0.7321760460359847\n",
      "651 : traini_score 0.8187616296389505 :test_score 0.7321077223592984\n",
      "652 : traini_score 0.818695730538584 :test_score 0.7320393171801547\n",
      "653 : traini_score 0.8186297302916504 :test_score 0.7319708304985536\n",
      "654 : traini_score 0.8185636288981497 :test_score 0.7319022623144953\n",
      "655 : traini_score 0.8184974263580816 :test_score 0.7318336126279794\n",
      "656 : traini_score 0.8184311226714465 :test_score 0.7317648814390064\n",
      "657 : traini_score 0.818364717838244 :test_score 0.7316960687475761\n",
      "658 : traini_score 0.8182982118584745 :test_score 0.7316271745536884\n",
      "659 : traini_score 0.8182316047321377 :test_score 0.7315581988573433\n",
      "660 : traini_score 0.8181648964592337 :test_score 0.731489141658541\n",
      "661 : traini_score 0.8180980870397626 :test_score 0.7314200029572813\n",
      "662 : traini_score 0.8180311764737241 :test_score 0.7313507827535641\n",
      "663 : traini_score 0.8179641647611186 :test_score 0.7312814810473898\n",
      "664 : traini_score 0.8178970519019458 :test_score 0.7312120978387581\n",
      "665 : traini_score 0.8178298378962059 :test_score 0.731142633127669\n",
      "666 : traini_score 0.8177625227438986 :test_score 0.7310730869141226\n",
      "667 : traini_score 0.8176951064450242 :test_score 0.7310034591981189\n",
      "668 : traini_score 0.8176275889995827 :test_score 0.730933749979658\n",
      "669 : traini_score 0.8175599704075739 :test_score 0.7308639592587396\n",
      "670 : traini_score 0.8174922506689979 :test_score 0.7307940870353639\n",
      "671 : traini_score 0.8174244297838547 :test_score 0.7307241333095309\n",
      "672 : traini_score 0.8173565077521443 :test_score 0.7306540980812405\n",
      "673 : traini_score 0.8172884845738666 :test_score 0.7305839813504929\n",
      "674 : traini_score 0.8172203602490219 :test_score 0.7305137831172879\n",
      "675 : traini_score 0.81715213477761 :test_score 0.7304435033816254\n",
      "676 : traini_score 0.8170838081596307 :test_score 0.7303731421435058\n",
      "677 : traini_score 0.8170153803950844 :test_score 0.7303026994029287\n",
      "678 : traini_score 0.8169468514839706 :test_score 0.7302321751598944\n",
      "679 : traini_score 0.81687822142629 :test_score 0.7301615694144026\n",
      "680 : traini_score 0.8168094902220419 :test_score 0.7300908821664537\n",
      "681 : traini_score 0.8167406578712267 :test_score 0.7300201134160473\n",
      "682 : traini_score 0.8166717243738443 :test_score 0.7299492631631836\n",
      "683 : traini_score 0.8166026897298948 :test_score 0.7298783314078625\n",
      "684 : traini_score 0.816533553939378 :test_score 0.7298073181500841\n",
      "685 : traini_score 0.8164643170022939 :test_score 0.7297362233898486\n",
      "686 : traini_score 0.8163949789186427 :test_score 0.7296650471271555\n",
      "687 : traini_score 0.8163255396884244 :test_score 0.7295937893620053\n",
      "688 : traini_score 0.8162559993116387 :test_score 0.7295224500943975\n",
      "689 : traini_score 0.816186357788286 :test_score 0.7294510293243326\n",
      "690 : traini_score 0.816116615118366 :test_score 0.7293795270518102\n",
      "691 : traini_score 0.8160467713018787 :test_score 0.7293079432768306\n",
      "692 : traini_score 0.8159768263388244 :test_score 0.7292362779993936\n",
      "693 : traini_score 0.8159067802292027 :test_score 0.7291645312194992\n",
      "694 : traini_score 0.815836632973014 :test_score 0.7290927029371477\n",
      "695 : traini_score 0.815766384570258 :test_score 0.7290207931523385\n",
      "696 : traini_score 0.8156960350209347 :test_score 0.7289488018650723\n",
      "697 : traini_score 0.8156255843250444 :test_score 0.7288767290753486\n",
      "698 : traini_score 0.8155550324825868 :test_score 0.7288045747831675\n",
      "699 : traini_score 0.815484379493562 :test_score 0.7287323389885292\n",
      "700 : traini_score 0.8154136253579699 :test_score 0.7286600216914336\n",
      "701 : traini_score 0.8153427700758107 :test_score 0.7285876228918806\n",
      "702 : traini_score 0.8152718136470843 :test_score 0.7285151425898704\n",
      "703 : traini_score 0.8152007560717907 :test_score 0.7284425807854027\n",
      "704 : traini_score 0.81512959734993 :test_score 0.7283699374784777\n",
      "705 : traini_score 0.8150583374815019 :test_score 0.7282972126690953\n",
      "706 : traini_score 0.8149869764665068 :test_score 0.7282244063572556\n",
      "707 : traini_score 0.8149155143049444 :test_score 0.7281515185429588\n",
      "708 : traini_score 0.8148439509968147 :test_score 0.7280785492262044\n",
      "709 : traini_score 0.8147722865421179 :test_score 0.7280054984069928\n",
      "710 : traini_score 0.8147005209408539 :test_score 0.7279323660853237\n",
      "711 : traini_score 0.8146286541930227 :test_score 0.7278591522611975\n",
      "712 : traini_score 0.8145566862986243 :test_score 0.7277858569346138\n",
      "713 : traini_score 0.8144846172576587 :test_score 0.727712480105573\n",
      "714 : traini_score 0.8144124470701258 :test_score 0.7276390217740747\n",
      "715 : traini_score 0.8143401757360259 :test_score 0.7275654819401189\n",
      "716 : traini_score 0.8142678032553586 :test_score 0.7274918606037061\n",
      "717 : traini_score 0.8141953296281241 :test_score 0.7274181577648358\n",
      "718 : traini_score 0.8141227548543226 :test_score 0.7273443734235081\n",
      "719 : traini_score 0.8140500789339538 :test_score 0.727270507579723\n",
      "720 : traini_score 0.8139773018670178 :test_score 0.7271965602334808\n",
      "721 : traini_score 0.8139044236535147 :test_score 0.7271225313847811\n",
      "722 : traini_score 0.8138314442934442 :test_score 0.7270484210336242\n",
      "723 : traini_score 0.8137583637868065 :test_score 0.72697422918001\n",
      "724 : traini_score 0.8136851821336017 :test_score 0.7268999558239384\n",
      "725 : traini_score 0.8136118993338297 :test_score 0.7268256009654095\n",
      "726 : traini_score 0.8135385153874906 :test_score 0.7267511646044231\n",
      "727 : traini_score 0.8134650302945841 :test_score 0.7266766467409795\n",
      "728 : traini_score 0.8133914440551105 :test_score 0.7266020473750785\n",
      "729 : traini_score 0.8133177566690697 :test_score 0.7265273665067202\n",
      "730 : traini_score 0.8132439681364617 :test_score 0.7264526041359046\n",
      "731 : traini_score 0.8131700785166047 :test_score 0.7263777602415025\n",
      "732 : traini_score 0.8130960880329091 :test_score 0.7263028347443681\n",
      "733 : traini_score 0.8130219964035802 :test_score 0.7262278277451808\n",
      "734 : traini_score 0.812947803628618 :test_score 0.7261527392439411\n",
      "735 : traini_score 0.8128735097080226 :test_score 0.7260775692406485\n",
      "736 : traini_score 0.8127991146417939 :test_score 0.7260023177353032\n",
      "737 : traini_score 0.8127246184299318 :test_score 0.7259269847279053\n",
      "738 : traini_score 0.8126500210724366 :test_score 0.7258515702184546\n",
      "739 : traini_score 0.8125753225693081 :test_score 0.7257760742069511\n",
      "740 : traini_score 0.8125005229205462 :test_score 0.7257004966933951\n",
      "741 : traini_score 0.8124256221261512 :test_score 0.7256248376777863\n",
      "742 : traini_score 0.8123506201861229 :test_score 0.7255490971601248\n",
      "743 : traini_score 0.8122755171004612 :test_score 0.7254732751404105\n",
      "744 : traini_score 0.8122003128691664 :test_score 0.7253973716186436\n",
      "745 : traini_score 0.8121250074922384 :test_score 0.725321386594824\n",
      "746 : traini_score 0.8120496009696769 :test_score 0.7252453200689517\n",
      "747 : traini_score 0.8119740933014823 :test_score 0.7251691720410267\n",
      "748 : traini_score 0.8118984844876543 :test_score 0.7250929425110489\n",
      "749 : traini_score 0.8118227745281932 :test_score 0.7250166314790186\n",
      "750 : traini_score 0.8117469634230987 :test_score 0.7249402389449353\n",
      "751 : traini_score 0.8116710511723709 :test_score 0.7248637649087994\n",
      "752 : traini_score 0.8115950377760099 :test_score 0.7247872093706109\n",
      "753 : traini_score 0.8115189232340156 :test_score 0.7247105723303697\n",
      "754 : traini_score 0.8114427075463881 :test_score 0.7246338537880757\n",
      "755 : traini_score 0.8113663907131274 :test_score 0.7245570537437291\n",
      "756 : traini_score 0.8112899727342333 :test_score 0.7244801721973297\n",
      "757 : traini_score 0.8112134536097061 :test_score 0.7244032091488777\n",
      "758 : traini_score 0.8111368333395454 :test_score 0.724326164598373\n",
      "759 : traini_score 0.8110601119237515 :test_score 0.7242490385458153\n",
      "760 : traini_score 0.8109832893623244 :test_score 0.7241718309912053\n",
      "761 : traini_score 0.810906365655264 :test_score 0.7240945419345424\n",
      "762 : traini_score 0.8108293408025704 :test_score 0.7240171713758268\n",
      "763 : traini_score 0.8107522148042434 :test_score 0.7239397193150584\n",
      "764 : traini_score 0.8106749876602832 :test_score 0.7238621857522375\n",
      "765 : traini_score 0.8105976593706898 :test_score 0.7237845706873638\n",
      "766 : traini_score 0.810520229935463 :test_score 0.7237068741204374\n",
      "767 : traini_score 0.8104426993546031 :test_score 0.7236290960514582\n",
      "768 : traini_score 0.8103650676281098 :test_score 0.7235512364804265\n",
      "769 : traini_score 0.8102873347559834 :test_score 0.723473295407342\n",
      "770 : traini_score 0.8102095007382235 :test_score 0.7233952728322046\n",
      "771 : traini_score 0.8101315655748305 :test_score 0.7233171687550148\n",
      "772 : traini_score 0.8100535292228652 :test_score 0.7232389831873032\n",
      "773 : traini_score 0.8099753915871832 :test_score 0.7231607161544185\n",
      "774 : traini_score 0.8098971528053999 :test_score 0.7230823676192805\n",
      "775 : traini_score 0.8098188128775152 :test_score 0.7230039375818891\n",
      "776 : traini_score 0.8097403718035292 :test_score 0.7229254260422446\n",
      "777 : traini_score 0.8096618295834419 :test_score 0.7228468330003468\n",
      "778 : traini_score 0.8095831862172533 :test_score 0.7227681584561956\n",
      "779 : traini_score 0.8095044417049635 :test_score 0.7226894024097912\n",
      "780 : traini_score 0.8094255960465723 :test_score 0.7226105648611334\n",
      "781 : traini_score 0.8093466492420798 :test_score 0.7225316458102222\n",
      "782 : traini_score 0.8092676012914859 :test_score 0.7224526452570581\n",
      "783 : traini_score 0.8091884521947909 :test_score 0.7223735632016404\n",
      "784 : traini_score 0.8091092019519944 :test_score 0.7222943996439695\n",
      "785 : traini_score 0.8090298505630966 :test_score 0.7222151545840452\n",
      "786 : traini_score 0.8089503980280977 :test_score 0.7221358280218677\n",
      "787 : traini_score 0.8088708443469972 :test_score 0.7220564199574369\n",
      "788 : traini_score 0.8087911895197956 :test_score 0.7219769303907528\n",
      "789 : traini_score 0.8087114335464927 :test_score 0.7218973593218154\n",
      "790 : traini_score 0.8086315764270884 :test_score 0.7218177067506248\n",
      "791 : traini_score 0.8085516181615827 :test_score 0.7217379726771807\n",
      "792 : traini_score 0.8084715587499758 :test_score 0.7216581571014835\n",
      "793 : traini_score 0.8083913981922676 :test_score 0.7215782600235329\n",
      "794 : traini_score 0.8083111364884581 :test_score 0.721498281443329\n",
      "795 : traini_score 0.8082307736385472 :test_score 0.7214182213608719\n",
      "796 : traini_score 0.8081503096425351 :test_score 0.7213380797761613\n",
      "797 : traini_score 0.8080697445004217 :test_score 0.7212578566891976\n",
      "798 : traini_score 0.807989078212207 :test_score 0.7211775520999806\n",
      "799 : traini_score 0.8079083107778909 :test_score 0.7210971660085101\n",
      "800 : traini_score 0.8078274421974736 :test_score 0.7210166984147865\n",
      "801 : traini_score 0.8077464724709549 :test_score 0.7209361493188097\n",
      "802 : traini_score 0.8076654015983349 :test_score 0.7208555187205794\n",
      "803 : traini_score 0.8075842295796136 :test_score 0.7207748066200959\n",
      "804 : traini_score 0.807502956414791 :test_score 0.720694013017359\n",
      "805 : traini_score 0.8074215821038672 :test_score 0.7206131379123689\n",
      "806 : traini_score 0.8073401066468419 :test_score 0.7205321813051255\n",
      "807 : traini_score 0.8072585300437153 :test_score 0.7204511431956289\n",
      "808 : traini_score 0.8071768522944875 :test_score 0.7203700235838788\n",
      "809 : traini_score 0.8070950733991584 :test_score 0.7202888224698756\n",
      "810 : traini_score 0.8070131933577279 :test_score 0.7202075398536188\n",
      "811 : traini_score 0.8069312121701961 :test_score 0.720126175735109\n",
      "812 : traini_score 0.8068491298365631 :test_score 0.7200447301143459\n",
      "813 : traini_score 0.8067669463568288 :test_score 0.7199632029913293\n",
      "814 : traini_score 0.8066846617309931 :test_score 0.7198815943660596\n",
      "815 : traini_score 0.8066022759590561 :test_score 0.7197999042385365\n",
      "816 : traini_score 0.8065197890410178 :test_score 0.7197181326087602\n",
      "817 : traini_score 0.8064372009768782 :test_score 0.7196362794767306\n",
      "818 : traini_score 0.8063545117666373 :test_score 0.7195543448424475\n",
      "819 : traini_score 0.806271721410295 :test_score 0.7194723287059113\n",
      "820 : traini_score 0.8061888299078516 :test_score 0.7193902310671217\n",
      "821 : traini_score 0.8061058372593067 :test_score 0.7193080519260789\n",
      "822 : traini_score 0.8060227434646605 :test_score 0.7192257912827829\n",
      "823 : traini_score 0.805939548523913 :test_score 0.7191434491372334\n",
      "824 : traini_score 0.8058562524370644 :test_score 0.7190610254894306\n",
      "825 : traini_score 0.8057728552041142 :test_score 0.7189785203393746\n",
      "826 : traini_score 0.8056893568250629 :test_score 0.7188959336870653\n",
      "827 : traini_score 0.8056057572999102 :test_score 0.7188132655325028\n",
      "828 : traini_score 0.8055220566286563 :test_score 0.7187305158756869\n",
      "829 : traini_score 0.8054382548113009 :test_score 0.7186476847166176\n",
      "830 : traini_score 0.8053543518478443 :test_score 0.718564772055295\n",
      "831 : traini_score 0.8052703477382864 :test_score 0.7184817778917194\n",
      "832 : traini_score 0.8051862424826273 :test_score 0.7183987022258902\n",
      "833 : traini_score 0.8051020360808667 :test_score 0.7183155450578078\n",
      "834 : traini_score 0.8050177285330048 :test_score 0.7182323063874722\n",
      "835 : traini_score 0.8049333198390417 :test_score 0.7181489862148833\n",
      "836 : traini_score 0.8048488099989772 :test_score 0.718065584540041\n",
      "837 : traini_score 0.8047641990128114 :test_score 0.7179821013629453\n",
      "838 : traini_score 0.8046794868805444 :test_score 0.7178985366835966\n",
      "839 : traini_score 0.8045946736021761 :test_score 0.7178148905019943\n",
      "840 : traini_score 0.8045097591777064 :test_score 0.7177311628181389\n",
      "841 : traini_score 0.8044247436071353 :test_score 0.7176473536320302\n",
      "842 : traini_score 0.804339626890463 :test_score 0.7175634629436681\n",
      "843 : traini_score 0.8042544090276894 :test_score 0.7174794907530528\n",
      "844 : traini_score 0.8041690900188144 :test_score 0.7173954370601843\n",
      "845 : traini_score 0.8040836698638383 :test_score 0.7173113018650623\n",
      "846 : traini_score 0.8039981485627608 :test_score 0.7172270851676872\n",
      "847 : traini_score 0.8039125261155818 :test_score 0.7171427869680586\n",
      "848 : traini_score 0.8038268025223018 :test_score 0.7170584072661768\n",
      "849 : traini_score 0.8037409777829203 :test_score 0.7169739460620417\n",
      "850 : traini_score 0.8036550518974375 :test_score 0.7168894033556534\n",
      "851 : traini_score 0.8035690248658534 :test_score 0.7168047791470118\n",
      "852 : traini_score 0.803482896688168 :test_score 0.7167200734361168\n",
      "853 : traini_score 0.8033966673643813 :test_score 0.7166352862229683\n",
      "854 : traini_score 0.8033103368944934 :test_score 0.7165504175075668\n",
      "855 : traini_score 0.803223905278504 :test_score 0.7164654672899119\n",
      "856 : traini_score 0.8031373725164135 :test_score 0.7163804355700039\n",
      "857 : traini_score 0.8030507386082215 :test_score 0.7162953223478423\n",
      "858 : traini_score 0.8029640036626432 :test_score 0.716210127598842\n",
      "859 : traini_score 0.802877167620108 :test_score 0.7161248513366786\n",
      "860 : traini_score 0.8027902304318385 :test_score 0.7160394935724204\n",
      "861 : traini_score 0.8027031920978349 :test_score 0.7159540543060674\n",
      "862 : traini_score 0.8026160526180971 :test_score 0.7158685335376196\n",
      "863 : traini_score 0.802528811992625 :test_score 0.7157829312670769\n",
      "864 : traini_score 0.8024414702214189 :test_score 0.7156972474944395\n",
      "865 : traini_score 0.8023540273044785 :test_score 0.7156114822197073\n",
      "866 : traini_score 0.8022664832418039 :test_score 0.7155256354428803\n",
      "867 : traini_score 0.8021788380333952 :test_score 0.7154397071639584\n",
      "868 : traini_score 0.8020910916792522 :test_score 0.7153536973829417\n",
      "869 : traini_score 0.802003244179375 :test_score 0.7152676060998302\n",
      "870 : traini_score 0.8019152955337636 :test_score 0.715181433314624\n",
      "871 : traini_score 0.801827245742418 :test_score 0.715095179027323\n",
      "872 : traini_score 0.8017390948053382 :test_score 0.7150088432379271\n",
      "873 : traini_score 0.8016508427225244 :test_score 0.7149224259464366\n",
      "874 : traini_score 0.8015624894939762 :test_score 0.714835927152851\n",
      "875 : traini_score 0.8014740351196938 :test_score 0.7147493468571707\n",
      "876 : traini_score 0.8013854795996773 :test_score 0.7146626850593958\n",
      "877 : traini_score 0.8012968229339266 :test_score 0.7145759417595259\n",
      "878 : traini_score 0.8012080651224417 :test_score 0.7144891169575612\n",
      "879 : traini_score 0.8011192061652226 :test_score 0.7144022106535017\n",
      "880 : traini_score 0.8010302460622692 :test_score 0.7143152228473475\n",
      "881 : traini_score 0.8009411848135818 :test_score 0.7142281535390984\n",
      "882 : traini_score 0.8008520224191601 :test_score 0.7141410027287545\n",
      "883 : traini_score 0.8007627588790042 :test_score 0.7140537704163159\n",
      "884 : traini_score 0.8006733941931141 :test_score 0.7139664566017825\n",
      "885 : traini_score 0.8005839283614898 :test_score 0.7138790612851542\n",
      "886 : traini_score 0.8004943613841314 :test_score 0.7137915844664311\n",
      "887 : traini_score 0.8004046932610387 :test_score 0.7137040261456131\n",
      "888 : traini_score 0.8003149239922118 :test_score 0.7136163863227005\n",
      "889 : traini_score 0.8002250535776507 :test_score 0.7135286649976931\n",
      "890 : traini_score 0.8001350820173556 :test_score 0.7134408621705908\n",
      "891 : traini_score 0.800045009311326 :test_score 0.7133529778413936\n",
      "892 : traini_score 0.7999548354595626 :test_score 0.7132650120101018\n",
      "893 : traini_score 0.7998645604620647 :test_score 0.7131769646767151\n",
      "894 : traini_score 0.7997741843188326 :test_score 0.7130888358412336\n",
      "895 : traini_score 0.7996837070298665 :test_score 0.7130006255036573\n",
      "896 : traini_score 0.7995931285951661 :test_score 0.7129123336639862\n",
      "897 : traini_score 0.7995024490147314 :test_score 0.7128239603222204\n",
      "898 : traini_score 0.7994116682885627 :test_score 0.7127355054783596\n",
      "899 : traini_score 0.7993207864166597 :test_score 0.7126469691324042\n",
      "900 : traini_score 0.7992298033990225 :test_score 0.7125583512843539\n",
      "901 : traini_score 0.7991387192356512 :test_score 0.7124696519342087\n",
      "902 : traini_score 0.7990475339265456 :test_score 0.7123808710819688\n",
      "903 : traini_score 0.7989562474717058 :test_score 0.7122920087276341\n",
      "904 : traini_score 0.7988648598711319 :test_score 0.7122030648712045\n",
      "905 : traini_score 0.7987733712381727 :test_score 0.71211403948974\n",
      "906 : traini_score 0.7986817814655991 :test_score 0.7120249326051051\n",
      "907 : traini_score 0.7985900905475547 :test_score 0.7119357442184897\n",
      "908 : traini_score 0.7984982984840394 :test_score 0.7118464743298933\n",
      "909 : traini_score 0.7984064052750532 :test_score 0.7117571229393164\n",
      "910 : traini_score 0.7983144109205964 :test_score 0.7116676900467584\n",
      "911 : traini_score 0.7982223151572316 :test_score 0.7115781756995452\n",
      "912 : traini_score 0.7981301181981949 :test_score 0.7114885798589832\n",
      "913 : traini_score 0.7980378200930004 :test_score 0.7113989025161449\n",
      "914 : traini_score 0.7979454208416481 :test_score 0.7113091436710297\n",
      "915 : traini_score 0.797852920444138 :test_score 0.711219303323638\n",
      "916 : traini_score 0.7977603189004703 :test_score 0.7111293814739696\n",
      "917 : traini_score 0.7976676162106446 :test_score 0.7110393781220246\n",
      "918 : traini_score 0.7975748123746612 :test_score 0.7109492932678029\n",
      "919 : traini_score 0.7974819073925201 :test_score 0.7108591269113045\n",
      "920 : traini_score 0.7973889012642211 :test_score 0.7107688790525296\n",
      "921 : traini_score 0.7972957939897645 :test_score 0.710678549691478\n",
      "922 : traini_score 0.79720258556915 :test_score 0.7105881388281496\n",
      "923 : traini_score 0.7971092760023777 :test_score 0.7104976464625448\n",
      "924 : traini_score 0.7970158652894477 :test_score 0.7104070725946633\n",
      "925 : traini_score 0.7969223534303599 :test_score 0.7103164172245051\n",
      "926 : traini_score 0.7968287404251143 :test_score 0.7102256803520702\n",
      "927 : traini_score 0.796735026273711 :test_score 0.7101348619773589\n",
      "928 : traini_score 0.7966412109761498 :test_score 0.7100439621003707\n",
      "929 : traini_score 0.796547294532431 :test_score 0.7099529807211058\n",
      "930 : traini_score 0.7964532769425543 :test_score 0.7098619178395644\n",
      "931 : traini_score 0.7963591582065198 :test_score 0.7097707734557465\n",
      "932 : traini_score 0.7962649383243277 :test_score 0.7096795475696518\n",
      "933 : traini_score 0.7961706172959776 :test_score 0.7095882401812803\n",
      "934 : traini_score 0.7960761951214699 :test_score 0.7094968512906326\n",
      "935 : traini_score 0.7959816718008044 :test_score 0.7094053808977079\n",
      "936 : traini_score 0.795887047333981 :test_score 0.7093138290025065\n",
      "937 : traini_score 0.7957923217209999 :test_score 0.7092221956050286\n",
      "938 : traini_score 0.795697494961861 :test_score 0.7091304807052741\n",
      "939 : traini_score 0.7956025670565644 :test_score 0.7090386843032429\n",
      "940 : traini_score 0.79550753800511 :test_score 0.708946806398935\n",
      "941 : traini_score 0.7954124078074979 :test_score 0.7088548469923506\n",
      "942 : traini_score 0.7953171764637279 :test_score 0.7087628060834894\n",
      "943 : traini_score 0.7952218439738001 :test_score 0.7086706836723516\n",
      "944 : traini_score 0.7951264103377147 :test_score 0.7085784797589373\n",
      "945 : traini_score 0.7950308755554714 :test_score 0.7084861943432462\n",
      "946 : traini_score 0.7949352396067983 :test_score 0.7083938274288506\n",
      "947 : traini_score 0.7948506377499891 :test_score 0.7083190754827428\n",
      "948 : traini_score 0.7947870173315922 :test_score 0.7082785737697955\n",
      "949 : traini_score 0.7947233307280148 :test_score 0.7082380190177255\n",
      "950 : traini_score 0.7946595779424767 :test_score 0.708197410267705\n",
      "951 : traini_score 0.7945957580201887 :test_score 0.7081567496116223\n",
      "952 : traini_score 0.7945318709611507 :test_score 0.7081160370494777\n",
      "953 : traini_score 0.7944679163741353 :test_score 0.7080752716773825\n",
      "954 : traini_score 0.7944038945183042 :test_score 0.7080344540951402\n",
      "955 : traini_score 0.7943398055246268 :test_score 0.7079935846054902\n",
      "956 : traini_score 0.7942756493931029 :test_score 0.7079526632084323\n",
      "957 : traini_score 0.7942114261237329 :test_score 0.7079116899039668\n",
      "958 : traini_score 0.7941471357165164 :test_score 0.7078706646920934\n",
      "959 : traini_score 0.7940827777551343 :test_score 0.7078295873775301\n",
      "960 : traini_score 0.7940183520261643 :test_score 0.707788457859406\n",
      "961 : traini_score 0.7939538591571695 :test_score 0.707747276431764\n",
      "962 : traini_score 0.7938892991481502 :test_score 0.707706043094604\n",
      "963 : traini_score 0.7938246719991062 :test_score 0.7076647578479263\n",
      "964 : traini_score 0.7937599777100376 :test_score 0.7076234206917303\n",
      "965 : traini_score 0.7936952162809443 :test_score 0.7075820316260164\n",
      "966 : traini_score 0.7936303877118263 :test_score 0.7075405906507846\n",
      "967 : traini_score 0.7935654920026837 :test_score 0.7074990977660347\n",
      "968 : traini_score 0.7935005291535164 :test_score 0.707457552971767\n",
      "969 : traini_score 0.7934354991643244 :test_score 0.7074159562679813\n",
      "970 : traini_score 0.7933704017262139 :test_score 0.7073743076143455\n",
      "971 : traini_score 0.7933052364173641 :test_score 0.7073326069546872\n",
      "972 : traini_score 0.7932400038108363 :test_score 0.7072908544458373\n",
      "973 : traini_score 0.793174704048992 :test_score 0.7072490500303548\n",
      "974 : traini_score 0.7931093371446365 :test_score 0.7072071937030937\n",
      "975 : traini_score 0.7930439030977696 :test_score 0.7071652854640538\n",
      "976 : traini_score 0.7929784019083916 :test_score 0.7071233253132356\n",
      "977 : traini_score 0.7929128335765023 :test_score 0.7070813132506386\n",
      "978 : traini_score 0.7928471981021019 :test_score 0.7070392492762632\n",
      "979 : traini_score 0.7927814954851902 :test_score 0.7069971333901091\n",
      "980 : traini_score 0.7927157257257671 :test_score 0.7069549655921765\n",
      "981 : traini_score 0.7926498888238328 :test_score 0.7069127458824653\n",
      "982 : traini_score 0.7925839847793874 :test_score 0.7068704742609755\n",
      "983 : traini_score 0.7925180135924308 :test_score 0.7068281507277071\n",
      "984 : traini_score 0.7924519752629627 :test_score 0.7067857752826601\n",
      "985 : traini_score 0.7923858697909836 :test_score 0.7067433479258345\n",
      "986 : traini_score 0.7923196971764932 :test_score 0.7067008686572303\n",
      "987 : traini_score 0.7922534574194915 :test_score 0.7066583374768476\n",
      "988 : traini_score 0.7921871505199786 :test_score 0.7066157543846863\n",
      "989 : traini_score 0.792120776014958 :test_score 0.7065731193876612\n",
      "990 : traini_score 0.7920543339943148 :test_score 0.7065304324832339\n",
      "991 : traini_score 0.7919878248294725 :test_score 0.7064876936655149\n",
      "992 : traini_score 0.7919212485204309 :test_score 0.7064449029345042\n",
      "993 : traini_score 0.7918546050671903 :test_score 0.7064020602902019\n",
      "994 : traini_score 0.7917878944697506 :test_score 0.7063591657326079\n",
      "995 : traini_score 0.7917211167281117 :test_score 0.7063162192617223\n",
      "996 : traini_score 0.7916542718422738 :test_score 0.7062732208775448\n",
      "997 : traini_score 0.7915873598122367 :test_score 0.7062301705800758\n",
      "998 : traini_score 0.7915203806380006 :test_score 0.706187068369315\n",
      "999 : traini_score 0.7914533343195653 :test_score 0.7061439142452627\n",
      "1000 : traini_score 0.7913862208569309 :test_score 0.7061007082079187\n"
     ]
    }
   ],
   "source": [
    "for i in range(200,1001):\n",
    "    ls=Lasso(alpha=i)\n",
    "    ls.fit(xtrain,ytrain)\n",
    "    train_score=ls.score(xtrain,ytrain)\n",
    "    test_score=ls.score(xtest,ytest)\n",
    "    print(f\"\"\"{i} : traini_score {train_score} :test_score {test_score}\"\"\")\n",
    "    "
   ]
  },
  {
   "cell_type": "code",
   "execution_count": 162,
   "id": "804b5ad6-95a1-4d12-a5ba-94ecca8d6df7",
   "metadata": {},
   "outputs": [
    {
     "name": "stdout",
     "output_type": "stream",
     "text": [
      "MSE : 13463018.089583624\n",
      "R2 : 0.7522224761112574\n",
      "1000 : traini_score 0.8399871117328191 \n",
      "         test_score 0.7522224761112574\n"
     ]
    }
   ],
   "source": [
    "# 366\n",
    "ls=Lasso(alpha=366)\n",
    "ls.fit(xtrain,ytrain)\n",
    "ypred=ls.predict(xtest)\n",
    "mse=mean_squared_error(ytest,ypred)\n",
    "r2=r2_score(ytest,ypred)\n",
    "print(f\"MSE : {mse}\")\n",
    "print(f\"R2 : {r2}\")\n",
    "print(f\"\"\"{i} : traini_score {ls.score(xtrain,ytrain)} \n",
    "         test_score {ls.score(xtest,ytest)}\"\"\")\n",
    "# Overfitting still there because of the data distribution. Need more data"
   ]
  },
  {
   "cell_type": "code",
   "execution_count": 163,
   "id": "cec49a3c-00e8-4ec1-bcbe-ff7a817553f1",
   "metadata": {},
   "outputs": [
    {
     "data": {
      "text/html": [
       "<div>\n",
       "<style scoped>\n",
       "    .dataframe tbody tr th:only-of-type {\n",
       "        vertical-align: middle;\n",
       "    }\n",
       "\n",
       "    .dataframe tbody tr th {\n",
       "        vertical-align: top;\n",
       "    }\n",
       "\n",
       "    .dataframe thead th {\n",
       "        text-align: right;\n",
       "    }\n",
       "</style>\n",
       "<table border=\"1\" class=\"dataframe\">\n",
       "  <thead>\n",
       "    <tr style=\"text-align: right;\">\n",
       "      <th></th>\n",
       "      <th>columns</th>\n",
       "      <th>Linear Regression</th>\n",
       "      <th>Lasso Coefficients</th>\n",
       "    </tr>\n",
       "  </thead>\n",
       "  <tbody>\n",
       "    <tr>\n",
       "      <th>0</th>\n",
       "      <td>symboling</td>\n",
       "      <td>89.225507</td>\n",
       "      <td>-0.000000</td>\n",
       "    </tr>\n",
       "    <tr>\n",
       "      <th>1</th>\n",
       "      <td>normalized-losses</td>\n",
       "      <td>-200.774131</td>\n",
       "      <td>-0.000000</td>\n",
       "    </tr>\n",
       "    <tr>\n",
       "      <th>2</th>\n",
       "      <td>make</td>\n",
       "      <td>-1227.843551</td>\n",
       "      <td>-706.139237</td>\n",
       "    </tr>\n",
       "    <tr>\n",
       "      <th>3</th>\n",
       "      <td>fuel-type</td>\n",
       "      <td>-129.765163</td>\n",
       "      <td>-0.000000</td>\n",
       "    </tr>\n",
       "    <tr>\n",
       "      <th>4</th>\n",
       "      <td>body-style</td>\n",
       "      <td>-160.333110</td>\n",
       "      <td>-0.000000</td>\n",
       "    </tr>\n",
       "    <tr>\n",
       "      <th>5</th>\n",
       "      <td>drive-wheels</td>\n",
       "      <td>1135.400329</td>\n",
       "      <td>755.011484</td>\n",
       "    </tr>\n",
       "    <tr>\n",
       "      <th>6</th>\n",
       "      <td>engine-location</td>\n",
       "      <td>1943.579677</td>\n",
       "      <td>1526.617958</td>\n",
       "    </tr>\n",
       "    <tr>\n",
       "      <th>7</th>\n",
       "      <td>width</td>\n",
       "      <td>1754.440061</td>\n",
       "      <td>1612.810733</td>\n",
       "    </tr>\n",
       "    <tr>\n",
       "      <th>8</th>\n",
       "      <td>height</td>\n",
       "      <td>722.350653</td>\n",
       "      <td>353.606047</td>\n",
       "    </tr>\n",
       "    <tr>\n",
       "      <th>9</th>\n",
       "      <td>engine-type</td>\n",
       "      <td>345.927713</td>\n",
       "      <td>32.269116</td>\n",
       "    </tr>\n",
       "    <tr>\n",
       "      <th>10</th>\n",
       "      <td>engine-size</td>\n",
       "      <td>4028.724383</td>\n",
       "      <td>3979.505101</td>\n",
       "    </tr>\n",
       "    <tr>\n",
       "      <th>11</th>\n",
       "      <td>horsepower</td>\n",
       "      <td>-528.387655</td>\n",
       "      <td>0.000000</td>\n",
       "    </tr>\n",
       "    <tr>\n",
       "      <th>12</th>\n",
       "      <td>city-mpg</td>\n",
       "      <td>1384.868978</td>\n",
       "      <td>-0.000000</td>\n",
       "    </tr>\n",
       "    <tr>\n",
       "      <th>13</th>\n",
       "      <td>highway-mpg</td>\n",
       "      <td>-2304.686999</td>\n",
       "      <td>-587.408416</td>\n",
       "    </tr>\n",
       "  </tbody>\n",
       "</table>\n",
       "</div>"
      ],
      "text/plain": [
       "              columns  Linear Regression  Lasso Coefficients\n",
       "0           symboling          89.225507           -0.000000\n",
       "1   normalized-losses        -200.774131           -0.000000\n",
       "2                make       -1227.843551         -706.139237\n",
       "3           fuel-type        -129.765163           -0.000000\n",
       "4          body-style        -160.333110           -0.000000\n",
       "5        drive-wheels        1135.400329          755.011484\n",
       "6     engine-location        1943.579677         1526.617958\n",
       "7               width        1754.440061         1612.810733\n",
       "8              height         722.350653          353.606047\n",
       "9         engine-type         345.927713           32.269116\n",
       "10        engine-size        4028.724383         3979.505101\n",
       "11         horsepower        -528.387655            0.000000\n",
       "12           city-mpg        1384.868978           -0.000000\n",
       "13        highway-mpg       -2304.686999         -587.408416"
      ]
     },
     "execution_count": 163,
     "metadata": {},
     "output_type": "execute_result"
    }
   ],
   "source": [
    "d=pd.DataFrame({\n",
    "    \"columns\":xtrain.columns,\n",
    "    \"Linear Regression\": lr.coef_,\n",
    "    \"Lasso Coefficients\":ls.coef_\n",
    "})\n",
    "d"
   ]
  },
  {
   "cell_type": "code",
   "execution_count": 164,
   "id": "5cb883c8-4473-460a-a92e-992f17a1e0a3",
   "metadata": {},
   "outputs": [
    {
     "name": "stdout",
     "output_type": "stream",
     "text": [
      "1 : traini_score 0.8571805961840547 :test_score 0.7418136689987596\n",
      "2 : traini_score 0.8569060985559608 :test_score 0.7439808618585314\n",
      "3 : traini_score 0.8565648647163243 :test_score 0.7458131372979093\n",
      "4 : traini_score 0.8561844575489408 :test_score 0.7473917425658009\n",
      "5 : traini_score 0.8557776243345081 :test_score 0.7487659656183133\n",
      "6 : traini_score 0.8553515815846606 :test_score 0.7499699994318514\n",
      "7 : traini_score 0.8549110347017141 :test_score 0.7510294861112182\n",
      "8 : traini_score 0.8544593332576834 :test_score 0.7519645618481824\n",
      "9 : traini_score 0.8539989864299148 :test_score 0.7527915006249714\n",
      "10 : traini_score 0.8535319292458652 :test_score 0.7535237108349848\n",
      "11 : traini_score 0.8530596790816607 :test_score 0.7541723940512728\n",
      "12 : traini_score 0.8525834375184432 :test_score 0.7547470082983777\n",
      "13 : traini_score 0.852104161624152 :test_score 0.7552556084709794\n",
      "14 : traini_score 0.8516226163070184 :test_score 0.7557051044655619\n",
      "15 : traini_score 0.8511394139861304 :test_score 0.7561014614779091\n",
      "16 : traini_score 0.8506550452655548 :test_score 0.7564498581592186\n",
      "17 : traini_score 0.8501699029733198 :test_score 0.7567548132176621\n",
      "18 : traini_score 0.8496843011771604 :test_score 0.7570202878930434\n",
      "19 : traini_score 0.849198490329571 :test_score 0.7572497696776836\n",
      "20 : traini_score 0.8487126693934758 :test_score 0.7574463412650045\n",
      "21 : traini_score 0.848226995591597 :test_score 0.7576127377330293\n",
      "22 : traini_score 0.847741592272987 :test_score 0.7577513942696623\n",
      "23 : traini_score 0.8472565552796743 :test_score 0.7578644862321737\n",
      "24 : traini_score 0.8467719581131097 :test_score 0.7579539629487593\n",
      "25 : traini_score 0.8462878561364904 :test_score 0.7580215763783468\n",
      "26 : traini_score 0.8458042899999221 :test_score 0.7580689055208072\n",
      "27 : traini_score 0.8453212884371687 :test_score 0.75809737729589\n",
      "28 : traini_score 0.8448388705528044 :test_score 0.7581082844730356\n",
      "29 : traini_score 0.8443570476950206 :test_score 0.7581028011266979\n",
      "30 : traini_score 0.8438758249907097 :test_score 0.7580819960062976\n",
      "31 : traini_score 0.8433952026046458 :test_score 0.7580468441414452\n",
      "32 : traini_score 0.8429151767727934 :test_score 0.7579982369479277\n",
      "33 : traini_score 0.8424357406503394 :test_score 0.7579369910552656\n",
      "34 : traini_score 0.8419568850074837 :test_score 0.7578638560402777\n",
      "35 : traini_score 0.8414785987999263 :test_score 0.7577795212213206\n",
      "36 : traini_score 0.8410008696360798 :test_score 0.7576846216434092\n",
      "37 : traini_score 0.8405236841590569 :test_score 0.7575797433642263\n",
      "38 : traini_score 0.8400470283582517 :test_score 0.757465428134288\n",
      "39 : traini_score 0.8395708878227104 :test_score 0.7573421775506073\n",
      "40 : traini_score 0.8390952479463432 :test_score 0.7572104567515545\n",
      "41 : traini_score 0.8386200940932771 :test_score 0.7570706977108721\n",
      "42 : traini_score 0.8381454117302151 :test_score 0.756923302180589\n",
      "43 : traini_score 0.8376711865314888 :test_score 0.7567686443256699\n",
      "44 : traini_score 0.8371974044615192 :test_score 0.7566070730873667\n",
      "45 : traini_score 0.8367240518386052 :test_score 0.7564389143072754\n",
      "46 : traini_score 0.836251115383293 :test_score 0.7562644726398615\n",
      "47 : traini_score 0.835778582254038 :test_score 0.7560840332776074\n",
      "48 : traini_score 0.8353064400724144 :test_score 0.7558978635098317\n",
      "49 : traini_score 0.8348346769397514 :test_score 0.7557062141335849\n",
      "50 : traini_score 0.8343632814467655 :test_score 0.7555093207327325\n",
      "51 : traini_score 0.8338922426774913 :test_score 0.7553074048393632\n",
      "52 : traini_score 0.8334215502086025 :test_score 0.755100674989963\n",
      "53 : traini_score 0.832951194105031 :test_score 0.7548893276873114\n",
      "54 : traini_score 0.8324811649126365 :test_score 0.7546735482777733\n",
      "55 : traini_score 0.8320114536485608 :test_score 0.7544535117525502\n",
      "56 : traini_score 0.831542051789786 :test_score 0.7542293834804672\n",
      "57 : traini_score 0.8310729512603334 :test_score 0.7540013198790371\n",
      "58 : traini_score 0.8306041444174612 :test_score 0.7537694690297805\n",
      "59 : traini_score 0.8301356240371591 :test_score 0.7535339712431435\n",
      "60 : traini_score 0.8296673832991851 :test_score 0.7532949595777642\n",
      "61 : traini_score 0.8291994157718449 :test_score 0.753052560318345\n",
      "62 : traini_score 0.8287317153966782 :test_score 0.7528068934159349\n",
      "63 : traini_score 0.8282642764731857 :test_score 0.7525580728940324\n",
      "64 : traini_score 0.8277970936437027 :test_score 0.7523062072235728\n",
      "65 : traini_score 0.8273301618785079 :test_score 0.7520513996695503\n",
      "66 : traini_score 0.8268634764612312 :test_score 0.7517937486117556\n",
      "67 : traini_score 0.8263970329746166 :test_score 0.7515333478418607\n",
      "68 : traini_score 0.8259308272866781 :test_score 0.7512702868388659\n",
      "69 : traini_score 0.825464855537277 :test_score 0.7510046510247348\n",
      "70 : traini_score 0.8249991141251448 :test_score 0.7507365220018604\n",
      "71 : traini_score 0.8245335996953604 :test_score 0.7504659777738609\n",
      "72 : traini_score 0.8240683091272937 :test_score 0.7501930929510577\n",
      "73 : traini_score 0.8236032395230137 :test_score 0.7499179389418649\n",
      "74 : traini_score 0.8231383881961649 :test_score 0.749640584131211\n",
      "75 : traini_score 0.8226737526613018 :test_score 0.749361094047011\n",
      "76 : traini_score 0.8222093306236797 :test_score 0.7490795315156134\n",
      "77 : traini_score 0.8217451199694881 :test_score 0.7487959568070721\n",
      "78 : traini_score 0.821281118756519 :test_score 0.7485104277710136\n",
      "79 : traini_score 0.8208173252052581 :test_score 0.7482229999638063\n",
      "80 : traini_score 0.8203537376903833 :test_score 0.747933726767678\n",
      "81 : traini_score 0.8198903547326604 :test_score 0.7476426595023735\n",
      "82 : traini_score 0.8194271749912203 :test_score 0.7473498475298943\n",
      "83 : traini_score 0.8189641972562036 :test_score 0.7470553383528189\n",
      "84 : traini_score 0.8185014204417593 :test_score 0.7467591777066594\n",
      "85 : traini_score 0.8180388435793828 :test_score 0.7464614096466775\n",
      "86 : traini_score 0.8175764658115791 :test_score 0.7461620766295427\n",
      "87 : traini_score 0.8171142863858376 :test_score 0.7458612195901911\n",
      "88 : traini_score 0.8166523046489058 :test_score 0.7455588780142142\n",
      "89 : traini_score 0.816190520041347 :test_score 0.7452550900060757\n",
      "90 : traini_score 0.8157289320923695 :test_score 0.7449498923534414\n",
      "91 : traini_score 0.8152675404149177 :test_score 0.7446433205878757\n",
      "92 : traini_score 0.8148063447010075 :test_score 0.7443354090421461\n",
      "93 : traini_score 0.8143453447173004 :test_score 0.7440261909043556\n",
      "94 : traini_score 0.8138845403009002 :test_score 0.7437156982691073\n",
      "95 : traini_score 0.8134239313553651 :test_score 0.7434039621858914\n",
      "96 : traini_score 0.8129635178469217 :test_score 0.7430910127048695\n",
      "97 : traini_score 0.812503299800875 :test_score 0.7427768789202202\n",
      "98 : traini_score 0.8120432772981994 :test_score 0.7424615890111966\n",
      "99 : traini_score 0.8115834504723075 :test_score 0.7421451702810378\n"
     ]
    }
   ],
   "source": [
    "for i in range(1,100):\n",
    "    ri=Ridge(alpha=i)\n",
    "    ri.fit(xtrain,ytrain)\n",
    "    train_score=ri.score(xtrain,ytrain) # checking training score\n",
    "    test_score=ri.score(xtest,ytest) # checking testing score\n",
    "    print(f\"\"\"{i} : traini_score {train_score} :test_score {test_score}\"\"\")\n",
    "    # bias-variance tradeoff to find right balance between bias and variance"
   ]
  },
  {
   "cell_type": "code",
   "execution_count": 165,
   "id": "6147a67d-6c1e-4bf4-90c5-1537b5eb5324",
   "metadata": {},
   "outputs": [
    {
     "name": "stdout",
     "output_type": "stream",
     "text": [
      "MSE : 14010569.572693259\n",
      "R2 : 0.7421451702810378\n",
      "99 : traini_score 0.8115834504723075 \n",
      "         test_score 0.7421451702810378\n"
     ]
    }
   ],
   "source": [
    "ri=Ridge(alpha=99)\n",
    "ri.fit(xtrain,ytrain)\n",
    "ypred=ri.predict(xtest)\n",
    "mse=mean_squared_error(ytest,ypred)\n",
    "r2=r2_score(ytest,ypred)\n",
    "print(f\"MSE : {mse}\")\n",
    "print(f\"R2 : {r2}\")\n",
    "print(f\"\"\"{i} : traini_score {ri.score(xtrain,ytrain)} \n",
    "         test_score {ri.score(xtest,ytest)}\"\"\")\n",
    "# Overfitting still there because of the data distribution. Need more data\n",
    "# or by setting higher learning rate."
   ]
  },
  {
   "cell_type": "code",
   "execution_count": 166,
   "id": "4ac3b0f9-7888-40cb-9e90-fcf791fe86b0",
   "metadata": {},
   "outputs": [],
   "source": [
    "d[\"Ridge Coefficients\"]=ri.coef_"
   ]
  },
  {
   "cell_type": "code",
   "execution_count": 167,
   "id": "2ba9430f-056c-4aba-8ae2-787b69e10947",
   "metadata": {},
   "outputs": [
    {
     "data": {
      "text/html": [
       "<div>\n",
       "<style scoped>\n",
       "    .dataframe tbody tr th:only-of-type {\n",
       "        vertical-align: middle;\n",
       "    }\n",
       "\n",
       "    .dataframe tbody tr th {\n",
       "        vertical-align: top;\n",
       "    }\n",
       "\n",
       "    .dataframe thead th {\n",
       "        text-align: right;\n",
       "    }\n",
       "</style>\n",
       "<table border=\"1\" class=\"dataframe\">\n",
       "  <thead>\n",
       "    <tr style=\"text-align: right;\">\n",
       "      <th></th>\n",
       "      <th>columns</th>\n",
       "      <th>Linear Regression</th>\n",
       "      <th>Lasso Coefficients</th>\n",
       "      <th>Ridge Coefficients</th>\n",
       "    </tr>\n",
       "  </thead>\n",
       "  <tbody>\n",
       "    <tr>\n",
       "      <th>0</th>\n",
       "      <td>symboling</td>\n",
       "      <td>89.225507</td>\n",
       "      <td>-0.000000</td>\n",
       "      <td>-174.039269</td>\n",
       "    </tr>\n",
       "    <tr>\n",
       "      <th>1</th>\n",
       "      <td>normalized-losses</td>\n",
       "      <td>-200.774131</td>\n",
       "      <td>-0.000000</td>\n",
       "      <td>-57.942242</td>\n",
       "    </tr>\n",
       "    <tr>\n",
       "      <th>2</th>\n",
       "      <td>make</td>\n",
       "      <td>-1227.843551</td>\n",
       "      <td>-706.139237</td>\n",
       "      <td>-757.510409</td>\n",
       "    </tr>\n",
       "    <tr>\n",
       "      <th>3</th>\n",
       "      <td>fuel-type</td>\n",
       "      <td>-129.765163</td>\n",
       "      <td>-0.000000</td>\n",
       "      <td>-503.862596</td>\n",
       "    </tr>\n",
       "    <tr>\n",
       "      <th>4</th>\n",
       "      <td>body-style</td>\n",
       "      <td>-160.333110</td>\n",
       "      <td>-0.000000</td>\n",
       "      <td>-268.495080</td>\n",
       "    </tr>\n",
       "    <tr>\n",
       "      <th>5</th>\n",
       "      <td>drive-wheels</td>\n",
       "      <td>1135.400329</td>\n",
       "      <td>755.011484</td>\n",
       "      <td>932.470776</td>\n",
       "    </tr>\n",
       "    <tr>\n",
       "      <th>6</th>\n",
       "      <td>engine-location</td>\n",
       "      <td>1943.579677</td>\n",
       "      <td>1526.617958</td>\n",
       "      <td>1164.908189</td>\n",
       "    </tr>\n",
       "    <tr>\n",
       "      <th>7</th>\n",
       "      <td>width</td>\n",
       "      <td>1754.440061</td>\n",
       "      <td>1612.810733</td>\n",
       "      <td>1278.559812</td>\n",
       "    </tr>\n",
       "    <tr>\n",
       "      <th>8</th>\n",
       "      <td>height</td>\n",
       "      <td>722.350653</td>\n",
       "      <td>353.606047</td>\n",
       "      <td>537.217206</td>\n",
       "    </tr>\n",
       "    <tr>\n",
       "      <th>9</th>\n",
       "      <td>engine-type</td>\n",
       "      <td>345.927713</td>\n",
       "      <td>32.269116</td>\n",
       "      <td>394.838029</td>\n",
       "    </tr>\n",
       "    <tr>\n",
       "      <th>10</th>\n",
       "      <td>engine-size</td>\n",
       "      <td>4028.724383</td>\n",
       "      <td>3979.505101</td>\n",
       "      <td>2039.424003</td>\n",
       "    </tr>\n",
       "    <tr>\n",
       "      <th>11</th>\n",
       "      <td>horsepower</td>\n",
       "      <td>-528.387655</td>\n",
       "      <td>0.000000</td>\n",
       "      <td>895.142485</td>\n",
       "    </tr>\n",
       "    <tr>\n",
       "      <th>12</th>\n",
       "      <td>city-mpg</td>\n",
       "      <td>1384.868978</td>\n",
       "      <td>-0.000000</td>\n",
       "      <td>-550.097071</td>\n",
       "    </tr>\n",
       "    <tr>\n",
       "      <th>13</th>\n",
       "      <td>highway-mpg</td>\n",
       "      <td>-2304.686999</td>\n",
       "      <td>-587.408416</td>\n",
       "      <td>-795.443240</td>\n",
       "    </tr>\n",
       "  </tbody>\n",
       "</table>\n",
       "</div>"
      ],
      "text/plain": [
       "              columns  Linear Regression  Lasso Coefficients  \\\n",
       "0           symboling          89.225507           -0.000000   \n",
       "1   normalized-losses        -200.774131           -0.000000   \n",
       "2                make       -1227.843551         -706.139237   \n",
       "3           fuel-type        -129.765163           -0.000000   \n",
       "4          body-style        -160.333110           -0.000000   \n",
       "5        drive-wheels        1135.400329          755.011484   \n",
       "6     engine-location        1943.579677         1526.617958   \n",
       "7               width        1754.440061         1612.810733   \n",
       "8              height         722.350653          353.606047   \n",
       "9         engine-type         345.927713           32.269116   \n",
       "10        engine-size        4028.724383         3979.505101   \n",
       "11         horsepower        -528.387655            0.000000   \n",
       "12           city-mpg        1384.868978           -0.000000   \n",
       "13        highway-mpg       -2304.686999         -587.408416   \n",
       "\n",
       "    Ridge Coefficients  \n",
       "0          -174.039269  \n",
       "1           -57.942242  \n",
       "2          -757.510409  \n",
       "3          -503.862596  \n",
       "4          -268.495080  \n",
       "5           932.470776  \n",
       "6          1164.908189  \n",
       "7          1278.559812  \n",
       "8           537.217206  \n",
       "9           394.838029  \n",
       "10         2039.424003  \n",
       "11          895.142485  \n",
       "12         -550.097071  \n",
       "13         -795.443240  "
      ]
     },
     "execution_count": 167,
     "metadata": {},
     "output_type": "execute_result"
    }
   ],
   "source": [
    "d"
   ]
  },
  {
   "cell_type": "code",
   "execution_count": null,
   "id": "129f26c2-0012-445b-aff3-273c39d0be45",
   "metadata": {},
   "outputs": [],
   "source": [
    "# to deal with overfitting - regularization technique.\n",
    "# there is another technique to deal with overftting - cross validation"
   ]
  },
  {
   "cell_type": "code",
   "execution_count": 168,
   "id": "b57ced38-b0b5-457e-88e8-a6776e37cea4",
   "metadata": {},
   "outputs": [
    {
     "name": "stdout",
     "output_type": "stream",
     "text": [
      "[0.71740447 0.76422717 0.47383793 0.39831008 0.49856653]\n",
      "0.5704692356659217\n"
     ]
    }
   ],
   "source": [
    "# with lasso\n",
    "from sklearn.model_selection import cross_val_score\n",
    "scores = cross_val_score(ls, features, target, cv=5)\n",
    "print(scores)\n",
    "print(np.mean(scores))"
   ]
  },
  {
   "cell_type": "code",
   "execution_count": 169,
   "id": "98a7cdab-0a18-43a5-971d-5fd0ee0ef80d",
   "metadata": {},
   "outputs": [
    {
     "name": "stdout",
     "output_type": "stream",
     "text": [
      "[0.7333143  0.65174688 0.47971819 0.51989393 0.62892274]\n",
      "0.6027192066344583\n"
     ]
    }
   ],
   "source": [
    "# cross validation with ridge model\n",
    "scores = cross_val_score(ri, features, target, cv=5)\n",
    "print(scores)\n",
    "print(np.mean(scores))"
   ]
  },
  {
   "cell_type": "code",
   "execution_count": 170,
   "id": "1d09b14e-9aee-44fd-80e3-641e165dd349",
   "metadata": {},
   "outputs": [
    {
     "name": "stdout",
     "output_type": "stream",
     "text": [
      "[0.76095906 0.81731032 0.1332921  0.37179906 0.52662022]\n",
      "0.5219961518998754\n"
     ]
    }
   ],
   "source": [
    "# cross validation with linear regression model\n",
    "scores = cross_val_score(lr, features, target, cv=5)\n",
    "print(scores)\n",
    "print(np.mean(scores))"
   ]
  },
  {
   "cell_type": "code",
   "execution_count": null,
   "id": "7e735b5b-4dc5-446c-a9d8-739d8074342b",
   "metadata": {},
   "outputs": [],
   "source": [
    "# ridge>lasso>linear"
   ]
  }
 ],
 "metadata": {
  "kernelspec": {
   "display_name": "Python 3 (ipykernel)",
   "language": "python",
   "name": "python3"
  },
  "language_info": {
   "codemirror_mode": {
    "name": "ipython",
    "version": 3
   },
   "file_extension": ".py",
   "mimetype": "text/x-python",
   "name": "python",
   "nbconvert_exporter": "python",
   "pygments_lexer": "ipython3",
   "version": "3.13.5"
  }
 },
 "nbformat": 4,
 "nbformat_minor": 5
}
