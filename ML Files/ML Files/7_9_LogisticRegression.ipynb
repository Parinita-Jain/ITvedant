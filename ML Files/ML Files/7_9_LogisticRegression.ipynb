{
 "cells": [
  {
   "cell_type": "code",
   "execution_count": 206,
   "id": "e5d99d35-6b4d-4c7e-8521-9ce62fdac21e",
   "metadata": {},
   "outputs": [
    {
     "data": {
      "text/plain": [
       "'\\nObjective : what sorts of people were more likely to survive?” \\nusing passenger data (ie name, age, gender, socio-economic class, etc).\\n\\nMetadata:\\nRangeIndex: 891 entries, 0 to 890\\nData columns (total 12 columns):\\n #   Column       Non-Null Count  Dtype  \\n---  ------       --------------  -----  \\n 0   PassengerId  891 non-null    int64  \\n 1   Survived     891 non-null    int64  \\n 2   Pclass       891 non-null    int64  \\n 3   Name         891 non-null    object \\n 4   Sex          891 non-null    object \\n 5   Age          714 non-null    float64\\n 6   SibSp        891 non-null    int64  \\n 7   Parch        891 non-null    int64  \\n 8   Ticket       891 non-null    object \\n 9   Fare         891 non-null    float64\\n 10  Cabin        204 non-null    object \\n 11  Embarked     889 non-null    object \\ndtypes: float64(2), int64(5), object(5)\\n\\nTarget/Dependent Column - Survived column\\n\\nSurvived has total different values : 2\\nSurvived\\n0    549\\n1    340\\n\\nMy target is imbalanced .\\n\\n\\n'"
      ]
     },
     "execution_count": 206,
     "metadata": {},
     "output_type": "execute_result"
    }
   ],
   "source": [
    "\"\"\"\n",
    "Objective : what sorts of people were more likely to survive?” \n",
    "using passenger data (ie name, age, gender, socio-economic class, etc).\n",
    "\n",
    "Metadata:\n",
    "RangeIndex: 891 entries, 0 to 890\n",
    "Data columns (total 12 columns):\n",
    " #   Column       Non-Null Count  Dtype  \n",
    "---  ------       --------------  -----  \n",
    " 0   PassengerId  891 non-null    int64  \n",
    " 1   Survived     891 non-null    int64  \n",
    " 2   Pclass       891 non-null    int64  \n",
    " 3   Name         891 non-null    object \n",
    " 4   Sex          891 non-null    object \n",
    " 5   Age          714 non-null    float64\n",
    " 6   SibSp        891 non-null    int64  \n",
    " 7   Parch        891 non-null    int64  \n",
    " 8   Ticket       891 non-null    object \n",
    " 9   Fare         891 non-null    float64\n",
    " 10  Cabin        204 non-null    object \n",
    " 11  Embarked     889 non-null    object \n",
    "dtypes: float64(2), int64(5), object(5)\n",
    "\n",
    "Target/Dependent Column - Survived column\n",
    "\n",
    "Survived has total different values : 2\n",
    "Survived\n",
    "0    549\n",
    "1    340\n",
    "\n",
    "My target is imbalanced .\n",
    "\n",
    "\n",
    "\"\"\""
   ]
  },
  {
   "cell_type": "code",
   "execution_count": 207,
   "id": "6445f4cd-8c46-4123-ac1f-48b13eaec024",
   "metadata": {},
   "outputs": [],
   "source": [
    "import numpy as np\n",
    "import pandas as pd\n",
    "import matplotlib.pyplot as plt\n",
    "import seaborn as sns\n",
    "\n",
    "import warnings\n",
    "warnings.filterwarnings(\"ignore\")"
   ]
  },
  {
   "cell_type": "code",
   "execution_count": 208,
   "id": "26188f1a-d78c-405f-9208-fd5b267c9e5e",
   "metadata": {},
   "outputs": [
    {
     "data": {
      "text/html": [
       "<div>\n",
       "<style scoped>\n",
       "    .dataframe tbody tr th:only-of-type {\n",
       "        vertical-align: middle;\n",
       "    }\n",
       "\n",
       "    .dataframe tbody tr th {\n",
       "        vertical-align: top;\n",
       "    }\n",
       "\n",
       "    .dataframe thead th {\n",
       "        text-align: right;\n",
       "    }\n",
       "</style>\n",
       "<table border=\"1\" class=\"dataframe\">\n",
       "  <thead>\n",
       "    <tr style=\"text-align: right;\">\n",
       "      <th></th>\n",
       "      <th>PassengerId</th>\n",
       "      <th>Survived</th>\n",
       "      <th>Pclass</th>\n",
       "      <th>Name</th>\n",
       "      <th>Sex</th>\n",
       "      <th>Age</th>\n",
       "      <th>SibSp</th>\n",
       "      <th>Parch</th>\n",
       "      <th>Ticket</th>\n",
       "      <th>Fare</th>\n",
       "      <th>Cabin</th>\n",
       "      <th>Embarked</th>\n",
       "    </tr>\n",
       "  </thead>\n",
       "  <tbody>\n",
       "    <tr>\n",
       "      <th>0</th>\n",
       "      <td>1</td>\n",
       "      <td>0</td>\n",
       "      <td>3</td>\n",
       "      <td>Braund, Mr. Owen Harris</td>\n",
       "      <td>male</td>\n",
       "      <td>22.0</td>\n",
       "      <td>1</td>\n",
       "      <td>0</td>\n",
       "      <td>A/5 21171</td>\n",
       "      <td>7.2500</td>\n",
       "      <td>NaN</td>\n",
       "      <td>S</td>\n",
       "    </tr>\n",
       "    <tr>\n",
       "      <th>1</th>\n",
       "      <td>2</td>\n",
       "      <td>1</td>\n",
       "      <td>1</td>\n",
       "      <td>Cumings, Mrs. John Bradley (Florence Briggs Th...</td>\n",
       "      <td>female</td>\n",
       "      <td>38.0</td>\n",
       "      <td>1</td>\n",
       "      <td>0</td>\n",
       "      <td>PC 17599</td>\n",
       "      <td>71.2833</td>\n",
       "      <td>C85</td>\n",
       "      <td>C</td>\n",
       "    </tr>\n",
       "    <tr>\n",
       "      <th>2</th>\n",
       "      <td>3</td>\n",
       "      <td>1</td>\n",
       "      <td>3</td>\n",
       "      <td>Heikkinen, Miss. Laina</td>\n",
       "      <td>female</td>\n",
       "      <td>26.0</td>\n",
       "      <td>0</td>\n",
       "      <td>0</td>\n",
       "      <td>STON/O2. 3101282</td>\n",
       "      <td>7.9250</td>\n",
       "      <td>NaN</td>\n",
       "      <td>S</td>\n",
       "    </tr>\n",
       "    <tr>\n",
       "      <th>3</th>\n",
       "      <td>4</td>\n",
       "      <td>1</td>\n",
       "      <td>1</td>\n",
       "      <td>Futrelle, Mrs. Jacques Heath (Lily May Peel)</td>\n",
       "      <td>female</td>\n",
       "      <td>35.0</td>\n",
       "      <td>1</td>\n",
       "      <td>0</td>\n",
       "      <td>113803</td>\n",
       "      <td>53.1000</td>\n",
       "      <td>C123</td>\n",
       "      <td>S</td>\n",
       "    </tr>\n",
       "  </tbody>\n",
       "</table>\n",
       "</div>"
      ],
      "text/plain": [
       "   PassengerId  Survived  Pclass  \\\n",
       "0            1         0       3   \n",
       "1            2         1       1   \n",
       "2            3         1       3   \n",
       "3            4         1       1   \n",
       "\n",
       "                                                Name     Sex   Age  SibSp  \\\n",
       "0                            Braund, Mr. Owen Harris    male  22.0      1   \n",
       "1  Cumings, Mrs. John Bradley (Florence Briggs Th...  female  38.0      1   \n",
       "2                             Heikkinen, Miss. Laina  female  26.0      0   \n",
       "3       Futrelle, Mrs. Jacques Heath (Lily May Peel)  female  35.0      1   \n",
       "\n",
       "   Parch            Ticket     Fare Cabin Embarked  \n",
       "0      0         A/5 21171   7.2500   NaN        S  \n",
       "1      0          PC 17599  71.2833   C85        C  \n",
       "2      0  STON/O2. 3101282   7.9250   NaN        S  \n",
       "3      0            113803  53.1000  C123        S  "
      ]
     },
     "execution_count": 208,
     "metadata": {},
     "output_type": "execute_result"
    }
   ],
   "source": [
    "df=pd.read_csv(\"titanic.csv\")\n",
    "df.head(4)"
   ]
  },
  {
   "cell_type": "code",
   "execution_count": 209,
   "id": "7b029a20-97a7-49ba-bc94-a086e56b4a71",
   "metadata": {},
   "outputs": [
    {
     "name": "stdout",
     "output_type": "stream",
     "text": [
      "<class 'pandas.core.frame.DataFrame'>\n",
      "RangeIndex: 891 entries, 0 to 890\n",
      "Data columns (total 12 columns):\n",
      " #   Column       Non-Null Count  Dtype  \n",
      "---  ------       --------------  -----  \n",
      " 0   PassengerId  891 non-null    int64  \n",
      " 1   Survived     891 non-null    int64  \n",
      " 2   Pclass       891 non-null    int64  \n",
      " 3   Name         891 non-null    object \n",
      " 4   Sex          891 non-null    object \n",
      " 5   Age          714 non-null    float64\n",
      " 6   SibSp        891 non-null    int64  \n",
      " 7   Parch        891 non-null    int64  \n",
      " 8   Ticket       891 non-null    object \n",
      " 9   Fare         891 non-null    float64\n",
      " 10  Cabin        204 non-null    object \n",
      " 11  Embarked     889 non-null    object \n",
      "dtypes: float64(2), int64(5), object(5)\n",
      "memory usage: 83.7+ KB\n"
     ]
    }
   ],
   "source": [
    "df.info() # to know the metadata of the given data\n",
    "# 5 object columns present\n",
    "# missing values also present."
   ]
  },
  {
   "cell_type": "code",
   "execution_count": 210,
   "id": "3c68f34f-6fb4-4edc-9b82-31c392d15296",
   "metadata": {},
   "outputs": [],
   "source": [
    "# Preprocessing"
   ]
  },
  {
   "cell_type": "code",
   "execution_count": 211,
   "id": "b623ce85-c227-4a9e-85b8-f13466a4f86b",
   "metadata": {},
   "outputs": [],
   "source": [
    "# 1. Null removal"
   ]
  },
  {
   "cell_type": "code",
   "execution_count": 212,
   "id": "af9eb42e-0637-4f70-b76d-64e4bc18739f",
   "metadata": {},
   "outputs": [
    {
     "data": {
      "text/plain": [
       "'\\n0-3% - drop row\\n3-40% - replace null with mean if column is normally distributed\\notherwise replace with median\\n>40% - drop the column\\n'"
      ]
     },
     "execution_count": 212,
     "metadata": {},
     "output_type": "execute_result"
    }
   ],
   "source": [
    "# checking for % of missing value\n",
    "(df.isnull().sum()/len(df))*100\n",
    "# Age - 19.865320 - check for normal distribution , if not replace with median otherwise with mean\n",
    "# Cabin - 77.104377 - drop the cabin column\n",
    "# Embarked - 0.224467 - drop the row\n",
    "# rule for handling missing data --\n",
    "'''\n",
    "0-3% - drop row\n",
    "3-40% - replace null with mean if column is normally distributed\n",
    "otherwise replace with median\n",
    ">40% - drop the column\n",
    "'''"
   ]
  },
  {
   "cell_type": "code",
   "execution_count": 213,
   "id": "a2516435-124e-49a1-8875-0be9e54fa3f6",
   "metadata": {},
   "outputs": [],
   "source": [
    "df.drop(\"Cabin\",axis=1,inplace=True)"
   ]
  },
  {
   "cell_type": "code",
   "execution_count": 214,
   "id": "b39a7517-310b-4e2c-8b5f-46161463a2bc",
   "metadata": {},
   "outputs": [
    {
     "data": {
      "text/plain": [
       "<Axes: xlabel='Age', ylabel='Density'>"
      ]
     },
     "execution_count": 214,
     "metadata": {},
     "output_type": "execute_result"
    },
    {
     "data": {
      "image/png": "[encoded data removed]",
      "text/plain": [
       "<Figure size 640x480 with 1 Axes>"
      ]
     },
     "metadata": {},
     "output_type": "display_data"
    }
   ],
   "source": [
    "sns.kdeplot(df[\"Age\"]) # skewness is present so replace with median"
   ]
  },
  {
   "cell_type": "code",
   "execution_count": 215,
   "id": "41794f67-0930-4715-95a5-76e9e513d5a0",
   "metadata": {},
   "outputs": [
    {
     "data": {
      "text/plain": [
       "np.int64(0)"
      ]
     },
     "execution_count": 215,
     "metadata": {},
     "output_type": "execute_result"
    }
   ],
   "source": [
    "# Age column null value replaced wih median\n",
    "m=df[\"Age\"].median()\n",
    "df[\"Age\"].fillna(m,inplace=True)\n",
    "df[\"Age\"].isnull().sum()"
   ]
  },
  {
   "cell_type": "code",
   "execution_count": 216,
   "id": "88235180-6e0d-424d-bf8b-52851c28b4ff",
   "metadata": {},
   "outputs": [],
   "source": [
    "df.dropna(inplace=True)"
   ]
  },
  {
   "cell_type": "code",
   "execution_count": 217,
   "id": "c5de110e-9dda-425f-9350-01073024277d",
   "metadata": {},
   "outputs": [
    {
     "data": {
      "text/plain": [
       "PassengerId    0.0\n",
       "Survived       0.0\n",
       "Pclass         0.0\n",
       "Name           0.0\n",
       "Sex            0.0\n",
       "Age            0.0\n",
       "SibSp          0.0\n",
       "Parch          0.0\n",
       "Ticket         0.0\n",
       "Fare           0.0\n",
       "Embarked       0.0\n",
       "dtype: float64"
      ]
     },
     "execution_count": 217,
     "metadata": {},
     "output_type": "execute_result"
    }
   ],
   "source": [
    "(df.isnull().sum()/len(df))*100\n",
    "# all the null values have been removed"
   ]
  },
  {
   "cell_type": "code",
   "execution_count": 218,
   "id": "99876b06-ffc6-46e5-9e55-f160e5041eab",
   "metadata": {},
   "outputs": [
    {
     "data": {
      "text/plain": [
       "Index(['PassengerId', 'Survived', 'Pclass', 'Age', 'SibSp', 'Parch', 'Fare'], dtype='object')"
      ]
     },
     "execution_count": 218,
     "metadata": {},
     "output_type": "execute_result"
    }
   ],
   "source": [
    "# checking for statistical distribution\n",
    "numerical_cols=df.select_dtypes([\"int\",\"float\"]).columns\n",
    "numerical_cols"
   ]
  },
  {
   "cell_type": "code",
   "execution_count": 219,
   "id": "9e0e92e5-0870-4cb4-87bf-0cd2e5b11d86",
   "metadata": {},
   "outputs": [
    {
     "data": {
      "text/html": [
       "<div>\n",
       "<style scoped>\n",
       "    .dataframe tbody tr th:only-of-type {\n",
       "        vertical-align: middle;\n",
       "    }\n",
       "\n",
       "    .dataframe tbody tr th {\n",
       "        vertical-align: top;\n",
       "    }\n",
       "\n",
       "    .dataframe thead th {\n",
       "        text-align: right;\n",
       "    }\n",
       "</style>\n",
       "<table border=\"1\" class=\"dataframe\">\n",
       "  <thead>\n",
       "    <tr style=\"text-align: right;\">\n",
       "      <th></th>\n",
       "      <th>PassengerId</th>\n",
       "      <th>Survived</th>\n",
       "      <th>Pclass</th>\n",
       "      <th>Age</th>\n",
       "      <th>SibSp</th>\n",
       "      <th>Parch</th>\n",
       "      <th>Fare</th>\n",
       "    </tr>\n",
       "  </thead>\n",
       "  <tbody>\n",
       "    <tr>\n",
       "      <th>count</th>\n",
       "      <td>889.000000</td>\n",
       "      <td>889.000000</td>\n",
       "      <td>889.000000</td>\n",
       "      <td>889.000000</td>\n",
       "      <td>889.000000</td>\n",
       "      <td>889.000000</td>\n",
       "      <td>889.000000</td>\n",
       "    </tr>\n",
       "    <tr>\n",
       "      <th>mean</th>\n",
       "      <td>446.000000</td>\n",
       "      <td>0.382452</td>\n",
       "      <td>2.311586</td>\n",
       "      <td>29.315152</td>\n",
       "      <td>0.524184</td>\n",
       "      <td>0.382452</td>\n",
       "      <td>32.096681</td>\n",
       "    </tr>\n",
       "    <tr>\n",
       "      <th>std</th>\n",
       "      <td>256.998173</td>\n",
       "      <td>0.486260</td>\n",
       "      <td>0.834700</td>\n",
       "      <td>12.984932</td>\n",
       "      <td>1.103705</td>\n",
       "      <td>0.806761</td>\n",
       "      <td>49.697504</td>\n",
       "    </tr>\n",
       "    <tr>\n",
       "      <th>min</th>\n",
       "      <td>1.000000</td>\n",
       "      <td>0.000000</td>\n",
       "      <td>1.000000</td>\n",
       "      <td>0.420000</td>\n",
       "      <td>0.000000</td>\n",
       "      <td>0.000000</td>\n",
       "      <td>0.000000</td>\n",
       "    </tr>\n",
       "    <tr>\n",
       "      <th>25%</th>\n",
       "      <td>224.000000</td>\n",
       "      <td>0.000000</td>\n",
       "      <td>2.000000</td>\n",
       "      <td>22.000000</td>\n",
       "      <td>0.000000</td>\n",
       "      <td>0.000000</td>\n",
       "      <td>7.895800</td>\n",
       "    </tr>\n",
       "    <tr>\n",
       "      <th>50%</th>\n",
       "      <td>446.000000</td>\n",
       "      <td>0.000000</td>\n",
       "      <td>3.000000</td>\n",
       "      <td>28.000000</td>\n",
       "      <td>0.000000</td>\n",
       "      <td>0.000000</td>\n",
       "      <td>14.454200</td>\n",
       "    </tr>\n",
       "    <tr>\n",
       "      <th>75%</th>\n",
       "      <td>668.000000</td>\n",
       "      <td>1.000000</td>\n",
       "      <td>3.000000</td>\n",
       "      <td>35.000000</td>\n",
       "      <td>1.000000</td>\n",
       "      <td>0.000000</td>\n",
       "      <td>31.000000</td>\n",
       "    </tr>\n",
       "    <tr>\n",
       "      <th>max</th>\n",
       "      <td>891.000000</td>\n",
       "      <td>1.000000</td>\n",
       "      <td>3.000000</td>\n",
       "      <td>80.000000</td>\n",
       "      <td>8.000000</td>\n",
       "      <td>6.000000</td>\n",
       "      <td>512.329200</td>\n",
       "    </tr>\n",
       "  </tbody>\n",
       "</table>\n",
       "</div>"
      ],
      "text/plain": [
       "       PassengerId    Survived      Pclass         Age       SibSp  \\\n",
       "count   889.000000  889.000000  889.000000  889.000000  889.000000   \n",
       "mean    446.000000    0.382452    2.311586   29.315152    0.524184   \n",
       "std     256.998173    0.486260    0.834700   12.984932    1.103705   \n",
       "min       1.000000    0.000000    1.000000    0.420000    0.000000   \n",
       "25%     224.000000    0.000000    2.000000   22.000000    0.000000   \n",
       "50%     446.000000    0.000000    3.000000   28.000000    0.000000   \n",
       "75%     668.000000    1.000000    3.000000   35.000000    1.000000   \n",
       "max     891.000000    1.000000    3.000000   80.000000    8.000000   \n",
       "\n",
       "            Parch        Fare  \n",
       "count  889.000000  889.000000  \n",
       "mean     0.382452   32.096681  \n",
       "std      0.806761   49.697504  \n",
       "min      0.000000    0.000000  \n",
       "25%      0.000000    7.895800  \n",
       "50%      0.000000   14.454200  \n",
       "75%      0.000000   31.000000  \n",
       "max      6.000000  512.329200  "
      ]
     },
     "execution_count": 219,
     "metadata": {},
     "output_type": "execute_result"
    }
   ],
   "source": [
    "df[numerical_cols].describe()\n",
    "# PassengerId - from domain knowledge dropping this.\n",
    "# Survived - since it is a categorical we will consider its value distribution and not mean median\n",
    "# Pclass - since it is a categorical we will consider its value distribution and not mean median\n",
    "# Age - mean>median  - so slightly +vely skewed\n",
    "# SibSp\tParch - since it is a categorical we will consider its value distribution and not mean median\n",
    "# Fare - mean>median - so +vely skewed."
   ]
  },
  {
   "cell_type": "code",
   "execution_count": 220,
   "id": "26c9a282-c42a-4cce-8287-1348ee85465f",
   "metadata": {},
   "outputs": [],
   "source": [
    "# statistical distribution of Age ,Fare"
   ]
  },
  {
   "cell_type": "code",
   "execution_count": 221,
   "id": "518bf35d-9115-4ca1-b276-9c4ba20ca693",
   "metadata": {},
   "outputs": [
    {
     "data": {
      "text/plain": [
       "<Axes: ylabel='Age'>"
      ]
     },
     "execution_count": 221,
     "metadata": {},
     "output_type": "execute_result"
    },
    {
     "data": {
      "image/png": "[encoded data removed]",
      "text/plain": [
       "<Figure size 640x480 with 1 Axes>"
      ]
     },
     "metadata": {},
     "output_type": "display_data"
    }
   ],
   "source": [
    "sns.boxplot(df[\"Age\"]) # Many people aged above 80 were travelling. \n",
    "# Some newborn babies were also travelling."
   ]
  },
  {
   "cell_type": "code",
   "execution_count": 222,
   "id": "eeea7df6-c7ae-4d17-965e-30b225854d19",
   "metadata": {},
   "outputs": [
    {
     "data": {
      "text/plain": [
       "<Axes: ylabel='Fare'>"
      ]
     },
     "execution_count": 222,
     "metadata": {},
     "output_type": "execute_result"
    },
    {
     "data": {
      "image/png": "[encoded data removed]",
      "text/plain": [
       "<Figure size 640x480 with 1 Axes>"
      ]
     },
     "metadata": {},
     "output_type": "display_data"
    }
   ],
   "source": [
    "sns.boxplot(df[\"Fare\"])"
   ]
  },
  {
   "cell_type": "code",
   "execution_count": 223,
   "id": "f5eed921-56de-4027-994c-ab499a0d9b71",
   "metadata": {},
   "outputs": [
    {
     "data": {
      "text/plain": [
       "<Axes: xlabel='Age', ylabel='Density'>"
      ]
     },
     "execution_count": 223,
     "metadata": {},
     "output_type": "execute_result"
    },
    {
     "data": {
      "image/png": "[encoded data removed]",
      "text/plain": [
       "<Figure size 640x480 with 1 Axes>"
      ]
     },
     "metadata": {},
     "output_type": "display_data"
    }
   ],
   "source": [
    "sns.kdeplot(df[\"Age\"]) # many people aged 29-30 were travelling,\n",
    "# People aged 80 were also trvaelling."
   ]
  },
  {
   "cell_type": "code",
   "execution_count": 224,
   "id": "dc17b1bd-3fd8-4222-955f-88c11a201f02",
   "metadata": {},
   "outputs": [
    {
     "data": {
      "text/plain": [
       "<Axes: xlabel='Fare', ylabel='Density'>"
      ]
     },
     "execution_count": 224,
     "metadata": {},
     "output_type": "execute_result"
    },
    {
     "data": {
      "image/png": "[encoded data removed]",
      "text/plain": [
       "<Figure size 640x480 with 1 Axes>"
      ]
     },
     "metadata": {},
     "output_type": "display_data"
    }
   ],
   "source": [
    "sns.kdeplot(df[\"Fare\"])  #amount of 512 is paid by few people \n",
    "# many were travelling with money 0."
   ]
  },
  {
   "cell_type": "code",
   "execution_count": 225,
   "id": "a41e2df9-1bd8-48a0-a58d-0e34b80d839a",
   "metadata": {},
   "outputs": [],
   "source": [
    "# for now not removing outliers and skew as they may be impacting the target i.e.\n",
    "# survival rate"
   ]
  },
  {
   "cell_type": "code",
   "execution_count": 226,
   "id": "c133c09b-e548-4d6f-8f40-e7e9a6cc87be",
   "metadata": {},
   "outputs": [],
   "source": [
    "from scipy.stats import skew"
   ]
  },
  {
   "cell_type": "code",
   "execution_count": 227,
   "id": "b64f5230-9771-4865-bc36-f9e194287718",
   "metadata": {},
   "outputs": [
    {
     "name": "stdout",
     "output_type": "stream",
     "text": [
      "Age : 0.507152516392603 \n",
      "Fare : 4.793334993307843 \n"
     ]
    }
   ],
   "source": [
    "for i in [\"Age\",\"Fare\"]:\n",
    "    print(f\"{i} : {skew(df[i])} \")\n",
    "# Fare is very highly skewed. Age is also skewed."
   ]
  },
  {
   "cell_type": "code",
   "execution_count": 228,
   "id": "4849e1d2-15f4-43b0-84df-84492bcd1dde",
   "metadata": {},
   "outputs": [
    {
     "data": {
      "text/html": [
       "<div>\n",
       "<style scoped>\n",
       "    .dataframe tbody tr th:only-of-type {\n",
       "        vertical-align: middle;\n",
       "    }\n",
       "\n",
       "    .dataframe tbody tr th {\n",
       "        vertical-align: top;\n",
       "    }\n",
       "\n",
       "    .dataframe thead th {\n",
       "        text-align: right;\n",
       "    }\n",
       "</style>\n",
       "<table border=\"1\" class=\"dataframe\">\n",
       "  <thead>\n",
       "    <tr style=\"text-align: right;\">\n",
       "      <th></th>\n",
       "      <th>PassengerId</th>\n",
       "      <th>Survived</th>\n",
       "      <th>Pclass</th>\n",
       "      <th>Name</th>\n",
       "      <th>Sex</th>\n",
       "      <th>Age</th>\n",
       "      <th>SibSp</th>\n",
       "      <th>Parch</th>\n",
       "      <th>Ticket</th>\n",
       "      <th>Fare</th>\n",
       "      <th>Embarked</th>\n",
       "    </tr>\n",
       "  </thead>\n",
       "  <tbody>\n",
       "    <tr>\n",
       "      <th>0</th>\n",
       "      <td>1</td>\n",
       "      <td>0</td>\n",
       "      <td>3</td>\n",
       "      <td>Braund, Mr. Owen Harris</td>\n",
       "      <td>male</td>\n",
       "      <td>22.0</td>\n",
       "      <td>1</td>\n",
       "      <td>0</td>\n",
       "      <td>A/5 21171</td>\n",
       "      <td>7.25</td>\n",
       "      <td>S</td>\n",
       "    </tr>\n",
       "  </tbody>\n",
       "</table>\n",
       "</div>"
      ],
      "text/plain": [
       "   PassengerId  Survived  Pclass                     Name   Sex   Age  SibSp  \\\n",
       "0            1         0       3  Braund, Mr. Owen Harris  male  22.0      1   \n",
       "\n",
       "   Parch     Ticket  Fare Embarked  \n",
       "0      0  A/5 21171  7.25        S  "
      ]
     },
     "execution_count": 228,
     "metadata": {},
     "output_type": "execute_result"
    }
   ],
   "source": [
    "df.head(1)"
   ]
  },
  {
   "cell_type": "code",
   "execution_count": 229,
   "id": "ff715742-7a67-49cc-ab52-22dd7eda2fa2",
   "metadata": {},
   "outputs": [],
   "source": [
    "df.drop([\"PassengerId\",\"Name\",\"Ticket\"],axis=1,inplace=True)"
   ]
  },
  {
   "cell_type": "code",
   "execution_count": 230,
   "id": "7d702818-c604-4591-92f8-7f2faf8d5077",
   "metadata": {},
   "outputs": [
    {
     "data": {
      "text/html": [
       "<div>\n",
       "<style scoped>\n",
       "    .dataframe tbody tr th:only-of-type {\n",
       "        vertical-align: middle;\n",
       "    }\n",
       "\n",
       "    .dataframe tbody tr th {\n",
       "        vertical-align: top;\n",
       "    }\n",
       "\n",
       "    .dataframe thead th {\n",
       "        text-align: right;\n",
       "    }\n",
       "</style>\n",
       "<table border=\"1\" class=\"dataframe\">\n",
       "  <thead>\n",
       "    <tr style=\"text-align: right;\">\n",
       "      <th></th>\n",
       "      <th>Survived</th>\n",
       "      <th>Pclass</th>\n",
       "      <th>Sex</th>\n",
       "      <th>Age</th>\n",
       "      <th>SibSp</th>\n",
       "      <th>Parch</th>\n",
       "      <th>Fare</th>\n",
       "      <th>Embarked</th>\n",
       "    </tr>\n",
       "  </thead>\n",
       "  <tbody>\n",
       "    <tr>\n",
       "      <th>0</th>\n",
       "      <td>0</td>\n",
       "      <td>3</td>\n",
       "      <td>male</td>\n",
       "      <td>22.0</td>\n",
       "      <td>1</td>\n",
       "      <td>0</td>\n",
       "      <td>7.25</td>\n",
       "      <td>S</td>\n",
       "    </tr>\n",
       "  </tbody>\n",
       "</table>\n",
       "</div>"
      ],
      "text/plain": [
       "   Survived  Pclass   Sex   Age  SibSp  Parch  Fare Embarked\n",
       "0         0       3  male  22.0      1      0  7.25        S"
      ]
     },
     "execution_count": 230,
     "metadata": {},
     "output_type": "execute_result"
    }
   ],
   "source": [
    "df.head(1)"
   ]
  },
  {
   "cell_type": "code",
   "execution_count": 231,
   "id": "3992ebf2-46be-448c-8c1f-2695dfc29136",
   "metadata": {},
   "outputs": [
    {
     "data": {
      "text/plain": [
       "Index(['Sex', 'Embarked'], dtype='object')"
      ]
     },
     "execution_count": 231,
     "metadata": {},
     "output_type": "execute_result"
    }
   ],
   "source": [
    "# Object encoding\n",
    "object_cols=df.select_dtypes(\"object\").columns\n",
    "object_cols"
   ]
  },
  {
   "cell_type": "code",
   "execution_count": 232,
   "id": "079a102f-f1d4-4084-8a2c-78005714abcb",
   "metadata": {},
   "outputs": [
    {
     "name": "stdout",
     "output_type": "stream",
     "text": [
      "Sex has total different values : 2\n",
      "Sex\n",
      "male      577\n",
      "female    312\n",
      "Name: count, dtype: int64\n",
      "Embarked has total different values : 3\n",
      "Embarked\n",
      "S    644\n",
      "C    168\n",
      "Q     77\n",
      "Name: count, dtype: int64\n"
     ]
    }
   ],
   "source": [
    "for i in object_cols:\n",
    "    print(f\"{i} has total different values : {df[i].nunique()}\\n{df[i].value_counts()}\")"
   ]
  },
  {
   "cell_type": "code",
   "execution_count": 233,
   "id": "7a2d6f89-52fc-4abb-a863-974015fb42f2",
   "metadata": {},
   "outputs": [],
   "source": [
    "from sklearn.preprocessing import OrdinalEncoder\n",
    "enc = OrdinalEncoder()\n",
    "df[object_cols]=enc.fit_transform(df[object_cols])"
   ]
  },
  {
   "cell_type": "code",
   "execution_count": 234,
   "id": "8c71f74f-1b44-4a9d-adfa-64dbc69ffe76",
   "metadata": {},
   "outputs": [
    {
     "data": {
      "text/html": [
       "<div>\n",
       "<style scoped>\n",
       "    .dataframe tbody tr th:only-of-type {\n",
       "        vertical-align: middle;\n",
       "    }\n",
       "\n",
       "    .dataframe tbody tr th {\n",
       "        vertical-align: top;\n",
       "    }\n",
       "\n",
       "    .dataframe thead th {\n",
       "        text-align: right;\n",
       "    }\n",
       "</style>\n",
       "<table border=\"1\" class=\"dataframe\">\n",
       "  <thead>\n",
       "    <tr style=\"text-align: right;\">\n",
       "      <th></th>\n",
       "      <th>Survived</th>\n",
       "      <th>Pclass</th>\n",
       "      <th>Sex</th>\n",
       "      <th>Age</th>\n",
       "      <th>SibSp</th>\n",
       "      <th>Parch</th>\n",
       "      <th>Fare</th>\n",
       "      <th>Embarked</th>\n",
       "    </tr>\n",
       "  </thead>\n",
       "  <tbody>\n",
       "    <tr>\n",
       "      <th>0</th>\n",
       "      <td>0</td>\n",
       "      <td>3</td>\n",
       "      <td>1.0</td>\n",
       "      <td>22.0</td>\n",
       "      <td>1</td>\n",
       "      <td>0</td>\n",
       "      <td>7.25</td>\n",
       "      <td>2.0</td>\n",
       "    </tr>\n",
       "  </tbody>\n",
       "</table>\n",
       "</div>"
      ],
      "text/plain": [
       "   Survived  Pclass  Sex   Age  SibSp  Parch  Fare  Embarked\n",
       "0         0       3  1.0  22.0      1      0  7.25       2.0"
      ]
     },
     "execution_count": 234,
     "metadata": {},
     "output_type": "execute_result"
    }
   ],
   "source": [
    "df.head(1)"
   ]
  },
  {
   "cell_type": "code",
   "execution_count": 235,
   "id": "8c0623ed-125c-4410-a27b-22f76ef48fdd",
   "metadata": {},
   "outputs": [
    {
     "name": "stdout",
     "output_type": "stream",
     "text": [
      "Survived has total different values : 2\n",
      "Survived\n",
      "0    549\n",
      "1    340\n",
      "Name: count, dtype: int64\n",
      "Pclass has total different values : 3\n",
      "Pclass\n",
      "3    491\n",
      "1    214\n",
      "2    184\n",
      "Name: count, dtype: int64\n",
      "Sex has total different values : 2\n",
      "Sex\n",
      "1.0    577\n",
      "0.0    312\n",
      "Name: count, dtype: int64\n",
      "SibSp has total different values : 7\n",
      "SibSp\n",
      "0    606\n",
      "1    209\n",
      "2     28\n",
      "4     18\n",
      "3     16\n",
      "8      7\n",
      "5      5\n",
      "Name: count, dtype: int64\n",
      "Parch has total different values : 7\n",
      "Parch\n",
      "0    676\n",
      "1    118\n",
      "2     80\n",
      "5      5\n",
      "3      5\n",
      "4      4\n",
      "6      1\n",
      "Name: count, dtype: int64\n",
      "Embarked has total different values : 3\n",
      "Embarked\n",
      "2.0    644\n",
      "0.0    168\n",
      "1.0     77\n",
      "Name: count, dtype: int64\n"
     ]
    }
   ],
   "source": [
    "#Categorical data distribution check, where Survived is Target and rest are the features.\n",
    "c=[\"Survived\",\"Pclass\",\"Sex\",\"SibSp\",\"Parch\",\"Embarked\"]\n",
    "for i in c:\n",
    "    print(f\"{i} has total different values : {df[i].nunique()}\\n{df[i].value_counts()}\")\n"
   ]
  },
  {
   "cell_type": "code",
   "execution_count": 236,
   "id": "2705a496-21f7-42ce-b96c-2ef1a9840e2c",
   "metadata": {},
   "outputs": [
    {
     "data": {
      "image/png": "[encoded data removed]",
      "text/plain": [
       "<Figure size 400x400 with 1 Axes>"
      ]
     },
     "metadata": {},
     "output_type": "display_data"
    },
    {
     "data": {
      "image/png": "[encoded data removed]",
      "text/plain": [
       "<Figure size 400x400 with 1 Axes>"
      ]
     },
     "metadata": {},
     "output_type": "display_data"
    },
    {
     "data": {
      "image/png": "[encoded data removed]",
      "text/plain": [
       "<Figure size 400x400 with 1 Axes>"
      ]
     },
     "metadata": {},
     "output_type": "display_data"
    },
    {
     "data": {
      "image/png": "[encoded data removed]",
      "text/plain": [
       "<Figure size 400x400 with 1 Axes>"
      ]
     },
     "metadata": {},
     "output_type": "display_data"
    },
    {
     "data": {
      "image/png": "[encoded data removed]",
      "text/plain": [
       "<Figure size 400x400 with 1 Axes>"
      ]
     },
     "metadata": {},
     "output_type": "display_data"
    },
    {
     "data": {
      "image/png": "[encoded data removed]",
      "text/plain": [
       "<Figure size 400x400 with 1 Axes>"
      ]
     },
     "metadata": {},
     "output_type": "display_data"
    }
   ],
   "source": [
    "c=[\"Survived\",\"Pclass\",\"Sex\",\"SibSp\",\"Parch\",\"Embarked\"]\n",
    "for i in c:\n",
    "    plt.figure(figsize=(4,4))\n",
    "    plt.pie(df[i].value_counts(),autopct=\"%.2f%%\",labels=df[i].unique())\n",
    "    plt.show()\n",
    "# Around 62% people died and 38% people survived.\n",
    "# Around 55% people were travelling from class3. 24% people from class1.\n",
    "# Around 35% Females and rest Male\n",
    "# Around 68% people were travelling with sibling or spouse.\n",
    "# Around 76% people were travelling without child.\n",
    "# Around 72% people were embarked from station 2 or S."
   ]
  },
  {
   "cell_type": "code",
   "execution_count": 237,
   "id": "0098e5c8-e970-4e9e-bff0-5f2fb4e74aff",
   "metadata": {},
   "outputs": [],
   "source": [
    "# Feature engineerning\n",
    "df[\"FamilySize\"]=df[\"SibSp\"]+df[\"Parch\"]\n",
    "df.drop([\"SibSp\",\"Parch\"],axis=1,inplace=True)"
   ]
  },
  {
   "cell_type": "code",
   "execution_count": 238,
   "id": "fe1dc3bb-692b-4fe2-b464-1306b8c8c650",
   "metadata": {},
   "outputs": [
    {
     "data": {
      "text/html": [
       "<div>\n",
       "<style scoped>\n",
       "    .dataframe tbody tr th:only-of-type {\n",
       "        vertical-align: middle;\n",
       "    }\n",
       "\n",
       "    .dataframe tbody tr th {\n",
       "        vertical-align: top;\n",
       "    }\n",
       "\n",
       "    .dataframe thead th {\n",
       "        text-align: right;\n",
       "    }\n",
       "</style>\n",
       "<table border=\"1\" class=\"dataframe\">\n",
       "  <thead>\n",
       "    <tr style=\"text-align: right;\">\n",
       "      <th></th>\n",
       "      <th>Survived</th>\n",
       "      <th>Pclass</th>\n",
       "      <th>Sex</th>\n",
       "      <th>Age</th>\n",
       "      <th>Fare</th>\n",
       "      <th>Embarked</th>\n",
       "      <th>FamilySize</th>\n",
       "    </tr>\n",
       "  </thead>\n",
       "  <tbody>\n",
       "    <tr>\n",
       "      <th>0</th>\n",
       "      <td>0</td>\n",
       "      <td>3</td>\n",
       "      <td>1.0</td>\n",
       "      <td>22.0</td>\n",
       "      <td>7.25</td>\n",
       "      <td>2.0</td>\n",
       "      <td>1</td>\n",
       "    </tr>\n",
       "  </tbody>\n",
       "</table>\n",
       "</div>"
      ],
      "text/plain": [
       "   Survived  Pclass  Sex   Age  Fare  Embarked  FamilySize\n",
       "0         0       3  1.0  22.0  7.25       2.0           1"
      ]
     },
     "execution_count": 238,
     "metadata": {},
     "output_type": "execute_result"
    }
   ],
   "source": [
    "df.head(1)"
   ]
  },
  {
   "cell_type": "code",
   "execution_count": 239,
   "id": "5bf6c462-06c2-44ba-b5cd-a054d028163a",
   "metadata": {},
   "outputs": [],
   "source": [
    "# There is no feature selection capability in Logistic Regression"
   ]
  },
  {
   "cell_type": "code",
   "execution_count": 240,
   "id": "8bed453f-9cef-4622-8dc4-4788d56796ff",
   "metadata": {},
   "outputs": [
    {
     "name": "stdout",
     "output_type": "stream",
     "text": [
      "Feature :  Pclass\n"
     ]
    },
    {
     "data": {
      "image/png": "[encoded data removed]",
      "text/plain": [
       "<Figure size 200x200 with 1 Axes>"
      ]
     },
     "metadata": {},
     "output_type": "display_data"
    },
    {
     "name": "stdout",
     "output_type": "stream",
     "text": [
      "Feature :  Sex\n"
     ]
    },
    {
     "data": {
      "image/png": "[encoded data removed]",
      "text/plain": [
       "<Figure size 200x200 with 1 Axes>"
      ]
     },
     "metadata": {},
     "output_type": "display_data"
    },
    {
     "name": "stdout",
     "output_type": "stream",
     "text": [
      "Feature :  FamilySize\n"
     ]
    },
    {
     "data": {
      "image/png": "[encoded data removed]",
      "text/plain": [
       "<Figure size 200x200 with 1 Axes>"
      ]
     },
     "metadata": {},
     "output_type": "display_data"
    },
    {
     "name": "stdout",
     "output_type": "stream",
     "text": [
      "Feature :  Embarked\n"
     ]
    },
    {
     "data": {
      "image/png": "[encoded data removed]",
      "text/plain": [
       "<Figure size 200x200 with 1 Axes>"
      ]
     },
     "metadata": {},
     "output_type": "display_data"
    }
   ],
   "source": [
    "# How target is getting effected by other categorical features.\n",
    "c=[\"Pclass\",\"Sex\",\"FamilySize\",\"Embarked\"]\n",
    "for i in c:\n",
    "    print(\"Feature : \",i)\n",
    "    plt.figure(figsize=(2,2))\n",
    "    sns.countplot(data=df,x=\"Survived\",hue=i)\n",
    "    plt.legend(df[i].unique(),bbox_to_anchor=(1,1),loc=\"best\")\n",
    "    plt.show()\n",
    "# Class 2 people died the most and class3 people survived comparatively more.\n",
    "# Males died mostly.\n",
    "# Family size of 1 died the most.\n",
    "# People from station 1 have died the most"
   ]
  },
  {
   "cell_type": "code",
   "execution_count": 241,
   "id": "87089f55-35d0-46e5-a9a3-9f3b989c8b14",
   "metadata": {},
   "outputs": [
    {
     "name": "stdout",
     "output_type": "stream",
     "text": [
      "Feature :  Age\n"
     ]
    },
    {
     "data": {
      "image/png": "[encoded data removed]",
      "text/plain": [
       "<Figure size 400x200 with 1 Axes>"
      ]
     },
     "metadata": {},
     "output_type": "display_data"
    },
    {
     "name": "stdout",
     "output_type": "stream",
     "text": [
      "Feature :  Fare\n"
     ]
    },
    {
     "data": {
      "image/png": "[encoded data removed]",
      "text/plain": [
       "<Figure size 400x200 with 1 Axes>"
      ]
     },
     "metadata": {},
     "output_type": "display_data"
    }
   ],
   "source": [
    "# How target is getting effected by other numerical features.\n",
    "c=[\"Age\",\"Fare\"]\n",
    "for i in c:\n",
    "    print(\"Feature : \",i)\n",
    "    plt.figure(figsize=(4,2))\n",
    "    sns.kdeplot(data=df,x=i,hue=\"Survived\")\n",
    "    plt.show()\n",
    "# Age is overlapped , so not helping\n",
    "# High fare giving people survived"
   ]
  },
  {
   "cell_type": "code",
   "execution_count": 242,
   "id": "586ac8ed-2a0f-4337-a792-b202550a3169",
   "metadata": {},
   "outputs": [],
   "source": [
    "features=df.drop(\"Survived\",axis=1)\n",
    "target=df[\"Survived\"]"
   ]
  },
  {
   "cell_type": "code",
   "execution_count": 243,
   "id": "2cc1fd53-453d-4dff-819a-cf003efa1fb3",
   "metadata": {},
   "outputs": [
    {
     "data": {
      "text/html": [
       "<div>\n",
       "<style scoped>\n",
       "    .dataframe tbody tr th:only-of-type {\n",
       "        vertical-align: middle;\n",
       "    }\n",
       "\n",
       "    .dataframe tbody tr th {\n",
       "        vertical-align: top;\n",
       "    }\n",
       "\n",
       "    .dataframe thead th {\n",
       "        text-align: right;\n",
       "    }\n",
       "</style>\n",
       "<table border=\"1\" class=\"dataframe\">\n",
       "  <thead>\n",
       "    <tr style=\"text-align: right;\">\n",
       "      <th></th>\n",
       "      <th>Pclass</th>\n",
       "      <th>Sex</th>\n",
       "      <th>Age</th>\n",
       "      <th>Fare</th>\n",
       "      <th>Embarked</th>\n",
       "      <th>FamilySize</th>\n",
       "    </tr>\n",
       "  </thead>\n",
       "  <tbody>\n",
       "    <tr>\n",
       "      <th>0</th>\n",
       "      <td>0.825209</td>\n",
       "      <td>0.735342</td>\n",
       "      <td>-0.563674</td>\n",
       "      <td>-0.500240</td>\n",
       "      <td>0.586840</td>\n",
       "      <td>0.057853</td>\n",
       "    </tr>\n",
       "    <tr>\n",
       "      <th>1</th>\n",
       "      <td>-1.572211</td>\n",
       "      <td>-1.359911</td>\n",
       "      <td>0.669217</td>\n",
       "      <td>0.788947</td>\n",
       "      <td>-1.939555</td>\n",
       "      <td>0.057853</td>\n",
       "    </tr>\n",
       "    <tr>\n",
       "      <th>2</th>\n",
       "      <td>0.825209</td>\n",
       "      <td>-1.359911</td>\n",
       "      <td>-0.255451</td>\n",
       "      <td>-0.486650</td>\n",
       "      <td>0.586840</td>\n",
       "      <td>-0.561804</td>\n",
       "    </tr>\n",
       "    <tr>\n",
       "      <th>3</th>\n",
       "      <td>-1.572211</td>\n",
       "      <td>-1.359911</td>\n",
       "      <td>0.438050</td>\n",
       "      <td>0.422861</td>\n",
       "      <td>0.586840</td>\n",
       "      <td>0.057853</td>\n",
       "    </tr>\n",
       "    <tr>\n",
       "      <th>4</th>\n",
       "      <td>0.825209</td>\n",
       "      <td>0.735342</td>\n",
       "      <td>0.438050</td>\n",
       "      <td>-0.484133</td>\n",
       "      <td>0.586840</td>\n",
       "      <td>-0.561804</td>\n",
       "    </tr>\n",
       "  </tbody>\n",
       "</table>\n",
       "</div>"
      ],
      "text/plain": [
       "     Pclass       Sex       Age      Fare  Embarked  FamilySize\n",
       "0  0.825209  0.735342 -0.563674 -0.500240  0.586840    0.057853\n",
       "1 -1.572211 -1.359911  0.669217  0.788947 -1.939555    0.057853\n",
       "2  0.825209 -1.359911 -0.255451 -0.486650  0.586840   -0.561804\n",
       "3 -1.572211 -1.359911  0.438050  0.422861  0.586840    0.057853\n",
       "4  0.825209  0.735342  0.438050 -0.484133  0.586840   -0.561804"
      ]
     },
     "execution_count": 243,
     "metadata": {},
     "output_type": "execute_result"
    }
   ],
   "source": [
    "from sklearn.preprocessing import StandardScaler\n",
    "scaler=StandardScaler()\n",
    "features.iloc[:]=scaler.fit_transform(features.iloc[:])\n",
    "features.head()"
   ]
  },
  {
   "cell_type": "code",
   "execution_count": 244,
   "id": "076d7e5e-7dce-4d9a-bac8-dc622b9c4364",
   "metadata": {},
   "outputs": [],
   "source": [
    "from sklearn.model_selection import train_test_split\n",
    "xtrain, xtest, ytrain, ytest = train_test_split(\n",
    "    features, target, test_size=0.15, random_state=4)"
   ]
  },
  {
   "cell_type": "code",
   "execution_count": 245,
   "id": "9a96cc1f-cdcd-464c-8fa6-246ffd87049f",
   "metadata": {},
   "outputs": [
    {
     "name": "stdout",
     "output_type": "stream",
     "text": [
      "(755, 6) (755,)\n"
     ]
    }
   ],
   "source": [
    "print(xtrain.shape,ytrain.shape)"
   ]
  },
  {
   "cell_type": "code",
   "execution_count": 246,
   "id": "ec1887aa-7852-41d1-8819-fbc57145cca8",
   "metadata": {},
   "outputs": [
    {
     "name": "stdout",
     "output_type": "stream",
     "text": [
      "(134, 6) (134,)\n"
     ]
    }
   ],
   "source": [
    "print(xtest.shape,ytest.shape)"
   ]
  },
  {
   "cell_type": "code",
   "execution_count": 247,
   "id": "995b670d-a94b-4219-8d15-897ba28e60a3",
   "metadata": {},
   "outputs": [],
   "source": [
    "from sklearn.linear_model import LogisticRegression\n",
    "lr=LogisticRegression()\n",
    "lr.fit(xtrain,ytrain) #\n",
    "ypred=lr.predict(xtest)"
   ]
  },
  {
   "cell_type": "code",
   "execution_count": 248,
   "id": "cab76a20-d6f7-4fdb-a292-91eb0ddd15a9",
   "metadata": {},
   "outputs": [],
   "source": [
    "from sklearn.metrics import accuracy_score,confusion_matrix,classification_report"
   ]
  },
  {
   "cell_type": "code",
   "execution_count": 249,
   "id": "1b19292c-b22a-403f-9c4e-79259e094512",
   "metadata": {},
   "outputs": [
    {
     "name": "stdout",
     "output_type": "stream",
     "text": [
      "Confusion Matrix : \n",
      "              Not Survived  Survived\n",
      "Not Survived            66        11\n",
      "Survived                18        39\n",
      "Classification Report : \n",
      "               precision    recall  f1-score   support\n",
      "\n",
      "           0       0.79      0.86      0.82        77\n",
      "           1       0.78      0.68      0.73        57\n",
      "\n",
      "    accuracy                           0.78       134\n",
      "   macro avg       0.78      0.77      0.77       134\n",
      "weighted avg       0.78      0.78      0.78       134\n",
      "\n"
     ]
    }
   ],
   "source": [
    "c=pd.DataFrame(confusion_matrix(ytest,ypred),\n",
    "              index=[\"Not Survived\",\"Survived\"],\n",
    "              columns=[\"Not Survived\",\"Survived\"])\n",
    "print(f\"Confusion Matrix : \\n{c}\")\n",
    "print(\"Classification Report : \\n\",classification_report(ytest,ypred))"
   ]
  },
  {
   "cell_type": "code",
   "execution_count": 250,
   "id": "4c5763fe-d454-4404-8446-0901b5fcbc95",
   "metadata": {},
   "outputs": [],
   "source": [
    "# checking for overfitting"
   ]
  },
  {
   "cell_type": "code",
   "execution_count": 251,
   "id": "b520af48-d962-4592-b583-4bfe3fe513df",
   "metadata": {},
   "outputs": [
    {
     "name": "stdout",
     "output_type": "stream",
     "text": [
      "Training score : 0.8026490066225166\n",
      "Testing score : 0.7835820895522388\n"
     ]
    }
   ],
   "source": [
    "print(f\"Training score : {lr.score(xtrain,ytrain)}\")\n",
    "print(f\"Testing score : {lr.score(xtest,ytest)}\")\n",
    "# A little overfitting\n",
    "#training_score>testing_score -- overfitting\n",
    "#training_score<testingscore -- underfitting"
   ]
  },
  {
   "cell_type": "code",
   "execution_count": 252,
   "id": "94703bd4-c1ce-468f-af95-bd26607c8019",
   "metadata": {},
   "outputs": [
    {
     "data": {
      "text/plain": [
       "array([[0.39922361, 0.60077639],\n",
       "       [0.02950519, 0.97049481],\n",
       "       [0.62950321, 0.37049679],\n",
       "       [0.15580515, 0.84419485],\n",
       "       [0.16857823, 0.83142177],\n",
       "       [0.50000641, 0.49999359],\n",
       "       [0.88611132, 0.11388868],\n",
       "       [0.38143577, 0.61856423],\n",
       "       [0.91509026, 0.08490974],\n",
       "       [0.98605995, 0.01394005]])"
      ]
     },
     "execution_count": 252,
     "metadata": {},
     "output_type": "execute_result"
    }
   ],
   "source": [
    "# checking individual class belonging probability of top 10 predictions\n",
    "lr.predict_proba(xtest[:10].values)"
   ]
  },
  {
   "cell_type": "code",
   "execution_count": 253,
   "id": "ce160f37-fbcd-4408-9cc6-47f3cf4cffe0",
   "metadata": {},
   "outputs": [
    {
     "name": "stdout",
     "output_type": "stream",
     "text": [
      "ROC_AUC Score : 0.7706766917293233\n"
     ]
    }
   ],
   "source": [
    "# checking for roc-auc score\n",
    "from sklearn.metrics import roc_auc_score,roc_curve\n",
    "print(f\"ROC_AUC Score : {roc_auc_score(ytest,ypred)}\")\n",
    "# i.e. at 0.5 threshold the 77% of times, model is able to distinguish between classes."
   ]
  },
  {
   "cell_type": "code",
   "execution_count": 254,
   "id": "ed077f28-63db-4442-aa12-bbdefb1259d5",
   "metadata": {},
   "outputs": [],
   "source": [
    "# ROC Curve (TPR) against False Positive Rate(FPR)\n",
    "# AUC score of 1.0 \n",
    "# 0.5<AUC_SCORE<1.0"
   ]
  },
  {
   "cell_type": "code",
   "execution_count": 255,
   "id": "c7dc76f4-8b65-4375-8e08-46bf4b01bcf1",
   "metadata": {},
   "outputs": [
    {
     "data": {
      "image/png": "[encoded data removed]",
      "text/plain": [
       "<Figure size 640x480 with 1 Axes>"
      ]
     },
     "metadata": {},
     "output_type": "display_data"
    }
   ],
   "source": [
    "yp=lr.predict_proba(xtest)[:,1]\n",
    "fpr,tpr,threshold=roc_curve(ytest,yp)\n",
    "plt.plot(fpr,tpr)\n",
    "plt.xlabel(\"False Positive Rate\")\n",
    "plt.ylabel(\"True Positive Rate\")\n",
    "plt.show()"
   ]
  },
  {
   "cell_type": "code",
   "execution_count": 256,
   "id": "957af729-08ea-46fb-923f-005eb4eab0e1",
   "metadata": {},
   "outputs": [
    {
     "data": {
      "text/plain": [
       "array([       inf, 0.97372422, 0.7728948 , 0.75944569, 0.73785051,\n",
       "       0.7259911 , 0.69336729, 0.67132272, 0.64500498, 0.64495791,\n",
       "       0.64127695, 0.62581548, 0.61664495, 0.6165023 , 0.60886709,\n",
       "       0.56023522, 0.51875957, 0.49999359, 0.49966915, 0.49642486,\n",
       "       0.45187234, 0.38398366, 0.36842578, 0.35728762, 0.29916881,\n",
       "       0.25355698, 0.24921193, 0.23580702, 0.22338617, 0.21128291,\n",
       "       0.21052226, 0.19834844, 0.18313477, 0.1489207 , 0.13537775,\n",
       "       0.13194435, 0.13174631, 0.11402189, 0.1139935 , 0.10692195,\n",
       "       0.10602261, 0.1033575 , 0.09506662, 0.09358887, 0.08743846,\n",
       "       0.0847863 , 0.08475525, 0.07926244, 0.07587864, 0.07410199,\n",
       "       0.07163169, 0.0672421 , 0.05066254, 0.04745246, 0.01394005])"
      ]
     },
     "execution_count": 256,
     "metadata": {},
     "output_type": "execute_result"
    }
   ],
   "source": [
    "threshold"
   ]
  },
  {
   "cell_type": "code",
   "execution_count": 257,
   "id": "d9f8813d-3191-4431-b0ff-f964cfc46336",
   "metadata": {},
   "outputs": [
    {
     "name": "stdout",
     "output_type": "stream",
     "text": [
      "Best Threshold : 0.38\n"
     ]
    },
    {
     "data": {
      "text/plain": [
       "'\\n'"
      ]
     },
     "execution_count": 257,
     "metadata": {},
     "output_type": "execute_result"
    }
   ],
   "source": [
    "# finding the best threshold by f1_score\n",
    "from sklearn.metrics import f1_score\n",
    "f1=[f1_score(ytest,(yp>=t).astype(int)) for t in threshold]\n",
    "best_t = threshold[np.argmax(f1)]\n",
    "print(f\"Best Threshold : {round(best_t,2)}\")\n",
    "'''\n",
    "'''"
   ]
  },
  {
   "cell_type": "code",
   "execution_count": 258,
   "id": "98d0e4c8-e124-420a-a5b7-d1e4ff45bbda",
   "metadata": {},
   "outputs": [],
   "source": [
    "# So we will use a threshold of 0.38 instead of 0.5"
   ]
  },
  {
   "cell_type": "code",
   "execution_count": 259,
   "id": "1afd51b6-69ff-4b78-b791-df6138b145fc",
   "metadata": {},
   "outputs": [],
   "source": [
    "from sklearn.preprocessing import binarize\n",
    "ypred_proba=lr.predict_proba(xtest)[:,1]\n",
    "ypr=binarize([ypred_proba],threshold=0.38)[0]"
   ]
  },
  {
   "cell_type": "code",
   "execution_count": 260,
   "id": "0151c5eb-dbf2-4ab7-bfb8-c3394376fea3",
   "metadata": {},
   "outputs": [],
   "source": [
    "ypr=ypr.astype(int)"
   ]
  },
  {
   "cell_type": "code",
   "execution_count": 261,
   "id": "9a919510-661e-411b-a010-ef7ab7a1eddd",
   "metadata": {},
   "outputs": [
    {
     "data": {
      "text/plain": [
       "np.float64(0.779790385053543)"
      ]
     },
     "execution_count": 261,
     "metadata": {},
     "output_type": "execute_result"
    }
   ],
   "source": [
    "roc_auc_score(ytest,ypr)"
   ]
  },
  {
   "cell_type": "code",
   "execution_count": 263,
   "id": "a9ce6d69-5891-45bd-9665-d188e0eea589",
   "metadata": {},
   "outputs": [
    {
     "name": "stdout",
     "output_type": "stream",
     "text": [
      "Confusion Matrix : \n",
      "              Not Survived  Survived\n",
      "Not Survived            62        15\n",
      "Survived                14        43\n",
      "Classification Report : \n",
      "               precision    recall  f1-score   support\n",
      "\n",
      "           0       0.82      0.81      0.81        77\n",
      "           1       0.74      0.75      0.75        57\n",
      "\n",
      "    accuracy                           0.78       134\n",
      "   macro avg       0.78      0.78      0.78       134\n",
      "weighted avg       0.78      0.78      0.78       134\n",
      "\n"
     ]
    }
   ],
   "source": [
    "c=pd.DataFrame(confusion_matrix(ytest,ypr),\n",
    "              index=[\"Not Survived\",\"Survived\"],\n",
    "              columns=[\"Not Survived\",\"Survived\"])\n",
    "print(f\"Confusion Matrix : \\n{c}\")\n",
    "print(\"Classification Report : \\n\",classification_report(ytest,ypr))"
   ]
  },
  {
   "cell_type": "code",
   "execution_count": null,
   "id": "74057632-6080-497b-bcf5-752cd8e419dc",
   "metadata": {},
   "outputs": [],
   "source": []
  }
 ],
 "metadata": {
  "kernelspec": {
   "display_name": "Python 3 (ipykernel)",
   "language": "python",
   "name": "python3"
  },
  "language_info": {
   "codemirror_mode": {
    "name": "ipython",
    "version": 3
   },
   "file_extension": ".py",
   "mimetype": "text/x-python",
   "name": "python",
   "nbconvert_exporter": "python",
   "pygments_lexer": "ipython3",
   "version": "3.13.5"
  }
 },
 "nbformat": 4,
 "nbformat_minor": 5
}
